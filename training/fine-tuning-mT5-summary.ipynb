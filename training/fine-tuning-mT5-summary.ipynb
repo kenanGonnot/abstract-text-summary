{
 "cells": [
  {
   "cell_type": "markdown",
   "id": "f57b86c8-be23-4c5a-b123-87f914f54f15",
   "metadata": {
    "id": "f57b86c8-be23-4c5a-b123-87f914f54f15"
   },
   "source": [
    "# Training - Fine-tune mT5 for text summarization\n",
    "Course here: https://huggingface.co/learn/nlp-course/chapter7/5?fw=pt#models-for-text-summarization\n"
   ]
  },
  {
   "cell_type": "markdown",
   "source": [
    "## Use this image Docker -> PyTorch with cuda < 11.7"
   ],
   "metadata": {
    "collapsed": false
   },
   "id": "6989ca2750780109"
  },
  {
   "cell_type": "markdown",
   "source": [
    "Goal: The purpose of this notebook is to Fine-tune a model for Text summarization in French and English. I will use the mT5 model from Google."
   ],
   "metadata": {
    "collapsed": false
   },
   "id": "f975fccce37c796e"
  },
  {
   "cell_type": "markdown",
   "source": [
    "Install packages"
   ],
   "metadata": {
    "collapsed": false
   },
   "id": "14430cca55693b6c"
  },
  {
   "cell_type": "code",
   "execution_count": 1,
   "id": "dfccc74c-d378-4436-81de-790fc5d28f31",
   "metadata": {
    "colab": {
     "base_uri": "https://localhost:8080/"
    },
    "id": "dfccc74c-d378-4436-81de-790fc5d28f31",
    "outputId": "6c8dbcbc-44f1-4a38-a0c3-5333393263d8"
   },
   "outputs": [
    {
     "name": "stdout",
     "output_type": "stream",
     "text": [
      "\u001B[33mWARNING: Running pip as the 'root' user can result in broken permissions and conflicting behaviour with the system package manager. It is recommended to use a virtual environment instead: https://pip.pypa.io/warnings/venv\u001B[0m\u001B[33m\n",
      "\u001B[0m\u001B[33mWARNING: Running pip as the 'root' user can result in broken permissions and conflicting behaviour with the system package manager. It is recommended to use a virtual environment instead: https://pip.pypa.io/warnings/venv\u001B[0m\u001B[33m\n",
      "\u001B[0m\u001B[33mWARNING: Running pip as the 'root' user can result in broken permissions and conflicting behaviour with the system package manager. It is recommended to use a virtual environment instead: https://pip.pypa.io/warnings/venv\u001B[0m\u001B[33m\n",
      "\u001B[0m"
     ]
    }
   ],
   "source": [
    "!pip install transformers datasets torch nltk rouge_score evaluate scikit-learn ydata-profiling sentencepiece protobuf --quiet\n",
    "!pip install transformers[torch] -q\n",
    "!pip install accelerate -U -q"
   ]
  },
  {
   "cell_type": "code",
   "execution_count": 2,
   "id": "06cf9680-5240-464a-8e64-792849f324c2",
   "metadata": {
    "id": "06cf9680-5240-464a-8e64-792849f324c2"
   },
   "outputs": [],
   "source": [
    "import warnings\n",
    "warnings.filterwarnings('ignore')"
   ]
  },
  {
   "cell_type": "code",
   "execution_count": 3,
   "id": "4c4af4c6-0174-4ca1-9273-86f86dc59be3",
   "metadata": {
    "colab": {
     "base_uri": "https://localhost:8080/",
     "height": 83,
     "referenced_widgets": [
      "6d48f8588d344d608ffa73dc119b418f",
      "82579e186ecf4c629d275f24fdd464be",
      "bcdd52b651044b47b9ed101b0866d153",
      "eb62233a91e8472b944ce10ba84767b0",
      "20719e8fbf264a37926455cbe156c598",
      "c9261307f1f84900aac82997f3e2b5d8",
      "1504a86490cf48bd865a7a3bb6b611d7",
      "da186ef877764508b91ab8b9935bf90b",
      "b43bae3545e94e7cb5c4c7396beb1f5b",
      "4177692f44114f3fa78ad55a87b8281c",
      "1a064b30aced4b4183ac572c8b5ec52e"
     ]
    },
    "id": "4c4af4c6-0174-4ca1-9273-86f86dc59be3",
    "outputId": "6582a8ff-7fdc-4baf-ae87-b8910a81e0cb"
   },
   "outputs": [
    {
     "name": "stderr",
     "output_type": "stream",
     "text": [
      "[nltk_data] Downloading package punkt to /root/nltk_data...\n",
      "[nltk_data]   Unzipping tokenizers/punkt.zip.\n"
     ]
    },
    {
     "data": {
      "application/vnd.jupyter.widget-view+json": {
       "model_id": "84e0913f7e0140c292dba3e7892fa525",
       "version_major": 2,
       "version_minor": 0
      },
      "text/plain": [
       "Downloading builder script:   0%|          | 0.00/6.27k [00:00<?, ?B/s]"
      ]
     },
     "metadata": {},
     "output_type": "display_data"
    }
   ],
   "source": [
    "import nltk\n",
    "import evaluate\n",
    "\n",
    "\n",
    "nltk.download(\"punkt\")\n",
    "rouge_score = evaluate.load(\"rouge\")"
   ]
  },
  {
   "cell_type": "code",
   "execution_count": 4,
   "id": "d42ae1db-b4e0-49c9-90ed-7b2e1ff5b5bb",
   "metadata": {
    "colab": {
     "base_uri": "https://localhost:8080/"
    },
    "id": "d42ae1db-b4e0-49c9-90ed-7b2e1ff5b5bb",
    "outputId": "b106987c-5b08-44b7-cb10-4eec5cab8965"
   },
   "outputs": [
    {
     "name": "stdout",
     "output_type": "stream",
     "text": [
      "Torch version:  2.0.0\n",
      "Cuda is available:  True\n",
      "11.7\n"
     ]
    }
   ],
   "source": [
    "import torch\n",
    "\n",
    "print(\"Torch version: \", torch.__version__)\n",
    "print(\"Cuda is available: \", torch.cuda.is_available())\n",
    "print(torch.version.cuda)"
   ]
  },
  {
   "cell_type": "markdown",
   "source": [
    "Put the notebook in a logging mode so we can save the output to a file. This is useful for debugging and sharing the results of the notebook. The log file will be saved in the same directory as the notebook. "
   ],
   "metadata": {
    "collapsed": false
   },
   "id": "a2e4f4243d92f149"
  },
  {
   "cell_type": "code",
   "execution_count": 5,
   "id": "f301e060-44c2-4678-8c07-c8479de060b7",
   "metadata": {
    "colab": {
     "base_uri": "https://localhost:8080/",
     "height": 34
    },
    "id": "f301e060-44c2-4678-8c07-c8479de060b7",
    "outputId": "1709af6c-6205-489f-cc80-f0a9fc09f7f9"
   },
   "outputs": [
    {
     "data": {
      "application/javascript": [
       "IPython.notebook.set_autosave_interval(5000)"
      ]
     },
     "metadata": {},
     "output_type": "display_data"
    },
    {
     "name": "stdout",
     "output_type": "stream",
     "text": [
      "Autosaving every 5 seconds\n"
     ]
    }
   ],
   "source": [
    "import sys\n",
    "import logging\n",
    "\n",
    "nblog = open(\"nb-finetune-mt5.log\", \"a+\")\n",
    "sys.stdout.echo = nblog\n",
    "sys.stderr.echo = nblog\n",
    "\n",
    "get_ipython().log.handlers[0].stream = nblog\n",
    "get_ipython().log.setLevel(logging.INFO)\n",
    "\n",
    "%autosave 5\n"
   ]
  },
  {
   "cell_type": "markdown",
   "source": [],
   "metadata": {
    "collapsed": false
   },
   "id": "c0acd290169b0869"
  },
  {
   "cell_type": "markdown",
   "source": [
    "Enable text wrapping so we don't have to scroll horizontally and create a function to flush CUDA cache."
   ],
   "metadata": {
    "collapsed": false
   },
   "id": "974a21b1615a02c3"
  },
  {
   "cell_type": "code",
   "execution_count": 6,
   "id": "794ef50c-15c8-477f-aa09-05b823c04922",
   "metadata": {
    "id": "794ef50c-15c8-477f-aa09-05b823c04922"
   },
   "outputs": [],
   "source": [
    "from IPython.display import HTML, display\n",
    "\n",
    "def set_css():\n",
    "    display(HTML('''\n",
    "  <style>\n",
    "    pre {\n",
    "        white-space: pre-wrap;\n",
    "    }\n",
    "  </style>\n",
    "  '''))\n",
    "\n",
    "get_ipython().events.register('pre_run_cell', set_css)\n",
    "\n",
    "def clear_cache():\n",
    "    if torch.cuda.is_available():\n",
    "        model = None\n",
    "        torch.cuda.empty_cache()"
   ]
  },
  {
   "cell_type": "markdown",
   "source": [
    "Enter your Huggingface tokkens"
   ],
   "metadata": {
    "collapsed": false
   },
   "id": "af07d09a6d003a23"
  },
  {
   "cell_type": "code",
   "execution_count": 7,
   "id": "f527e6cb-1023-40ed-a321-9c1967a971af",
   "metadata": {
    "colab": {
     "base_uri": "https://localhost:8080/",
     "height": 113,
     "referenced_widgets": [
      "b982ff5c225b41d38c32b9a3cc70b85c",
      "60395b3940284f99b49a8e2401abeb36",
      "10e6b37fc83142e2912124a1c530d4c8",
      "b34d8c362d8c480fb6f2635fc473b848",
      "80c1efe845204824896c8bdae9038cbb",
      "c30428fcdecc4f29a0c827b6c4602a79",
      "a79c9198dd2040f4b833bc98d8363620",
      "d0100d94a1584833b0f07cf7d08e5870",
      "89646e69e25c4d44843cb271be580135",
      "c96f705b9c554b469968a5d1e31123c4",
      "0bd5fa8c07c541be8c4a98634a5877b6",
      "4d30b7febbae4b8789adfa908b5f7e66",
      "3693c4c6b830423390f370f8eb166c34",
      "5ad7d400722c49d8b54478ddbc55570e",
      "7a0a0676c3c046cb88a8e5dbb4576cf1",
      "9ecff1a6f4dd416babafeba568bcd81b",
      "dae0f42a0b304b4fbcbbc0280cff680a",
      "c4825eb0f7be41c0a88749174d7e9dff",
      "f85de95973a2492b99a5b8ec71f8b42d",
      "b207781f52db4f3fa528ca62f327181c",
      "c8829f736e0d4ba38f0e12d9e4e92def",
      "8448ba49d1704f24b1f9d4d8d63bd040",
      "21145d7667c44df28b8c37fdbece489e",
      "ba2152864862402fbfb94f4f79d2608a",
      "d4c91d198da24977b108dbf793295c97",
      "6a88791be717475c8ddf9e640afc3461",
      "d86ec5c7c6f64ab58e8a67384a1fa1b7",
      "29b9eca4903040639d1aa2eaf5c8f0ab",
      "09928e223fb84beabe9c0235f1188e92"
     ]
    },
    "id": "f527e6cb-1023-40ed-a321-9c1967a971af",
    "outputId": "321205a3-986b-478e-a424-956a82b081f8"
   },
   "outputs": [
    {
     "data": {
      "text/html": [
       "\n",
       "  <style>\n",
       "    pre {\n",
       "        white-space: pre-wrap;\n",
       "    }\n",
       "  </style>\n",
       "  "
      ],
      "text/plain": [
       "<IPython.core.display.HTML object>"
      ]
     },
     "metadata": {},
     "output_type": "display_data"
    },
    {
     "data": {
      "application/vnd.jupyter.widget-view+json": {
       "model_id": "df3d868474e9479bbb1956c361633c73",
       "version_major": 2,
       "version_minor": 0
      },
      "text/plain": [
       "VBox(children=(HTML(value='<center> <img\\nsrc=https://huggingface.co/front/assets/huggingface_logo-noborder.sv…"
      ]
     },
     "metadata": {},
     "output_type": "display_data"
    }
   ],
   "source": [
    "from huggingface_hub import notebook_login\n",
    "\n",
    "notebook_login()"
   ]
  },
  {
   "cell_type": "markdown",
   "id": "f448c2ad-4be3-4c7b-8a97-174bf69c70b3",
   "metadata": {
    "id": "f448c2ad-4be3-4c7b-8a97-174bf69c70b3"
   },
   "source": [
    "## Load model"
   ]
  },
  {
   "cell_type": "markdown",
   "source": [
    "For my purpose and my restrictions ressources I will use a small model."
   ],
   "metadata": {
    "collapsed": false
   },
   "id": "8fbca86e78ecd519"
  },
  {
   "cell_type": "code",
   "execution_count": 8,
   "id": "91c1a58c-36aa-4498-a571-b88241880d56",
   "metadata": {
    "colab": {
     "base_uri": "https://localhost:8080/",
     "height": 277,
     "referenced_widgets": [
      "1337e93a73954313b08f6eceecfddc9d",
      "1c8f74e1f3e24759b6c8d725245d89dc",
      "e8c79852f4ba47de9d76f38ad88ec9a2",
      "08252a13df05474997457e4c14846f04",
      "fdf73849c13f47c6976ac6e450fa145c",
      "f555aa2758c641969493afd5f2209d37",
      "3f91ed1c05be47b8a6f4217bd93fc7d3",
      "79a1af6b9ea049129fbc485caa2c2a81",
      "c75097b49273402b813933bab9f2aacd",
      "37fc8713fce446a3baf1699704916dea",
      "47fa320d905340fd9da595243235320d",
      "e7ab82e5afc04577b9756b9cb406fb6a",
      "69fd417fa6744092830893f292af7d1c",
      "02e07a0750f04c3ebccd6a9ead28c870",
      "9ff07c10bc9c435a857752917cd95052",
      "5834af2f297e41c1b81dc85a40d5fd5a",
      "903be318a58b4a9da565861bd349e8b2",
      "c5f8d29f6ce445a886f2496c7063b81f",
      "24dc155c7bcc434db5e0788da8867e86",
      "52233297776b4c0cb3969972b07a639e",
      "0ada71735e1041a89a7202fdc34d3aa8",
      "7bafb4a090bc4b85be18de0a81d667dc",
      "6eabecce20134f1cacfa828a93cda2b1",
      "d0bed6d844fc47d4bcab1119ed565690",
      "a3e6a4d2138c4f19933ca7eb32401ada",
      "cf2ed05d78044c9a82827af5b1dfc3d1",
      "5ecc20c2b52d474faa9a14967cdde891",
      "459fc58f7ca94f95a52d7c43ae616064",
      "5aec8b80e7ea4a5697c6426f2ddb22fe",
      "bff2b53eba8749ca8a74ba37c4c0e95e",
      "49e14a01b15c4395bed001776a09ba8b",
      "dfe5884aa0874b478b20ea8e95e896a7",
      "b3147e7d757e42558287b77413587266",
      "42b71095d3ee4d19999e046425844a2d",
      "9d921fb5be994ff59632b05a58fa087c",
      "f28a53a4562247eda5bd2ae490b65d08",
      "9cc58aef581849fe8efbbbb6d3917736",
      "b95c1a7a765b487ea6f07bcd63833376",
      "bfca392346b443208282fb419431e2ab",
      "e06e14d770be4f75b15f21807dec0e32",
      "8a7693bb52924ae28c3e5a6de7cc31e8",
      "8e3f278f29b44ad88cab2f600dc75b35",
      "ea4ff33578a240aeb2e2eb4029e02d06",
      "604e78cebb5b421abdcac4213df3b8c6",
      "18102f93b5ae4135850118d0da6a0a25",
      "d07b7ee40bc242fd808e37642363c94b",
      "76b7c5acf196444e9cb18f8d5f00d99c",
      "25bd364d7d944155ba5cb0211b2e79a2",
      "a285ace7a9fa4f46be8d64b51788731b",
      "d0b70e64994d45428d87969781b11f16",
      "1c8b34dade60490baa8ce235704299f3",
      "06c2b0309d2f46998049af0ab3ba192c",
      "c65d848d887249e897c4890e694def65",
      "6f8c5e1ae0e5428db54562e2d03082ac",
      "1d5f79e1eb4c4067b99675c509df44f2",
      "b88b83bbbed340e39a77c7e18a5f782e",
      "46076cfd985a4fdea0d8621210f573fe",
      "caa706e074504f9fadaff7af3fbb6319",
      "88eb58d6aca54d8cb35883b267556ff7",
      "a70411be2fdb48bea051512d85092d3f",
      "597f32b3dafb486eb9b3cd90be93a8f9",
      "0c739c4c979e403186410eb6d91603bd",
      "864a8e3d241f42b7a2564b1866db4cef",
      "f17531bead63446db92c25b1224eb5a3",
      "d2571a8483214c9fb1a7936bcc89aa99",
      "9f641ad2d93046a7b46432edd6f8fff0"
     ]
    },
    "id": "91c1a58c-36aa-4498-a571-b88241880d56",
    "outputId": "39e02554-5198-4a6f-a8e4-7112a6f14348"
   },
   "outputs": [
    {
     "data": {
      "text/html": [
       "\n",
       "  <style>\n",
       "    pre {\n",
       "        white-space: pre-wrap;\n",
       "    }\n",
       "  </style>\n",
       "  "
      ],
      "text/plain": [
       "<IPython.core.display.HTML object>"
      ]
     },
     "metadata": {},
     "output_type": "display_data"
    },
    {
     "data": {
      "application/vnd.jupyter.widget-view+json": {
       "model_id": "fef195a337bb45ee89036a19890a631d",
       "version_major": 2,
       "version_minor": 0
      },
      "text/plain": [
       "Downloading (…)okenizer_config.json:   0%|          | 0.00/833 [00:00<?, ?B/s]"
      ]
     },
     "metadata": {},
     "output_type": "display_data"
    },
    {
     "data": {
      "application/vnd.jupyter.widget-view+json": {
       "model_id": "7bb345797ead4c1a9c79915c6e278143",
       "version_major": 2,
       "version_minor": 0
      },
      "text/plain": [
       "Downloading spiece.model:   0%|          | 0.00/4.31M [00:00<?, ?B/s]"
      ]
     },
     "metadata": {},
     "output_type": "display_data"
    },
    {
     "data": {
      "application/vnd.jupyter.widget-view+json": {
       "model_id": "3cd03eafec8b4322bb539ef06760e1a7",
       "version_major": 2,
       "version_minor": 0
      },
      "text/plain": [
       "Downloading tokenizer.json:   0%|          | 0.00/16.3M [00:00<?, ?B/s]"
      ]
     },
     "metadata": {},
     "output_type": "display_data"
    },
    {
     "data": {
      "application/vnd.jupyter.widget-view+json": {
       "model_id": "eac6adef319e4314a5bbd192f9d97a19",
       "version_major": 2,
       "version_minor": 0
      },
      "text/plain": [
       "Downloading (…)cial_tokens_map.json:   0%|          | 0.00/416 [00:00<?, ?B/s]"
      ]
     },
     "metadata": {},
     "output_type": "display_data"
    },
    {
     "data": {
      "application/vnd.jupyter.widget-view+json": {
       "model_id": "7887bc30201443edb3ffce83d5a31205",
       "version_major": 2,
       "version_minor": 0
      },
      "text/plain": [
       "Downloading (…)lve/main/config.json:   0%|          | 0.00/802 [00:00<?, ?B/s]"
      ]
     },
     "metadata": {},
     "output_type": "display_data"
    },
    {
     "data": {
      "application/vnd.jupyter.widget-view+json": {
       "model_id": "51391689fc2943f8b32ad87d26e285cf",
       "version_major": 2,
       "version_minor": 0
      },
      "text/plain": [
       "Downloading pytorch_model.bin:   0%|          | 0.00/1.20G [00:00<?, ?B/s]"
      ]
     },
     "metadata": {},
     "output_type": "display_data"
    },
    {
     "data": {
      "application/vnd.jupyter.widget-view+json": {
       "model_id": "98c8d62b14bc45759f028c308e7096ea",
       "version_major": 2,
       "version_minor": 0
      },
      "text/plain": [
       "Downloading (…)neration_config.json:   0%|          | 0.00/112 [00:00<?, ?B/s]"
      ]
     },
     "metadata": {},
     "output_type": "display_data"
    }
   ],
   "source": [
    "from transformers import AutoModelForSeq2SeqLM, AutoTokenizer\n",
    "\n",
    "model_checkpoint = \"google/mt5-small\" # thekenken/mt5small-finetuned-summary-en-fr google/mt5-small\n",
    " \n",
    "tokenizer = AutoTokenizer.from_pretrained(model_checkpoint)\n",
    "model = AutoModelForSeq2SeqLM.from_pretrained(model_checkpoint)"
   ]
  },
  {
   "cell_type": "markdown",
   "id": "4b9aade9-bd57-4eec-8e8e-c8a7a78ca405",
   "metadata": {
    "id": "4b9aade9-bd57-4eec-8e8e-c8a7a78ca405"
   },
   "source": [
    "## Load datasets from HuggingFace data - XSum english & MLsum french"
   ]
  },
  {
   "cell_type": "code",
   "execution_count": 9,
   "id": "NxlZpNnQP1MB",
   "metadata": {
    "colab": {
     "base_uri": "https://localhost:8080/",
     "height": 493
    },
    "id": "NxlZpNnQP1MB",
    "outputId": "32235a15-e293-4d21-a665-99313de76771"
   },
   "outputs": [
    {
     "data": {
      "text/html": [
       "\n",
       "  <style>\n",
       "    pre {\n",
       "        white-space: pre-wrap;\n",
       "    }\n",
       "  </style>\n",
       "  "
      ],
      "text/plain": [
       "<IPython.core.display.HTML object>"
      ]
     },
     "metadata": {},
     "output_type": "display_data"
    },
    {
     "data": {
      "application/vnd.jupyter.widget-view+json": {
       "model_id": "b781817728ef4b048e570b0ed03ce642",
       "version_major": 2,
       "version_minor": 0
      },
      "text/plain": [
       "Downloading builder script:   0%|          | 0.00/5.76k [00:00<?, ?B/s]"
      ]
     },
     "metadata": {},
     "output_type": "display_data"
    },
    {
     "data": {
      "application/vnd.jupyter.widget-view+json": {
       "model_id": "9e2b389f6a2d4f3cb27bce173a5baccc",
       "version_major": 2,
       "version_minor": 0
      },
      "text/plain": [
       "Downloading readme:   0%|          | 0.00/6.24k [00:00<?, ?B/s]"
      ]
     },
     "metadata": {},
     "output_type": "display_data"
    },
    {
     "data": {
      "application/vnd.jupyter.widget-view+json": {
       "model_id": "72a4c71eff254df9ba89a59721c4ed43",
       "version_major": 2,
       "version_minor": 0
      },
      "text/plain": [
       "Downloading data files:   0%|          | 0/2 [00:00<?, ?it/s]"
      ]
     },
     "metadata": {},
     "output_type": "display_data"
    },
    {
     "data": {
      "application/vnd.jupyter.widget-view+json": {
       "model_id": "e026528a98264a78846f987d9928eb0b",
       "version_major": 2,
       "version_minor": 0
      },
      "text/plain": [
       "Downloading data:   0%|          | 0.00/255M [00:00<?, ?B/s]"
      ]
     },
     "metadata": {},
     "output_type": "display_data"
    },
    {
     "data": {
      "application/vnd.jupyter.widget-view+json": {
       "model_id": "4ee6d82d2d124c7e8946d29db219c8d0",
       "version_major": 2,
       "version_minor": 0
      },
      "text/plain": [
       "Downloading data:   0%|          | 0.00/1.00M [00:00<?, ?B/s]"
      ]
     },
     "metadata": {},
     "output_type": "display_data"
    },
    {
     "data": {
      "application/vnd.jupyter.widget-view+json": {
       "model_id": "f2e5a870ce1340838a5810035e0cd64d",
       "version_major": 2,
       "version_minor": 0
      },
      "text/plain": [
       "Generating train split:   0%|          | 0/204045 [00:00<?, ? examples/s]"
      ]
     },
     "metadata": {},
     "output_type": "display_data"
    },
    {
     "data": {
      "application/vnd.jupyter.widget-view+json": {
       "model_id": "5424b8b6c45149cf8343325ebb299eaf",
       "version_major": 2,
       "version_minor": 0
      },
      "text/plain": [
       "Generating validation split:   0%|          | 0/11332 [00:00<?, ? examples/s]"
      ]
     },
     "metadata": {},
     "output_type": "display_data"
    },
    {
     "data": {
      "application/vnd.jupyter.widget-view+json": {
       "model_id": "524a4ce4e3f344e3abb1717301322524",
       "version_major": 2,
       "version_minor": 0
      },
      "text/plain": [
       "Generating test split:   0%|          | 0/11334 [00:00<?, ? examples/s]"
      ]
     },
     "metadata": {},
     "output_type": "display_data"
    },
    {
     "data": {
      "application/vnd.jupyter.widget-view+json": {
       "model_id": "9ff0821b6d22457783a7f8e2e14cce36",
       "version_major": 2,
       "version_minor": 0
      },
      "text/plain": [
       "Map:   0%|          | 0/204045 [00:00<?, ? examples/s]"
      ]
     },
     "metadata": {},
     "output_type": "display_data"
    },
    {
     "data": {
      "application/vnd.jupyter.widget-view+json": {
       "model_id": "e91bdd636fa04e4e9e42f485852be9b7",
       "version_major": 2,
       "version_minor": 0
      },
      "text/plain": [
       "Map:   0%|          | 0/11332 [00:00<?, ? examples/s]"
      ]
     },
     "metadata": {},
     "output_type": "display_data"
    },
    {
     "data": {
      "application/vnd.jupyter.widget-view+json": {
       "model_id": "3be3d7afc49e4ae4bd2e81bfd48812c6",
       "version_major": 2,
       "version_minor": 0
      },
      "text/plain": [
       "Map:   0%|          | 0/11334 [00:00<?, ? examples/s]"
      ]
     },
     "metadata": {},
     "output_type": "display_data"
    },
    {
     "data": {
      "application/vnd.jupyter.widget-view+json": {
       "model_id": "708a0c4e83fc4e6b9ed7ff76c8c67b17",
       "version_major": 2,
       "version_minor": 0
      },
      "text/plain": [
       "Downloading builder script:   0%|          | 0.00/3.72k [00:00<?, ?B/s]"
      ]
     },
     "metadata": {},
     "output_type": "display_data"
    },
    {
     "data": {
      "application/vnd.jupyter.widget-view+json": {
       "model_id": "113b99a374c74e40bfe20ba5a7617512",
       "version_major": 2,
       "version_minor": 0
      },
      "text/plain": [
       "Downloading metadata:   0%|          | 0.00/12.7k [00:00<?, ?B/s]"
      ]
     },
     "metadata": {},
     "output_type": "display_data"
    },
    {
     "data": {
      "application/vnd.jupyter.widget-view+json": {
       "model_id": "4e72a7cf36044bba86f404dbe94cb45a",
       "version_major": 2,
       "version_minor": 0
      },
      "text/plain": [
       "Downloading readme:   0%|          | 0.00/11.0k [00:00<?, ?B/s]"
      ]
     },
     "metadata": {},
     "output_type": "display_data"
    },
    {
     "data": {
      "application/vnd.jupyter.widget-view+json": {
       "model_id": "07317635d60043b58c20814beabeb655",
       "version_major": 2,
       "version_minor": 0
      },
      "text/plain": [
       "Downloading data files:   0%|          | 0/3 [00:00<?, ?it/s]"
      ]
     },
     "metadata": {},
     "output_type": "display_data"
    },
    {
     "data": {
      "application/vnd.jupyter.widget-view+json": {
       "model_id": "6b016c2435c747a594ba01f88b3eb960",
       "version_major": 2,
       "version_minor": 0
      },
      "text/plain": [
       "Downloading data:   0%|          | 0.00/1.69G [00:00<?, ?B/s]"
      ]
     },
     "metadata": {},
     "output_type": "display_data"
    },
    {
     "data": {
      "application/vnd.jupyter.widget-view+json": {
       "model_id": "4b9083ee317b4b53b65f88b93744be4a",
       "version_major": 2,
       "version_minor": 0
      },
      "text/plain": [
       "Downloading data:   0%|          | 0.00/81.8M [00:00<?, ?B/s]"
      ]
     },
     "metadata": {},
     "output_type": "display_data"
    },
    {
     "data": {
      "application/vnd.jupyter.widget-view+json": {
       "model_id": "925e6715b0e14a1ea4022d99e7167552",
       "version_major": 2,
       "version_minor": 0
      },
      "text/plain": [
       "Downloading data:   0%|          | 0.00/80.8M [00:00<?, ?B/s]"
      ]
     },
     "metadata": {},
     "output_type": "display_data"
    },
    {
     "data": {
      "application/vnd.jupyter.widget-view+json": {
       "model_id": "f0250e01c2ea45a285547342cd4cc6ea",
       "version_major": 2,
       "version_minor": 0
      },
      "text/plain": [
       "Generating train split:   0%|          | 0/392902 [00:00<?, ? examples/s]"
      ]
     },
     "metadata": {},
     "output_type": "display_data"
    },
    {
     "data": {
      "application/vnd.jupyter.widget-view+json": {
       "model_id": "c404542f5bb8412cb7c6ce69b58e5059",
       "version_major": 2,
       "version_minor": 0
      },
      "text/plain": [
       "Generating validation split:   0%|          | 0/16059 [00:00<?, ? examples/s]"
      ]
     },
     "metadata": {},
     "output_type": "display_data"
    },
    {
     "data": {
      "application/vnd.jupyter.widget-view+json": {
       "model_id": "076e3a97f4524c4db34bc6b31108d926",
       "version_major": 2,
       "version_minor": 0
      },
      "text/plain": [
       "Generating test split:   0%|          | 0/15828 [00:00<?, ? examples/s]"
      ]
     },
     "metadata": {},
     "output_type": "display_data"
    },
    {
     "data": {
      "application/vnd.jupyter.widget-view+json": {
       "model_id": "7c60bc5a980c41f794653edb4ed89c9a",
       "version_major": 2,
       "version_minor": 0
      },
      "text/plain": [
       "Map:   0%|          | 0/392902 [00:00<?, ? examples/s]"
      ]
     },
     "metadata": {},
     "output_type": "display_data"
    },
    {
     "data": {
      "application/vnd.jupyter.widget-view+json": {
       "model_id": "2200351c1a45418eaa35ea4880bd8836",
       "version_major": 2,
       "version_minor": 0
      },
      "text/plain": [
       "Map:   0%|          | 0/16059 [00:00<?, ? examples/s]"
      ]
     },
     "metadata": {},
     "output_type": "display_data"
    },
    {
     "data": {
      "application/vnd.jupyter.widget-view+json": {
       "model_id": "04a717a33edf444390769ddec2369b65",
       "version_major": 2,
       "version_minor": 0
      },
      "text/plain": [
       "Map:   0%|          | 0/15828 [00:00<?, ? examples/s]"
      ]
     },
     "metadata": {},
     "output_type": "display_data"
    },
    {
     "name": "stdout",
     "output_type": "stream",
     "text": [
      "DatasetDict({\n",
      "    train: Dataset({\n",
      "        features: ['document', 'summary'],\n",
      "        num_rows: 204045\n",
      "    })\n",
      "    validation: Dataset({\n",
      "        features: ['document', 'summary'],\n",
      "        num_rows: 11332\n",
      "    })\n",
      "    test: Dataset({\n",
      "        features: ['document', 'summary'],\n",
      "        num_rows: 11334\n",
      "    })\n",
      "})\n",
      "DatasetDict({\n",
      "    train: Dataset({\n",
      "        features: ['summary', 'document'],\n",
      "        num_rows: 392902\n",
      "    })\n",
      "    validation: Dataset({\n",
      "        features: ['summary', 'document'],\n",
      "        num_rows: 16059\n",
      "    })\n",
      "    test: Dataset({\n",
      "        features: ['summary', 'document'],\n",
      "        num_rows: 15828\n",
      "    })\n",
      "})\n"
     ]
    }
   ],
   "source": [
    "from datasets import load_dataset, load_metric, concatenate_datasets, DatasetDict\n",
    "\n",
    "# Chargez les ensembles de données XSUM (en anglais) et MLsum (en français)\n",
    "#xsum_en_datasets = load_dataset(\"xsum\")\n",
    "#mlsum_fr_datasets = load_dataset(\"mlsum\", \"fr\")\n",
    "\n",
    "# Charger le dataset XSUM\n",
    "xsum_en_datasets = load_dataset(\"xsum\").map(lambda example: {\"document\": example[\"document\"], \"summary\": example[\"summary\"]})\n",
    "xsum_en_datasets = xsum_en_datasets.remove_columns(['id'])  # Supprimer la colonne 'id'\n",
    "\n",
    "# Charger le dataset MLsum\n",
    "mlsum_fr_datasets = load_dataset(\"mlsum\", \"fr\").map(lambda example: {\"document\": example[\"text\"], \"summary\": example[\"summary\"]})\n",
    "mlsum_fr_datasets = mlsum_fr_datasets.remove_columns(['text', 'topic', 'url', 'title', 'date'])  # Supprimer les colonnes indésirables\n",
    "\n",
    "print(xsum_en_datasets)\n",
    "print(mlsum_fr_datasets)"
   ]
  },
  {
   "cell_type": "code",
   "execution_count": 10,
   "id": "4ALZzADQQENe",
   "metadata": {
    "colab": {
     "base_uri": "https://localhost:8080/",
     "height": 1000
    },
    "id": "4ALZzADQQENe",
    "outputId": "93847221-9540-4aca-d045-2b8b5cad7b4b",
    "scrolled": true
   },
   "outputs": [
    {
     "data": {
      "text/html": [
       "\n",
       "  <style>\n",
       "    pre {\n",
       "        white-space: pre-wrap;\n",
       "    }\n",
       "  </style>\n",
       "  "
      ],
      "text/plain": [
       "<IPython.core.display.HTML object>"
      ]
     },
     "metadata": {},
     "output_type": "display_data"
    },
    {
     "name": "stdout",
     "output_type": "stream",
     "text": [
      "\n",
      "'>> Document: Willem-Alexander, incognito. Jason Reed / REUTERS Willem-Alexander, devenu roi des Pays-Bas en 2013, exerçait un autre métier à temps partiel depuis vingt et un ans : pilote de ligne pour la compagnie néerlandaise KLM. Le monarque a révélé sa double vie au journal De Telegraaf, le 18 mai. Il raconte qu’il volait au moins deux fois par mois sur des Fokker 70 couvrant des courtes distances en Europe du Nord. Il officiait en tant que copilote mais ne révélait jamais sa vraie identité à ses passagers. « L’avantage, c’est que je pouvais toujours les accueillir au nom du capitaine et de l’équipage. Je n’étais pas obligé de dire mon nom. » Il se souvient qu’avant le 11-Septembre, quand l’accès au cockpit était encore autorisé aux plus curieux, « des gens venaient régulièrement jeter un coup d’œil et étaient surpris et contents de m’y voir assis ». Mais tout compte fait, sur deux décennies, peu de gens ont reconnu sa voix – « de toute façon, la plupart des gens n’écoutent pas » – ou son visage, derrière la casquette de pilote et les lunettes. La vie rêvée des pilotes La passion du roi pour le pilotage était connue et médiatisée par la couronne et le gouvernement, qui avaient même révélé en avril que Willem-Alexander avait effectué quelques vols commerciaux pour que sa licence n’expire pas. C’est par l’interview de leur roi que les 17 millions de Néerlandais ont appris que c’était bien plus qu’un simple hobby. Avant son accession au trône, Willem-Alexander avait confié à ses proches que s’il n’était pas né dans un palais et dans les obligations qui en découlaient, son rêve aurait été de piloter les plus gros avions commerciaux. Copiloter incognito était la façon de s’en approcher le plus. Il décrit cette passion ainsi à De Telegraaf : « Vous avez un avion, des passagers et un équipage, et ils sont sous votre responsabilité. Vous ne pouvez pas amener vos problèmes avec vous dans les airs. Vous pouvez complètement débrancher pendant un moment et vous concentrer sur autre chose. » Si le roi néerlandais parle aujourd’hui de sa vie cachée, c’est que la flotte de Fokkers de KLM va être décommissionnée. Pour continuer à vivre (un peu) son rêve, il va devoir s’entraîner au pilotage du Boeing 737 pour, comme il dit, peut-être un jour « voler vers d’autres destinations, plus lointaines, avec plus de passagers ». Le roi n’a pas dit s’il allait continuer à faire des petites distances ou enchaîner directement avec les plus longues. Mais il le fera incognito.'\n",
      "'>> Summary: Le monarque néerlandais était copilote de ligne à temps partiel pour la compagnie locale KLM depuis plus de vingt ans.'\n",
      "\n",
      "'>> Document: Cours au collège Gabriel-Guist’Hau de Nantes, en 2012. FRANK PERRY / AFP A un an de l’élection présidentielle, la gauche s’apprête à décider d’un vaste plan de revalorisation salariale en direction d’un électorat qui lui est traditionnellement acquis : les enseignants. Le ministère de l’éducation nationale ouvre, mercredi 1er juin, des négociations avec les organisations syndicales sur de nouvelles mesures de revalorisation et de déroulement de carrière qui toucheront progressivement, dans les trois prochaines années, l’ensemble des enseignants et personnels d’éducation. Cette déclinaison pour les enseignants du protocole « parcours professionnels, carrières et rémunérations » (PPCR) dans la fonction publique, validé à l’automne 2015, entraîne pour le seul ministère de l’éducation un budget prévu d’un milliard d’euros de hausses de salaires d’ici à 2020, dont la moitié en 2017. L’opposition ne manquera pas d’y voir autant de cadeaux distribués dans le cadre d’une opération de reconquête électorale C’est donc une nouvelle page qui s’ouvre au chapitre de la revalorisation des enseignants, après l’annonce, début mai, de l’alignement de la prime des professeurs des écoles sur celle du secondaire (1 200 euros par an) et celle, en mars, du dégel du point d’indice des fonctionnaires. L’opposition ne manquera pas d’y voir autant de cadeaux distribués dans le cadre d’une opération de reconquête électorale. Toujours est-il que ces nouvelles mesures arrivent à point nommé, dans un contexte de contestations de la réforme du collège. D’une manière générale, les enseignants, bousculés depuis le début du quinquennat par une longue série de réformes, n’ont pas toujours compris le sens des orientations prises, ni perçu les effets concrets des 47 000 postes créés (sur les 60 000 promis d’ici à 2017). Article réservé à nos abonnés Lire aussi « Collège 2016 » : le gouvernement prend le risque de rendre illisible la « refondation » de l’école « Rattraper le retard de la France » Les effets de cette revalorisation devraient, en revanche, être bel et bien visibles sur la fiche de paie. « Ces nouvelles mesures vont permettre de replacer la France au-dessus de la moyenne de l’OCDE, et d’atteindre, en fin de carrière, le niveau des pays les plus favorables, se félicite la ministre de l’éducation nationale, Najat Vallaud-Belkacem. Sur ce sujet, la France était à la traîne ; nous allons rattraper ce retard. » Dans la grille de rémunération des professeurs, tous les échelons vont monter d’un cran (de 9 à 40 points) d’ici à 2020. Un enseignant certifié gagnera 23 000 euros de plus sur l’ensemble de sa carrière. L’effort est particulièrement soutenu à l’entrée dans le métier : les stagiaires percevront 1 400 euros bruts par an de plus qu’actuellement. « Ce troisième grade, c’est un peu l’agrégation pour tous : elle donne la possibilité d’atteindre un niveau de rémunération proche de celui d’un agrégé en fin de carrière, soit 4 500 euros bruts par mois » Frédéric Sève, SGEN-CFDT A ces gains s’ajoute une amélioration de la carrière. Aujourd’hui, celle-ci est divisée en deux « grades » : une « classe normale », dans laquelle les enseignants sont recrutés, et une « hors-classe », dans laquelle ils peuvent être promus selon des critères plus ou moins flous. A compter de 2017, tous accéderont au grade hors-classe. De plus, un nouvel étage supérieur sera créé : une « classe exceptionnelle », accessible en priorité à ceux ayant exercé en éducation prioritaire, ou ayant occupé des responsabilités (directeur d’école, formateur, conseiller pédagogique…) pendant au moins huit ans. « Ce troisième grade, c’est un peu l’agrégation pour tous : elle donne la possibilité d’atteindre un niveau de rémunération proche de celui d’un agrégé en fin de carrière, soit 4 500 euros bruts par mois », salue Frédéric Sève, du SGEN-CFDT. Autant de mesures consensuelles, qui ne devraient guère être révisées lors des négociations. « La dernière revalorisation des enseignants remonte à plus d’un quart de siècle, sous Lionel Jospin [alors ministre de l’éducation] qui, en 1989, avait créé la hors-classe. Il y avait nécessité absolue », souligne Christian Chevalier, du SE-UNSA. Sous la présidence de Nicolas Sarkozy, une revalorisation avait été annoncée en échange de suppressions de postes. Mais hormis la défiscalisation des heures supplémentaires et un geste pour les débuts de carrière, elle n’a jamais eu lieu. Premier syndicat du secondaire, le SNES-FSU reconnaît « un premier pas que nous actons positivement. Même si dans un contexte de crise de recrutement, il en faudrait davantage pour rendre nos professions plus attractives », estime Xavier Marand, secrétaire général adjoint. L’autre volet de la négociation, qui concerne l’évaluation des professeurs, risque de créer plus de clivages. Aujourd’hui, les enseignants sont inspectés en moyenne tous les cinq ans. En fonction de la note qui en découle, couplée avec celle du chef d’établissement, ils changent d’échelon selon trois rythmes : « ancienneté », « choix » et « grand choix ». Conséquence du PPCR, l’évolution dans la carrière se fera désormais au même rythme pour tous. Les trois rythmes d’avancement disparaissent donc, tout comme la double notation. Mais le ministère ne remet pas pour autant en cause le principe d’une évolution de carrière au mérite : « Nous proposons quatre rendez-vous de carrière pour apprécier la valeur professionnelle des enseignants : après sept ans, treize ans, vingt ans et en fin de carrière. A chacun de ces rendez-vous, un enseignant pourra se voir proposer une accélération de carrière et de nouvelles perspectives. » Article réservé à nos abonnés Lire aussi Du latin aux classes bilangues, un an de polémiques sur la réforme du collège Qui évaluera les enseignants ? En dehors de ces quatre moments, « les finalités de l’évaluation des enseignants seront réorientées vers l’accompagnement, la formation continue, le conseil individuel et collectif », précise le ministère. Reste à savoir qui évaluera les enseignants lors de ces rendez-vous, comment et sur quels critères. « Dans ce schéma, l’inspection continuera à être ballottée entre deux objectifs : le jugement, avec un impact sur la carrière, et l’accompagnement. On reste au milieu du gué », déplore Sébastien Sihr, du SNUipp-FSU, principal syndicat dans le primaire. Un groupe de travail doit plancher sur le sujet pour une remise de copie avant la fin du mois de juillet. La dernière réforme de l’évaluation des enseignants, conçue par la droite – qui faisait endosser au chef d’établissement le rôle d’évaluateur en lieu et place de l’inspecteur –, avait été très contestée. Publiée au lendemain de la présidentielle de 2012, elle avait été aussitôt recalée par la gauche, dès l’entrée en fonction de François Hollande. Article réservé à nos abonnés Lire aussi Réforme du collège : un an de préparation, et toujours beaucoup d’inquiétudes'\n",
      "'>> Summary: Salaires, systèmes d’évaluation, perspectives de carrière : le ministère de l’éducation nationale ouvre des négociations, mercredi.'\n",
      "\n",
      "'>> Document: Le correspondant de RFI en langue haoussa au Cameroun, Ahmed Abba, est sorti de prison vendredi 22 décembre, après vingt-neuf mois de détention, a-t-on appris auprès de son avocat. « Ahmed Abba a quitté la prison de Yaoundé vers 21 h 15. Il est avec moi depuis sa sortie, il se porte bien », a déclaré Me Charles Tchoungang. L’information a été confirmée par la rédaction de RFI. Condamné en 2016 à dix ans de prison pour « blanchiment d’actes de terrorisme », M. Abba a été acquitté jeudi de cette accusation par le tribunal militaire de Yaoundé, mais condamné à vingt-quatre mois de prison pour « non-dénonciation ». Il était donc, de fait, libérable, après avoir passé vingt-neuf mois en préventive. Jeudi soir, la direction de RFI s’était dite « soulagée à la perspective de cette libération imminente permise par la justice camerounaise ». Soulignant la « vacuité du dossier d’accusation », RFI avait réaffirmé « qu’en dépit de cette condamnation déjà soldée par les années passées en détention, Ahmed Abba n’a fait que son travail de journaliste ». Boko Haram Correspondant de RFI dans le nord du Cameroun, le journaliste avait été arrêté en juillet 2015 à Maroua (nord), où il couvrait la crise liée au groupe djihadiste nigérian Boko Haram. Il était soupçonné par les autorités d’avoir collaboré avec les terroristes et de ne pas avoir partagé les informations qu’il détenait. Son procès en appel a connu de multiples reports ces derniers mois. Son procès en première instance avait été reporté à 18 reprises pendant deux ans.'\n",
      "'>> Summary: Condamné à deux ans de prison pour « non-dénonciation d’actes terroristes », le journaliste a passé vingt-neuf mois en détention.'\n"
     ]
    }
   ],
   "source": [
    "def show_samples(dataset, num_samples=3, seed=42):\n",
    "    sample = dataset[\"train\"].shuffle(seed=seed).select(range(num_samples))\n",
    "    for example in sample:\n",
    "        print(f\"\\n'>> Document: {example['document']}'\")\n",
    "        print(f\"'>> Summary: {example['summary']}'\")\n",
    "\n",
    "\n",
    "show_samples(mlsum_fr_datasets)"
   ]
  },
  {
   "cell_type": "markdown",
   "source": [
    "## Concatenate datasets "
   ],
   "metadata": {
    "collapsed": false
   },
   "id": "68f6c2040a45b95f"
  },
  {
   "cell_type": "code",
   "execution_count": 13,
   "id": "RkqNtIliQsV6",
   "metadata": {
    "colab": {
     "base_uri": "https://localhost:8080/",
     "height": 1000
    },
    "id": "RkqNtIliQsV6",
    "outputId": "1f0a58a8-4c31-45b9-eaa5-a98bd61beff5",
    "scrolled": true
   },
   "outputs": [
    {
     "data": {
      "text/html": [
       "\n",
       "  <style>\n",
       "    pre {\n",
       "        white-space: pre-wrap;\n",
       "    }\n",
       "  </style>\n",
       "  "
      ],
      "text/plain": [
       "<IPython.core.display.HTML object>"
      ]
     },
     "metadata": {},
     "output_type": "display_data"
    },
    {
     "data": {
      "text/plain": [
       "DatasetDict({\n",
       "    train: Dataset({\n",
       "        features: ['summary', 'document'],\n",
       "        num_rows: 596947\n",
       "    })\n",
       "    validation: Dataset({\n",
       "        features: ['summary', 'document'],\n",
       "        num_rows: 27391\n",
       "    })\n",
       "    test: Dataset({\n",
       "        features: ['summary', 'document'],\n",
       "        num_rows: 27162\n",
       "    })\n",
       "})"
      ]
     },
     "execution_count": 13,
     "metadata": {},
     "output_type": "execute_result"
    }
   ],
   "source": [
    "#from sklearn.model_selection import train_test_split\n",
    "from datasets import concatenate_datasets, DatasetDict\n",
    "\n",
    "# Fraction des données à conserver (40%)\n",
    "fraction_to_keep = 0.4\n",
    "\n",
    "# Créer un nouvel DatasetDict pour stocker les données\n",
    "summary_dataset = DatasetDict()\n",
    "\n",
    "for split in mlsum_fr_datasets.keys():\n",
    "    # Obtenir le nombre total d'exemples dans mlsum_fr_datasets\n",
    "    total_examples_mlsum = len(mlsum_fr_datasets[split])\n",
    "    # Obtenir le nombre total d'exemples dans xsum_en_datasets\n",
    "    total_examples_xsum = len(xsum_en_datasets[split])\n",
    "\n",
    "    # Calculer le nombre d'exemples à conserver en fonction de la fraction\n",
    "    num_to_keep_mlsum = int(fraction_to_keep * total_examples_mlsum)\n",
    "    num_to_keep_xsum = int(fraction_to_keep * total_examples_xsum)\n",
    "\n",
    "    # Sélectionner un échantillon aléatoire d'exemples à conserver pour mlsum_fr_datasets\n",
    "    kept_data_mlsum = mlsum_fr_datasets[split].shuffle(seed=42).select([i for i in range(num_to_keep_mlsum)])\n",
    "\n",
    "    # Sélectionner un échantillon aléatoire d'exemples à conserver pour xsum_en_datasets\n",
    "    kept_data_xsum = xsum_en_datasets[split].shuffle(seed=42).select([i for i in range(num_to_keep_xsum)])\n",
    "\n",
    "    # Concaténer les ensembles de données conservés\n",
    "    summary_dataset[split] = concatenate_datasets([kept_data_mlsum, kept_data_xsum])\n",
    "\n",
    "    # Mélanger les données\n",
    "    summary_dataset[split] = summary_dataset[split].shuffle(seed=42)\n",
    "\n",
    "# Afficher quelques exemples\n",
    "#show_samples(summary_dataset)\n",
    "\n",
    "\n",
    "summary_dataset"
   ]
  },
  {
   "cell_type": "code",
   "execution_count": 14,
   "id": "fdad62f3-8430-45ee-8ed1-b1381e61d996",
   "metadata": {},
   "outputs": [
    {
     "data": {
      "text/html": [
       "\n",
       "  <style>\n",
       "    pre {\n",
       "        white-space: pre-wrap;\n",
       "    }\n",
       "  </style>\n",
       "  "
      ],
      "text/plain": [
       "<IPython.core.display.HTML object>"
      ]
     },
     "metadata": {},
     "output_type": "display_data"
    },
    {
     "data": {
      "application/vnd.jupyter.widget-view+json": {
       "model_id": "ba19e39ec53c448e85303f8d2ebdb732",
       "version_major": 2,
       "version_minor": 0
      },
      "text/plain": [
       "Map:   0%|          | 0/596947 [00:00<?, ? examples/s]"
      ]
     },
     "metadata": {},
     "output_type": "display_data"
    },
    {
     "data": {
      "application/vnd.jupyter.widget-view+json": {
       "model_id": "e5fb98bf4c0a41edb8a800f7b82d7a04",
       "version_major": 2,
       "version_minor": 0
      },
      "text/plain": [
       "Filter:   0%|          | 0/596947 [00:00<?, ? examples/s]"
      ]
     },
     "metadata": {},
     "output_type": "display_data"
    },
    {
     "data": {
      "application/vnd.jupyter.widget-view+json": {
       "model_id": "de32fb55ae4344c8aa650d7071f9c38e",
       "version_major": 2,
       "version_minor": 0
      },
      "text/plain": [
       "Map:   0%|          | 0/27391 [00:00<?, ? examples/s]"
      ]
     },
     "metadata": {},
     "output_type": "display_data"
    },
    {
     "data": {
      "application/vnd.jupyter.widget-view+json": {
       "model_id": "9d8404b98f2d4e86a448d769154ec7d7",
       "version_major": 2,
       "version_minor": 0
      },
      "text/plain": [
       "Filter:   0%|          | 0/27391 [00:00<?, ? examples/s]"
      ]
     },
     "metadata": {},
     "output_type": "display_data"
    },
    {
     "data": {
      "application/vnd.jupyter.widget-view+json": {
       "model_id": "c967d5ea39da42e385335333e06fb619",
       "version_major": 2,
       "version_minor": 0
      },
      "text/plain": [
       "Map:   0%|          | 0/27162 [00:00<?, ? examples/s]"
      ]
     },
     "metadata": {},
     "output_type": "display_data"
    },
    {
     "data": {
      "application/vnd.jupyter.widget-view+json": {
       "model_id": "9399d8ab358141e386e9f30b066309c0",
       "version_major": 2,
       "version_minor": 0
      },
      "text/plain": [
       "Filter:   0%|          | 0/27162 [00:00<?, ? examples/s]"
      ]
     },
     "metadata": {},
     "output_type": "display_data"
    },
    {
     "name": "stdout",
     "output_type": "stream",
     "text": [
      "\n",
      "'>> Document: The infection is suspected of leading to thousands of babies being born with underdeveloped brains in Brazil.\n",
      "\"I trust that the British Olympic Association will keep us best informed,\" said Muir, 22.\n",
      "\"I'm just going to keep on training and hopefully come the summer time, everything will be OK.\"\n",
      "Veterinary medicine student Muir said she would continue to monitor the situation, with Zika having been declared a global public health emergency by the World Health Organisation.\n",
      "\"Because of my background with my studies, I know a little bit about it,\" she explained.\n",
      "Last year, Muir finished fourth in'\n",
      "'>> Summary: Scottish middle-distance runner Laura Muir insists she has no concerns at this stage about the Zika virus ahead of this summer's Olympic Games in Rio.'\n",
      "\n",
      "'>> Document: Pour ce premier samedi du mois, Paris Première propose son programme érotique \"à dimension culturelle\" : un documentaire inédit de la collection \"Sex in the World's Cities\" consacré à la capitale argentine, Buenos Aires. Qu'y découvre-t-on ? Une jolie jeune femme, assez monstrueuse et parfois drôle, s'exhibant dans les rues de la ville avec du scotch sur le visage pour imiter les effets du Botox et un ballon de baudruche en forme de pénis autour de la taille. Elle s'appelle Karen et pratique une forme d'activisme féministe \"post-porno\". Si ce \"happening\" n'est pas passionnant, il demeure pourt'\n",
      "'>> Summary: Une collection racoleuse de guides touristiques érotiques PARIS PREMIÈRE 22.30|DOCUMENTAIRE|'\n",
      "\n",
      "'>> Document: En France, il faudra attendre le 16 septembre pour que les nouveaux permis européens soient mis en circulation. D.R. Un nouveau permis de conduire entre en circulation, samedi 19 janvier, dans la plupart des pays de l'Union européenne, mais pas en France, où l'échéance a été reportée au 16 septembre, en raison de retards informatiques. Ce permis, de la taille d'une carte de crédit et plastifié, sera commun à tous les Etats membres. Il comporte une puce électronique qui devrait le rendre moins falsifiable et plus facilement lisible par les forces de l'ordre. Le document devra être renouvelé tou'\n",
      "'>> Summary: Le ministère de l'intérieur évoque des \"difficultés informatiques\". La réforme des catégories de permis, elle, est effective dès samedi 19 janvier.'\n"
     ]
    },
    {
     "data": {
      "text/plain": [
       "DatasetDict({\n",
       "    train: Dataset({\n",
       "        features: ['summary', 'document'],\n",
       "        num_rows: 596919\n",
       "    })\n",
       "    validation: Dataset({\n",
       "        features: ['summary', 'document'],\n",
       "        num_rows: 27386\n",
       "    })\n",
       "    test: Dataset({\n",
       "        features: ['summary', 'document'],\n",
       "        num_rows: 27161\n",
       "    })\n",
       "})"
      ]
     },
     "execution_count": 14,
     "metadata": {},
     "output_type": "execute_result"
    }
   ],
   "source": [
    "from datasets import DatasetDict\n",
    "\n",
    "max_input_length = 600\n",
    "max_target_length = 300\n",
    "\n",
    "def clean_and_preprocess_dataset(dataset_dict, text_column, summary_column, max_input_length, max_target_length):\n",
    "    # Créer un nouvel DatasetDict pour stocker les données prétraitées\n",
    "    cleaned_dataset_dict = DatasetDict()\n",
    "    \n",
    "    for split in dataset_dict.keys():\n",
    "        cleaned_data = dataset_dict[split].map(lambda example: {\n",
    "            text_column: example[text_column][:max_input_length],\n",
    "            summary_column: example[summary_column][:max_target_length]\n",
    "        })\n",
    "        \n",
    "        # Filtrer les exemples qui sont trop courts ou vides\n",
    "        cleaned_data = cleaned_data.filter(lambda example: len(example[text_column]) > 0 and len(example[summary_column]) > 0)\n",
    "\n",
    "        # Stocker les données prétraitées dans le nouvel DatasetDict\n",
    "        cleaned_dataset_dict[split] = cleaned_data\n",
    "\n",
    "    return cleaned_dataset_dict\n",
    "\n",
    "# Appliquer la fonction à votre DatasetDict\n",
    "summary_dataset = clean_and_preprocess_dataset(summary_dataset, \"document\", \"summary\", max_input_length, max_target_length)\n",
    "show_samples(summary_dataset)\n",
    "summary_dataset\n",
    "\n"
   ]
  },
  {
   "cell_type": "code",
   "execution_count": 15,
   "id": "mUtRCEEzM_v8",
   "metadata": {
    "colab": {
     "base_uri": "https://localhost:8080/",
     "height": 113,
     "referenced_widgets": [
      "a844b65103ce4254846d45b0163825e8",
      "09ebb0c4203447ecb06376d5220cdd5e",
      "71c5577e90f64567a0e7446e98397f4d",
      "92e81769bb934255a0f5c69583c9d8ed",
      "d2bb6d5e6cf6456495a101f77a94533f",
      "339c3aa6771945f49222b10fa5b1bab0",
      "67b8fafed33d4ed9a265aadb53150671",
      "bcf12791dac04776b084a86d5b9f0852",
      "e0dc78056032494482012f502b0b98cd",
      "a519cbedcaa04607802fe79272ae0d3a",
      "467d342174124bc5b7d3513b7b6120ba",
      "51f189f0f6834003ba084bfaeb1a3b41",
      "fdb036f2dc8a4c6f82c12251c0e270f0",
      "58eae73c05ea4813b506946d219cd7de",
      "99e0e3eb85bc41998267b266f701a0fa",
      "163a6a0b557e4a1784771e897337f92a",
      "1eea825175df47f68ee84e19b5cce6d8",
      "cdad0a1bfbf944d8b43f811ad8236407",
      "f412c806bb3e4a5ca6e84684007b29a3",
      "6d841f458db34bdb821676c355cd5f7e",
      "6eb59b4513074479bab49415d2907cfb",
      "c89f8bdfa802449ab0c2e651d9db3825",
      "b08e2eaa3f5b4374b11d502c830b8c55",
      "f468f4fb42e044a481f71b9255563982",
      "21be6a3b625e4ccfa46321dd5bc51e77",
      "b06959d151ed4d4bbc21b8b45f0941c5",
      "73dc797f0e044a21872e3272ce403524",
      "cd8645683ba44df497628662ea9ca822",
      "05d44178f4e5460bbf6317e25c103c79",
      "3918a764e80047c88da6d907da82f820",
      "4194a1c7475c46049250ab7b8b9a367d",
      "5ae8b8ce56d9446a809c17732bb15a2a",
      "88054062824749a79b6a1caa74598290"
     ]
    },
    "id": "mUtRCEEzM_v8",
    "outputId": "ab84830f-055b-4c19-b20b-5aefa82fc956"
   },
   "outputs": [
    {
     "data": {
      "text/html": [
       "\n",
       "  <style>\n",
       "    pre {\n",
       "        white-space: pre-wrap;\n",
       "    }\n",
       "  </style>\n",
       "  "
      ],
      "text/plain": [
       "<IPython.core.display.HTML object>"
      ]
     },
     "metadata": {},
     "output_type": "display_data"
    },
    {
     "data": {
      "application/vnd.jupyter.widget-view+json": {
       "model_id": "62eb52674ab8467b8ebd544b040fca89",
       "version_major": 2,
       "version_minor": 0
      },
      "text/plain": [
       "Map:   0%|          | 0/596919 [00:00<?, ? examples/s]"
      ]
     },
     "metadata": {},
     "output_type": "display_data"
    },
    {
     "data": {
      "application/vnd.jupyter.widget-view+json": {
       "model_id": "4bfd3fb415034c689556d1cc7c1bc4e0",
       "version_major": 2,
       "version_minor": 0
      },
      "text/plain": [
       "Map:   0%|          | 0/27386 [00:00<?, ? examples/s]"
      ]
     },
     "metadata": {},
     "output_type": "display_data"
    },
    {
     "data": {
      "application/vnd.jupyter.widget-view+json": {
       "model_id": "6324577a66444ee88e5b527e93370cb9",
       "version_major": 2,
       "version_minor": 0
      },
      "text/plain": [
       "Map:   0%|          | 0/27161 [00:00<?, ? examples/s]"
      ]
     },
     "metadata": {},
     "output_type": "display_data"
    }
   ],
   "source": [
    "def preprocess_function(examples):\n",
    "    model_inputs = tokenizer(\n",
    "        examples[\"document\"],\n",
    "        max_length=max_input_length,\n",
    "        truncation=True,\n",
    "    )\n",
    "    labels = tokenizer(\n",
    "        examples[\"summary\"], max_length=max_target_length, truncation=True\n",
    "    )\n",
    "    model_inputs[\"labels\"] = labels[\"input_ids\"]\n",
    "    return model_inputs\n",
    "\n",
    "tokenized_datasets = summary_dataset.map(preprocess_function, batched=True)"
   ]
  },
  {
   "cell_type": "markdown",
   "id": "35ac153c-5e86-4a4d-954f-ac188881f844",
   "metadata": {
    "id": "35ac153c-5e86-4a4d-954f-ac188881f844"
   },
   "source": [
    "## Fine-tuning using Trainer - Training"
   ]
  },
  {
   "cell_type": "markdown",
   "id": "747a98cd-d654-4b0e-b2a9-8c746a39b2f4",
   "metadata": {},
   "source": [
    "### Configuration"
   ]
  },
  {
   "cell_type": "code",
   "execution_count": 16,
   "id": "e8c5de2a-86ab-445e-b0fd-5e5bd21aa476",
   "metadata": {
    "colab": {
     "base_uri": "https://localhost:8080/",
     "height": 17
    },
    "id": "e8c5de2a-86ab-445e-b0fd-5e5bd21aa476",
    "outputId": "b0c60e62-1bb9-4703-9979-a512639cf1f5"
   },
   "outputs": [
    {
     "data": {
      "text/html": [
       "\n",
       "  <style>\n",
       "    pre {\n",
       "        white-space: pre-wrap;\n",
       "    }\n",
       "  </style>\n",
       "  "
      ],
      "text/plain": [
       "<IPython.core.display.HTML object>"
      ]
     },
     "metadata": {},
     "output_type": "display_data"
    }
   ],
   "source": [
    "from transformers import Seq2SeqTrainingArguments\n",
    "\n",
    "# Configuration de l'entraînement\n",
    "batch_size = 8\n",
    "num_train_epochs = 5\n",
    "logging_steps = len(tokenized_datasets['train']) // batch_size\n",
    "model_name = model_checkpoint.split(\"/\")[-1]\n",
    "\n",
    "args = Seq2SeqTrainingArguments(\n",
    "    output_dir=f\"{model_name}-finetuned-summary-en-fr\",\n",
    "    evaluation_strategy=\"epoch\",\n",
    "    learning_rate=3.6e-5,\n",
    "    do_train=True,\n",
    "    do_eval=True,\n",
    "    per_device_train_batch_size=batch_size,\n",
    "    per_device_eval_batch_size=batch_size,\n",
    "    weight_decay=0.01,\n",
    "    save_total_limit=3,\n",
    "    num_train_epochs=num_train_epochs,\n",
    "    predict_with_generate=True,\n",
    "    logging_steps=logging_steps,  # Fréquence de logging\n",
    "    push_to_hub=True,\n",
    ")\n"
   ]
  },
  {
   "cell_type": "code",
   "execution_count": 17,
   "id": "789d0bc5-098a-49f8-bc58-cf3a10789a15",
   "metadata": {
    "colab": {
     "base_uri": "https://localhost:8080/",
     "height": 17
    },
    "id": "789d0bc5-098a-49f8-bc58-cf3a10789a15",
    "outputId": "9dcaa6e6-a4c4-46aa-e3e4-c47209f9a2fb"
   },
   "outputs": [
    {
     "data": {
      "text/html": [
       "\n",
       "  <style>\n",
       "    pre {\n",
       "        white-space: pre-wrap;\n",
       "    }\n",
       "  </style>\n",
       "  "
      ],
      "text/plain": [
       "<IPython.core.display.HTML object>"
      ]
     },
     "metadata": {},
     "output_type": "display_data"
    }
   ],
   "source": [
    "import numpy as np\n",
    "from rouge_score import rouge_scorer\n",
    "from nltk.tokenize import sent_tokenize\n",
    "\n",
    "def compute_metrics(eval_pred):\n",
    "    predictions, labels = eval_pred\n",
    "    decoded_preds = tokenizer.batch_decode(predictions, skip_special_tokens=True)\n",
    "    labels = np.where(labels != -100, labels, tokenizer.pad_token_id)\n",
    "    decoded_labels = tokenizer.batch_decode(labels, skip_special_tokens=True)\n",
    "\n",
    "    result = rouge_score.compute(predictions=decoded_preds, references=decoded_labels, use_stemmer=True)\n",
    "\n",
    "    prediction_lens = [np.count_nonzero(pred != tokenizer.pad_token_id) for pred in predictions]\n",
    "    result[\"gen_len\"] = np.mean(prediction_lens)\n",
    "\n",
    "    return {k: round(v, 4) for k, v in result.items()}\n",
    "\n",
    "def compute_metrics_2(eval_pred):\n",
    "    predictions, labels = eval_pred\n",
    "    # Decode generated summaries into text\n",
    "    decoded_preds = tokenizer.batch_decode(predictions, skip_special_tokens=True)\n",
    "    # Replace -100 in the labels as we can't decode them\n",
    "    labels = np.where(labels != -100, labels, tokenizer.pad_token_id)\n",
    "    # Decode reference summaries into text\n",
    "    decoded_labels = tokenizer.batch_decode(labels, skip_special_tokens=True)\n",
    "    # ROUGE expects a newline after each sentence\n",
    "    decoded_preds = [\"\\n\".join(sent_tokenize(pred.strip())) for pred in decoded_preds]\n",
    "    decoded_labels = [\"\\n\".join(sent_tokenize(label.strip())) for label in decoded_labels]\n",
    "    # Compute ROUGE scores\n",
    "    result = rouge_score.compute(\n",
    "        predictions=decoded_preds, references=decoded_labels, use_stemmer=True\n",
    "    )\n",
    "    # Extract the median scores\n",
    "    result = {key: value * 100 for key, value in result.items()}\n",
    "    return {k: round(v, 4) for k, v in result.items()}\n",
    "\n",
    "\n",
    "def compute_metrics_chatgpt(predictions, references):\n",
    "    # Initialize the ROUGE scorer\n",
    "    scorer = rouge_score.RougeScorer(['rouge1', 'rouge2', 'rougeL'], use_stemmer=True)\n",
    "\n",
    "    # Calculate ROUGE scores for each prediction-reference pair\n",
    "    rouge_scores = {\n",
    "        \"rouge1_precision\": [],\n",
    "        \"rouge1_recall\": [],\n",
    "        \"rouge1_f1\": [],\n",
    "        \"rouge2_precision\": [],\n",
    "        \"rouge2_recall\": [],\n",
    "        \"rouge2_f1\": [],\n",
    "        \"rougeL_precision\": [],\n",
    "        \"rougeL_recall\": [],\n",
    "        \"rougeL_f1\": []\n",
    "    }\n",
    "\n",
    "    for prediction, reference in zip(predictions, references):\n",
    "        scores = scorer.score(reference, prediction)\n",
    "\n",
    "        rouge_scores[\"rouge1_precision\"].append(scores[\"rouge1\"].precision)\n",
    "        rouge_scores[\"rouge1_recall\"].append(scores[\"rouge1\"].recall)\n",
    "        rouge_scores[\"rouge1_f1\"].append(scores[\"rouge1\"].fmeasure)\n",
    "\n",
    "        rouge_scores[\"rouge2_precision\"].append(scores[\"rouge2\"].precision)\n",
    "        rouge_scores[\"rouge2_recall\"].append(scores[\"rouge2\"].recall)\n",
    "        rouge_scores[\"rouge2_f1\"].append(scores[\"rouge2\"].fmeasure)\n",
    "\n",
    "        rouge_scores[\"rougeL_precision\"].append(scores[\"rougeL\"].precision)\n",
    "        rouge_scores[\"rougeL_recall\"].append(scores[\"rougeL\"].recall)\n",
    "        rouge_scores[\"rougeL_f1\"].append(scores[\"rougeL\"].fmeasure)\n",
    "\n",
    "    # Calculate average ROUGE scores\n",
    "    average_rouge_scores = {key: np.mean(value) * 100 for key, value in rouge_scores.items()}\n",
    "\n",
    "    return average_rouge_scores\n"
   ]
  },
  {
   "cell_type": "code",
   "execution_count": 18,
   "id": "e63c4540-3532-4dac-b3a0-81e2d4bccc06",
   "metadata": {
    "colab": {
     "base_uri": "https://localhost:8080/",
     "height": 17
    },
    "id": "e63c4540-3532-4dac-b3a0-81e2d4bccc06",
    "outputId": "94fbdfa0-f548-4366-a587-4c6a8bb2d9dd"
   },
   "outputs": [
    {
     "data": {
      "text/html": [
       "\n",
       "  <style>\n",
       "    pre {\n",
       "        white-space: pre-wrap;\n",
       "    }\n",
       "  </style>\n",
       "  "
      ],
      "text/plain": [
       "<IPython.core.display.HTML object>"
      ]
     },
     "metadata": {},
     "output_type": "display_data"
    }
   ],
   "source": [
    "from transformers import DataCollatorForSeq2Seq\n",
    "\n",
    "data_collator = DataCollatorForSeq2Seq(tokenizer, model=model)\n"
   ]
  },
  {
   "cell_type": "code",
   "execution_count": 19,
   "id": "OC2qEOTHe0n1",
   "metadata": {
    "colab": {
     "base_uri": "https://localhost:8080/",
     "height": 374
    },
    "id": "OC2qEOTHe0n1",
    "outputId": "bf9b25a1-5b04-4c29-9a4e-624a180f1f3f",
    "scrolled": true
   },
   "outputs": [
    {
     "data": {
      "text/html": [
       "\n",
       "  <style>\n",
       "    pre {\n",
       "        white-space: pre-wrap;\n",
       "    }\n",
       "  </style>\n",
       "  "
      ],
      "text/plain": [
       "<IPython.core.display.HTML object>"
      ]
     },
     "metadata": {},
     "output_type": "display_data"
    },
    {
     "name": "stderr",
     "output_type": "stream",
     "text": [
      "You're using a T5TokenizerFast tokenizer. Please note that with a fast tokenizer, using the `__call__` method is faster than using a method to encode the text followed by a call to the `pad` method to get a padded encoding.\n"
     ]
    },
    {
     "data": {
      "text/plain": [
       "{'input_ids': tensor([[  1243,    263,    259,  34471,   1643,    259,    263,    293,    278,\n",
       "          50764,   4328,    259,   7434,    259,    845,  74040,    289,   3086,\n",
       "            380,    261,    303,    342,  67516,    413,  39676,    624,   2708,\n",
       "            261,    413,  19993,    624,    796,    261,    289,    259,  24884,\n",
       "            265,    317,  84572,    269,  40991,    259,    369,    443, 103917,\n",
       "            261,   1080,    340,   6130,    404, 191777,    295,    618,    269,\n",
       "            283,    259,  52486,    498,  16674,    299,    260,   1170,  13487,\n",
       "            849,    259,  37601,    380,    261,    763,    340,   1451,   5826,\n",
       "            269,    327,    786,  19328,  34407,  29389,   1919,    804,   9597,\n",
       "            322,  11477,    269,    763, 138187,    380,   1218,  15204,    293,\n",
       "            369,    259,  27338,    720,    259,    369,   8480,  64601,    383,\n",
       "            259,  16650,   8818,    322,    261,    340,   9562,    843,    259,\n",
       "          58467,    259,    267,    886,    269,  21102,    331,    293,  79104,\n",
       "           1694,    283,   5263,    383,    340,   9597,    261,    935,   1245,\n",
       "            819,    293,  26330,    340,   8876,    259,  56871,  30325,    383,\n",
       "           1065, 129609,    273,    265,  39676,  22607,  91308,    261,    259,\n",
       "            369,    283,   8751,    346,    413,    259,  51520,   5256, 188457,\n",
       "            280,    269,   8096,   2181,  42827,    335,    461,    260,  15984,\n",
       "            520,    259,   7434,  18946,    263,    261,    340,    317, 111569,\n",
       "          12878,    259,   7711,    263,   2197,    261, 100156,  70210,      1,\n",
       "              0,      0,      0,      0,      0,      0,      0],\n",
       "        [   458,    293, 122419,    624,    340,    259,  51520,    517,   8815,\n",
       "            261,    289,    784,    261,    331,    293,    604,   4331,    297,\n",
       "          51725,    269,    327,   9574,  69722,    865,    283,  59136,    265,\n",
       "          17182,    265,    259,    262,   3703,    361,   1080,    982,  35653,\n",
       "          57735,    498,   5730,   9475,    263,    517,  82868,    260,    336,\n",
       "            769,    261,    259,    369,   4321,  20898,    260,    259, 134247,\n",
       "         101978,    275, 133179,  68162,    259, 201636, 104264,    313,    547,\n",
       "            277, 169118,    261,    317,    277,    861,    259,  20928,    259,\n",
       "           5119,    886,    332,    297,  31758,    283,   1245,   2127,  84416,\n",
       "            498,    259,  85829,    263,  12335,    458,    277,  69319,   1300,\n",
       "            269,  51326,    286,  48057,   3942, 175389,    297,    259,  13783,\n",
       "            331,    277,   2034,  25916,    259,    270, 197463,   8461,   3396,\n",
       "           2995,    322, 119895,   1726,   1891,    624,    283,    259,  42102,\n",
       "            269,   8096,    261,    383,    259,  10977,    259,    280,    277,\n",
       "          69365,   1998,    259,    262,    259,   3928,  51764,   1891,    340,\n",
       "            430,   1451,  16963,    846,    624,   4920,   8547,    322,    259,\n",
       "          14769,    264,   1919,   7722,    921,    259,  20104,    269,   5704,\n",
       "          30105,  74454,    259,    291,    764,   1803,    331,    277,  27476,\n",
       "            259,  69319,    265,    259,  17374,    319,    340,    259,  56871,\n",
       "            413,  15565,    259,    262,    317,  29828,   1752,    361,   1065,\n",
       "          12883,  25483,   2975,    289,    259,  84410,      1]]), 'attention_mask': tensor([[1, 1, 1, 1, 1, 1, 1, 1, 1, 1, 1, 1, 1, 1, 1, 1, 1, 1, 1, 1, 1, 1, 1, 1,\n",
       "         1, 1, 1, 1, 1, 1, 1, 1, 1, 1, 1, 1, 1, 1, 1, 1, 1, 1, 1, 1, 1, 1, 1, 1,\n",
       "         1, 1, 1, 1, 1, 1, 1, 1, 1, 1, 1, 1, 1, 1, 1, 1, 1, 1, 1, 1, 1, 1, 1, 1,\n",
       "         1, 1, 1, 1, 1, 1, 1, 1, 1, 1, 1, 1, 1, 1, 1, 1, 1, 1, 1, 1, 1, 1, 1, 1,\n",
       "         1, 1, 1, 1, 1, 1, 1, 1, 1, 1, 1, 1, 1, 1, 1, 1, 1, 1, 1, 1, 1, 1, 1, 1,\n",
       "         1, 1, 1, 1, 1, 1, 1, 1, 1, 1, 1, 1, 1, 1, 1, 1, 1, 1, 1, 1, 1, 1, 1, 1,\n",
       "         1, 1, 1, 1, 1, 1, 1, 1, 1, 1, 1, 1, 1, 1, 1, 1, 1, 1, 1, 1, 1, 1, 1, 1,\n",
       "         1, 1, 1, 1, 1, 1, 1, 1, 1, 1, 1, 1, 0, 0, 0, 0, 0, 0, 0],\n",
       "        [1, 1, 1, 1, 1, 1, 1, 1, 1, 1, 1, 1, 1, 1, 1, 1, 1, 1, 1, 1, 1, 1, 1, 1,\n",
       "         1, 1, 1, 1, 1, 1, 1, 1, 1, 1, 1, 1, 1, 1, 1, 1, 1, 1, 1, 1, 1, 1, 1, 1,\n",
       "         1, 1, 1, 1, 1, 1, 1, 1, 1, 1, 1, 1, 1, 1, 1, 1, 1, 1, 1, 1, 1, 1, 1, 1,\n",
       "         1, 1, 1, 1, 1, 1, 1, 1, 1, 1, 1, 1, 1, 1, 1, 1, 1, 1, 1, 1, 1, 1, 1, 1,\n",
       "         1, 1, 1, 1, 1, 1, 1, 1, 1, 1, 1, 1, 1, 1, 1, 1, 1, 1, 1, 1, 1, 1, 1, 1,\n",
       "         1, 1, 1, 1, 1, 1, 1, 1, 1, 1, 1, 1, 1, 1, 1, 1, 1, 1, 1, 1, 1, 1, 1, 1,\n",
       "         1, 1, 1, 1, 1, 1, 1, 1, 1, 1, 1, 1, 1, 1, 1, 1, 1, 1, 1, 1, 1, 1, 1, 1,\n",
       "         1, 1, 1, 1, 1, 1, 1, 1, 1, 1, 1, 1, 1, 1, 1, 1, 1, 1, 1]]), 'labels': tensor([[   764,    371,  50049,    843,    259,    280,    293,  61700,    273,\n",
       "           6017,    269,    283,    786,  19328,  34407,  29389,   1919,    413,\n",
       "           8876,    259,  56871,    804,   9597,    260,      1,   -100,   -100,\n",
       "           -100,   -100,   -100,   -100,   -100,   -100,   -100,   -100,   -100,\n",
       "           -100,   -100,   -100,   -100,   -100,   -100],\n",
       "        [  5517,    340,  56222,    278,    517,   8815,    313,   5026,  32504,\n",
       "            263,    754,    317,    277,    861,    340,    259,    286,  62617,\n",
       "            498,    259,  40557,    263, 102659,   7636,    692,   4083,    289,\n",
       "            259,  84410,    907,    763,  10675,    259,  63418,    286,   1065,\n",
       "           6313,   1143,    269,  13446,    260,      1]]), 'decoder_input_ids': tensor([[     0,    764,    371,  50049,    843,    259,    280,    293,  61700,\n",
       "            273,   6017,    269,    283,    786,  19328,  34407,  29389,   1919,\n",
       "            413,   8876,    259,  56871,    804,   9597,    260,      1,      0,\n",
       "              0,      0,      0,      0,      0,      0,      0,      0,      0,\n",
       "              0,      0,      0,      0,      0,      0],\n",
       "        [     0,   5517,    340,  56222,    278,    517,   8815,    313,   5026,\n",
       "          32504,    263,    754,    317,    277,    861,    340,    259,    286,\n",
       "          62617,    498,    259,  40557,    263, 102659,   7636,    692,   4083,\n",
       "            289,    259,  84410,    907,    763,  10675,    259,  63418,    286,\n",
       "           1065,   6313,   1143,    269,  13446,    260]])}"
      ]
     },
     "execution_count": 19,
     "metadata": {},
     "output_type": "execute_result"
    }
   ],
   "source": [
    "tokenized_datasets = tokenized_datasets.remove_columns(\n",
    "    summary_dataset[\"train\"].column_names\n",
    ")\n",
    "features = [tokenized_datasets[\"train\"][i] for i in range(2)]\n",
    "data_collator(features)"
   ]
  },
  {
   "cell_type": "code",
   "execution_count": 20,
   "id": "3f1fc7e8-11b5-4f24-b42f-a337273f1b8b",
   "metadata": {
    "colab": {
     "base_uri": "https://localhost:8080/",
     "height": 255
    },
    "id": "3f1fc7e8-11b5-4f24-b42f-a337273f1b8b",
    "outputId": "dc493653-28a8-4d0a-d6ba-b3248a68de62"
   },
   "outputs": [
    {
     "data": {
      "text/html": [
       "\n",
       "  <style>\n",
       "    pre {\n",
       "        white-space: pre-wrap;\n",
       "    }\n",
       "  </style>\n",
       "  "
      ],
      "text/plain": [
       "<IPython.core.display.HTML object>"
      ]
     },
     "metadata": {},
     "output_type": "display_data"
    },
    {
     "data": {
      "text/plain": [
       "DatasetDict({\n",
       "    train: Dataset({\n",
       "        features: ['input_ids', 'attention_mask', 'labels'],\n",
       "        num_rows: 596919\n",
       "    })\n",
       "    validation: Dataset({\n",
       "        features: ['input_ids', 'attention_mask', 'labels'],\n",
       "        num_rows: 27386\n",
       "    })\n",
       "    test: Dataset({\n",
       "        features: ['input_ids', 'attention_mask', 'labels'],\n",
       "        num_rows: 27161\n",
       "    })\n",
       "})"
      ]
     },
     "execution_count": 20,
     "metadata": {},
     "output_type": "execute_result"
    }
   ],
   "source": [
    "tokenized_datasets"
   ]
  },
  {
   "cell_type": "markdown",
   "id": "a2d0ea63-941d-42e0-b44c-dd4f127a6016",
   "metadata": {},
   "source": [
    "### Fine-tuning - Training "
   ]
  },
  {
   "cell_type": "code",
   "execution_count": 21,
   "id": "67eac36e-f399-4e45-8e14-eb3c037db480",
   "metadata": {
    "colab": {
     "base_uri": "https://localhost:8080/",
     "height": 17
    },
    "id": "67eac36e-f399-4e45-8e14-eb3c037db480",
    "outputId": "63b9acbb-aaa6-4394-c640-d5e113e140d4"
   },
   "outputs": [
    {
     "data": {
      "text/html": [
       "\n",
       "  <style>\n",
       "    pre {\n",
       "        white-space: pre-wrap;\n",
       "    }\n",
       "  </style>\n",
       "  "
      ],
      "text/plain": [
       "<IPython.core.display.HTML object>"
      ]
     },
     "metadata": {},
     "output_type": "display_data"
    }
   ],
   "source": [
    "from transformers import Seq2SeqTrainer\n",
    "\n",
    "trainer = Seq2SeqTrainer(\n",
    "    model,\n",
    "    args,\n",
    "    train_dataset=tokenized_datasets[\"train\"],\n",
    "    eval_dataset=tokenized_datasets[\"validation\"],\n",
    "    data_collator=data_collator,\n",
    "    tokenizer=tokenizer,\n",
    "    compute_metrics=compute_metrics,\n",
    ")"
   ]
  },
  {
   "cell_type": "code",
   "execution_count": 22,
   "id": "c84a6397-1057-4ca7-9766-08ddd71f7da2",
   "metadata": {
    "colab": {
     "base_uri": "https://localhost:8080/",
     "height": 510
    },
    "id": "c84a6397-1057-4ca7-9766-08ddd71f7da2",
    "outputId": "c9bb7393-abe3-4216-bdbd-ba09de7a248b",
    "scrolled": true
   },
   "outputs": [
    {
     "data": {
      "text/html": [
       "\n",
       "  <style>\n",
       "    pre {\n",
       "        white-space: pre-wrap;\n",
       "    }\n",
       "  </style>\n",
       "  "
      ],
      "text/plain": [
       "<IPython.core.display.HTML object>"
      ]
     },
     "metadata": {},
     "output_type": "display_data"
    },
    {
     "data": {
      "text/html": [
       "\n",
       "    <div>\n",
       "      \n",
       "      <progress value='373075' max='373075' style='width:300px; height:20px; vertical-align: middle;'></progress>\n",
       "      [373075/373075 12:19:08, Epoch 5/5]\n",
       "    </div>\n",
       "    <table border=\"1\" class=\"dataframe\">\n",
       "  <thead>\n",
       " <tr style=\"text-align: left;\">\n",
       "      <th>Epoch</th>\n",
       "      <th>Training Loss</th>\n",
       "      <th>Validation Loss</th>\n",
       "      <th>Rouge1</th>\n",
       "      <th>Rouge2</th>\n",
       "      <th>Rougel</th>\n",
       "      <th>Rougelsum</th>\n",
       "      <th>Gen Len</th>\n",
       "    </tr>\n",
       "  </thead>\n",
       "  <tbody>\n",
       "    <tr>\n",
       "      <td>1</td>\n",
       "      <td>2.465400</td>\n",
       "      <td>2.375458</td>\n",
       "      <td>0.216600</td>\n",
       "      <td>0.069100</td>\n",
       "      <td>0.178900</td>\n",
       "      <td>0.178900</td>\n",
       "      <td>18.972500</td>\n",
       "    </tr>\n",
       "    <tr>\n",
       "      <td>2</td>\n",
       "      <td>2.360300</td>\n",
       "      <td>2.318850</td>\n",
       "      <td>0.222200</td>\n",
       "      <td>0.072800</td>\n",
       "      <td>0.183500</td>\n",
       "      <td>0.183600</td>\n",
       "      <td>18.977700</td>\n",
       "    </tr>\n",
       "    <tr>\n",
       "      <td>3</td>\n",
       "      <td>2.305200</td>\n",
       "      <td>2.292186</td>\n",
       "      <td>0.224600</td>\n",
       "      <td>0.074900</td>\n",
       "      <td>0.185400</td>\n",
       "      <td>0.185400</td>\n",
       "      <td>18.982300</td>\n",
       "    </tr>\n",
       "    <tr>\n",
       "      <td>4</td>\n",
       "      <td>2.272000</td>\n",
       "      <td>2.273301</td>\n",
       "      <td>0.225200</td>\n",
       "      <td>0.075700</td>\n",
       "      <td>0.186100</td>\n",
       "      <td>0.186100</td>\n",
       "      <td>18.980100</td>\n",
       "    </tr>\n",
       "    <tr>\n",
       "      <td>5</td>\n",
       "      <td>2.253200</td>\n",
       "      <td>2.266330</td>\n",
       "      <td>0.226000</td>\n",
       "      <td>0.076100</td>\n",
       "      <td>0.186800</td>\n",
       "      <td>0.186700</td>\n",
       "      <td>18.978700</td>\n",
       "    </tr>\n",
       "  </tbody>\n",
       "</table><p>"
      ],
      "text/plain": [
       "<IPython.core.display.HTML object>"
      ]
     },
     "metadata": {},
     "output_type": "display_data"
    },
    {
     "name": "stdout",
     "output_type": "stream",
     "text": [
      "CPU times: user 12h 5min 42s, sys: 42min 5s, total: 12h 47min 47s\n",
      "Wall time: 12h 19min 9s\n"
     ]
    },
    {
     "data": {
      "text/plain": [
       "TrainOutput(global_step=373075, training_loss=2.3312351312211073, metrics={'train_runtime': 44349.3742, 'train_samples_per_second': 67.297, 'train_steps_per_second': 8.412, 'total_flos': 6.072053934186394e+17, 'train_loss': 2.3312351312211073, 'epoch': 5.0})"
      ]
     },
     "execution_count": 22,
     "metadata": {},
     "output_type": "execute_result"
    }
   ],
   "source": [
    "%%time\n",
    "trainer.train()"
   ]
  },
  {
   "cell_type": "markdown",
   "id": "9d5c32e4-179a-44de-b3ae-fa9b6f08975d",
   "metadata": {
    "id": "9d5c32e4-179a-44de-b3ae-fa9b6f08975d"
   },
   "source": [
    "### Evaluation"
   ]
  },
  {
   "cell_type": "code",
   "execution_count": 23,
   "id": "66ecc821-470a-4bda-b28a-ac8a6a9fb8d1",
   "metadata": {
    "id": "66ecc821-470a-4bda-b28a-ac8a6a9fb8d1"
   },
   "outputs": [
    {
     "data": {
      "text/html": [
       "\n",
       "  <style>\n",
       "    pre {\n",
       "        white-space: pre-wrap;\n",
       "    }\n",
       "  </style>\n",
       "  "
      ],
      "text/plain": [
       "<IPython.core.display.HTML object>"
      ]
     },
     "metadata": {},
     "output_type": "display_data"
    },
    {
     "data": {
      "text/html": [
       "\n",
       "    <div>\n",
       "      \n",
       "      <progress value='3424' max='3424' style='width:300px; height:20px; vertical-align: middle;'></progress>\n",
       "      [3424/3424 12:15]\n",
       "    </div>\n",
       "    "
      ],
      "text/plain": [
       "<IPython.core.display.HTML object>"
      ]
     },
     "metadata": {},
     "output_type": "display_data"
    },
    {
     "name": "stdout",
     "output_type": "stream",
     "text": [
      "CPU times: user 12min 59s, sys: 1.02 s, total: 13min\n",
      "Wall time: 12min 59s\n"
     ]
    },
    {
     "data": {
      "text/plain": [
       "{'eval_loss': 2.2663304805755615,\n",
       " 'eval_rouge1': 0.226,\n",
       " 'eval_rouge2': 0.0761,\n",
       " 'eval_rougeL': 0.1868,\n",
       " 'eval_rougeLsum': 0.1867,\n",
       " 'eval_gen_len': 18.9787,\n",
       " 'eval_runtime': 779.9134,\n",
       " 'eval_samples_per_second': 35.114,\n",
       " 'eval_steps_per_second': 4.39,\n",
       " 'epoch': 5.0}"
      ]
     },
     "execution_count": 23,
     "metadata": {},
     "output_type": "execute_result"
    }
   ],
   "source": [
    "%%time\n",
    "trainer.evaluate()"
   ]
  },
  {
   "cell_type": "markdown",
   "id": "1c57f397-aa07-4320-8002-f3bd78fa8eb2",
   "metadata": {
    "id": "1c57f397-aa07-4320-8002-f3bd78fa8eb2"
   },
   "source": [
    "### Push to huggingface"
   ]
  },
  {
   "cell_type": "code",
   "execution_count": 27,
   "id": "d38283b8-f6c4-4352-98af-0979a3a4bc42",
   "metadata": {
    "id": "d38283b8-f6c4-4352-98af-0979a3a4bc42"
   },
   "outputs": [
    {
     "data": {
      "text/html": [
       "\n",
       "  <style>\n",
       "    pre {\n",
       "        white-space: pre-wrap;\n",
       "    }\n",
       "  </style>\n",
       "  "
      ],
      "text/plain": [
       "<IPython.core.display.HTML object>"
      ]
     },
     "metadata": {},
     "output_type": "display_data"
    }
   ],
   "source": [
    "#trainer.save_model(\"./trained_model\")"
   ]
  },
  {
   "cell_type": "code",
   "execution_count": 24,
   "id": "153abe78-8c4e-42da-b09c-2d31508bb88f",
   "metadata": {
    "id": "153abe78-8c4e-42da-b09c-2d31508bb88f"
   },
   "outputs": [
    {
     "data": {
      "text/html": [
       "\n",
       "  <style>\n",
       "    pre {\n",
       "        white-space: pre-wrap;\n",
       "    }\n",
       "  </style>\n",
       "  "
      ],
      "text/plain": [
       "<IPython.core.display.HTML object>"
      ]
     },
     "metadata": {},
     "output_type": "display_data"
    },
    {
     "data": {
      "application/vnd.jupyter.widget-view+json": {
       "model_id": "3855a431dc3f4f71abe9aa4358aa7775",
       "version_major": 2,
       "version_minor": 0
      },
      "text/plain": [
       "pytorch_model.bin:   0%|          | 0.00/1.20G [00:00<?, ?B/s]"
      ]
     },
     "metadata": {},
     "output_type": "display_data"
    },
    {
     "data": {
      "text/plain": [
       "'https://huggingface.co/thekenken/mt5-small-finetuned-summary-en-fr-finetuned-summary-en-fr/tree/main/'"
      ]
     },
     "execution_count": 24,
     "metadata": {},
     "output_type": "execute_result"
    }
   ],
   "source": [
    "trainer.push_to_hub(\"Training done - 10 epochs\", tags=\"summarization\")"
   ]
  },
  {
   "cell_type": "markdown",
   "id": "5b9dd06a-e2a5-404d-be8a-77662fe60d39",
   "metadata": {},
   "source": [
    "## Using my fine-tuned model "
   ]
  },
  {
   "cell_type": "code",
   "execution_count": 14,
   "id": "403977cc-d9b4-4ce2-9a76-bb1363543fc8",
   "metadata": {},
   "outputs": [
    {
     "data": {
      "text/html": [
       "\n",
       "  <style>\n",
       "    pre {\n",
       "        white-space: pre-wrap;\n",
       "    }\n",
       "  </style>\n",
       "  "
      ],
      "text/plain": [
       "<IPython.core.display.HTML object>"
      ]
     },
     "metadata": {},
     "output_type": "display_data"
    },
    {
     "name": "stderr",
     "output_type": "stream",
     "text": [
      "Special tokens have been added in the vocabulary, make sure the associated word embeddings are fine-tuned or trained.\n"
     ]
    }
   ],
   "source": [
    "from transformers import pipeline\n",
    "\n",
    "hub_model_id = \"thekenken/mt5small-finetuned-summary-en-fr\"\n",
    "summarizer = pipeline(\"summarization\", model=hub_model_id)"
   ]
  },
  {
   "cell_type": "code",
   "execution_count": 18,
   "id": "908c6218-82c9-419b-a3b6-1842accd62b8",
   "metadata": {},
   "outputs": [
    {
     "data": {
      "text/html": [
       "\n",
       "  <style>\n",
       "    pre {\n",
       "        white-space: pre-wrap;\n",
       "    }\n",
       "  </style>\n",
       "  "
      ],
      "text/plain": [
       "<IPython.core.display.HTML object>"
      ]
     },
     "metadata": {},
     "output_type": "display_data"
    }
   ],
   "source": [
    "def print_summary(idx, max_length=150):\n",
    "    document = summary_dataset[\"test\"][idx][\"document\"]\n",
    "    summary = summary_dataset[\"test\"][idx][\"summary\"]\n",
    "    prediction = summarizer(summary_dataset[\"test\"][idx][\"document\"], max_length=max_length)[0][\"summary_text\"]\n",
    "    print(f\"'>>> Document: {document}'\")\n",
    "    print(f\"\\n'>>> Summary: {summary}'\")\n",
    "    print(f\"\\n'>>> Predicted - Summary: {prediction}'\")"
   ]
  },
  {
   "cell_type": "code",
   "execution_count": 19,
   "id": "d74432be-e9f1-46cc-82a2-ae77bf641ea2",
   "metadata": {},
   "outputs": [
    {
     "data": {
      "text/html": [
       "\n",
       "  <style>\n",
       "    pre {\n",
       "        white-space: pre-wrap;\n",
       "    }\n",
       "  </style>\n",
       "  "
      ],
      "text/plain": [
       "<IPython.core.display.HTML object>"
      ]
     },
     "metadata": {},
     "output_type": "display_data"
    },
    {
     "name": "stderr",
     "output_type": "stream",
     "text": [
      "Your max_length is set to 300, but your input_length is only 160. Since this is a summarization task, where outputs shorter than the input are typically wanted, you might consider decreasing max_length manually, e.g. summarizer('...', max_length=80)\n"
     ]
    },
    {
     "name": "stdout",
     "output_type": "stream",
     "text": [
      "'>>> Document: Donald Trump et Xi Jinping, le président chinois, au sommet du G20 à Osaka (Japon), le 29 juin. KEVIN LAMARQUE / REUTERS La Chine a annoncé, lundi 2 septembre, qu’elle avait déposé une plainte auprès de l’Organisation mondiale du commerce (OMC) en réaction à l’entrée en vigueur aux Etats-Unis, dimanche, de nouveaux droits de douane sur des produits chinois représentant des milliards de dollars d’importations annuelles. « Ces taxes américaines enfreignent gravement le consensus auquel étaient parvenus les ch'\n",
      "\n",
      "'>>> Summary: De nouveaux droits de douane sont entrés en vigueur dimanche aux Etats-Unis sur des produits chinois'\n",
      "\n",
      "'>>> Predicted - Summary: La Chine a déposé une plainte auprès de l’OMC en réaction à l’entrée en vigueur aux Etats-Unis, dimanche, de nouveaux '\n"
     ]
    }
   ],
   "source": [
    "print_summary(10, max_length=300)"
   ]
  },
  {
   "cell_type": "code",
   "execution_count": 41,
   "id": "9afd6d22-db2f-4fa1-abfa-a4e462c1228b",
   "metadata": {},
   "outputs": [
    {
     "data": {
      "text/html": [
       "\n",
       "  <style>\n",
       "    pre {\n",
       "        white-space: pre-wrap;\n",
       "    }\n",
       "  </style>\n",
       "  "
      ],
      "text/plain": [
       "<IPython.core.display.HTML object>"
      ]
     },
     "metadata": {},
     "output_type": "display_data"
    },
    {
     "name": "stderr",
     "output_type": "stream",
     "text": [
      "huggingface/tokenizers: The current process just got forked, after parallelism has already been used. Disabling parallelism to avoid deadlocks...\n",
      "To disable this warning, you can either:\n",
      "\t- Avoid using `tokenizers` before the fork if possible\n",
      "\t- Explicitly set the environment variable TOKENIZERS_PARALLELISM=(true | false)\n"
     ]
    },
    {
     "name": "stdout",
     "output_type": "stream",
     "text": [
      "\u001B[33mWARNING: You are using pip version 21.2.4; however, version 23.3 is available.\n",
      "You should consider upgrading via the '/Users/KENAN/Desktop/KENAN-WEBSITE/text-summarization/training/venv/bin/python3 -m pip install --upgrade pip' command.\u001B[0m\n"
     ]
    }
   ],
   "source": [
    "!pip install langdetect -q \n",
    "from langdetect import detect"
   ]
  },
  {
   "cell_type": "code",
   "execution_count": 44,
   "id": "bd7002e8-b6a0-4bbd-b8c7-7e5ad18ef5b7",
   "metadata": {},
   "outputs": [
    {
     "data": {
      "text/html": [
       "\n",
       "  <style>\n",
       "    pre {\n",
       "        white-space: pre-wrap;\n",
       "    }\n",
       "  </style>\n",
       "  "
      ],
      "text/plain": [
       "<IPython.core.display.HTML object>"
      ]
     },
     "metadata": {},
     "output_type": "display_data"
    }
   ],
   "source": [
    "def generate_summary(document, max_length=150):\n",
    "    # Détectez automatiquement la langue du document\n",
    "    language = detect(document)\n",
    "\n",
    "    # Ajustez la longueur maximale en fonction de la langue\n",
    "    if language == \"en\":\n",
    "        max_length = 300  # Longueur maximale pour l'anglais\n",
    "    elif language == \"fr\":\n",
    "        max_length = 350  # Longueur maximale pour le français\n",
    "\n",
    "    # Générer un résumé pour le document complet en fonction de la langue\n",
    "    summary = model.generate(\n",
    "        tokenizer.encode(document, return_tensors=\"pt\"),\n",
    "        max_length=max_length,\n",
    "        num_beams=5,  # Augmenter num_beams pour des résumés de meilleure qualité\n",
    "        early_stopping=True,  # Assurez-vous que la génération se termine correctement\n",
    "    )[0]\n",
    "    full_summary = tokenizer.decode(summary, skip_special_tokens=True)\n",
    "\n",
    "    return full_summary, language"
   ]
  },
  {
   "cell_type": "code",
   "execution_count": 46,
   "id": "1ff64b88-d3b8-4613-8c0b-5a93a6e0c5e6",
   "metadata": {},
   "outputs": [
    {
     "data": {
      "text/html": [
       "\n",
       "  <style>\n",
       "    pre {\n",
       "        white-space: pre-wrap;\n",
       "    }\n",
       "  </style>\n",
       "  "
      ],
      "text/plain": [
       "<IPython.core.display.HTML object>"
      ]
     },
     "metadata": {},
     "output_type": "display_data"
    },
    {
     "name": "stdout",
     "output_type": "stream",
     "text": [
      "'>>> Language: fr'\n",
      "'>>> Document: EDF et les partisans du nucléaire font de longue date la promotion du chauffage électrique. PHILIPPE HUGUEN / AFP C’est une intense bataille de lobbying qui se joue en coulisses, mais cette fois-ci, elle concerne un objet du quotidien de tous les Français : le radiateur. Ces derniers mois, les partisans de l’électrique et du gaz démultiplient leurs efforts pour tenter de convaincre les pouvoirs publics. En ligne de mire : la nouvelle réglementation environnementale, dite RE 2020, qui doit définir quel mode '\n",
      "\n",
      "'>>> Summary: Le gouvernement prépare une réglementation pour les bâtiments neufs. Partisans du tout-électrique et'\n",
      "\n",
      "'>>> Predicted - Summary: EDF et les partisans du nucléaire font de longue date la promotion du chauffage électrique.'\n"
     ]
    }
   ],
   "source": [
    "idx=3 \n",
    "document = summary_dataset[\"test\"][idx][\"document\"]\n",
    "summary = summary_dataset[\"test\"][idx][\"summary\"]\n",
    "prediction, language = generate_summary(document, max_length=100)  # Spécifiez la longueur maximale souhaitée\n",
    "print(f\"'>>> Language: {language}'\")\n",
    "print(f\"'>>> Document: {document}'\")\n",
    "print(f\"\\n'>>> Summary: {summary}'\")\n",
    "print(f\"\\n'>>> Predicted - Summary: {prediction}'\")"
   ]
  },
  {
   "cell_type": "markdown",
   "id": "e15bf0fa-7ef3-4457-bbeb-6cb282ec0727",
   "metadata": {},
   "source": [
    "#### Générer résumé en entier: "
   ]
  },
  {
   "cell_type": "code",
   "execution_count": 24,
   "id": "473a19aa-f5a3-4c87-96d1-6851fd66d1c0",
   "metadata": {},
   "outputs": [
    {
     "data": {
      "text/html": [
       "\n",
       "  <style>\n",
       "    pre {\n",
       "        white-space: pre-wrap;\n",
       "    }\n",
       "  </style>\n",
       "  "
      ],
      "text/plain": [
       "<IPython.core.display.HTML object>"
      ]
     },
     "metadata": {},
     "output_type": "display_data"
    },
    {
     "name": "stderr",
     "output_type": "stream",
     "text": [
      "huggingface/tokenizers: The current process just got forked, after parallelism has already been used. Disabling parallelism to avoid deadlocks...\n",
      "To disable this warning, you can either:\n",
      "\t- Avoid using `tokenizers` before the fork if possible\n",
      "\t- Explicitly set the environment variable TOKENIZERS_PARALLELISM=(true | false)\n"
     ]
    },
    {
     "name": "stdout",
     "output_type": "stream",
     "text": [
      "\u001B[33mWARNING: You are using pip version 21.2.4; however, version 23.3 is available.\n",
      "You should consider upgrading via the '/Users/KENAN/Desktop/KENAN-WEBSITE/text-summarization/training/venv/bin/python3 -m pip install --upgrade pip' command.\u001B[0m\n"
     ]
    }
   ],
   "source": [
    "!pip install langdetect -q "
   ]
  },
  {
   "cell_type": "code",
   "execution_count": 26,
   "id": "23ab33f1-40d6-412a-9f12-3d6f5bb36b83",
   "metadata": {},
   "outputs": [
    {
     "data": {
      "text/html": [
       "\n",
       "  <style>\n",
       "    pre {\n",
       "        white-space: pre-wrap;\n",
       "    }\n",
       "  </style>\n",
       "  "
      ],
      "text/plain": [
       "<IPython.core.display.HTML object>"
      ]
     },
     "metadata": {},
     "output_type": "display_data"
    },
    {
     "name": "stderr",
     "output_type": "stream",
     "text": [
      "Special tokens have been added in the vocabulary, make sure the associated word embeddings are fine-tuned or trained.\n"
     ]
    }
   ],
   "source": [
    "from transformers import AutoTokenizer, AutoModelForSeq2SeqLM\n",
    "import nltk\n",
    "\n",
    "# Utilisez un modèle adapté à la tâche de découpage de phrases (en anglais)\n",
    "hub_model_id = \"thekenken/mt5small-finetuned-summary-en-fr\"\n",
    "tokenizer = AutoTokenizer.from_pretrained(hub_model_id)\n",
    "model = AutoModelForSeq2SeqLM.from_pretrained(hub_model_id)"
   ]
  },
  {
   "cell_type": "code",
   "execution_count": 30,
   "id": "5ea94169-3013-4a72-bb9e-bf67faaff27d",
   "metadata": {},
   "outputs": [
    {
     "data": {
      "text/html": [
       "\n",
       "  <style>\n",
       "    pre {\n",
       "        white-space: pre-wrap;\n",
       "    }\n",
       "  </style>\n",
       "  "
      ],
      "text/plain": [
       "<IPython.core.display.HTML object>"
      ]
     },
     "metadata": {},
     "output_type": "display_data"
    },
    {
     "name": "stdout",
     "output_type": "stream",
     "text": [
      "Language:  fr\n",
      "'>>> Document: Caps (à droite), leader des G2 Esports, part favori face à Doinb de FunPlux Phoenix, une équipe chinoise sans référence au niveau international, mais sans complexe. (Riot Games) Il y a comme un petit parfum de finale d’Euro 2016 de football. Les Européens de G2 Esports contre les Chinois de FunPlus Phoenix (FPX) va-t-il devenir le France-Portugal des compétitions de jeu vidéo ? Dimanche à 13 h 30, devant les 20 000 spectateurs de l’AccorHotels Arena (Paris-Bercy) forcément acquis à la cause du dernier repré'\n",
      "\n",
      "'>>> Summary: L’équipe européenne G2 part ultrafavorite des Worlds, dont la finale doit réunir dimanche 20 000 spe'\n",
      "\n",
      "'>>> Predicted - Summary: Caps (à droite), leader des G2 Esports, part favori face à Doinb de FunPlux Phoenix, une équipe chinoise La finale d’Euro 2016 de football s’est achevée dimanche à Riot Games. Il y a comme un petit parfum de finale d Les Européens de G2 Esports contre les Chinois de FunPlus Phoenix (FPX) va-t-il devenir le France-Pol Dimanche à 13 h 30, devant les 20 000 spectateurs de l’AccorHotels Arena (Paris-Bercy) forcément acquis à'\n"
     ]
    }
   ],
   "source": [
    "from transformers import AutoTokenizer, AutoModelForSeq2SeqLM\n",
    "from langdetect import detect\n",
    "\n",
    "\n",
    "def split_text_into_sentences(text, language=\"english\"):\n",
    "    # Découpez le texte en phrases en fonction de la langue\n",
    "    if language == \"fr\": language = \"french\"\n",
    "    sentence_splitter = nltk.data.load(f'tokenizers/punkt/{language}.pickle')\n",
    "    sentences = sentence_splitter.tokenize(text)\n",
    "    return sentences\n",
    "\n",
    "def generate_summary(text, max_length=150):\n",
    "    # Détectez automatiquement la langue du texte\n",
    "    language = detect(text)\n",
    "    print(\"Language: \", language)\n",
    "\n",
    "    # Découpez le texte en phrases en fonction de la langue\n",
    "    sentences = split_text_into_sentences(text, language)\n",
    "\n",
    "    # Générer un résumé pour chaque phrase\n",
    "    summaries = []\n",
    "    for sentence in sentences:\n",
    "        summary = model.generate(\n",
    "            tokenizer.encode(sentence, return_tensors=\"pt\"),\n",
    "            max_length=max_length,\n",
    "            num_beams=5,  # Augmenter num_beams pour des résumés de meilleure qualité\n",
    "            early_stopping=True,  # Assurez-vous que la génération se termine correctement\n",
    "        )[0]\n",
    "        summaries.append(tokenizer.decode(summary, skip_special_tokens=True))\n",
    "\n",
    "    # Concaténez les résumés des phrases pour obtenir le résumé complet\n",
    "    full_summary = \" \".join(summaries)\n",
    "    return full_summary\n",
    "\n",
    "\n",
    "idx=20 \n",
    "\n",
    "document = summary_dataset[\"test\"][idx][\"document\"]\n",
    "summary = summary_dataset[\"test\"][idx][\"summary\"]\n",
    "prediction = generate_summary(document, max_length=200)  # Spécifiez la longueur maximale souhaitée\n",
    "print(f\"'>>> Document: {document}'\")\n",
    "print(f\"\\n'>>> Summary: {summary}'\")\n",
    "print(f\"\\n'>>> Predicted - Summary: {prediction}'\")"
   ]
  },
  {
   "cell_type": "markdown",
   "id": "a5b1b7df-daad-4784-803b-3bbc6438a0e1",
   "metadata": {
    "jp-MarkdownHeadingCollapsed": true
   },
   "source": [
    "## Fine-tuning with Accelerate"
   ]
  },
  {
   "cell_type": "markdown",
   "id": "7bb537f8-46e1-42f1-91b2-adfca3c29e4f",
   "metadata": {
    "jp-MarkdownHeadingCollapsed": true
   },
   "source": [
    "### Configuration"
   ]
  },
  {
   "cell_type": "code",
   "execution_count": null,
   "id": "6367379e-eb95-4200-836f-16b4e4f720fb",
   "metadata": {},
   "outputs": [],
   "source": [
    "tokenized_datasets.set_format(\"torch\")"
   ]
  },
  {
   "cell_type": "code",
   "execution_count": null,
   "id": "8fe23caa-bab6-4f05-9992-5a4a63d9b2d0",
   "metadata": {},
   "outputs": [],
   "source": [
    "from transformers import DataCollatorForSeq2Seq\n",
    "\n",
    "model = AutoModelForSeq2SeqLM.from_pretrained(model_checkpoint)\n",
    "\n",
    "data_collator = DataCollatorForSeq2Seq(tokenizer, model=model)"
   ]
  },
  {
   "cell_type": "code",
   "execution_count": null,
   "id": "7b4ba513-af65-46d9-a17c-540c15c0b132",
   "metadata": {},
   "outputs": [],
   "source": [
    "from torch.utils.data import DataLoader\n",
    "\n",
    "batch_size = 8\n",
    "train_dataloader = DataLoader(\n",
    "    tokenized_datasets[\"train\"],\n",
    "    shuffle=True,\n",
    "    collate_fn=data_collator,\n",
    "    batch_size=batch_size,\n",
    ")\n",
    "eval_dataloader = DataLoader(\n",
    "    tokenized_datasets[\"validation\"], collate_fn=data_collator, batch_size=batch_size\n",
    ")"
   ]
  },
  {
   "cell_type": "code",
   "execution_count": null,
   "id": "187e88b1-81ee-4729-9654-ec9bcac60e97",
   "metadata": {},
   "outputs": [],
   "source": [
    "from torch.optim import AdamW\n",
    "\n",
    "optimizer = AdamW(model.parameters(), lr=2e-5)"
   ]
  },
  {
   "cell_type": "code",
   "execution_count": null,
   "id": "0a66a22d-280b-4eda-8df8-da5eb8a94963",
   "metadata": {},
   "outputs": [],
   "source": [
    "from accelerate import Accelerator\n",
    "\n",
    "accelerator = Accelerator()\n",
    "model, optimizer, train_dataloader, eval_dataloader = accelerator.prepare(\n",
    "    model, optimizer, train_dataloader, eval_dataloader\n",
    ")"
   ]
  },
  {
   "cell_type": "code",
   "execution_count": null,
   "id": "0dfed932-8ed6-4528-854d-2fa04e08c2a1",
   "metadata": {},
   "outputs": [],
   "source": [
    "from transformers import get_scheduler\n",
    "\n",
    "num_train_epochs = 10\n",
    "num_update_steps_per_epoch = len(train_dataloader)\n",
    "num_training_steps = num_train_epochs * num_update_steps_per_epoch\n",
    "\n",
    "lr_scheduler = get_scheduler(\n",
    "    \"linear\",\n",
    "    optimizer=optimizer,\n",
    "    num_warmup_steps=0,\n",
    "    num_training_steps=num_training_steps,\n",
    ")"
   ]
  },
  {
   "cell_type": "code",
   "execution_count": null,
   "id": "e32df588-a126-4c62-b276-6620123e8d11",
   "metadata": {},
   "outputs": [],
   "source": [
    "def postprocess_text(preds, labels):\n",
    "    preds = [pred.strip() for pred in preds]\n",
    "    labels = [label.strip() for label in labels]\n",
    "\n",
    "    # ROUGE expects a newline after each sentence\n",
    "    preds = [\"\\n\".join(nltk.sent_tokenize(pred)) for pred in preds]\n",
    "    labels = [\"\\n\".join(nltk.sent_tokenize(label)) for label in labels]\n",
    "\n",
    "    return preds, labels"
   ]
  },
  {
   "cell_type": "code",
   "execution_count": null,
   "id": "f607417d-3751-4a65-ba87-ffa4c8d2c03e",
   "metadata": {},
   "outputs": [],
   "source": [
    "from huggingface_hub import get_full_repo_name\n",
    "\n",
    "model_name = \"mt5-small-summary-en-fr-accelerate\"\n",
    "repo_name = get_full_repo_name(model_name)\n",
    "repo_name"
   ]
  },
  {
   "cell_type": "code",
   "execution_count": null,
   "id": "c6e36e0f-30be-4ee6-8123-372d9e9863a2",
   "metadata": {},
   "outputs": [],
   "source": [
    "from huggingface_hub import Repository\n",
    "\n",
    "output_dir = \"results-mt5-finetuned-squad-accelerate\"\n",
    "repo = Repository(output_dir, clone_from=repo_name)"
   ]
  },
  {
   "cell_type": "markdown",
   "id": "5b90da5f-43b8-45ab-9acb-1fdb2dfc8ede",
   "metadata": {
    "jp-MarkdownHeadingCollapsed": true
   },
   "source": [
    "### Training loop\n",
    "\n",
    "The training loop for summarization is quite similar to the other 🤗 Accelerate examples that we’ve encountered and is roughly split into four main steps:\n",
    "\n",
    "1. Train the model by iterating over all the examples in train_dataloader for each epoch.\n",
    "2. Generate model summaries at the end of each epoch, by first generating the tokens and then decoding them (and the reference summaries) into text.\n",
    "3. Compute the ROUGE scores using the same techniques we saw earlier.\n",
    "4. Save the checkpoints and push everything to the Hub. Here we rely on the nifty blocking=False argument of the Repository object so that we can push the checkpoints per epoch asynchronously. This allows us to continue training without having to wait for the somewhat slow upload associated with a GB-sized model!\n"
   ]
  },
  {
   "cell_type": "code",
   "execution_count": null,
   "id": "494d1afe-8744-4e35-ba68-83d875f32b08",
   "metadata": {},
   "outputs": [],
   "source": [
    "from tqdm.auto import tqdm\n",
    "import torch\n",
    "import numpy as np\n",
    "\n",
    "progress_bar = tqdm(range(num_training_steps))\n",
    "\n",
    "for epoch in range(num_train_epochs):\n",
    "    # Training\n",
    "    model.train()\n",
    "    for step, batch in enumerate(train_dataloader):\n",
    "        outputs = model(**batch)\n",
    "        loss = outputs.loss\n",
    "        accelerator.backward(loss)\n",
    "\n",
    "        optimizer.step()\n",
    "        lr_scheduler.step()\n",
    "        optimizer.zero_grad()\n",
    "        progress_bar.update(1)\n",
    "\n",
    "    # Evaluation\n",
    "    model.eval()\n",
    "    for step, batch in enumerate(eval_dataloader):\n",
    "        with torch.no_grad():\n",
    "            generated_tokens = accelerator.unwrap_model(model).generate(\n",
    "                batch[\"input_ids\"],\n",
    "                attention_mask=batch[\"attention_mask\"],\n",
    "            )\n",
    "\n",
    "            generated_tokens = accelerator.pad_across_processes(\n",
    "                generated_tokens, dim=1, pad_index=tokenizer.pad_token_id\n",
    "            )\n",
    "            labels = batch[\"labels\"]\n",
    "\n",
    "            # If we did not pad to max length, we need to pad the labels too\n",
    "            labels = accelerator.pad_across_processes(\n",
    "                batch[\"labels\"], dim=1, pad_index=tokenizer.pad_token_id\n",
    "            )\n",
    "\n",
    "            generated_tokens = accelerator.gather(generated_tokens).cpu().numpy()\n",
    "            labels = accelerator.gather(labels).cpu().numpy()\n",
    "\n",
    "            # Replace -100 in the labels as we can't decode them\n",
    "            labels = np.where(labels != -100, labels, tokenizer.pad_token_id)\n",
    "            if isinstance(generated_tokens, tuple):\n",
    "                generated_tokens = generated_tokens[0]\n",
    "            decoded_preds = tokenizer.batch_decode(\n",
    "                generated_tokens, skip_special_tokens=True\n",
    "            )\n",
    "            decoded_labels = tokenizer.batch_decode(labels, skip_special_tokens=True)\n",
    "\n",
    "            decoded_preds, decoded_labels = postprocess_text(\n",
    "                decoded_preds, decoded_labels\n",
    "            )\n",
    "\n",
    "            rouge_score.add_batch(predictions=decoded_preds, references=decoded_labels)\n",
    "\n",
    "    # Compute metrics\n",
    "    result = rouge_score.compute()\n",
    "    # Extract the median ROUGE scores\n",
    "    result = {key: value.mid.fmeasure * 100 for key, value in result.items()}\n",
    "    result = {k: round(v, 4) for k, v in result.items()}\n",
    "    print(f\"Epoch {epoch}:\", result)\n",
    "\n",
    "    # Save and upload\n",
    "    accelerator.wait_for_everyone()\n",
    "    unwrapped_model = accelerator.unwrap_model(model)\n",
    "    unwrapped_model.save_pretrained(output_dir, save_function=accelerator.save)\n",
    "    if accelerator.is_main_process:\n",
    "        tokenizer.save_pretrained(output_dir)\n",
    "        repo.push_to_hub(\n",
    "            commit_message=f\"Training in progress epoch {epoch}\", blocking=False\n",
    "        )"
   ]
  },
  {
   "cell_type": "code",
   "execution_count": null,
   "id": "494dfbb2-1a30-4c12-956b-f2ece39c67d7",
   "metadata": {},
   "outputs": [],
   "source": []
  },
  {
   "cell_type": "markdown",
   "id": "4700bf79-6b36-4285-a313-30a3fbfc982e",
   "metadata": {
    "jp-MarkdownHeadingCollapsed": true
   },
   "source": [
    "### Using my fine-tuned model "
   ]
  },
  {
   "cell_type": "code",
   "execution_count": null,
   "id": "61f7fffb-12b4-4412-b6c2-b99f0bd89bb4",
   "metadata": {},
   "outputs": [],
   "source": [
    "from transformers import pipeline\n",
    "\n",
    "hub_model_id = \"thekenken/mt5-finetuned-summary-en-fr-accelerate\"\n",
    "summarizer = pipeline(\"summarization\", model=hub_model_id)"
   ]
  },
  {
   "cell_type": "code",
   "execution_count": null,
   "id": "552aa572-cd01-4749-bc21-009cf33654e6",
   "metadata": {},
   "outputs": [],
   "source": [
    "def print_summary(idx):\n",
    "    document = summary_dataset[\"test\"][idx][\"document\"]\n",
    "    summary = summary_dataset[\"test\"][idx][\"summary\"]\n",
    "    prediction = summarizer(summary_dataset[\"test\"][idx][\"document\"])[0][\"summary_text\"]\n",
    "    print(f\"'>>> Document: {document}'\")\n",
    "    print(f\"\\n'>>> Summary: {summary}'\")\n",
    "    print(f\"\\n'>>> Predicted - Summary: {prediction}'\")"
   ]
  },
  {
   "cell_type": "code",
   "execution_count": null,
   "id": "51dd9681-3b1e-49e6-8f82-12d27ddc16b6",
   "metadata": {},
   "outputs": [],
   "source": [
    "print_summary(100)"
   ]
  }
 ],
 "metadata": {
  "colab": {
   "provenance": []
  },
  "kernelspec": {
   "display_name": "Python 3 (ipykernel)",
   "language": "python",
   "name": "python3"
  },
  "language_info": {
   "codemirror_mode": {
    "name": "ipython",
    "version": 3
   },
   "file_extension": ".py",
   "mimetype": "text/x-python",
   "name": "python",
   "nbconvert_exporter": "python",
   "pygments_lexer": "ipython3",
   "version": "3.10.9"
  },
  "widgets": {
   "application/vnd.jupyter.widget-state+json": {
    "02e07a0750f04c3ebccd6a9ead28c870": {
     "model_module": "@jupyter-widgets/controls",
     "model_module_version": "1.5.0",
     "model_name": "FloatProgressModel",
     "state": {
      "_dom_classes": [],
      "_model_module": "@jupyter-widgets/controls",
      "_model_module_version": "1.5.0",
      "_model_name": "FloatProgressModel",
      "_view_count": null,
      "_view_module": "@jupyter-widgets/controls",
      "_view_module_version": "1.5.0",
      "_view_name": "ProgressView",
      "bar_style": "success",
      "description": "",
      "description_tooltip": null,
      "layout": "IPY_MODEL_24dc155c7bcc434db5e0788da8867e86",
      "max": 553,
      "min": 0,
      "orientation": "horizontal",
      "style": "IPY_MODEL_52233297776b4c0cb3969972b07a639e",
      "value": 553
     }
    },
    "05d44178f4e5460bbf6317e25c103c79": {
     "model_module": "@jupyter-widgets/controls",
     "model_module_version": "1.5.0",
     "model_name": "DescriptionStyleModel",
     "state": {
      "_model_module": "@jupyter-widgets/controls",
      "_model_module_version": "1.5.0",
      "_model_name": "DescriptionStyleModel",
      "_view_count": null,
      "_view_module": "@jupyter-widgets/base",
      "_view_module_version": "1.2.0",
      "_view_name": "StyleView",
      "description_width": ""
     }
    },
    "06c2b0309d2f46998049af0ab3ba192c": {
     "model_module": "@jupyter-widgets/base",
     "model_module_version": "1.2.0",
     "model_name": "LayoutModel",
     "state": {
      "_model_module": "@jupyter-widgets/base",
      "_model_module_version": "1.2.0",
      "_model_name": "LayoutModel",
      "_view_count": null,
      "_view_module": "@jupyter-widgets/base",
      "_view_module_version": "1.2.0",
      "_view_name": "LayoutView",
      "align_content": null,
      "align_items": null,
      "align_self": null,
      "border": null,
      "bottom": null,
      "display": null,
      "flex": null,
      "flex_flow": null,
      "grid_area": null,
      "grid_auto_columns": null,
      "grid_auto_flow": null,
      "grid_auto_rows": null,
      "grid_column": null,
      "grid_gap": null,
      "grid_row": null,
      "grid_template_areas": null,
      "grid_template_columns": null,
      "grid_template_rows": null,
      "height": null,
      "justify_content": null,
      "justify_items": null,
      "left": null,
      "margin": null,
      "max_height": null,
      "max_width": null,
      "min_height": null,
      "min_width": null,
      "object_fit": null,
      "object_position": null,
      "order": null,
      "overflow": null,
      "overflow_x": null,
      "overflow_y": null,
      "padding": null,
      "right": null,
      "top": null,
      "visibility": null,
      "width": null
     }
    },
    "08252a13df05474997457e4c14846f04": {
     "model_module": "@jupyter-widgets/controls",
     "model_module_version": "1.5.0",
     "model_name": "HTMLModel",
     "state": {
      "_dom_classes": [],
      "_model_module": "@jupyter-widgets/controls",
      "_model_module_version": "1.5.0",
      "_model_name": "HTMLModel",
      "_view_count": null,
      "_view_module": "@jupyter-widgets/controls",
      "_view_module_version": "1.5.0",
      "_view_name": "HTMLView",
      "description": "",
      "description_tooltip": null,
      "layout": "IPY_MODEL_37fc8713fce446a3baf1699704916dea",
      "placeholder": "​",
      "style": "IPY_MODEL_47fa320d905340fd9da595243235320d",
      "value": " 82.0/82.0 [00:00&lt;00:00, 3.67kB/s]"
     }
    },
    "09928e223fb84beabe9c0235f1188e92": {
     "model_module": "@jupyter-widgets/controls",
     "model_module_version": "1.5.0",
     "model_name": "DescriptionStyleModel",
     "state": {
      "_model_module": "@jupyter-widgets/controls",
      "_model_module_version": "1.5.0",
      "_model_name": "DescriptionStyleModel",
      "_view_count": null,
      "_view_module": "@jupyter-widgets/base",
      "_view_module_version": "1.2.0",
      "_view_name": "StyleView",
      "description_width": ""
     }
    },
    "09ebb0c4203447ecb06376d5220cdd5e": {
     "model_module": "@jupyter-widgets/controls",
     "model_module_version": "1.5.0",
     "model_name": "HTMLModel",
     "state": {
      "_dom_classes": [],
      "_model_module": "@jupyter-widgets/controls",
      "_model_module_version": "1.5.0",
      "_model_name": "HTMLModel",
      "_view_count": null,
      "_view_module": "@jupyter-widgets/controls",
      "_view_module_version": "1.5.0",
      "_view_name": "HTMLView",
      "description": "",
      "description_tooltip": null,
      "layout": "IPY_MODEL_339c3aa6771945f49222b10fa5b1bab0",
      "placeholder": "​",
      "style": "IPY_MODEL_67b8fafed33d4ed9a265aadb53150671",
      "value": "Map: 100%"
     }
    },
    "0ada71735e1041a89a7202fdc34d3aa8": {
     "model_module": "@jupyter-widgets/base",
     "model_module_version": "1.2.0",
     "model_name": "LayoutModel",
     "state": {
      "_model_module": "@jupyter-widgets/base",
      "_model_module_version": "1.2.0",
      "_model_name": "LayoutModel",
      "_view_count": null,
      "_view_module": "@jupyter-widgets/base",
      "_view_module_version": "1.2.0",
      "_view_name": "LayoutView",
      "align_content": null,
      "align_items": null,
      "align_self": null,
      "border": null,
      "bottom": null,
      "display": null,
      "flex": null,
      "flex_flow": null,
      "grid_area": null,
      "grid_auto_columns": null,
      "grid_auto_flow": null,
      "grid_auto_rows": null,
      "grid_column": null,
      "grid_gap": null,
      "grid_row": null,
      "grid_template_areas": null,
      "grid_template_columns": null,
      "grid_template_rows": null,
      "height": null,
      "justify_content": null,
      "justify_items": null,
      "left": null,
      "margin": null,
      "max_height": null,
      "max_width": null,
      "min_height": null,
      "min_width": null,
      "object_fit": null,
      "object_position": null,
      "order": null,
      "overflow": null,
      "overflow_x": null,
      "overflow_y": null,
      "padding": null,
      "right": null,
      "top": null,
      "visibility": null,
      "width": null
     }
    },
    "0bd5fa8c07c541be8c4a98634a5877b6": {
     "model_module": "@jupyter-widgets/controls",
     "model_module_version": "1.5.0",
     "model_name": "DescriptionStyleModel",
     "state": {
      "_model_module": "@jupyter-widgets/controls",
      "_model_module_version": "1.5.0",
      "_model_name": "DescriptionStyleModel",
      "_view_count": null,
      "_view_module": "@jupyter-widgets/base",
      "_view_module_version": "1.2.0",
      "_view_name": "StyleView",
      "description_width": ""
     }
    },
    "0c739c4c979e403186410eb6d91603bd": {
     "model_module": "@jupyter-widgets/controls",
     "model_module_version": "1.5.0",
     "model_name": "DescriptionStyleModel",
     "state": {
      "_model_module": "@jupyter-widgets/controls",
      "_model_module_version": "1.5.0",
      "_model_name": "DescriptionStyleModel",
      "_view_count": null,
      "_view_module": "@jupyter-widgets/base",
      "_view_module_version": "1.2.0",
      "_view_name": "StyleView",
      "description_width": ""
     }
    },
    "10e6b37fc83142e2912124a1c530d4c8": {
     "model_module": "@jupyter-widgets/controls",
     "model_module_version": "1.5.0",
     "model_name": "PasswordModel",
     "state": {
      "_dom_classes": [],
      "_model_module": "@jupyter-widgets/controls",
      "_model_module_version": "1.5.0",
      "_model_name": "PasswordModel",
      "_view_count": null,
      "_view_module": "@jupyter-widgets/controls",
      "_view_module_version": "1.5.0",
      "_view_name": "PasswordView",
      "continuous_update": true,
      "description": "Token:",
      "description_tooltip": null,
      "disabled": false,
      "layout": "IPY_MODEL_c96f705b9c554b469968a5d1e31123c4",
      "placeholder": "​",
      "style": "IPY_MODEL_0bd5fa8c07c541be8c4a98634a5877b6",
      "value": ""
     }
    },
    "1337e93a73954313b08f6eceecfddc9d": {
     "model_module": "@jupyter-widgets/controls",
     "model_module_version": "1.5.0",
     "model_name": "HBoxModel",
     "state": {
      "_dom_classes": [],
      "_model_module": "@jupyter-widgets/controls",
      "_model_module_version": "1.5.0",
      "_model_name": "HBoxModel",
      "_view_count": null,
      "_view_module": "@jupyter-widgets/controls",
      "_view_module_version": "1.5.0",
      "_view_name": "HBoxView",
      "box_style": "",
      "children": [
       "IPY_MODEL_1c8f74e1f3e24759b6c8d725245d89dc",
       "IPY_MODEL_e8c79852f4ba47de9d76f38ad88ec9a2",
       "IPY_MODEL_08252a13df05474997457e4c14846f04"
      ],
      "layout": "IPY_MODEL_fdf73849c13f47c6976ac6e450fa145c"
     }
    },
    "1504a86490cf48bd865a7a3bb6b611d7": {
     "model_module": "@jupyter-widgets/controls",
     "model_module_version": "1.5.0",
     "model_name": "DescriptionStyleModel",
     "state": {
      "_model_module": "@jupyter-widgets/controls",
      "_model_module_version": "1.5.0",
      "_model_name": "DescriptionStyleModel",
      "_view_count": null,
      "_view_module": "@jupyter-widgets/base",
      "_view_module_version": "1.2.0",
      "_view_name": "StyleView",
      "description_width": ""
     }
    },
    "163a6a0b557e4a1784771e897337f92a": {
     "model_module": "@jupyter-widgets/base",
     "model_module_version": "1.2.0",
     "model_name": "LayoutModel",
     "state": {
      "_model_module": "@jupyter-widgets/base",
      "_model_module_version": "1.2.0",
      "_model_name": "LayoutModel",
      "_view_count": null,
      "_view_module": "@jupyter-widgets/base",
      "_view_module_version": "1.2.0",
      "_view_name": "LayoutView",
      "align_content": null,
      "align_items": null,
      "align_self": null,
      "border": null,
      "bottom": null,
      "display": null,
      "flex": null,
      "flex_flow": null,
      "grid_area": null,
      "grid_auto_columns": null,
      "grid_auto_flow": null,
      "grid_auto_rows": null,
      "grid_column": null,
      "grid_gap": null,
      "grid_row": null,
      "grid_template_areas": null,
      "grid_template_columns": null,
      "grid_template_rows": null,
      "height": null,
      "justify_content": null,
      "justify_items": null,
      "left": null,
      "margin": null,
      "max_height": null,
      "max_width": null,
      "min_height": null,
      "min_width": null,
      "object_fit": null,
      "object_position": null,
      "order": null,
      "overflow": null,
      "overflow_x": null,
      "overflow_y": null,
      "padding": null,
      "right": null,
      "top": null,
      "visibility": null,
      "width": null
     }
    },
    "18102f93b5ae4135850118d0da6a0a25": {
     "model_module": "@jupyter-widgets/controls",
     "model_module_version": "1.5.0",
     "model_name": "HBoxModel",
     "state": {
      "_dom_classes": [],
      "_model_module": "@jupyter-widgets/controls",
      "_model_module_version": "1.5.0",
      "_model_name": "HBoxModel",
      "_view_count": null,
      "_view_module": "@jupyter-widgets/controls",
      "_view_module_version": "1.5.0",
      "_view_name": "HBoxView",
      "box_style": "",
      "children": [
       "IPY_MODEL_d07b7ee40bc242fd808e37642363c94b",
       "IPY_MODEL_76b7c5acf196444e9cb18f8d5f00d99c",
       "IPY_MODEL_25bd364d7d944155ba5cb0211b2e79a2"
      ],
      "layout": "IPY_MODEL_a285ace7a9fa4f46be8d64b51788731b"
     }
    },
    "1a064b30aced4b4183ac572c8b5ec52e": {
     "model_module": "@jupyter-widgets/controls",
     "model_module_version": "1.5.0",
     "model_name": "DescriptionStyleModel",
     "state": {
      "_model_module": "@jupyter-widgets/controls",
      "_model_module_version": "1.5.0",
      "_model_name": "DescriptionStyleModel",
      "_view_count": null,
      "_view_module": "@jupyter-widgets/base",
      "_view_module_version": "1.2.0",
      "_view_name": "StyleView",
      "description_width": ""
     }
    },
    "1c8b34dade60490baa8ce235704299f3": {
     "model_module": "@jupyter-widgets/controls",
     "model_module_version": "1.5.0",
     "model_name": "DescriptionStyleModel",
     "state": {
      "_model_module": "@jupyter-widgets/controls",
      "_model_module_version": "1.5.0",
      "_model_name": "DescriptionStyleModel",
      "_view_count": null,
      "_view_module": "@jupyter-widgets/base",
      "_view_module_version": "1.2.0",
      "_view_name": "StyleView",
      "description_width": ""
     }
    },
    "1c8f74e1f3e24759b6c8d725245d89dc": {
     "model_module": "@jupyter-widgets/controls",
     "model_module_version": "1.5.0",
     "model_name": "HTMLModel",
     "state": {
      "_dom_classes": [],
      "_model_module": "@jupyter-widgets/controls",
      "_model_module_version": "1.5.0",
      "_model_name": "HTMLModel",
      "_view_count": null,
      "_view_module": "@jupyter-widgets/controls",
      "_view_module_version": "1.5.0",
      "_view_name": "HTMLView",
      "description": "",
      "description_tooltip": null,
      "layout": "IPY_MODEL_f555aa2758c641969493afd5f2209d37",
      "placeholder": "​",
      "style": "IPY_MODEL_3f91ed1c05be47b8a6f4217bd93fc7d3",
      "value": "Downloading (…)okenizer_config.json: 100%"
     }
    },
    "1d5f79e1eb4c4067b99675c509df44f2": {
     "model_module": "@jupyter-widgets/controls",
     "model_module_version": "1.5.0",
     "model_name": "DescriptionStyleModel",
     "state": {
      "_model_module": "@jupyter-widgets/controls",
      "_model_module_version": "1.5.0",
      "_model_name": "DescriptionStyleModel",
      "_view_count": null,
      "_view_module": "@jupyter-widgets/base",
      "_view_module_version": "1.2.0",
      "_view_name": "StyleView",
      "description_width": ""
     }
    },
    "1eea825175df47f68ee84e19b5cce6d8": {
     "model_module": "@jupyter-widgets/base",
     "model_module_version": "1.2.0",
     "model_name": "LayoutModel",
     "state": {
      "_model_module": "@jupyter-widgets/base",
      "_model_module_version": "1.2.0",
      "_model_name": "LayoutModel",
      "_view_count": null,
      "_view_module": "@jupyter-widgets/base",
      "_view_module_version": "1.2.0",
      "_view_name": "LayoutView",
      "align_content": null,
      "align_items": null,
      "align_self": null,
      "border": null,
      "bottom": null,
      "display": null,
      "flex": null,
      "flex_flow": null,
      "grid_area": null,
      "grid_auto_columns": null,
      "grid_auto_flow": null,
      "grid_auto_rows": null,
      "grid_column": null,
      "grid_gap": null,
      "grid_row": null,
      "grid_template_areas": null,
      "grid_template_columns": null,
      "grid_template_rows": null,
      "height": null,
      "justify_content": null,
      "justify_items": null,
      "left": null,
      "margin": null,
      "max_height": null,
      "max_width": null,
      "min_height": null,
      "min_width": null,
      "object_fit": null,
      "object_position": null,
      "order": null,
      "overflow": null,
      "overflow_x": null,
      "overflow_y": null,
      "padding": null,
      "right": null,
      "top": null,
      "visibility": null,
      "width": null
     }
    },
    "20719e8fbf264a37926455cbe156c598": {
     "model_module": "@jupyter-widgets/base",
     "model_module_version": "1.2.0",
     "model_name": "LayoutModel",
     "state": {
      "_model_module": "@jupyter-widgets/base",
      "_model_module_version": "1.2.0",
      "_model_name": "LayoutModel",
      "_view_count": null,
      "_view_module": "@jupyter-widgets/base",
      "_view_module_version": "1.2.0",
      "_view_name": "LayoutView",
      "align_content": null,
      "align_items": null,
      "align_self": null,
      "border": null,
      "bottom": null,
      "display": null,
      "flex": null,
      "flex_flow": null,
      "grid_area": null,
      "grid_auto_columns": null,
      "grid_auto_flow": null,
      "grid_auto_rows": null,
      "grid_column": null,
      "grid_gap": null,
      "grid_row": null,
      "grid_template_areas": null,
      "grid_template_columns": null,
      "grid_template_rows": null,
      "height": null,
      "justify_content": null,
      "justify_items": null,
      "left": null,
      "margin": null,
      "max_height": null,
      "max_width": null,
      "min_height": null,
      "min_width": null,
      "object_fit": null,
      "object_position": null,
      "order": null,
      "overflow": null,
      "overflow_x": null,
      "overflow_y": null,
      "padding": null,
      "right": null,
      "top": null,
      "visibility": null,
      "width": null
     }
    },
    "21145d7667c44df28b8c37fdbece489e": {
     "model_module": "@jupyter-widgets/controls",
     "model_module_version": "1.5.0",
     "model_name": "LabelModel",
     "state": {
      "_dom_classes": [],
      "_model_module": "@jupyter-widgets/controls",
      "_model_module_version": "1.5.0",
      "_model_name": "LabelModel",
      "_view_count": null,
      "_view_module": "@jupyter-widgets/controls",
      "_view_module_version": "1.5.0",
      "_view_name": "LabelView",
      "description": "",
      "description_tooltip": null,
      "layout": "IPY_MODEL_29b9eca4903040639d1aa2eaf5c8f0ab",
      "placeholder": "​",
      "style": "IPY_MODEL_09928e223fb84beabe9c0235f1188e92",
      "value": "Login successful"
     }
    },
    "21be6a3b625e4ccfa46321dd5bc51e77": {
     "model_module": "@jupyter-widgets/controls",
     "model_module_version": "1.5.0",
     "model_name": "FloatProgressModel",
     "state": {
      "_dom_classes": [],
      "_model_module": "@jupyter-widgets/controls",
      "_model_module_version": "1.5.0",
      "_model_name": "FloatProgressModel",
      "_view_count": null,
      "_view_module": "@jupyter-widgets/controls",
      "_view_module_version": "1.5.0",
      "_view_name": "ProgressView",
      "bar_style": "success",
      "description": "",
      "description_tooltip": null,
      "layout": "IPY_MODEL_3918a764e80047c88da6d907da82f820",
      "max": 27162,
      "min": 0,
      "orientation": "horizontal",
      "style": "IPY_MODEL_4194a1c7475c46049250ab7b8b9a367d",
      "value": 27162
     }
    },
    "24dc155c7bcc434db5e0788da8867e86": {
     "model_module": "@jupyter-widgets/base",
     "model_module_version": "1.2.0",
     "model_name": "LayoutModel",
     "state": {
      "_model_module": "@jupyter-widgets/base",
      "_model_module_version": "1.2.0",
      "_model_name": "LayoutModel",
      "_view_count": null,
      "_view_module": "@jupyter-widgets/base",
      "_view_module_version": "1.2.0",
      "_view_name": "LayoutView",
      "align_content": null,
      "align_items": null,
      "align_self": null,
      "border": null,
      "bottom": null,
      "display": null,
      "flex": null,
      "flex_flow": null,
      "grid_area": null,
      "grid_auto_columns": null,
      "grid_auto_flow": null,
      "grid_auto_rows": null,
      "grid_column": null,
      "grid_gap": null,
      "grid_row": null,
      "grid_template_areas": null,
      "grid_template_columns": null,
      "grid_template_rows": null,
      "height": null,
      "justify_content": null,
      "justify_items": null,
      "left": null,
      "margin": null,
      "max_height": null,
      "max_width": null,
      "min_height": null,
      "min_width": null,
      "object_fit": null,
      "object_position": null,
      "order": null,
      "overflow": null,
      "overflow_x": null,
      "overflow_y": null,
      "padding": null,
      "right": null,
      "top": null,
      "visibility": null,
      "width": null
     }
    },
    "25bd364d7d944155ba5cb0211b2e79a2": {
     "model_module": "@jupyter-widgets/controls",
     "model_module_version": "1.5.0",
     "model_name": "HTMLModel",
     "state": {
      "_dom_classes": [],
      "_model_module": "@jupyter-widgets/controls",
      "_model_module_version": "1.5.0",
      "_model_name": "HTMLModel",
      "_view_count": null,
      "_view_module": "@jupyter-widgets/controls",
      "_view_module_version": "1.5.0",
      "_view_name": "HTMLView",
      "description": "",
      "description_tooltip": null,
      "layout": "IPY_MODEL_6f8c5e1ae0e5428db54562e2d03082ac",
      "placeholder": "​",
      "style": "IPY_MODEL_1d5f79e1eb4c4067b99675c509df44f2",
      "value": " 1.20G/1.20G [00:25&lt;00:00, 47.2MB/s]"
     }
    },
    "29b9eca4903040639d1aa2eaf5c8f0ab": {
     "model_module": "@jupyter-widgets/base",
     "model_module_version": "1.2.0",
     "model_name": "LayoutModel",
     "state": {
      "_model_module": "@jupyter-widgets/base",
      "_model_module_version": "1.2.0",
      "_model_name": "LayoutModel",
      "_view_count": null,
      "_view_module": "@jupyter-widgets/base",
      "_view_module_version": "1.2.0",
      "_view_name": "LayoutView",
      "align_content": null,
      "align_items": null,
      "align_self": null,
      "border": null,
      "bottom": null,
      "display": null,
      "flex": null,
      "flex_flow": null,
      "grid_area": null,
      "grid_auto_columns": null,
      "grid_auto_flow": null,
      "grid_auto_rows": null,
      "grid_column": null,
      "grid_gap": null,
      "grid_row": null,
      "grid_template_areas": null,
      "grid_template_columns": null,
      "grid_template_rows": null,
      "height": null,
      "justify_content": null,
      "justify_items": null,
      "left": null,
      "margin": null,
      "max_height": null,
      "max_width": null,
      "min_height": null,
      "min_width": null,
      "object_fit": null,
      "object_position": null,
      "order": null,
      "overflow": null,
      "overflow_x": null,
      "overflow_y": null,
      "padding": null,
      "right": null,
      "top": null,
      "visibility": null,
      "width": null
     }
    },
    "339c3aa6771945f49222b10fa5b1bab0": {
     "model_module": "@jupyter-widgets/base",
     "model_module_version": "1.2.0",
     "model_name": "LayoutModel",
     "state": {
      "_model_module": "@jupyter-widgets/base",
      "_model_module_version": "1.2.0",
      "_model_name": "LayoutModel",
      "_view_count": null,
      "_view_module": "@jupyter-widgets/base",
      "_view_module_version": "1.2.0",
      "_view_name": "LayoutView",
      "align_content": null,
      "align_items": null,
      "align_self": null,
      "border": null,
      "bottom": null,
      "display": null,
      "flex": null,
      "flex_flow": null,
      "grid_area": null,
      "grid_auto_columns": null,
      "grid_auto_flow": null,
      "grid_auto_rows": null,
      "grid_column": null,
      "grid_gap": null,
      "grid_row": null,
      "grid_template_areas": null,
      "grid_template_columns": null,
      "grid_template_rows": null,
      "height": null,
      "justify_content": null,
      "justify_items": null,
      "left": null,
      "margin": null,
      "max_height": null,
      "max_width": null,
      "min_height": null,
      "min_width": null,
      "object_fit": null,
      "object_position": null,
      "order": null,
      "overflow": null,
      "overflow_x": null,
      "overflow_y": null,
      "padding": null,
      "right": null,
      "top": null,
      "visibility": null,
      "width": null
     }
    },
    "3693c4c6b830423390f370f8eb166c34": {
     "model_module": "@jupyter-widgets/controls",
     "model_module_version": "1.5.0",
     "model_name": "DescriptionStyleModel",
     "state": {
      "_model_module": "@jupyter-widgets/controls",
      "_model_module_version": "1.5.0",
      "_model_name": "DescriptionStyleModel",
      "_view_count": null,
      "_view_module": "@jupyter-widgets/base",
      "_view_module_version": "1.2.0",
      "_view_name": "StyleView",
      "description_width": ""
     }
    },
    "37fc8713fce446a3baf1699704916dea": {
     "model_module": "@jupyter-widgets/base",
     "model_module_version": "1.2.0",
     "model_name": "LayoutModel",
     "state": {
      "_model_module": "@jupyter-widgets/base",
      "_model_module_version": "1.2.0",
      "_model_name": "LayoutModel",
      "_view_count": null,
      "_view_module": "@jupyter-widgets/base",
      "_view_module_version": "1.2.0",
      "_view_name": "LayoutView",
      "align_content": null,
      "align_items": null,
      "align_self": null,
      "border": null,
      "bottom": null,
      "display": null,
      "flex": null,
      "flex_flow": null,
      "grid_area": null,
      "grid_auto_columns": null,
      "grid_auto_flow": null,
      "grid_auto_rows": null,
      "grid_column": null,
      "grid_gap": null,
      "grid_row": null,
      "grid_template_areas": null,
      "grid_template_columns": null,
      "grid_template_rows": null,
      "height": null,
      "justify_content": null,
      "justify_items": null,
      "left": null,
      "margin": null,
      "max_height": null,
      "max_width": null,
      "min_height": null,
      "min_width": null,
      "object_fit": null,
      "object_position": null,
      "order": null,
      "overflow": null,
      "overflow_x": null,
      "overflow_y": null,
      "padding": null,
      "right": null,
      "top": null,
      "visibility": null,
      "width": null
     }
    },
    "3918a764e80047c88da6d907da82f820": {
     "model_module": "@jupyter-widgets/base",
     "model_module_version": "1.2.0",
     "model_name": "LayoutModel",
     "state": {
      "_model_module": "@jupyter-widgets/base",
      "_model_module_version": "1.2.0",
      "_model_name": "LayoutModel",
      "_view_count": null,
      "_view_module": "@jupyter-widgets/base",
      "_view_module_version": "1.2.0",
      "_view_name": "LayoutView",
      "align_content": null,
      "align_items": null,
      "align_self": null,
      "border": null,
      "bottom": null,
      "display": null,
      "flex": null,
      "flex_flow": null,
      "grid_area": null,
      "grid_auto_columns": null,
      "grid_auto_flow": null,
      "grid_auto_rows": null,
      "grid_column": null,
      "grid_gap": null,
      "grid_row": null,
      "grid_template_areas": null,
      "grid_template_columns": null,
      "grid_template_rows": null,
      "height": null,
      "justify_content": null,
      "justify_items": null,
      "left": null,
      "margin": null,
      "max_height": null,
      "max_width": null,
      "min_height": null,
      "min_width": null,
      "object_fit": null,
      "object_position": null,
      "order": null,
      "overflow": null,
      "overflow_x": null,
      "overflow_y": null,
      "padding": null,
      "right": null,
      "top": null,
      "visibility": null,
      "width": null
     }
    },
    "3f91ed1c05be47b8a6f4217bd93fc7d3": {
     "model_module": "@jupyter-widgets/controls",
     "model_module_version": "1.5.0",
     "model_name": "DescriptionStyleModel",
     "state": {
      "_model_module": "@jupyter-widgets/controls",
      "_model_module_version": "1.5.0",
      "_model_name": "DescriptionStyleModel",
      "_view_count": null,
      "_view_module": "@jupyter-widgets/base",
      "_view_module_version": "1.2.0",
      "_view_name": "StyleView",
      "description_width": ""
     }
    },
    "4177692f44114f3fa78ad55a87b8281c": {
     "model_module": "@jupyter-widgets/base",
     "model_module_version": "1.2.0",
     "model_name": "LayoutModel",
     "state": {
      "_model_module": "@jupyter-widgets/base",
      "_model_module_version": "1.2.0",
      "_model_name": "LayoutModel",
      "_view_count": null,
      "_view_module": "@jupyter-widgets/base",
      "_view_module_version": "1.2.0",
      "_view_name": "LayoutView",
      "align_content": null,
      "align_items": null,
      "align_self": null,
      "border": null,
      "bottom": null,
      "display": null,
      "flex": null,
      "flex_flow": null,
      "grid_area": null,
      "grid_auto_columns": null,
      "grid_auto_flow": null,
      "grid_auto_rows": null,
      "grid_column": null,
      "grid_gap": null,
      "grid_row": null,
      "grid_template_areas": null,
      "grid_template_columns": null,
      "grid_template_rows": null,
      "height": null,
      "justify_content": null,
      "justify_items": null,
      "left": null,
      "margin": null,
      "max_height": null,
      "max_width": null,
      "min_height": null,
      "min_width": null,
      "object_fit": null,
      "object_position": null,
      "order": null,
      "overflow": null,
      "overflow_x": null,
      "overflow_y": null,
      "padding": null,
      "right": null,
      "top": null,
      "visibility": null,
      "width": null
     }
    },
    "4194a1c7475c46049250ab7b8b9a367d": {
     "model_module": "@jupyter-widgets/controls",
     "model_module_version": "1.5.0",
     "model_name": "ProgressStyleModel",
     "state": {
      "_model_module": "@jupyter-widgets/controls",
      "_model_module_version": "1.5.0",
      "_model_name": "ProgressStyleModel",
      "_view_count": null,
      "_view_module": "@jupyter-widgets/base",
      "_view_module_version": "1.2.0",
      "_view_name": "StyleView",
      "bar_color": null,
      "description_width": ""
     }
    },
    "42b71095d3ee4d19999e046425844a2d": {
     "model_module": "@jupyter-widgets/controls",
     "model_module_version": "1.5.0",
     "model_name": "HBoxModel",
     "state": {
      "_dom_classes": [],
      "_model_module": "@jupyter-widgets/controls",
      "_model_module_version": "1.5.0",
      "_model_name": "HBoxModel",
      "_view_count": null,
      "_view_module": "@jupyter-widgets/controls",
      "_view_module_version": "1.5.0",
      "_view_name": "HBoxView",
      "box_style": "",
      "children": [
       "IPY_MODEL_9d921fb5be994ff59632b05a58fa087c",
       "IPY_MODEL_f28a53a4562247eda5bd2ae490b65d08",
       "IPY_MODEL_9cc58aef581849fe8efbbbb6d3917736"
      ],
      "layout": "IPY_MODEL_b95c1a7a765b487ea6f07bcd63833376"
     }
    },
    "459fc58f7ca94f95a52d7c43ae616064": {
     "model_module": "@jupyter-widgets/base",
     "model_module_version": "1.2.0",
     "model_name": "LayoutModel",
     "state": {
      "_model_module": "@jupyter-widgets/base",
      "_model_module_version": "1.2.0",
      "_model_name": "LayoutModel",
      "_view_count": null,
      "_view_module": "@jupyter-widgets/base",
      "_view_module_version": "1.2.0",
      "_view_name": "LayoutView",
      "align_content": null,
      "align_items": null,
      "align_self": null,
      "border": null,
      "bottom": null,
      "display": null,
      "flex": null,
      "flex_flow": null,
      "grid_area": null,
      "grid_auto_columns": null,
      "grid_auto_flow": null,
      "grid_auto_rows": null,
      "grid_column": null,
      "grid_gap": null,
      "grid_row": null,
      "grid_template_areas": null,
      "grid_template_columns": null,
      "grid_template_rows": null,
      "height": null,
      "justify_content": null,
      "justify_items": null,
      "left": null,
      "margin": null,
      "max_height": null,
      "max_width": null,
      "min_height": null,
      "min_width": null,
      "object_fit": null,
      "object_position": null,
      "order": null,
      "overflow": null,
      "overflow_x": null,
      "overflow_y": null,
      "padding": null,
      "right": null,
      "top": null,
      "visibility": null,
      "width": null
     }
    },
    "46076cfd985a4fdea0d8621210f573fe": {
     "model_module": "@jupyter-widgets/controls",
     "model_module_version": "1.5.0",
     "model_name": "HTMLModel",
     "state": {
      "_dom_classes": [],
      "_model_module": "@jupyter-widgets/controls",
      "_model_module_version": "1.5.0",
      "_model_name": "HTMLModel",
      "_view_count": null,
      "_view_module": "@jupyter-widgets/controls",
      "_view_module_version": "1.5.0",
      "_view_name": "HTMLView",
      "description": "",
      "description_tooltip": null,
      "layout": "IPY_MODEL_597f32b3dafb486eb9b3cd90be93a8f9",
      "placeholder": "​",
      "style": "IPY_MODEL_0c739c4c979e403186410eb6d91603bd",
      "value": "Downloading (…)neration_config.json: 100%"
     }
    },
    "467d342174124bc5b7d3513b7b6120ba": {
     "model_module": "@jupyter-widgets/controls",
     "model_module_version": "1.5.0",
     "model_name": "DescriptionStyleModel",
     "state": {
      "_model_module": "@jupyter-widgets/controls",
      "_model_module_version": "1.5.0",
      "_model_name": "DescriptionStyleModel",
      "_view_count": null,
      "_view_module": "@jupyter-widgets/base",
      "_view_module_version": "1.2.0",
      "_view_name": "StyleView",
      "description_width": ""
     }
    },
    "47fa320d905340fd9da595243235320d": {
     "model_module": "@jupyter-widgets/controls",
     "model_module_version": "1.5.0",
     "model_name": "DescriptionStyleModel",
     "state": {
      "_model_module": "@jupyter-widgets/controls",
      "_model_module_version": "1.5.0",
      "_model_name": "DescriptionStyleModel",
      "_view_count": null,
      "_view_module": "@jupyter-widgets/base",
      "_view_module_version": "1.2.0",
      "_view_name": "StyleView",
      "description_width": ""
     }
    },
    "49e14a01b15c4395bed001776a09ba8b": {
     "model_module": "@jupyter-widgets/controls",
     "model_module_version": "1.5.0",
     "model_name": "ProgressStyleModel",
     "state": {
      "_model_module": "@jupyter-widgets/controls",
      "_model_module_version": "1.5.0",
      "_model_name": "ProgressStyleModel",
      "_view_count": null,
      "_view_module": "@jupyter-widgets/base",
      "_view_module_version": "1.2.0",
      "_view_name": "StyleView",
      "bar_color": null,
      "description_width": ""
     }
    },
    "4d30b7febbae4b8789adfa908b5f7e66": {
     "model_module": "@jupyter-widgets/base",
     "model_module_version": "1.2.0",
     "model_name": "LayoutModel",
     "state": {
      "_model_module": "@jupyter-widgets/base",
      "_model_module_version": "1.2.0",
      "_model_name": "LayoutModel",
      "_view_count": null,
      "_view_module": "@jupyter-widgets/base",
      "_view_module_version": "1.2.0",
      "_view_name": "LayoutView",
      "align_content": null,
      "align_items": null,
      "align_self": null,
      "border": null,
      "bottom": null,
      "display": null,
      "flex": null,
      "flex_flow": null,
      "grid_area": null,
      "grid_auto_columns": null,
      "grid_auto_flow": null,
      "grid_auto_rows": null,
      "grid_column": null,
      "grid_gap": null,
      "grid_row": null,
      "grid_template_areas": null,
      "grid_template_columns": null,
      "grid_template_rows": null,
      "height": null,
      "justify_content": null,
      "justify_items": null,
      "left": null,
      "margin": null,
      "max_height": null,
      "max_width": null,
      "min_height": null,
      "min_width": null,
      "object_fit": null,
      "object_position": null,
      "order": null,
      "overflow": null,
      "overflow_x": null,
      "overflow_y": null,
      "padding": null,
      "right": null,
      "top": null,
      "visibility": null,
      "width": null
     }
    },
    "51f189f0f6834003ba084bfaeb1a3b41": {
     "model_module": "@jupyter-widgets/controls",
     "model_module_version": "1.5.0",
     "model_name": "HBoxModel",
     "state": {
      "_dom_classes": [],
      "_model_module": "@jupyter-widgets/controls",
      "_model_module_version": "1.5.0",
      "_model_name": "HBoxModel",
      "_view_count": null,
      "_view_module": "@jupyter-widgets/controls",
      "_view_module_version": "1.5.0",
      "_view_name": "HBoxView",
      "box_style": "",
      "children": [
       "IPY_MODEL_fdb036f2dc8a4c6f82c12251c0e270f0",
       "IPY_MODEL_58eae73c05ea4813b506946d219cd7de",
       "IPY_MODEL_99e0e3eb85bc41998267b266f701a0fa"
      ],
      "layout": "IPY_MODEL_163a6a0b557e4a1784771e897337f92a"
     }
    },
    "52233297776b4c0cb3969972b07a639e": {
     "model_module": "@jupyter-widgets/controls",
     "model_module_version": "1.5.0",
     "model_name": "ProgressStyleModel",
     "state": {
      "_model_module": "@jupyter-widgets/controls",
      "_model_module_version": "1.5.0",
      "_model_name": "ProgressStyleModel",
      "_view_count": null,
      "_view_module": "@jupyter-widgets/base",
      "_view_module_version": "1.2.0",
      "_view_name": "StyleView",
      "bar_color": null,
      "description_width": ""
     }
    },
    "5834af2f297e41c1b81dc85a40d5fd5a": {
     "model_module": "@jupyter-widgets/base",
     "model_module_version": "1.2.0",
     "model_name": "LayoutModel",
     "state": {
      "_model_module": "@jupyter-widgets/base",
      "_model_module_version": "1.2.0",
      "_model_name": "LayoutModel",
      "_view_count": null,
      "_view_module": "@jupyter-widgets/base",
      "_view_module_version": "1.2.0",
      "_view_name": "LayoutView",
      "align_content": null,
      "align_items": null,
      "align_self": null,
      "border": null,
      "bottom": null,
      "display": null,
      "flex": null,
      "flex_flow": null,
      "grid_area": null,
      "grid_auto_columns": null,
      "grid_auto_flow": null,
      "grid_auto_rows": null,
      "grid_column": null,
      "grid_gap": null,
      "grid_row": null,
      "grid_template_areas": null,
      "grid_template_columns": null,
      "grid_template_rows": null,
      "height": null,
      "justify_content": null,
      "justify_items": null,
      "left": null,
      "margin": null,
      "max_height": null,
      "max_width": null,
      "min_height": null,
      "min_width": null,
      "object_fit": null,
      "object_position": null,
      "order": null,
      "overflow": null,
      "overflow_x": null,
      "overflow_y": null,
      "padding": null,
      "right": null,
      "top": null,
      "visibility": null,
      "width": null
     }
    },
    "58eae73c05ea4813b506946d219cd7de": {
     "model_module": "@jupyter-widgets/controls",
     "model_module_version": "1.5.0",
     "model_name": "FloatProgressModel",
     "state": {
      "_dom_classes": [],
      "_model_module": "@jupyter-widgets/controls",
      "_model_module_version": "1.5.0",
      "_model_name": "FloatProgressModel",
      "_view_count": null,
      "_view_module": "@jupyter-widgets/controls",
      "_view_module_version": "1.5.0",
      "_view_name": "ProgressView",
      "bar_style": "success",
      "description": "",
      "description_tooltip": null,
      "layout": "IPY_MODEL_f412c806bb3e4a5ca6e84684007b29a3",
      "max": 27391,
      "min": 0,
      "orientation": "horizontal",
      "style": "IPY_MODEL_6d841f458db34bdb821676c355cd5f7e",
      "value": 27391
     }
    },
    "597f32b3dafb486eb9b3cd90be93a8f9": {
     "model_module": "@jupyter-widgets/base",
     "model_module_version": "1.2.0",
     "model_name": "LayoutModel",
     "state": {
      "_model_module": "@jupyter-widgets/base",
      "_model_module_version": "1.2.0",
      "_model_name": "LayoutModel",
      "_view_count": null,
      "_view_module": "@jupyter-widgets/base",
      "_view_module_version": "1.2.0",
      "_view_name": "LayoutView",
      "align_content": null,
      "align_items": null,
      "align_self": null,
      "border": null,
      "bottom": null,
      "display": null,
      "flex": null,
      "flex_flow": null,
      "grid_area": null,
      "grid_auto_columns": null,
      "grid_auto_flow": null,
      "grid_auto_rows": null,
      "grid_column": null,
      "grid_gap": null,
      "grid_row": null,
      "grid_template_areas": null,
      "grid_template_columns": null,
      "grid_template_rows": null,
      "height": null,
      "justify_content": null,
      "justify_items": null,
      "left": null,
      "margin": null,
      "max_height": null,
      "max_width": null,
      "min_height": null,
      "min_width": null,
      "object_fit": null,
      "object_position": null,
      "order": null,
      "overflow": null,
      "overflow_x": null,
      "overflow_y": null,
      "padding": null,
      "right": null,
      "top": null,
      "visibility": null,
      "width": null
     }
    },
    "5ad7d400722c49d8b54478ddbc55570e": {
     "model_module": "@jupyter-widgets/base",
     "model_module_version": "1.2.0",
     "model_name": "LayoutModel",
     "state": {
      "_model_module": "@jupyter-widgets/base",
      "_model_module_version": "1.2.0",
      "_model_name": "LayoutModel",
      "_view_count": null,
      "_view_module": "@jupyter-widgets/base",
      "_view_module_version": "1.2.0",
      "_view_name": "LayoutView",
      "align_content": null,
      "align_items": null,
      "align_self": null,
      "border": null,
      "bottom": null,
      "display": null,
      "flex": null,
      "flex_flow": null,
      "grid_area": null,
      "grid_auto_columns": null,
      "grid_auto_flow": null,
      "grid_auto_rows": null,
      "grid_column": null,
      "grid_gap": null,
      "grid_row": null,
      "grid_template_areas": null,
      "grid_template_columns": null,
      "grid_template_rows": null,
      "height": null,
      "justify_content": null,
      "justify_items": null,
      "left": null,
      "margin": null,
      "max_height": null,
      "max_width": null,
      "min_height": null,
      "min_width": null,
      "object_fit": null,
      "object_position": null,
      "order": null,
      "overflow": null,
      "overflow_x": null,
      "overflow_y": null,
      "padding": null,
      "right": null,
      "top": null,
      "visibility": null,
      "width": null
     }
    },
    "5ae8b8ce56d9446a809c17732bb15a2a": {
     "model_module": "@jupyter-widgets/base",
     "model_module_version": "1.2.0",
     "model_name": "LayoutModel",
     "state": {
      "_model_module": "@jupyter-widgets/base",
      "_model_module_version": "1.2.0",
      "_model_name": "LayoutModel",
      "_view_count": null,
      "_view_module": "@jupyter-widgets/base",
      "_view_module_version": "1.2.0",
      "_view_name": "LayoutView",
      "align_content": null,
      "align_items": null,
      "align_self": null,
      "border": null,
      "bottom": null,
      "display": null,
      "flex": null,
      "flex_flow": null,
      "grid_area": null,
      "grid_auto_columns": null,
      "grid_auto_flow": null,
      "grid_auto_rows": null,
      "grid_column": null,
      "grid_gap": null,
      "grid_row": null,
      "grid_template_areas": null,
      "grid_template_columns": null,
      "grid_template_rows": null,
      "height": null,
      "justify_content": null,
      "justify_items": null,
      "left": null,
      "margin": null,
      "max_height": null,
      "max_width": null,
      "min_height": null,
      "min_width": null,
      "object_fit": null,
      "object_position": null,
      "order": null,
      "overflow": null,
      "overflow_x": null,
      "overflow_y": null,
      "padding": null,
      "right": null,
      "top": null,
      "visibility": null,
      "width": null
     }
    },
    "5aec8b80e7ea4a5697c6426f2ddb22fe": {
     "model_module": "@jupyter-widgets/controls",
     "model_module_version": "1.5.0",
     "model_name": "DescriptionStyleModel",
     "state": {
      "_model_module": "@jupyter-widgets/controls",
      "_model_module_version": "1.5.0",
      "_model_name": "DescriptionStyleModel",
      "_view_count": null,
      "_view_module": "@jupyter-widgets/base",
      "_view_module_version": "1.2.0",
      "_view_name": "StyleView",
      "description_width": ""
     }
    },
    "5ecc20c2b52d474faa9a14967cdde891": {
     "model_module": "@jupyter-widgets/base",
     "model_module_version": "1.2.0",
     "model_name": "LayoutModel",
     "state": {
      "_model_module": "@jupyter-widgets/base",
      "_model_module_version": "1.2.0",
      "_model_name": "LayoutModel",
      "_view_count": null,
      "_view_module": "@jupyter-widgets/base",
      "_view_module_version": "1.2.0",
      "_view_name": "LayoutView",
      "align_content": null,
      "align_items": null,
      "align_self": null,
      "border": null,
      "bottom": null,
      "display": null,
      "flex": null,
      "flex_flow": null,
      "grid_area": null,
      "grid_auto_columns": null,
      "grid_auto_flow": null,
      "grid_auto_rows": null,
      "grid_column": null,
      "grid_gap": null,
      "grid_row": null,
      "grid_template_areas": null,
      "grid_template_columns": null,
      "grid_template_rows": null,
      "height": null,
      "justify_content": null,
      "justify_items": null,
      "left": null,
      "margin": null,
      "max_height": null,
      "max_width": null,
      "min_height": null,
      "min_width": null,
      "object_fit": null,
      "object_position": null,
      "order": null,
      "overflow": null,
      "overflow_x": null,
      "overflow_y": null,
      "padding": null,
      "right": null,
      "top": null,
      "visibility": null,
      "width": null
     }
    },
    "60395b3940284f99b49a8e2401abeb36": {
     "model_module": "@jupyter-widgets/controls",
     "model_module_version": "1.5.0",
     "model_name": "HTMLModel",
     "state": {
      "_dom_classes": [],
      "_model_module": "@jupyter-widgets/controls",
      "_model_module_version": "1.5.0",
      "_model_name": "HTMLModel",
      "_view_count": null,
      "_view_module": "@jupyter-widgets/controls",
      "_view_module_version": "1.5.0",
      "_view_name": "HTMLView",
      "description": "",
      "description_tooltip": null,
      "layout": "IPY_MODEL_d0100d94a1584833b0f07cf7d08e5870",
      "placeholder": "​",
      "style": "IPY_MODEL_89646e69e25c4d44843cb271be580135",
      "value": "<center> <img\nsrc=https://huggingface.co/front/assets/huggingface_logo-noborder.svg\nalt='Hugging Face'> <br> Copy a token from <a\nhref=\"https://huggingface.co/settings/tokens\" target=\"_blank\">your Hugging Face\ntokens page</a> and paste it below. <br> Immediately click login after copying\nyour token or it might be stored in plain text in this notebook file. </center>"
     }
    },
    "604e78cebb5b421abdcac4213df3b8c6": {
     "model_module": "@jupyter-widgets/controls",
     "model_module_version": "1.5.0",
     "model_name": "DescriptionStyleModel",
     "state": {
      "_model_module": "@jupyter-widgets/controls",
      "_model_module_version": "1.5.0",
      "_model_name": "DescriptionStyleModel",
      "_view_count": null,
      "_view_module": "@jupyter-widgets/base",
      "_view_module_version": "1.2.0",
      "_view_name": "StyleView",
      "description_width": ""
     }
    },
    "67b8fafed33d4ed9a265aadb53150671": {
     "model_module": "@jupyter-widgets/controls",
     "model_module_version": "1.5.0",
     "model_name": "DescriptionStyleModel",
     "state": {
      "_model_module": "@jupyter-widgets/controls",
      "_model_module_version": "1.5.0",
      "_model_name": "DescriptionStyleModel",
      "_view_count": null,
      "_view_module": "@jupyter-widgets/base",
      "_view_module_version": "1.2.0",
      "_view_name": "StyleView",
      "description_width": ""
     }
    },
    "69fd417fa6744092830893f292af7d1c": {
     "model_module": "@jupyter-widgets/controls",
     "model_module_version": "1.5.0",
     "model_name": "HTMLModel",
     "state": {
      "_dom_classes": [],
      "_model_module": "@jupyter-widgets/controls",
      "_model_module_version": "1.5.0",
      "_model_name": "HTMLModel",
      "_view_count": null,
      "_view_module": "@jupyter-widgets/controls",
      "_view_module_version": "1.5.0",
      "_view_name": "HTMLView",
      "description": "",
      "description_tooltip": null,
      "layout": "IPY_MODEL_903be318a58b4a9da565861bd349e8b2",
      "placeholder": "​",
      "style": "IPY_MODEL_c5f8d29f6ce445a886f2496c7063b81f",
      "value": "Downloading (…)lve/main/config.json: 100%"
     }
    },
    "6a88791be717475c8ddf9e640afc3461": {
     "model_module": "@jupyter-widgets/base",
     "model_module_version": "1.2.0",
     "model_name": "LayoutModel",
     "state": {
      "_model_module": "@jupyter-widgets/base",
      "_model_module_version": "1.2.0",
      "_model_name": "LayoutModel",
      "_view_count": null,
      "_view_module": "@jupyter-widgets/base",
      "_view_module_version": "1.2.0",
      "_view_name": "LayoutView",
      "align_content": null,
      "align_items": null,
      "align_self": null,
      "border": null,
      "bottom": null,
      "display": null,
      "flex": null,
      "flex_flow": null,
      "grid_area": null,
      "grid_auto_columns": null,
      "grid_auto_flow": null,
      "grid_auto_rows": null,
      "grid_column": null,
      "grid_gap": null,
      "grid_row": null,
      "grid_template_areas": null,
      "grid_template_columns": null,
      "grid_template_rows": null,
      "height": null,
      "justify_content": null,
      "justify_items": null,
      "left": null,
      "margin": null,
      "max_height": null,
      "max_width": null,
      "min_height": null,
      "min_width": null,
      "object_fit": null,
      "object_position": null,
      "order": null,
      "overflow": null,
      "overflow_x": null,
      "overflow_y": null,
      "padding": null,
      "right": null,
      "top": null,
      "visibility": null,
      "width": null
     }
    },
    "6d48f8588d344d608ffa73dc119b418f": {
     "model_module": "@jupyter-widgets/controls",
     "model_module_version": "1.5.0",
     "model_name": "HBoxModel",
     "state": {
      "_dom_classes": [],
      "_model_module": "@jupyter-widgets/controls",
      "_model_module_version": "1.5.0",
      "_model_name": "HBoxModel",
      "_view_count": null,
      "_view_module": "@jupyter-widgets/controls",
      "_view_module_version": "1.5.0",
      "_view_name": "HBoxView",
      "box_style": "",
      "children": [
       "IPY_MODEL_82579e186ecf4c629d275f24fdd464be",
       "IPY_MODEL_bcdd52b651044b47b9ed101b0866d153",
       "IPY_MODEL_eb62233a91e8472b944ce10ba84767b0"
      ],
      "layout": "IPY_MODEL_20719e8fbf264a37926455cbe156c598"
     }
    },
    "6d841f458db34bdb821676c355cd5f7e": {
     "model_module": "@jupyter-widgets/controls",
     "model_module_version": "1.5.0",
     "model_name": "ProgressStyleModel",
     "state": {
      "_model_module": "@jupyter-widgets/controls",
      "_model_module_version": "1.5.0",
      "_model_name": "ProgressStyleModel",
      "_view_count": null,
      "_view_module": "@jupyter-widgets/base",
      "_view_module_version": "1.2.0",
      "_view_name": "StyleView",
      "bar_color": null,
      "description_width": ""
     }
    },
    "6eabecce20134f1cacfa828a93cda2b1": {
     "model_module": "@jupyter-widgets/controls",
     "model_module_version": "1.5.0",
     "model_name": "HBoxModel",
     "state": {
      "_dom_classes": [],
      "_model_module": "@jupyter-widgets/controls",
      "_model_module_version": "1.5.0",
      "_model_name": "HBoxModel",
      "_view_count": null,
      "_view_module": "@jupyter-widgets/controls",
      "_view_module_version": "1.5.0",
      "_view_name": "HBoxView",
      "box_style": "",
      "children": [
       "IPY_MODEL_d0bed6d844fc47d4bcab1119ed565690",
       "IPY_MODEL_a3e6a4d2138c4f19933ca7eb32401ada",
       "IPY_MODEL_cf2ed05d78044c9a82827af5b1dfc3d1"
      ],
      "layout": "IPY_MODEL_5ecc20c2b52d474faa9a14967cdde891"
     }
    },
    "6eb59b4513074479bab49415d2907cfb": {
     "model_module": "@jupyter-widgets/base",
     "model_module_version": "1.2.0",
     "model_name": "LayoutModel",
     "state": {
      "_model_module": "@jupyter-widgets/base",
      "_model_module_version": "1.2.0",
      "_model_name": "LayoutModel",
      "_view_count": null,
      "_view_module": "@jupyter-widgets/base",
      "_view_module_version": "1.2.0",
      "_view_name": "LayoutView",
      "align_content": null,
      "align_items": null,
      "align_self": null,
      "border": null,
      "bottom": null,
      "display": null,
      "flex": null,
      "flex_flow": null,
      "grid_area": null,
      "grid_auto_columns": null,
      "grid_auto_flow": null,
      "grid_auto_rows": null,
      "grid_column": null,
      "grid_gap": null,
      "grid_row": null,
      "grid_template_areas": null,
      "grid_template_columns": null,
      "grid_template_rows": null,
      "height": null,
      "justify_content": null,
      "justify_items": null,
      "left": null,
      "margin": null,
      "max_height": null,
      "max_width": null,
      "min_height": null,
      "min_width": null,
      "object_fit": null,
      "object_position": null,
      "order": null,
      "overflow": null,
      "overflow_x": null,
      "overflow_y": null,
      "padding": null,
      "right": null,
      "top": null,
      "visibility": null,
      "width": null
     }
    },
    "6f8c5e1ae0e5428db54562e2d03082ac": {
     "model_module": "@jupyter-widgets/base",
     "model_module_version": "1.2.0",
     "model_name": "LayoutModel",
     "state": {
      "_model_module": "@jupyter-widgets/base",
      "_model_module_version": "1.2.0",
      "_model_name": "LayoutModel",
      "_view_count": null,
      "_view_module": "@jupyter-widgets/base",
      "_view_module_version": "1.2.0",
      "_view_name": "LayoutView",
      "align_content": null,
      "align_items": null,
      "align_self": null,
      "border": null,
      "bottom": null,
      "display": null,
      "flex": null,
      "flex_flow": null,
      "grid_area": null,
      "grid_auto_columns": null,
      "grid_auto_flow": null,
      "grid_auto_rows": null,
      "grid_column": null,
      "grid_gap": null,
      "grid_row": null,
      "grid_template_areas": null,
      "grid_template_columns": null,
      "grid_template_rows": null,
      "height": null,
      "justify_content": null,
      "justify_items": null,
      "left": null,
      "margin": null,
      "max_height": null,
      "max_width": null,
      "min_height": null,
      "min_width": null,
      "object_fit": null,
      "object_position": null,
      "order": null,
      "overflow": null,
      "overflow_x": null,
      "overflow_y": null,
      "padding": null,
      "right": null,
      "top": null,
      "visibility": null,
      "width": null
     }
    },
    "71c5577e90f64567a0e7446e98397f4d": {
     "model_module": "@jupyter-widgets/controls",
     "model_module_version": "1.5.0",
     "model_name": "FloatProgressModel",
     "state": {
      "_dom_classes": [],
      "_model_module": "@jupyter-widgets/controls",
      "_model_module_version": "1.5.0",
      "_model_name": "FloatProgressModel",
      "_view_count": null,
      "_view_module": "@jupyter-widgets/controls",
      "_view_module_version": "1.5.0",
      "_view_name": "ProgressView",
      "bar_style": "success",
      "description": "",
      "description_tooltip": null,
      "layout": "IPY_MODEL_bcf12791dac04776b084a86d5b9f0852",
      "max": 596947,
      "min": 0,
      "orientation": "horizontal",
      "style": "IPY_MODEL_e0dc78056032494482012f502b0b98cd",
      "value": 596947
     }
    },
    "73dc797f0e044a21872e3272ce403524": {
     "model_module": "@jupyter-widgets/base",
     "model_module_version": "1.2.0",
     "model_name": "LayoutModel",
     "state": {
      "_model_module": "@jupyter-widgets/base",
      "_model_module_version": "1.2.0",
      "_model_name": "LayoutModel",
      "_view_count": null,
      "_view_module": "@jupyter-widgets/base",
      "_view_module_version": "1.2.0",
      "_view_name": "LayoutView",
      "align_content": null,
      "align_items": null,
      "align_self": null,
      "border": null,
      "bottom": null,
      "display": null,
      "flex": null,
      "flex_flow": null,
      "grid_area": null,
      "grid_auto_columns": null,
      "grid_auto_flow": null,
      "grid_auto_rows": null,
      "grid_column": null,
      "grid_gap": null,
      "grid_row": null,
      "grid_template_areas": null,
      "grid_template_columns": null,
      "grid_template_rows": null,
      "height": null,
      "justify_content": null,
      "justify_items": null,
      "left": null,
      "margin": null,
      "max_height": null,
      "max_width": null,
      "min_height": null,
      "min_width": null,
      "object_fit": null,
      "object_position": null,
      "order": null,
      "overflow": null,
      "overflow_x": null,
      "overflow_y": null,
      "padding": null,
      "right": null,
      "top": null,
      "visibility": null,
      "width": null
     }
    },
    "76b7c5acf196444e9cb18f8d5f00d99c": {
     "model_module": "@jupyter-widgets/controls",
     "model_module_version": "1.5.0",
     "model_name": "FloatProgressModel",
     "state": {
      "_dom_classes": [],
      "_model_module": "@jupyter-widgets/controls",
      "_model_module_version": "1.5.0",
      "_model_name": "FloatProgressModel",
      "_view_count": null,
      "_view_module": "@jupyter-widgets/controls",
      "_view_module_version": "1.5.0",
      "_view_name": "ProgressView",
      "bar_style": "success",
      "description": "",
      "description_tooltip": null,
      "layout": "IPY_MODEL_06c2b0309d2f46998049af0ab3ba192c",
      "max": 1200794589,
      "min": 0,
      "orientation": "horizontal",
      "style": "IPY_MODEL_c65d848d887249e897c4890e694def65",
      "value": 1200794589
     }
    },
    "79a1af6b9ea049129fbc485caa2c2a81": {
     "model_module": "@jupyter-widgets/base",
     "model_module_version": "1.2.0",
     "model_name": "LayoutModel",
     "state": {
      "_model_module": "@jupyter-widgets/base",
      "_model_module_version": "1.2.0",
      "_model_name": "LayoutModel",
      "_view_count": null,
      "_view_module": "@jupyter-widgets/base",
      "_view_module_version": "1.2.0",
      "_view_name": "LayoutView",
      "align_content": null,
      "align_items": null,
      "align_self": null,
      "border": null,
      "bottom": null,
      "display": null,
      "flex": null,
      "flex_flow": null,
      "grid_area": null,
      "grid_auto_columns": null,
      "grid_auto_flow": null,
      "grid_auto_rows": null,
      "grid_column": null,
      "grid_gap": null,
      "grid_row": null,
      "grid_template_areas": null,
      "grid_template_columns": null,
      "grid_template_rows": null,
      "height": null,
      "justify_content": null,
      "justify_items": null,
      "left": null,
      "margin": null,
      "max_height": null,
      "max_width": null,
      "min_height": null,
      "min_width": null,
      "object_fit": null,
      "object_position": null,
      "order": null,
      "overflow": null,
      "overflow_x": null,
      "overflow_y": null,
      "padding": null,
      "right": null,
      "top": null,
      "visibility": null,
      "width": null
     }
    },
    "7a0a0676c3c046cb88a8e5dbb4576cf1": {
     "model_module": "@jupyter-widgets/controls",
     "model_module_version": "1.5.0",
     "model_name": "ButtonStyleModel",
     "state": {
      "_model_module": "@jupyter-widgets/controls",
      "_model_module_version": "1.5.0",
      "_model_name": "ButtonStyleModel",
      "_view_count": null,
      "_view_module": "@jupyter-widgets/base",
      "_view_module_version": "1.2.0",
      "_view_name": "StyleView",
      "button_color": null,
      "font_weight": ""
     }
    },
    "7bafb4a090bc4b85be18de0a81d667dc": {
     "model_module": "@jupyter-widgets/controls",
     "model_module_version": "1.5.0",
     "model_name": "DescriptionStyleModel",
     "state": {
      "_model_module": "@jupyter-widgets/controls",
      "_model_module_version": "1.5.0",
      "_model_name": "DescriptionStyleModel",
      "_view_count": null,
      "_view_module": "@jupyter-widgets/base",
      "_view_module_version": "1.2.0",
      "_view_name": "StyleView",
      "description_width": ""
     }
    },
    "80c1efe845204824896c8bdae9038cbb": {
     "model_module": "@jupyter-widgets/controls",
     "model_module_version": "1.5.0",
     "model_name": "ButtonModel",
     "state": {
      "_dom_classes": [],
      "_model_module": "@jupyter-widgets/controls",
      "_model_module_version": "1.5.0",
      "_model_name": "ButtonModel",
      "_view_count": null,
      "_view_module": "@jupyter-widgets/controls",
      "_view_module_version": "1.5.0",
      "_view_name": "ButtonView",
      "button_style": "",
      "description": "Login",
      "disabled": false,
      "icon": "",
      "layout": "IPY_MODEL_5ad7d400722c49d8b54478ddbc55570e",
      "style": "IPY_MODEL_7a0a0676c3c046cb88a8e5dbb4576cf1",
      "tooltip": ""
     }
    },
    "82579e186ecf4c629d275f24fdd464be": {
     "model_module": "@jupyter-widgets/controls",
     "model_module_version": "1.5.0",
     "model_name": "HTMLModel",
     "state": {
      "_dom_classes": [],
      "_model_module": "@jupyter-widgets/controls",
      "_model_module_version": "1.5.0",
      "_model_name": "HTMLModel",
      "_view_count": null,
      "_view_module": "@jupyter-widgets/controls",
      "_view_module_version": "1.5.0",
      "_view_name": "HTMLView",
      "description": "",
      "description_tooltip": null,
      "layout": "IPY_MODEL_c9261307f1f84900aac82997f3e2b5d8",
      "placeholder": "​",
      "style": "IPY_MODEL_1504a86490cf48bd865a7a3bb6b611d7",
      "value": "Downloading builder script: 100%"
     }
    },
    "8448ba49d1704f24b1f9d4d8d63bd040": {
     "model_module": "@jupyter-widgets/controls",
     "model_module_version": "1.5.0",
     "model_name": "LabelModel",
     "state": {
      "_dom_classes": [],
      "_model_module": "@jupyter-widgets/controls",
      "_model_module_version": "1.5.0",
      "_model_name": "LabelModel",
      "_view_count": null,
      "_view_module": "@jupyter-widgets/controls",
      "_view_module_version": "1.5.0",
      "_view_name": "LabelView",
      "description": "",
      "description_tooltip": null,
      "layout": "IPY_MODEL_6a88791be717475c8ddf9e640afc3461",
      "placeholder": "​",
      "style": "IPY_MODEL_d86ec5c7c6f64ab58e8a67384a1fa1b7",
      "value": "Your token has been saved to /root/.cache/huggingface/token"
     }
    },
    "864a8e3d241f42b7a2564b1866db4cef": {
     "model_module": "@jupyter-widgets/base",
     "model_module_version": "1.2.0",
     "model_name": "LayoutModel",
     "state": {
      "_model_module": "@jupyter-widgets/base",
      "_model_module_version": "1.2.0",
      "_model_name": "LayoutModel",
      "_view_count": null,
      "_view_module": "@jupyter-widgets/base",
      "_view_module_version": "1.2.0",
      "_view_name": "LayoutView",
      "align_content": null,
      "align_items": null,
      "align_self": null,
      "border": null,
      "bottom": null,
      "display": null,
      "flex": null,
      "flex_flow": null,
      "grid_area": null,
      "grid_auto_columns": null,
      "grid_auto_flow": null,
      "grid_auto_rows": null,
      "grid_column": null,
      "grid_gap": null,
      "grid_row": null,
      "grid_template_areas": null,
      "grid_template_columns": null,
      "grid_template_rows": null,
      "height": null,
      "justify_content": null,
      "justify_items": null,
      "left": null,
      "margin": null,
      "max_height": null,
      "max_width": null,
      "min_height": null,
      "min_width": null,
      "object_fit": null,
      "object_position": null,
      "order": null,
      "overflow": null,
      "overflow_x": null,
      "overflow_y": null,
      "padding": null,
      "right": null,
      "top": null,
      "visibility": null,
      "width": null
     }
    },
    "88054062824749a79b6a1caa74598290": {
     "model_module": "@jupyter-widgets/controls",
     "model_module_version": "1.5.0",
     "model_name": "DescriptionStyleModel",
     "state": {
      "_model_module": "@jupyter-widgets/controls",
      "_model_module_version": "1.5.0",
      "_model_name": "DescriptionStyleModel",
      "_view_count": null,
      "_view_module": "@jupyter-widgets/base",
      "_view_module_version": "1.2.0",
      "_view_name": "StyleView",
      "description_width": ""
     }
    },
    "88eb58d6aca54d8cb35883b267556ff7": {
     "model_module": "@jupyter-widgets/controls",
     "model_module_version": "1.5.0",
     "model_name": "HTMLModel",
     "state": {
      "_dom_classes": [],
      "_model_module": "@jupyter-widgets/controls",
      "_model_module_version": "1.5.0",
      "_model_name": "HTMLModel",
      "_view_count": null,
      "_view_module": "@jupyter-widgets/controls",
      "_view_module_version": "1.5.0",
      "_view_name": "HTMLView",
      "description": "",
      "description_tooltip": null,
      "layout": "IPY_MODEL_d2571a8483214c9fb1a7936bcc89aa99",
      "placeholder": "​",
      "style": "IPY_MODEL_9f641ad2d93046a7b46432edd6f8fff0",
      "value": " 147/147 [00:00&lt;00:00, 5.72kB/s]"
     }
    },
    "89646e69e25c4d44843cb271be580135": {
     "model_module": "@jupyter-widgets/controls",
     "model_module_version": "1.5.0",
     "model_name": "DescriptionStyleModel",
     "state": {
      "_model_module": "@jupyter-widgets/controls",
      "_model_module_version": "1.5.0",
      "_model_name": "DescriptionStyleModel",
      "_view_count": null,
      "_view_module": "@jupyter-widgets/base",
      "_view_module_version": "1.2.0",
      "_view_name": "StyleView",
      "description_width": ""
     }
    },
    "8a7693bb52924ae28c3e5a6de7cc31e8": {
     "model_module": "@jupyter-widgets/base",
     "model_module_version": "1.2.0",
     "model_name": "LayoutModel",
     "state": {
      "_model_module": "@jupyter-widgets/base",
      "_model_module_version": "1.2.0",
      "_model_name": "LayoutModel",
      "_view_count": null,
      "_view_module": "@jupyter-widgets/base",
      "_view_module_version": "1.2.0",
      "_view_name": "LayoutView",
      "align_content": null,
      "align_items": null,
      "align_self": null,
      "border": null,
      "bottom": null,
      "display": null,
      "flex": null,
      "flex_flow": null,
      "grid_area": null,
      "grid_auto_columns": null,
      "grid_auto_flow": null,
      "grid_auto_rows": null,
      "grid_column": null,
      "grid_gap": null,
      "grid_row": null,
      "grid_template_areas": null,
      "grid_template_columns": null,
      "grid_template_rows": null,
      "height": null,
      "justify_content": null,
      "justify_items": null,
      "left": null,
      "margin": null,
      "max_height": null,
      "max_width": null,
      "min_height": null,
      "min_width": null,
      "object_fit": null,
      "object_position": null,
      "order": null,
      "overflow": null,
      "overflow_x": null,
      "overflow_y": null,
      "padding": null,
      "right": null,
      "top": null,
      "visibility": null,
      "width": null
     }
    },
    "8e3f278f29b44ad88cab2f600dc75b35": {
     "model_module": "@jupyter-widgets/controls",
     "model_module_version": "1.5.0",
     "model_name": "ProgressStyleModel",
     "state": {
      "_model_module": "@jupyter-widgets/controls",
      "_model_module_version": "1.5.0",
      "_model_name": "ProgressStyleModel",
      "_view_count": null,
      "_view_module": "@jupyter-widgets/base",
      "_view_module_version": "1.2.0",
      "_view_name": "StyleView",
      "bar_color": null,
      "description_width": ""
     }
    },
    "903be318a58b4a9da565861bd349e8b2": {
     "model_module": "@jupyter-widgets/base",
     "model_module_version": "1.2.0",
     "model_name": "LayoutModel",
     "state": {
      "_model_module": "@jupyter-widgets/base",
      "_model_module_version": "1.2.0",
      "_model_name": "LayoutModel",
      "_view_count": null,
      "_view_module": "@jupyter-widgets/base",
      "_view_module_version": "1.2.0",
      "_view_name": "LayoutView",
      "align_content": null,
      "align_items": null,
      "align_self": null,
      "border": null,
      "bottom": null,
      "display": null,
      "flex": null,
      "flex_flow": null,
      "grid_area": null,
      "grid_auto_columns": null,
      "grid_auto_flow": null,
      "grid_auto_rows": null,
      "grid_column": null,
      "grid_gap": null,
      "grid_row": null,
      "grid_template_areas": null,
      "grid_template_columns": null,
      "grid_template_rows": null,
      "height": null,
      "justify_content": null,
      "justify_items": null,
      "left": null,
      "margin": null,
      "max_height": null,
      "max_width": null,
      "min_height": null,
      "min_width": null,
      "object_fit": null,
      "object_position": null,
      "order": null,
      "overflow": null,
      "overflow_x": null,
      "overflow_y": null,
      "padding": null,
      "right": null,
      "top": null,
      "visibility": null,
      "width": null
     }
    },
    "92e81769bb934255a0f5c69583c9d8ed": {
     "model_module": "@jupyter-widgets/controls",
     "model_module_version": "1.5.0",
     "model_name": "HTMLModel",
     "state": {
      "_dom_classes": [],
      "_model_module": "@jupyter-widgets/controls",
      "_model_module_version": "1.5.0",
      "_model_name": "HTMLModel",
      "_view_count": null,
      "_view_module": "@jupyter-widgets/controls",
      "_view_module_version": "1.5.0",
      "_view_name": "HTMLView",
      "description": "",
      "description_tooltip": null,
      "layout": "IPY_MODEL_a519cbedcaa04607802fe79272ae0d3a",
      "placeholder": "​",
      "style": "IPY_MODEL_467d342174124bc5b7d3513b7b6120ba",
      "value": " 596947/596947 [36:00&lt;00:00, 312.10 examples/s]"
     }
    },
    "99e0e3eb85bc41998267b266f701a0fa": {
     "model_module": "@jupyter-widgets/controls",
     "model_module_version": "1.5.0",
     "model_name": "HTMLModel",
     "state": {
      "_dom_classes": [],
      "_model_module": "@jupyter-widgets/controls",
      "_model_module_version": "1.5.0",
      "_model_name": "HTMLModel",
      "_view_count": null,
      "_view_module": "@jupyter-widgets/controls",
      "_view_module_version": "1.5.0",
      "_view_name": "HTMLView",
      "description": "",
      "description_tooltip": null,
      "layout": "IPY_MODEL_6eb59b4513074479bab49415d2907cfb",
      "placeholder": "​",
      "style": "IPY_MODEL_c89f8bdfa802449ab0c2e651d9db3825",
      "value": " 27391/27391 [01:43&lt;00:00, 284.45 examples/s]"
     }
    },
    "9cc58aef581849fe8efbbbb6d3917736": {
     "model_module": "@jupyter-widgets/controls",
     "model_module_version": "1.5.0",
     "model_name": "HTMLModel",
     "state": {
      "_dom_classes": [],
      "_model_module": "@jupyter-widgets/controls",
      "_model_module_version": "1.5.0",
      "_model_name": "HTMLModel",
      "_view_count": null,
      "_view_module": "@jupyter-widgets/controls",
      "_view_module_version": "1.5.0",
      "_view_name": "HTMLView",
      "description": "",
      "description_tooltip": null,
      "layout": "IPY_MODEL_ea4ff33578a240aeb2e2eb4029e02d06",
      "placeholder": "​",
      "style": "IPY_MODEL_604e78cebb5b421abdcac4213df3b8c6",
      "value": " 99.0/99.0 [00:00&lt;00:00, 4.86kB/s]"
     }
    },
    "9d921fb5be994ff59632b05a58fa087c": {
     "model_module": "@jupyter-widgets/controls",
     "model_module_version": "1.5.0",
     "model_name": "HTMLModel",
     "state": {
      "_dom_classes": [],
      "_model_module": "@jupyter-widgets/controls",
      "_model_module_version": "1.5.0",
      "_model_name": "HTMLModel",
      "_view_count": null,
      "_view_module": "@jupyter-widgets/controls",
      "_view_module_version": "1.5.0",
      "_view_name": "HTMLView",
      "description": "",
      "description_tooltip": null,
      "layout": "IPY_MODEL_bfca392346b443208282fb419431e2ab",
      "placeholder": "​",
      "style": "IPY_MODEL_e06e14d770be4f75b15f21807dec0e32",
      "value": "Downloading (…)cial_tokens_map.json: 100%"
     }
    },
    "9ecff1a6f4dd416babafeba568bcd81b": {
     "model_module": "@jupyter-widgets/base",
     "model_module_version": "1.2.0",
     "model_name": "LayoutModel",
     "state": {
      "_model_module": "@jupyter-widgets/base",
      "_model_module_version": "1.2.0",
      "_model_name": "LayoutModel",
      "_view_count": null,
      "_view_module": "@jupyter-widgets/base",
      "_view_module_version": "1.2.0",
      "_view_name": "LayoutView",
      "align_content": null,
      "align_items": null,
      "align_self": null,
      "border": null,
      "bottom": null,
      "display": null,
      "flex": null,
      "flex_flow": null,
      "grid_area": null,
      "grid_auto_columns": null,
      "grid_auto_flow": null,
      "grid_auto_rows": null,
      "grid_column": null,
      "grid_gap": null,
      "grid_row": null,
      "grid_template_areas": null,
      "grid_template_columns": null,
      "grid_template_rows": null,
      "height": null,
      "justify_content": null,
      "justify_items": null,
      "left": null,
      "margin": null,
      "max_height": null,
      "max_width": null,
      "min_height": null,
      "min_width": null,
      "object_fit": null,
      "object_position": null,
      "order": null,
      "overflow": null,
      "overflow_x": null,
      "overflow_y": null,
      "padding": null,
      "right": null,
      "top": null,
      "visibility": null,
      "width": null
     }
    },
    "9f641ad2d93046a7b46432edd6f8fff0": {
     "model_module": "@jupyter-widgets/controls",
     "model_module_version": "1.5.0",
     "model_name": "DescriptionStyleModel",
     "state": {
      "_model_module": "@jupyter-widgets/controls",
      "_model_module_version": "1.5.0",
      "_model_name": "DescriptionStyleModel",
      "_view_count": null,
      "_view_module": "@jupyter-widgets/base",
      "_view_module_version": "1.2.0",
      "_view_name": "StyleView",
      "description_width": ""
     }
    },
    "9ff07c10bc9c435a857752917cd95052": {
     "model_module": "@jupyter-widgets/controls",
     "model_module_version": "1.5.0",
     "model_name": "HTMLModel",
     "state": {
      "_dom_classes": [],
      "_model_module": "@jupyter-widgets/controls",
      "_model_module_version": "1.5.0",
      "_model_name": "HTMLModel",
      "_view_count": null,
      "_view_module": "@jupyter-widgets/controls",
      "_view_module_version": "1.5.0",
      "_view_name": "HTMLView",
      "description": "",
      "description_tooltip": null,
      "layout": "IPY_MODEL_0ada71735e1041a89a7202fdc34d3aa8",
      "placeholder": "​",
      "style": "IPY_MODEL_7bafb4a090bc4b85be18de0a81d667dc",
      "value": " 553/553 [00:00&lt;00:00, 38.9kB/s]"
     }
    },
    "a285ace7a9fa4f46be8d64b51788731b": {
     "model_module": "@jupyter-widgets/base",
     "model_module_version": "1.2.0",
     "model_name": "LayoutModel",
     "state": {
      "_model_module": "@jupyter-widgets/base",
      "_model_module_version": "1.2.0",
      "_model_name": "LayoutModel",
      "_view_count": null,
      "_view_module": "@jupyter-widgets/base",
      "_view_module_version": "1.2.0",
      "_view_name": "LayoutView",
      "align_content": null,
      "align_items": null,
      "align_self": null,
      "border": null,
      "bottom": null,
      "display": null,
      "flex": null,
      "flex_flow": null,
      "grid_area": null,
      "grid_auto_columns": null,
      "grid_auto_flow": null,
      "grid_auto_rows": null,
      "grid_column": null,
      "grid_gap": null,
      "grid_row": null,
      "grid_template_areas": null,
      "grid_template_columns": null,
      "grid_template_rows": null,
      "height": null,
      "justify_content": null,
      "justify_items": null,
      "left": null,
      "margin": null,
      "max_height": null,
      "max_width": null,
      "min_height": null,
      "min_width": null,
      "object_fit": null,
      "object_position": null,
      "order": null,
      "overflow": null,
      "overflow_x": null,
      "overflow_y": null,
      "padding": null,
      "right": null,
      "top": null,
      "visibility": null,
      "width": null
     }
    },
    "a3e6a4d2138c4f19933ca7eb32401ada": {
     "model_module": "@jupyter-widgets/controls",
     "model_module_version": "1.5.0",
     "model_name": "FloatProgressModel",
     "state": {
      "_dom_classes": [],
      "_model_module": "@jupyter-widgets/controls",
      "_model_module_version": "1.5.0",
      "_model_name": "FloatProgressModel",
      "_view_count": null,
      "_view_module": "@jupyter-widgets/controls",
      "_view_module_version": "1.5.0",
      "_view_name": "ProgressView",
      "bar_style": "success",
      "description": "",
      "description_tooltip": null,
      "layout": "IPY_MODEL_bff2b53eba8749ca8a74ba37c4c0e95e",
      "max": 4309802,
      "min": 0,
      "orientation": "horizontal",
      "style": "IPY_MODEL_49e14a01b15c4395bed001776a09ba8b",
      "value": 4309802
     }
    },
    "a519cbedcaa04607802fe79272ae0d3a": {
     "model_module": "@jupyter-widgets/base",
     "model_module_version": "1.2.0",
     "model_name": "LayoutModel",
     "state": {
      "_model_module": "@jupyter-widgets/base",
      "_model_module_version": "1.2.0",
      "_model_name": "LayoutModel",
      "_view_count": null,
      "_view_module": "@jupyter-widgets/base",
      "_view_module_version": "1.2.0",
      "_view_name": "LayoutView",
      "align_content": null,
      "align_items": null,
      "align_self": null,
      "border": null,
      "bottom": null,
      "display": null,
      "flex": null,
      "flex_flow": null,
      "grid_area": null,
      "grid_auto_columns": null,
      "grid_auto_flow": null,
      "grid_auto_rows": null,
      "grid_column": null,
      "grid_gap": null,
      "grid_row": null,
      "grid_template_areas": null,
      "grid_template_columns": null,
      "grid_template_rows": null,
      "height": null,
      "justify_content": null,
      "justify_items": null,
      "left": null,
      "margin": null,
      "max_height": null,
      "max_width": null,
      "min_height": null,
      "min_width": null,
      "object_fit": null,
      "object_position": null,
      "order": null,
      "overflow": null,
      "overflow_x": null,
      "overflow_y": null,
      "padding": null,
      "right": null,
      "top": null,
      "visibility": null,
      "width": null
     }
    },
    "a70411be2fdb48bea051512d85092d3f": {
     "model_module": "@jupyter-widgets/base",
     "model_module_version": "1.2.0",
     "model_name": "LayoutModel",
     "state": {
      "_model_module": "@jupyter-widgets/base",
      "_model_module_version": "1.2.0",
      "_model_name": "LayoutModel",
      "_view_count": null,
      "_view_module": "@jupyter-widgets/base",
      "_view_module_version": "1.2.0",
      "_view_name": "LayoutView",
      "align_content": null,
      "align_items": null,
      "align_self": null,
      "border": null,
      "bottom": null,
      "display": null,
      "flex": null,
      "flex_flow": null,
      "grid_area": null,
      "grid_auto_columns": null,
      "grid_auto_flow": null,
      "grid_auto_rows": null,
      "grid_column": null,
      "grid_gap": null,
      "grid_row": null,
      "grid_template_areas": null,
      "grid_template_columns": null,
      "grid_template_rows": null,
      "height": null,
      "justify_content": null,
      "justify_items": null,
      "left": null,
      "margin": null,
      "max_height": null,
      "max_width": null,
      "min_height": null,
      "min_width": null,
      "object_fit": null,
      "object_position": null,
      "order": null,
      "overflow": null,
      "overflow_x": null,
      "overflow_y": null,
      "padding": null,
      "right": null,
      "top": null,
      "visibility": null,
      "width": null
     }
    },
    "a79c9198dd2040f4b833bc98d8363620": {
     "model_module": "@jupyter-widgets/base",
     "model_module_version": "1.2.0",
     "model_name": "LayoutModel",
     "state": {
      "_model_module": "@jupyter-widgets/base",
      "_model_module_version": "1.2.0",
      "_model_name": "LayoutModel",
      "_view_count": null,
      "_view_module": "@jupyter-widgets/base",
      "_view_module_version": "1.2.0",
      "_view_name": "LayoutView",
      "align_content": null,
      "align_items": "center",
      "align_self": null,
      "border": null,
      "bottom": null,
      "display": "flex",
      "flex": null,
      "flex_flow": "column",
      "grid_area": null,
      "grid_auto_columns": null,
      "grid_auto_flow": null,
      "grid_auto_rows": null,
      "grid_column": null,
      "grid_gap": null,
      "grid_row": null,
      "grid_template_areas": null,
      "grid_template_columns": null,
      "grid_template_rows": null,
      "height": null,
      "justify_content": null,
      "justify_items": null,
      "left": null,
      "margin": null,
      "max_height": null,
      "max_width": null,
      "min_height": null,
      "min_width": null,
      "object_fit": null,
      "object_position": null,
      "order": null,
      "overflow": null,
      "overflow_x": null,
      "overflow_y": null,
      "padding": null,
      "right": null,
      "top": null,
      "visibility": null,
      "width": "50%"
     }
    },
    "a844b65103ce4254846d45b0163825e8": {
     "model_module": "@jupyter-widgets/controls",
     "model_module_version": "1.5.0",
     "model_name": "HBoxModel",
     "state": {
      "_dom_classes": [],
      "_model_module": "@jupyter-widgets/controls",
      "_model_module_version": "1.5.0",
      "_model_name": "HBoxModel",
      "_view_count": null,
      "_view_module": "@jupyter-widgets/controls",
      "_view_module_version": "1.5.0",
      "_view_name": "HBoxView",
      "box_style": "",
      "children": [
       "IPY_MODEL_09ebb0c4203447ecb06376d5220cdd5e",
       "IPY_MODEL_71c5577e90f64567a0e7446e98397f4d",
       "IPY_MODEL_92e81769bb934255a0f5c69583c9d8ed"
      ],
      "layout": "IPY_MODEL_d2bb6d5e6cf6456495a101f77a94533f"
     }
    },
    "b06959d151ed4d4bbc21b8b45f0941c5": {
     "model_module": "@jupyter-widgets/controls",
     "model_module_version": "1.5.0",
     "model_name": "HTMLModel",
     "state": {
      "_dom_classes": [],
      "_model_module": "@jupyter-widgets/controls",
      "_model_module_version": "1.5.0",
      "_model_name": "HTMLModel",
      "_view_count": null,
      "_view_module": "@jupyter-widgets/controls",
      "_view_module_version": "1.5.0",
      "_view_name": "HTMLView",
      "description": "",
      "description_tooltip": null,
      "layout": "IPY_MODEL_5ae8b8ce56d9446a809c17732bb15a2a",
      "placeholder": "​",
      "style": "IPY_MODEL_88054062824749a79b6a1caa74598290",
      "value": " 27162/27162 [01:50&lt;00:00, 261.60 examples/s]"
     }
    },
    "b08e2eaa3f5b4374b11d502c830b8c55": {
     "model_module": "@jupyter-widgets/controls",
     "model_module_version": "1.5.0",
     "model_name": "HBoxModel",
     "state": {
      "_dom_classes": [],
      "_model_module": "@jupyter-widgets/controls",
      "_model_module_version": "1.5.0",
      "_model_name": "HBoxModel",
      "_view_count": null,
      "_view_module": "@jupyter-widgets/controls",
      "_view_module_version": "1.5.0",
      "_view_name": "HBoxView",
      "box_style": "",
      "children": [
       "IPY_MODEL_f468f4fb42e044a481f71b9255563982",
       "IPY_MODEL_21be6a3b625e4ccfa46321dd5bc51e77",
       "IPY_MODEL_b06959d151ed4d4bbc21b8b45f0941c5"
      ],
      "layout": "IPY_MODEL_73dc797f0e044a21872e3272ce403524"
     }
    },
    "b207781f52db4f3fa528ca62f327181c": {
     "model_module": "@jupyter-widgets/controls",
     "model_module_version": "1.5.0",
     "model_name": "DescriptionStyleModel",
     "state": {
      "_model_module": "@jupyter-widgets/controls",
      "_model_module_version": "1.5.0",
      "_model_name": "DescriptionStyleModel",
      "_view_count": null,
      "_view_module": "@jupyter-widgets/base",
      "_view_module_version": "1.2.0",
      "_view_name": "StyleView",
      "description_width": ""
     }
    },
    "b3147e7d757e42558287b77413587266": {
     "model_module": "@jupyter-widgets/controls",
     "model_module_version": "1.5.0",
     "model_name": "DescriptionStyleModel",
     "state": {
      "_model_module": "@jupyter-widgets/controls",
      "_model_module_version": "1.5.0",
      "_model_name": "DescriptionStyleModel",
      "_view_count": null,
      "_view_module": "@jupyter-widgets/base",
      "_view_module_version": "1.2.0",
      "_view_name": "StyleView",
      "description_width": ""
     }
    },
    "b34d8c362d8c480fb6f2635fc473b848": {
     "model_module": "@jupyter-widgets/controls",
     "model_module_version": "1.5.0",
     "model_name": "CheckboxModel",
     "state": {
      "_dom_classes": [],
      "_model_module": "@jupyter-widgets/controls",
      "_model_module_version": "1.5.0",
      "_model_name": "CheckboxModel",
      "_view_count": null,
      "_view_module": "@jupyter-widgets/controls",
      "_view_module_version": "1.5.0",
      "_view_name": "CheckboxView",
      "description": "Add token as git credential?",
      "description_tooltip": null,
      "disabled": false,
      "indent": true,
      "layout": "IPY_MODEL_4d30b7febbae4b8789adfa908b5f7e66",
      "style": "IPY_MODEL_3693c4c6b830423390f370f8eb166c34",
      "value": false
     }
    },
    "b43bae3545e94e7cb5c4c7396beb1f5b": {
     "model_module": "@jupyter-widgets/controls",
     "model_module_version": "1.5.0",
     "model_name": "ProgressStyleModel",
     "state": {
      "_model_module": "@jupyter-widgets/controls",
      "_model_module_version": "1.5.0",
      "_model_name": "ProgressStyleModel",
      "_view_count": null,
      "_view_module": "@jupyter-widgets/base",
      "_view_module_version": "1.2.0",
      "_view_name": "StyleView",
      "bar_color": null,
      "description_width": ""
     }
    },
    "b88b83bbbed340e39a77c7e18a5f782e": {
     "model_module": "@jupyter-widgets/controls",
     "model_module_version": "1.5.0",
     "model_name": "HBoxModel",
     "state": {
      "_dom_classes": [],
      "_model_module": "@jupyter-widgets/controls",
      "_model_module_version": "1.5.0",
      "_model_name": "HBoxModel",
      "_view_count": null,
      "_view_module": "@jupyter-widgets/controls",
      "_view_module_version": "1.5.0",
      "_view_name": "HBoxView",
      "box_style": "",
      "children": [
       "IPY_MODEL_46076cfd985a4fdea0d8621210f573fe",
       "IPY_MODEL_caa706e074504f9fadaff7af3fbb6319",
       "IPY_MODEL_88eb58d6aca54d8cb35883b267556ff7"
      ],
      "layout": "IPY_MODEL_a70411be2fdb48bea051512d85092d3f"
     }
    },
    "b95c1a7a765b487ea6f07bcd63833376": {
     "model_module": "@jupyter-widgets/base",
     "model_module_version": "1.2.0",
     "model_name": "LayoutModel",
     "state": {
      "_model_module": "@jupyter-widgets/base",
      "_model_module_version": "1.2.0",
      "_model_name": "LayoutModel",
      "_view_count": null,
      "_view_module": "@jupyter-widgets/base",
      "_view_module_version": "1.2.0",
      "_view_name": "LayoutView",
      "align_content": null,
      "align_items": null,
      "align_self": null,
      "border": null,
      "bottom": null,
      "display": null,
      "flex": null,
      "flex_flow": null,
      "grid_area": null,
      "grid_auto_columns": null,
      "grid_auto_flow": null,
      "grid_auto_rows": null,
      "grid_column": null,
      "grid_gap": null,
      "grid_row": null,
      "grid_template_areas": null,
      "grid_template_columns": null,
      "grid_template_rows": null,
      "height": null,
      "justify_content": null,
      "justify_items": null,
      "left": null,
      "margin": null,
      "max_height": null,
      "max_width": null,
      "min_height": null,
      "min_width": null,
      "object_fit": null,
      "object_position": null,
      "order": null,
      "overflow": null,
      "overflow_x": null,
      "overflow_y": null,
      "padding": null,
      "right": null,
      "top": null,
      "visibility": null,
      "width": null
     }
    },
    "b982ff5c225b41d38c32b9a3cc70b85c": {
     "model_module": "@jupyter-widgets/controls",
     "model_module_version": "1.5.0",
     "model_name": "VBoxModel",
     "state": {
      "_dom_classes": [],
      "_model_module": "@jupyter-widgets/controls",
      "_model_module_version": "1.5.0",
      "_model_name": "VBoxModel",
      "_view_count": null,
      "_view_module": "@jupyter-widgets/controls",
      "_view_module_version": "1.5.0",
      "_view_name": "VBoxView",
      "box_style": "",
      "children": [
       "IPY_MODEL_c8829f736e0d4ba38f0e12d9e4e92def",
       "IPY_MODEL_8448ba49d1704f24b1f9d4d8d63bd040",
       "IPY_MODEL_21145d7667c44df28b8c37fdbece489e"
      ],
      "layout": "IPY_MODEL_a79c9198dd2040f4b833bc98d8363620"
     }
    },
    "ba2152864862402fbfb94f4f79d2608a": {
     "model_module": "@jupyter-widgets/base",
     "model_module_version": "1.2.0",
     "model_name": "LayoutModel",
     "state": {
      "_model_module": "@jupyter-widgets/base",
      "_model_module_version": "1.2.0",
      "_model_name": "LayoutModel",
      "_view_count": null,
      "_view_module": "@jupyter-widgets/base",
      "_view_module_version": "1.2.0",
      "_view_name": "LayoutView",
      "align_content": null,
      "align_items": null,
      "align_self": null,
      "border": null,
      "bottom": null,
      "display": null,
      "flex": null,
      "flex_flow": null,
      "grid_area": null,
      "grid_auto_columns": null,
      "grid_auto_flow": null,
      "grid_auto_rows": null,
      "grid_column": null,
      "grid_gap": null,
      "grid_row": null,
      "grid_template_areas": null,
      "grid_template_columns": null,
      "grid_template_rows": null,
      "height": null,
      "justify_content": null,
      "justify_items": null,
      "left": null,
      "margin": null,
      "max_height": null,
      "max_width": null,
      "min_height": null,
      "min_width": null,
      "object_fit": null,
      "object_position": null,
      "order": null,
      "overflow": null,
      "overflow_x": null,
      "overflow_y": null,
      "padding": null,
      "right": null,
      "top": null,
      "visibility": null,
      "width": null
     }
    },
    "bcdd52b651044b47b9ed101b0866d153": {
     "model_module": "@jupyter-widgets/controls",
     "model_module_version": "1.5.0",
     "model_name": "FloatProgressModel",
     "state": {
      "_dom_classes": [],
      "_model_module": "@jupyter-widgets/controls",
      "_model_module_version": "1.5.0",
      "_model_name": "FloatProgressModel",
      "_view_count": null,
      "_view_module": "@jupyter-widgets/controls",
      "_view_module_version": "1.5.0",
      "_view_name": "ProgressView",
      "bar_style": "success",
      "description": "",
      "description_tooltip": null,
      "layout": "IPY_MODEL_da186ef877764508b91ab8b9935bf90b",
      "max": 6270,
      "min": 0,
      "orientation": "horizontal",
      "style": "IPY_MODEL_b43bae3545e94e7cb5c4c7396beb1f5b",
      "value": 6270
     }
    },
    "bcf12791dac04776b084a86d5b9f0852": {
     "model_module": "@jupyter-widgets/base",
     "model_module_version": "1.2.0",
     "model_name": "LayoutModel",
     "state": {
      "_model_module": "@jupyter-widgets/base",
      "_model_module_version": "1.2.0",
      "_model_name": "LayoutModel",
      "_view_count": null,
      "_view_module": "@jupyter-widgets/base",
      "_view_module_version": "1.2.0",
      "_view_name": "LayoutView",
      "align_content": null,
      "align_items": null,
      "align_self": null,
      "border": null,
      "bottom": null,
      "display": null,
      "flex": null,
      "flex_flow": null,
      "grid_area": null,
      "grid_auto_columns": null,
      "grid_auto_flow": null,
      "grid_auto_rows": null,
      "grid_column": null,
      "grid_gap": null,
      "grid_row": null,
      "grid_template_areas": null,
      "grid_template_columns": null,
      "grid_template_rows": null,
      "height": null,
      "justify_content": null,
      "justify_items": null,
      "left": null,
      "margin": null,
      "max_height": null,
      "max_width": null,
      "min_height": null,
      "min_width": null,
      "object_fit": null,
      "object_position": null,
      "order": null,
      "overflow": null,
      "overflow_x": null,
      "overflow_y": null,
      "padding": null,
      "right": null,
      "top": null,
      "visibility": null,
      "width": null
     }
    },
    "bfca392346b443208282fb419431e2ab": {
     "model_module": "@jupyter-widgets/base",
     "model_module_version": "1.2.0",
     "model_name": "LayoutModel",
     "state": {
      "_model_module": "@jupyter-widgets/base",
      "_model_module_version": "1.2.0",
      "_model_name": "LayoutModel",
      "_view_count": null,
      "_view_module": "@jupyter-widgets/base",
      "_view_module_version": "1.2.0",
      "_view_name": "LayoutView",
      "align_content": null,
      "align_items": null,
      "align_self": null,
      "border": null,
      "bottom": null,
      "display": null,
      "flex": null,
      "flex_flow": null,
      "grid_area": null,
      "grid_auto_columns": null,
      "grid_auto_flow": null,
      "grid_auto_rows": null,
      "grid_column": null,
      "grid_gap": null,
      "grid_row": null,
      "grid_template_areas": null,
      "grid_template_columns": null,
      "grid_template_rows": null,
      "height": null,
      "justify_content": null,
      "justify_items": null,
      "left": null,
      "margin": null,
      "max_height": null,
      "max_width": null,
      "min_height": null,
      "min_width": null,
      "object_fit": null,
      "object_position": null,
      "order": null,
      "overflow": null,
      "overflow_x": null,
      "overflow_y": null,
      "padding": null,
      "right": null,
      "top": null,
      "visibility": null,
      "width": null
     }
    },
    "bff2b53eba8749ca8a74ba37c4c0e95e": {
     "model_module": "@jupyter-widgets/base",
     "model_module_version": "1.2.0",
     "model_name": "LayoutModel",
     "state": {
      "_model_module": "@jupyter-widgets/base",
      "_model_module_version": "1.2.0",
      "_model_name": "LayoutModel",
      "_view_count": null,
      "_view_module": "@jupyter-widgets/base",
      "_view_module_version": "1.2.0",
      "_view_name": "LayoutView",
      "align_content": null,
      "align_items": null,
      "align_self": null,
      "border": null,
      "bottom": null,
      "display": null,
      "flex": null,
      "flex_flow": null,
      "grid_area": null,
      "grid_auto_columns": null,
      "grid_auto_flow": null,
      "grid_auto_rows": null,
      "grid_column": null,
      "grid_gap": null,
      "grid_row": null,
      "grid_template_areas": null,
      "grid_template_columns": null,
      "grid_template_rows": null,
      "height": null,
      "justify_content": null,
      "justify_items": null,
      "left": null,
      "margin": null,
      "max_height": null,
      "max_width": null,
      "min_height": null,
      "min_width": null,
      "object_fit": null,
      "object_position": null,
      "order": null,
      "overflow": null,
      "overflow_x": null,
      "overflow_y": null,
      "padding": null,
      "right": null,
      "top": null,
      "visibility": null,
      "width": null
     }
    },
    "c30428fcdecc4f29a0c827b6c4602a79": {
     "model_module": "@jupyter-widgets/controls",
     "model_module_version": "1.5.0",
     "model_name": "HTMLModel",
     "state": {
      "_dom_classes": [],
      "_model_module": "@jupyter-widgets/controls",
      "_model_module_version": "1.5.0",
      "_model_name": "HTMLModel",
      "_view_count": null,
      "_view_module": "@jupyter-widgets/controls",
      "_view_module_version": "1.5.0",
      "_view_name": "HTMLView",
      "description": "",
      "description_tooltip": null,
      "layout": "IPY_MODEL_9ecff1a6f4dd416babafeba568bcd81b",
      "placeholder": "​",
      "style": "IPY_MODEL_dae0f42a0b304b4fbcbbc0280cff680a",
      "value": "\n<b>Pro Tip:</b> If you don't already have one, you can create a dedicated\n'notebooks' token with 'write' access, that you can then easily reuse for all\nnotebooks. </center>"
     }
    },
    "c4825eb0f7be41c0a88749174d7e9dff": {
     "model_module": "@jupyter-widgets/controls",
     "model_module_version": "1.5.0",
     "model_name": "LabelModel",
     "state": {
      "_dom_classes": [],
      "_model_module": "@jupyter-widgets/controls",
      "_model_module_version": "1.5.0",
      "_model_name": "LabelModel",
      "_view_count": null,
      "_view_module": "@jupyter-widgets/controls",
      "_view_module_version": "1.5.0",
      "_view_name": "LabelView",
      "description": "",
      "description_tooltip": null,
      "layout": "IPY_MODEL_f85de95973a2492b99a5b8ec71f8b42d",
      "placeholder": "​",
      "style": "IPY_MODEL_b207781f52db4f3fa528ca62f327181c",
      "value": "Connecting..."
     }
    },
    "c5f8d29f6ce445a886f2496c7063b81f": {
     "model_module": "@jupyter-widgets/controls",
     "model_module_version": "1.5.0",
     "model_name": "DescriptionStyleModel",
     "state": {
      "_model_module": "@jupyter-widgets/controls",
      "_model_module_version": "1.5.0",
      "_model_name": "DescriptionStyleModel",
      "_view_count": null,
      "_view_module": "@jupyter-widgets/base",
      "_view_module_version": "1.2.0",
      "_view_name": "StyleView",
      "description_width": ""
     }
    },
    "c65d848d887249e897c4890e694def65": {
     "model_module": "@jupyter-widgets/controls",
     "model_module_version": "1.5.0",
     "model_name": "ProgressStyleModel",
     "state": {
      "_model_module": "@jupyter-widgets/controls",
      "_model_module_version": "1.5.0",
      "_model_name": "ProgressStyleModel",
      "_view_count": null,
      "_view_module": "@jupyter-widgets/base",
      "_view_module_version": "1.2.0",
      "_view_name": "StyleView",
      "bar_color": null,
      "description_width": ""
     }
    },
    "c75097b49273402b813933bab9f2aacd": {
     "model_module": "@jupyter-widgets/controls",
     "model_module_version": "1.5.0",
     "model_name": "ProgressStyleModel",
     "state": {
      "_model_module": "@jupyter-widgets/controls",
      "_model_module_version": "1.5.0",
      "_model_name": "ProgressStyleModel",
      "_view_count": null,
      "_view_module": "@jupyter-widgets/base",
      "_view_module_version": "1.2.0",
      "_view_name": "StyleView",
      "bar_color": null,
      "description_width": ""
     }
    },
    "c8829f736e0d4ba38f0e12d9e4e92def": {
     "model_module": "@jupyter-widgets/controls",
     "model_module_version": "1.5.0",
     "model_name": "LabelModel",
     "state": {
      "_dom_classes": [],
      "_model_module": "@jupyter-widgets/controls",
      "_model_module_version": "1.5.0",
      "_model_name": "LabelModel",
      "_view_count": null,
      "_view_module": "@jupyter-widgets/controls",
      "_view_module_version": "1.5.0",
      "_view_name": "LabelView",
      "description": "",
      "description_tooltip": null,
      "layout": "IPY_MODEL_ba2152864862402fbfb94f4f79d2608a",
      "placeholder": "​",
      "style": "IPY_MODEL_d4c91d198da24977b108dbf793295c97",
      "value": "Token is valid (permission: write)."
     }
    },
    "c89f8bdfa802449ab0c2e651d9db3825": {
     "model_module": "@jupyter-widgets/controls",
     "model_module_version": "1.5.0",
     "model_name": "DescriptionStyleModel",
     "state": {
      "_model_module": "@jupyter-widgets/controls",
      "_model_module_version": "1.5.0",
      "_model_name": "DescriptionStyleModel",
      "_view_count": null,
      "_view_module": "@jupyter-widgets/base",
      "_view_module_version": "1.2.0",
      "_view_name": "StyleView",
      "description_width": ""
     }
    },
    "c9261307f1f84900aac82997f3e2b5d8": {
     "model_module": "@jupyter-widgets/base",
     "model_module_version": "1.2.0",
     "model_name": "LayoutModel",
     "state": {
      "_model_module": "@jupyter-widgets/base",
      "_model_module_version": "1.2.0",
      "_model_name": "LayoutModel",
      "_view_count": null,
      "_view_module": "@jupyter-widgets/base",
      "_view_module_version": "1.2.0",
      "_view_name": "LayoutView",
      "align_content": null,
      "align_items": null,
      "align_self": null,
      "border": null,
      "bottom": null,
      "display": null,
      "flex": null,
      "flex_flow": null,
      "grid_area": null,
      "grid_auto_columns": null,
      "grid_auto_flow": null,
      "grid_auto_rows": null,
      "grid_column": null,
      "grid_gap": null,
      "grid_row": null,
      "grid_template_areas": null,
      "grid_template_columns": null,
      "grid_template_rows": null,
      "height": null,
      "justify_content": null,
      "justify_items": null,
      "left": null,
      "margin": null,
      "max_height": null,
      "max_width": null,
      "min_height": null,
      "min_width": null,
      "object_fit": null,
      "object_position": null,
      "order": null,
      "overflow": null,
      "overflow_x": null,
      "overflow_y": null,
      "padding": null,
      "right": null,
      "top": null,
      "visibility": null,
      "width": null
     }
    },
    "c96f705b9c554b469968a5d1e31123c4": {
     "model_module": "@jupyter-widgets/base",
     "model_module_version": "1.2.0",
     "model_name": "LayoutModel",
     "state": {
      "_model_module": "@jupyter-widgets/base",
      "_model_module_version": "1.2.0",
      "_model_name": "LayoutModel",
      "_view_count": null,
      "_view_module": "@jupyter-widgets/base",
      "_view_module_version": "1.2.0",
      "_view_name": "LayoutView",
      "align_content": null,
      "align_items": null,
      "align_self": null,
      "border": null,
      "bottom": null,
      "display": null,
      "flex": null,
      "flex_flow": null,
      "grid_area": null,
      "grid_auto_columns": null,
      "grid_auto_flow": null,
      "grid_auto_rows": null,
      "grid_column": null,
      "grid_gap": null,
      "grid_row": null,
      "grid_template_areas": null,
      "grid_template_columns": null,
      "grid_template_rows": null,
      "height": null,
      "justify_content": null,
      "justify_items": null,
      "left": null,
      "margin": null,
      "max_height": null,
      "max_width": null,
      "min_height": null,
      "min_width": null,
      "object_fit": null,
      "object_position": null,
      "order": null,
      "overflow": null,
      "overflow_x": null,
      "overflow_y": null,
      "padding": null,
      "right": null,
      "top": null,
      "visibility": null,
      "width": null
     }
    },
    "caa706e074504f9fadaff7af3fbb6319": {
     "model_module": "@jupyter-widgets/controls",
     "model_module_version": "1.5.0",
     "model_name": "FloatProgressModel",
     "state": {
      "_dom_classes": [],
      "_model_module": "@jupyter-widgets/controls",
      "_model_module_version": "1.5.0",
      "_model_name": "FloatProgressModel",
      "_view_count": null,
      "_view_module": "@jupyter-widgets/controls",
      "_view_module_version": "1.5.0",
      "_view_name": "ProgressView",
      "bar_style": "success",
      "description": "",
      "description_tooltip": null,
      "layout": "IPY_MODEL_864a8e3d241f42b7a2564b1866db4cef",
      "max": 147,
      "min": 0,
      "orientation": "horizontal",
      "style": "IPY_MODEL_f17531bead63446db92c25b1224eb5a3",
      "value": 147
     }
    },
    "cd8645683ba44df497628662ea9ca822": {
     "model_module": "@jupyter-widgets/base",
     "model_module_version": "1.2.0",
     "model_name": "LayoutModel",
     "state": {
      "_model_module": "@jupyter-widgets/base",
      "_model_module_version": "1.2.0",
      "_model_name": "LayoutModel",
      "_view_count": null,
      "_view_module": "@jupyter-widgets/base",
      "_view_module_version": "1.2.0",
      "_view_name": "LayoutView",
      "align_content": null,
      "align_items": null,
      "align_self": null,
      "border": null,
      "bottom": null,
      "display": null,
      "flex": null,
      "flex_flow": null,
      "grid_area": null,
      "grid_auto_columns": null,
      "grid_auto_flow": null,
      "grid_auto_rows": null,
      "grid_column": null,
      "grid_gap": null,
      "grid_row": null,
      "grid_template_areas": null,
      "grid_template_columns": null,
      "grid_template_rows": null,
      "height": null,
      "justify_content": null,
      "justify_items": null,
      "left": null,
      "margin": null,
      "max_height": null,
      "max_width": null,
      "min_height": null,
      "min_width": null,
      "object_fit": null,
      "object_position": null,
      "order": null,
      "overflow": null,
      "overflow_x": null,
      "overflow_y": null,
      "padding": null,
      "right": null,
      "top": null,
      "visibility": null,
      "width": null
     }
    },
    "cdad0a1bfbf944d8b43f811ad8236407": {
     "model_module": "@jupyter-widgets/controls",
     "model_module_version": "1.5.0",
     "model_name": "DescriptionStyleModel",
     "state": {
      "_model_module": "@jupyter-widgets/controls",
      "_model_module_version": "1.5.0",
      "_model_name": "DescriptionStyleModel",
      "_view_count": null,
      "_view_module": "@jupyter-widgets/base",
      "_view_module_version": "1.2.0",
      "_view_name": "StyleView",
      "description_width": ""
     }
    },
    "cf2ed05d78044c9a82827af5b1dfc3d1": {
     "model_module": "@jupyter-widgets/controls",
     "model_module_version": "1.5.0",
     "model_name": "HTMLModel",
     "state": {
      "_dom_classes": [],
      "_model_module": "@jupyter-widgets/controls",
      "_model_module_version": "1.5.0",
      "_model_name": "HTMLModel",
      "_view_count": null,
      "_view_module": "@jupyter-widgets/controls",
      "_view_module_version": "1.5.0",
      "_view_name": "HTMLView",
      "description": "",
      "description_tooltip": null,
      "layout": "IPY_MODEL_dfe5884aa0874b478b20ea8e95e896a7",
      "placeholder": "​",
      "style": "IPY_MODEL_b3147e7d757e42558287b77413587266",
      "value": " 4.31M/4.31M [00:00&lt;00:00, 7.80MB/s]"
     }
    },
    "d0100d94a1584833b0f07cf7d08e5870": {
     "model_module": "@jupyter-widgets/base",
     "model_module_version": "1.2.0",
     "model_name": "LayoutModel",
     "state": {
      "_model_module": "@jupyter-widgets/base",
      "_model_module_version": "1.2.0",
      "_model_name": "LayoutModel",
      "_view_count": null,
      "_view_module": "@jupyter-widgets/base",
      "_view_module_version": "1.2.0",
      "_view_name": "LayoutView",
      "align_content": null,
      "align_items": null,
      "align_self": null,
      "border": null,
      "bottom": null,
      "display": null,
      "flex": null,
      "flex_flow": null,
      "grid_area": null,
      "grid_auto_columns": null,
      "grid_auto_flow": null,
      "grid_auto_rows": null,
      "grid_column": null,
      "grid_gap": null,
      "grid_row": null,
      "grid_template_areas": null,
      "grid_template_columns": null,
      "grid_template_rows": null,
      "height": null,
      "justify_content": null,
      "justify_items": null,
      "left": null,
      "margin": null,
      "max_height": null,
      "max_width": null,
      "min_height": null,
      "min_width": null,
      "object_fit": null,
      "object_position": null,
      "order": null,
      "overflow": null,
      "overflow_x": null,
      "overflow_y": null,
      "padding": null,
      "right": null,
      "top": null,
      "visibility": null,
      "width": null
     }
    },
    "d07b7ee40bc242fd808e37642363c94b": {
     "model_module": "@jupyter-widgets/controls",
     "model_module_version": "1.5.0",
     "model_name": "HTMLModel",
     "state": {
      "_dom_classes": [],
      "_model_module": "@jupyter-widgets/controls",
      "_model_module_version": "1.5.0",
      "_model_name": "HTMLModel",
      "_view_count": null,
      "_view_module": "@jupyter-widgets/controls",
      "_view_module_version": "1.5.0",
      "_view_name": "HTMLView",
      "description": "",
      "description_tooltip": null,
      "layout": "IPY_MODEL_d0b70e64994d45428d87969781b11f16",
      "placeholder": "​",
      "style": "IPY_MODEL_1c8b34dade60490baa8ce235704299f3",
      "value": "Downloading pytorch_model.bin: 100%"
     }
    },
    "d0b70e64994d45428d87969781b11f16": {
     "model_module": "@jupyter-widgets/base",
     "model_module_version": "1.2.0",
     "model_name": "LayoutModel",
     "state": {
      "_model_module": "@jupyter-widgets/base",
      "_model_module_version": "1.2.0",
      "_model_name": "LayoutModel",
      "_view_count": null,
      "_view_module": "@jupyter-widgets/base",
      "_view_module_version": "1.2.0",
      "_view_name": "LayoutView",
      "align_content": null,
      "align_items": null,
      "align_self": null,
      "border": null,
      "bottom": null,
      "display": null,
      "flex": null,
      "flex_flow": null,
      "grid_area": null,
      "grid_auto_columns": null,
      "grid_auto_flow": null,
      "grid_auto_rows": null,
      "grid_column": null,
      "grid_gap": null,
      "grid_row": null,
      "grid_template_areas": null,
      "grid_template_columns": null,
      "grid_template_rows": null,
      "height": null,
      "justify_content": null,
      "justify_items": null,
      "left": null,
      "margin": null,
      "max_height": null,
      "max_width": null,
      "min_height": null,
      "min_width": null,
      "object_fit": null,
      "object_position": null,
      "order": null,
      "overflow": null,
      "overflow_x": null,
      "overflow_y": null,
      "padding": null,
      "right": null,
      "top": null,
      "visibility": null,
      "width": null
     }
    },
    "d0bed6d844fc47d4bcab1119ed565690": {
     "model_module": "@jupyter-widgets/controls",
     "model_module_version": "1.5.0",
     "model_name": "HTMLModel",
     "state": {
      "_dom_classes": [],
      "_model_module": "@jupyter-widgets/controls",
      "_model_module_version": "1.5.0",
      "_model_name": "HTMLModel",
      "_view_count": null,
      "_view_module": "@jupyter-widgets/controls",
      "_view_module_version": "1.5.0",
      "_view_name": "HTMLView",
      "description": "",
      "description_tooltip": null,
      "layout": "IPY_MODEL_459fc58f7ca94f95a52d7c43ae616064",
      "placeholder": "​",
      "style": "IPY_MODEL_5aec8b80e7ea4a5697c6426f2ddb22fe",
      "value": "Downloading (…)ve/main/spiece.model: 100%"
     }
    },
    "d2571a8483214c9fb1a7936bcc89aa99": {
     "model_module": "@jupyter-widgets/base",
     "model_module_version": "1.2.0",
     "model_name": "LayoutModel",
     "state": {
      "_model_module": "@jupyter-widgets/base",
      "_model_module_version": "1.2.0",
      "_model_name": "LayoutModel",
      "_view_count": null,
      "_view_module": "@jupyter-widgets/base",
      "_view_module_version": "1.2.0",
      "_view_name": "LayoutView",
      "align_content": null,
      "align_items": null,
      "align_self": null,
      "border": null,
      "bottom": null,
      "display": null,
      "flex": null,
      "flex_flow": null,
      "grid_area": null,
      "grid_auto_columns": null,
      "grid_auto_flow": null,
      "grid_auto_rows": null,
      "grid_column": null,
      "grid_gap": null,
      "grid_row": null,
      "grid_template_areas": null,
      "grid_template_columns": null,
      "grid_template_rows": null,
      "height": null,
      "justify_content": null,
      "justify_items": null,
      "left": null,
      "margin": null,
      "max_height": null,
      "max_width": null,
      "min_height": null,
      "min_width": null,
      "object_fit": null,
      "object_position": null,
      "order": null,
      "overflow": null,
      "overflow_x": null,
      "overflow_y": null,
      "padding": null,
      "right": null,
      "top": null,
      "visibility": null,
      "width": null
     }
    },
    "d2bb6d5e6cf6456495a101f77a94533f": {
     "model_module": "@jupyter-widgets/base",
     "model_module_version": "1.2.0",
     "model_name": "LayoutModel",
     "state": {
      "_model_module": "@jupyter-widgets/base",
      "_model_module_version": "1.2.0",
      "_model_name": "LayoutModel",
      "_view_count": null,
      "_view_module": "@jupyter-widgets/base",
      "_view_module_version": "1.2.0",
      "_view_name": "LayoutView",
      "align_content": null,
      "align_items": null,
      "align_self": null,
      "border": null,
      "bottom": null,
      "display": null,
      "flex": null,
      "flex_flow": null,
      "grid_area": null,
      "grid_auto_columns": null,
      "grid_auto_flow": null,
      "grid_auto_rows": null,
      "grid_column": null,
      "grid_gap": null,
      "grid_row": null,
      "grid_template_areas": null,
      "grid_template_columns": null,
      "grid_template_rows": null,
      "height": null,
      "justify_content": null,
      "justify_items": null,
      "left": null,
      "margin": null,
      "max_height": null,
      "max_width": null,
      "min_height": null,
      "min_width": null,
      "object_fit": null,
      "object_position": null,
      "order": null,
      "overflow": null,
      "overflow_x": null,
      "overflow_y": null,
      "padding": null,
      "right": null,
      "top": null,
      "visibility": null,
      "width": null
     }
    },
    "d4c91d198da24977b108dbf793295c97": {
     "model_module": "@jupyter-widgets/controls",
     "model_module_version": "1.5.0",
     "model_name": "DescriptionStyleModel",
     "state": {
      "_model_module": "@jupyter-widgets/controls",
      "_model_module_version": "1.5.0",
      "_model_name": "DescriptionStyleModel",
      "_view_count": null,
      "_view_module": "@jupyter-widgets/base",
      "_view_module_version": "1.2.0",
      "_view_name": "StyleView",
      "description_width": ""
     }
    },
    "d86ec5c7c6f64ab58e8a67384a1fa1b7": {
     "model_module": "@jupyter-widgets/controls",
     "model_module_version": "1.5.0",
     "model_name": "DescriptionStyleModel",
     "state": {
      "_model_module": "@jupyter-widgets/controls",
      "_model_module_version": "1.5.0",
      "_model_name": "DescriptionStyleModel",
      "_view_count": null,
      "_view_module": "@jupyter-widgets/base",
      "_view_module_version": "1.2.0",
      "_view_name": "StyleView",
      "description_width": ""
     }
    },
    "da186ef877764508b91ab8b9935bf90b": {
     "model_module": "@jupyter-widgets/base",
     "model_module_version": "1.2.0",
     "model_name": "LayoutModel",
     "state": {
      "_model_module": "@jupyter-widgets/base",
      "_model_module_version": "1.2.0",
      "_model_name": "LayoutModel",
      "_view_count": null,
      "_view_module": "@jupyter-widgets/base",
      "_view_module_version": "1.2.0",
      "_view_name": "LayoutView",
      "align_content": null,
      "align_items": null,
      "align_self": null,
      "border": null,
      "bottom": null,
      "display": null,
      "flex": null,
      "flex_flow": null,
      "grid_area": null,
      "grid_auto_columns": null,
      "grid_auto_flow": null,
      "grid_auto_rows": null,
      "grid_column": null,
      "grid_gap": null,
      "grid_row": null,
      "grid_template_areas": null,
      "grid_template_columns": null,
      "grid_template_rows": null,
      "height": null,
      "justify_content": null,
      "justify_items": null,
      "left": null,
      "margin": null,
      "max_height": null,
      "max_width": null,
      "min_height": null,
      "min_width": null,
      "object_fit": null,
      "object_position": null,
      "order": null,
      "overflow": null,
      "overflow_x": null,
      "overflow_y": null,
      "padding": null,
      "right": null,
      "top": null,
      "visibility": null,
      "width": null
     }
    },
    "dae0f42a0b304b4fbcbbc0280cff680a": {
     "model_module": "@jupyter-widgets/controls",
     "model_module_version": "1.5.0",
     "model_name": "DescriptionStyleModel",
     "state": {
      "_model_module": "@jupyter-widgets/controls",
      "_model_module_version": "1.5.0",
      "_model_name": "DescriptionStyleModel",
      "_view_count": null,
      "_view_module": "@jupyter-widgets/base",
      "_view_module_version": "1.2.0",
      "_view_name": "StyleView",
      "description_width": ""
     }
    },
    "dfe5884aa0874b478b20ea8e95e896a7": {
     "model_module": "@jupyter-widgets/base",
     "model_module_version": "1.2.0",
     "model_name": "LayoutModel",
     "state": {
      "_model_module": "@jupyter-widgets/base",
      "_model_module_version": "1.2.0",
      "_model_name": "LayoutModel",
      "_view_count": null,
      "_view_module": "@jupyter-widgets/base",
      "_view_module_version": "1.2.0",
      "_view_name": "LayoutView",
      "align_content": null,
      "align_items": null,
      "align_self": null,
      "border": null,
      "bottom": null,
      "display": null,
      "flex": null,
      "flex_flow": null,
      "grid_area": null,
      "grid_auto_columns": null,
      "grid_auto_flow": null,
      "grid_auto_rows": null,
      "grid_column": null,
      "grid_gap": null,
      "grid_row": null,
      "grid_template_areas": null,
      "grid_template_columns": null,
      "grid_template_rows": null,
      "height": null,
      "justify_content": null,
      "justify_items": null,
      "left": null,
      "margin": null,
      "max_height": null,
      "max_width": null,
      "min_height": null,
      "min_width": null,
      "object_fit": null,
      "object_position": null,
      "order": null,
      "overflow": null,
      "overflow_x": null,
      "overflow_y": null,
      "padding": null,
      "right": null,
      "top": null,
      "visibility": null,
      "width": null
     }
    },
    "e06e14d770be4f75b15f21807dec0e32": {
     "model_module": "@jupyter-widgets/controls",
     "model_module_version": "1.5.0",
     "model_name": "DescriptionStyleModel",
     "state": {
      "_model_module": "@jupyter-widgets/controls",
      "_model_module_version": "1.5.0",
      "_model_name": "DescriptionStyleModel",
      "_view_count": null,
      "_view_module": "@jupyter-widgets/base",
      "_view_module_version": "1.2.0",
      "_view_name": "StyleView",
      "description_width": ""
     }
    },
    "e0dc78056032494482012f502b0b98cd": {
     "model_module": "@jupyter-widgets/controls",
     "model_module_version": "1.5.0",
     "model_name": "ProgressStyleModel",
     "state": {
      "_model_module": "@jupyter-widgets/controls",
      "_model_module_version": "1.5.0",
      "_model_name": "ProgressStyleModel",
      "_view_count": null,
      "_view_module": "@jupyter-widgets/base",
      "_view_module_version": "1.2.0",
      "_view_name": "StyleView",
      "bar_color": null,
      "description_width": ""
     }
    },
    "e7ab82e5afc04577b9756b9cb406fb6a": {
     "model_module": "@jupyter-widgets/controls",
     "model_module_version": "1.5.0",
     "model_name": "HBoxModel",
     "state": {
      "_dom_classes": [],
      "_model_module": "@jupyter-widgets/controls",
      "_model_module_version": "1.5.0",
      "_model_name": "HBoxModel",
      "_view_count": null,
      "_view_module": "@jupyter-widgets/controls",
      "_view_module_version": "1.5.0",
      "_view_name": "HBoxView",
      "box_style": "",
      "children": [
       "IPY_MODEL_69fd417fa6744092830893f292af7d1c",
       "IPY_MODEL_02e07a0750f04c3ebccd6a9ead28c870",
       "IPY_MODEL_9ff07c10bc9c435a857752917cd95052"
      ],
      "layout": "IPY_MODEL_5834af2f297e41c1b81dc85a40d5fd5a"
     }
    },
    "e8c79852f4ba47de9d76f38ad88ec9a2": {
     "model_module": "@jupyter-widgets/controls",
     "model_module_version": "1.5.0",
     "model_name": "FloatProgressModel",
     "state": {
      "_dom_classes": [],
      "_model_module": "@jupyter-widgets/controls",
      "_model_module_version": "1.5.0",
      "_model_name": "FloatProgressModel",
      "_view_count": null,
      "_view_module": "@jupyter-widgets/controls",
      "_view_module_version": "1.5.0",
      "_view_name": "ProgressView",
      "bar_style": "success",
      "description": "",
      "description_tooltip": null,
      "layout": "IPY_MODEL_79a1af6b9ea049129fbc485caa2c2a81",
      "max": 82,
      "min": 0,
      "orientation": "horizontal",
      "style": "IPY_MODEL_c75097b49273402b813933bab9f2aacd",
      "value": 82
     }
    },
    "ea4ff33578a240aeb2e2eb4029e02d06": {
     "model_module": "@jupyter-widgets/base",
     "model_module_version": "1.2.0",
     "model_name": "LayoutModel",
     "state": {
      "_model_module": "@jupyter-widgets/base",
      "_model_module_version": "1.2.0",
      "_model_name": "LayoutModel",
      "_view_count": null,
      "_view_module": "@jupyter-widgets/base",
      "_view_module_version": "1.2.0",
      "_view_name": "LayoutView",
      "align_content": null,
      "align_items": null,
      "align_self": null,
      "border": null,
      "bottom": null,
      "display": null,
      "flex": null,
      "flex_flow": null,
      "grid_area": null,
      "grid_auto_columns": null,
      "grid_auto_flow": null,
      "grid_auto_rows": null,
      "grid_column": null,
      "grid_gap": null,
      "grid_row": null,
      "grid_template_areas": null,
      "grid_template_columns": null,
      "grid_template_rows": null,
      "height": null,
      "justify_content": null,
      "justify_items": null,
      "left": null,
      "margin": null,
      "max_height": null,
      "max_width": null,
      "min_height": null,
      "min_width": null,
      "object_fit": null,
      "object_position": null,
      "order": null,
      "overflow": null,
      "overflow_x": null,
      "overflow_y": null,
      "padding": null,
      "right": null,
      "top": null,
      "visibility": null,
      "width": null
     }
    },
    "eb62233a91e8472b944ce10ba84767b0": {
     "model_module": "@jupyter-widgets/controls",
     "model_module_version": "1.5.0",
     "model_name": "HTMLModel",
     "state": {
      "_dom_classes": [],
      "_model_module": "@jupyter-widgets/controls",
      "_model_module_version": "1.5.0",
      "_model_name": "HTMLModel",
      "_view_count": null,
      "_view_module": "@jupyter-widgets/controls",
      "_view_module_version": "1.5.0",
      "_view_name": "HTMLView",
      "description": "",
      "description_tooltip": null,
      "layout": "IPY_MODEL_4177692f44114f3fa78ad55a87b8281c",
      "placeholder": "​",
      "style": "IPY_MODEL_1a064b30aced4b4183ac572c8b5ec52e",
      "value": " 6.27k/6.27k [00:00&lt;00:00, 109kB/s]"
     }
    },
    "f17531bead63446db92c25b1224eb5a3": {
     "model_module": "@jupyter-widgets/controls",
     "model_module_version": "1.5.0",
     "model_name": "ProgressStyleModel",
     "state": {
      "_model_module": "@jupyter-widgets/controls",
      "_model_module_version": "1.5.0",
      "_model_name": "ProgressStyleModel",
      "_view_count": null,
      "_view_module": "@jupyter-widgets/base",
      "_view_module_version": "1.2.0",
      "_view_name": "StyleView",
      "bar_color": null,
      "description_width": ""
     }
    },
    "f28a53a4562247eda5bd2ae490b65d08": {
     "model_module": "@jupyter-widgets/controls",
     "model_module_version": "1.5.0",
     "model_name": "FloatProgressModel",
     "state": {
      "_dom_classes": [],
      "_model_module": "@jupyter-widgets/controls",
      "_model_module_version": "1.5.0",
      "_model_name": "FloatProgressModel",
      "_view_count": null,
      "_view_module": "@jupyter-widgets/controls",
      "_view_module_version": "1.5.0",
      "_view_name": "ProgressView",
      "bar_style": "success",
      "description": "",
      "description_tooltip": null,
      "layout": "IPY_MODEL_8a7693bb52924ae28c3e5a6de7cc31e8",
      "max": 99,
      "min": 0,
      "orientation": "horizontal",
      "style": "IPY_MODEL_8e3f278f29b44ad88cab2f600dc75b35",
      "value": 99
     }
    },
    "f412c806bb3e4a5ca6e84684007b29a3": {
     "model_module": "@jupyter-widgets/base",
     "model_module_version": "1.2.0",
     "model_name": "LayoutModel",
     "state": {
      "_model_module": "@jupyter-widgets/base",
      "_model_module_version": "1.2.0",
      "_model_name": "LayoutModel",
      "_view_count": null,
      "_view_module": "@jupyter-widgets/base",
      "_view_module_version": "1.2.0",
      "_view_name": "LayoutView",
      "align_content": null,
      "align_items": null,
      "align_self": null,
      "border": null,
      "bottom": null,
      "display": null,
      "flex": null,
      "flex_flow": null,
      "grid_area": null,
      "grid_auto_columns": null,
      "grid_auto_flow": null,
      "grid_auto_rows": null,
      "grid_column": null,
      "grid_gap": null,
      "grid_row": null,
      "grid_template_areas": null,
      "grid_template_columns": null,
      "grid_template_rows": null,
      "height": null,
      "justify_content": null,
      "justify_items": null,
      "left": null,
      "margin": null,
      "max_height": null,
      "max_width": null,
      "min_height": null,
      "min_width": null,
      "object_fit": null,
      "object_position": null,
      "order": null,
      "overflow": null,
      "overflow_x": null,
      "overflow_y": null,
      "padding": null,
      "right": null,
      "top": null,
      "visibility": null,
      "width": null
     }
    },
    "f468f4fb42e044a481f71b9255563982": {
     "model_module": "@jupyter-widgets/controls",
     "model_module_version": "1.5.0",
     "model_name": "HTMLModel",
     "state": {
      "_dom_classes": [],
      "_model_module": "@jupyter-widgets/controls",
      "_model_module_version": "1.5.0",
      "_model_name": "HTMLModel",
      "_view_count": null,
      "_view_module": "@jupyter-widgets/controls",
      "_view_module_version": "1.5.0",
      "_view_name": "HTMLView",
      "description": "",
      "description_tooltip": null,
      "layout": "IPY_MODEL_cd8645683ba44df497628662ea9ca822",
      "placeholder": "​",
      "style": "IPY_MODEL_05d44178f4e5460bbf6317e25c103c79",
      "value": "Map: 100%"
     }
    },
    "f555aa2758c641969493afd5f2209d37": {
     "model_module": "@jupyter-widgets/base",
     "model_module_version": "1.2.0",
     "model_name": "LayoutModel",
     "state": {
      "_model_module": "@jupyter-widgets/base",
      "_model_module_version": "1.2.0",
      "_model_name": "LayoutModel",
      "_view_count": null,
      "_view_module": "@jupyter-widgets/base",
      "_view_module_version": "1.2.0",
      "_view_name": "LayoutView",
      "align_content": null,
      "align_items": null,
      "align_self": null,
      "border": null,
      "bottom": null,
      "display": null,
      "flex": null,
      "flex_flow": null,
      "grid_area": null,
      "grid_auto_columns": null,
      "grid_auto_flow": null,
      "grid_auto_rows": null,
      "grid_column": null,
      "grid_gap": null,
      "grid_row": null,
      "grid_template_areas": null,
      "grid_template_columns": null,
      "grid_template_rows": null,
      "height": null,
      "justify_content": null,
      "justify_items": null,
      "left": null,
      "margin": null,
      "max_height": null,
      "max_width": null,
      "min_height": null,
      "min_width": null,
      "object_fit": null,
      "object_position": null,
      "order": null,
      "overflow": null,
      "overflow_x": null,
      "overflow_y": null,
      "padding": null,
      "right": null,
      "top": null,
      "visibility": null,
      "width": null
     }
    },
    "f85de95973a2492b99a5b8ec71f8b42d": {
     "model_module": "@jupyter-widgets/base",
     "model_module_version": "1.2.0",
     "model_name": "LayoutModel",
     "state": {
      "_model_module": "@jupyter-widgets/base",
      "_model_module_version": "1.2.0",
      "_model_name": "LayoutModel",
      "_view_count": null,
      "_view_module": "@jupyter-widgets/base",
      "_view_module_version": "1.2.0",
      "_view_name": "LayoutView",
      "align_content": null,
      "align_items": null,
      "align_self": null,
      "border": null,
      "bottom": null,
      "display": null,
      "flex": null,
      "flex_flow": null,
      "grid_area": null,
      "grid_auto_columns": null,
      "grid_auto_flow": null,
      "grid_auto_rows": null,
      "grid_column": null,
      "grid_gap": null,
      "grid_row": null,
      "grid_template_areas": null,
      "grid_template_columns": null,
      "grid_template_rows": null,
      "height": null,
      "justify_content": null,
      "justify_items": null,
      "left": null,
      "margin": null,
      "max_height": null,
      "max_width": null,
      "min_height": null,
      "min_width": null,
      "object_fit": null,
      "object_position": null,
      "order": null,
      "overflow": null,
      "overflow_x": null,
      "overflow_y": null,
      "padding": null,
      "right": null,
      "top": null,
      "visibility": null,
      "width": null
     }
    },
    "fdb036f2dc8a4c6f82c12251c0e270f0": {
     "model_module": "@jupyter-widgets/controls",
     "model_module_version": "1.5.0",
     "model_name": "HTMLModel",
     "state": {
      "_dom_classes": [],
      "_model_module": "@jupyter-widgets/controls",
      "_model_module_version": "1.5.0",
      "_model_name": "HTMLModel",
      "_view_count": null,
      "_view_module": "@jupyter-widgets/controls",
      "_view_module_version": "1.5.0",
      "_view_name": "HTMLView",
      "description": "",
      "description_tooltip": null,
      "layout": "IPY_MODEL_1eea825175df47f68ee84e19b5cce6d8",
      "placeholder": "​",
      "style": "IPY_MODEL_cdad0a1bfbf944d8b43f811ad8236407",
      "value": "Map: 100%"
     }
    },
    "fdf73849c13f47c6976ac6e450fa145c": {
     "model_module": "@jupyter-widgets/base",
     "model_module_version": "1.2.0",
     "model_name": "LayoutModel",
     "state": {
      "_model_module": "@jupyter-widgets/base",
      "_model_module_version": "1.2.0",
      "_model_name": "LayoutModel",
      "_view_count": null,
      "_view_module": "@jupyter-widgets/base",
      "_view_module_version": "1.2.0",
      "_view_name": "LayoutView",
      "align_content": null,
      "align_items": null,
      "align_self": null,
      "border": null,
      "bottom": null,
      "display": null,
      "flex": null,
      "flex_flow": null,
      "grid_area": null,
      "grid_auto_columns": null,
      "grid_auto_flow": null,
      "grid_auto_rows": null,
      "grid_column": null,
      "grid_gap": null,
      "grid_row": null,
      "grid_template_areas": null,
      "grid_template_columns": null,
      "grid_template_rows": null,
      "height": null,
      "justify_content": null,
      "justify_items": null,
      "left": null,
      "margin": null,
      "max_height": null,
      "max_width": null,
      "min_height": null,
      "min_width": null,
      "object_fit": null,
      "object_position": null,
      "order": null,
      "overflow": null,
      "overflow_x": null,
      "overflow_y": null,
      "padding": null,
      "right": null,
      "top": null,
      "visibility": null,
      "width": null
     }
    }
   }
  }
 },
 "nbformat": 4,
 "nbformat_minor": 5
}
