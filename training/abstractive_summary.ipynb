{
  "cells": [
    {
      "cell_type": "markdown",
      "metadata": {
        "id": "6XC8n_jKq9gP"
      },
      "source": [
        "# Abstractive Summary\n",
        "https://medium.com/swlh/abstractive-text-summarization-using-transformers-3e774cc42453\n",
        "\n",
        "https://github.com/rojagtap/abstractive_summarizer/blob/master/summarizer.ipynb\n"
      ]
    },
    {
      "cell_type": "code",
      "execution_count": 1,
      "metadata": {
        "id": "o0MzIYoKuUFA",
        "outputId": "a6f0f21c-093d-4a79-e6d9-f21ff25c9a32",
        "colab": {
          "base_uri": "https://localhost:8080/"
        }
      },
      "outputs": [
        {
          "output_type": "stream",
          "name": "stdout",
          "text": [
            "\u001b[2K     \u001b[90m━━━━━━━━━━━━━━━━━━━━━━━━━━━━━━━━━━━━━━━\u001b[0m \u001b[32m519.3/519.3 kB\u001b[0m \u001b[31m9.5 MB/s\u001b[0m eta \u001b[36m0:00:00\u001b[0m\n",
            "\u001b[2K     \u001b[90m━━━━━━━━━━━━━━━━━━━━━━━━━━━━━━━━━━━━━━━━\u001b[0m \u001b[32m7.4/7.4 MB\u001b[0m \u001b[31m66.0 MB/s\u001b[0m eta \u001b[36m0:00:00\u001b[0m\n",
            "\u001b[2K     \u001b[90m━━━━━━━━━━━━━━━━━━━━━━━━━━━━━━━━━━━━━━\u001b[0m \u001b[32m115.3/115.3 kB\u001b[0m \u001b[31m13.8 MB/s\u001b[0m eta \u001b[36m0:00:00\u001b[0m\n",
            "\u001b[2K     \u001b[90m━━━━━━━━━━━━━━━━━━━━━━━━━━━━━━━━━━━━━━\u001b[0m \u001b[32m194.1/194.1 kB\u001b[0m \u001b[31m22.2 MB/s\u001b[0m eta \u001b[36m0:00:00\u001b[0m\n",
            "\u001b[2K     \u001b[90m━━━━━━━━━━━━━━━━━━━━━━━━━━━━━━━━━━━━━━\u001b[0m \u001b[32m134.8/134.8 kB\u001b[0m \u001b[31m16.3 MB/s\u001b[0m eta \u001b[36m0:00:00\u001b[0m\n",
            "\u001b[2K     \u001b[90m━━━━━━━━━━━━━━━━━━━━━━━━━━━━━━━━━━━━━━\u001b[0m \u001b[32m268.8/268.8 kB\u001b[0m \u001b[31m31.0 MB/s\u001b[0m eta \u001b[36m0:00:00\u001b[0m\n",
            "\u001b[2K     \u001b[90m━━━━━━━━━━━━━━━━━━━━━━━━━━━━━━━━━━━━━━━━\u001b[0m \u001b[32m7.8/7.8 MB\u001b[0m \u001b[31m80.8 MB/s\u001b[0m eta \u001b[36m0:00:00\u001b[0m\n",
            "\u001b[2K     \u001b[90m━━━━━━━━━━━━━━━━━━━━━━━━━━━━━━━━━━━━━━━━\u001b[0m \u001b[32m1.3/1.3 MB\u001b[0m \u001b[31m56.7 MB/s\u001b[0m eta \u001b[36m0:00:00\u001b[0m\n",
            "\u001b[?25h"
          ]
        }
      ],
      "source": [
        "! pip install datasets transformers matplotlib -q"
      ]
    },
    {
      "cell_type": "code",
      "execution_count": 2,
      "metadata": {
        "id": "8O0RlExOrCzc"
      },
      "outputs": [],
      "source": [
        "import pandas as pd\n",
        "import numpy as np\n",
        "import tensorflow as tf\n",
        "import time\n",
        "import re\n",
        "import pickle\n",
        "import warnings\n",
        "warnings.filterwarnings('ignore')"
      ]
    },
    {
      "cell_type": "code",
      "execution_count": 3,
      "metadata": {
        "id": "yZbsXkDtuSAn"
      },
      "outputs": [],
      "source": [
        "import warnings\n",
        "warnings.filterwarnings('ignore')"
      ]
    },
    {
      "cell_type": "code",
      "execution_count": 4,
      "metadata": {
        "id": "WPBOMVRO6giQ",
        "outputId": "22f79c99-7aaa-424e-9c2b-73d1acb2c1ea",
        "colab": {
          "base_uri": "https://localhost:8080/"
        }
      },
      "outputs": [
        {
          "output_type": "stream",
          "name": "stderr",
          "text": [
            "WARNING:tensorflow:From <ipython-input-4-4b13ef6896c4>:7: is_gpu_available (from tensorflow.python.framework.test_util) is deprecated and will be removed in a future version.\n",
            "Instructions for updating:\n",
            "Use `tf.config.list_physical_devices('GPU')` instead.\n"
          ]
        },
        {
          "output_type": "stream",
          "name": "stdout",
          "text": [
            "Version of Tensorflow:  2.12.0\n",
            "Cuda Availability:  True\n",
            "GPU  Availability:  False\n",
            "Num GPUs Available:  0\n"
          ]
        }
      ],
      "source": [
        "print(\"Version of Tensorflow: \", tf.__version__)\n",
        "\n",
        "# Checking if cuda is there.\n",
        "print(\"Cuda Availability: \", tf.test.is_built_with_cuda())\n",
        "\n",
        "# Checking GPU is available or not.\n",
        "print(\"GPU  Availability: \", tf.test.is_gpu_available())\n",
        "\n",
        "# Check nos of GPUS\n",
        "print(\"Num GPUs Available: \", len(tf.config.experimental.list_physical_devices('GPU')))"
      ]
    },
    {
      "cell_type": "code",
      "execution_count": null,
      "metadata": {
        "id": "iEIAkf8WySLF",
        "outputId": "04408ec1-6fe5-48f7-8242-808c9e81ed89"
      },
      "outputs": [
        {
          "data": {
            "application/javascript": [
              "IPython.notebook.set_autosave_interval(5000)"
            ]
          },
          "metadata": {},
          "output_type": "display_data"
        },
        {
          "name": "stdout",
          "output_type": "stream",
          "text": [
            "Autosaving every 5 seconds\n"
          ]
        }
      ],
      "source": [
        "import sys\n",
        "import logging\n",
        "\n",
        "nblog = open(\"nb.log\", \"a+\")\n",
        "sys.stdout.echo = nblog\n",
        "sys.stderr.echo = nblog\n",
        "\n",
        "get_ipython().log.handlers[0].stream = nblog\n",
        "get_ipython().log.setLevel(logging.INFO)\n",
        "\n",
        "%autosave 5\n"
      ]
    },
    {
      "cell_type": "code",
      "execution_count": 5,
      "metadata": {
        "colab": {
          "referenced_widgets": [
            "f7d088c72c394eaf832685a5552b20e6",
            "2679265e82854c3d9173789487e3a422",
            "5ea2322a121a445bbfe59980cc1aed6d",
            "af708a9ddf9346dbac6a25dc61c6c4b1",
            "20351e00040d4c57ab132ab57df196c1",
            "f83451769f454ffd8dc153f81407bb23",
            "ecd66a4b560741b0b78b8deb44ef5554",
            "9bdbf5f13f6349499981ac44c322b90b",
            "bb8da6d010064f7ea6e80612d7dafaa1",
            "8a36ed19afae48fb974e32d29e35bd62",
            "5d0c14dab5a84817850e65ca14c910db",
            "d1c43d70658c4f2c8c860dcfe549f9b3",
            "a913a5c3aba9480fa6a8490eda71b0bb",
            "d3067fb46a994d018fa989a58b609e54",
            "9d4ad0c2689045beb68ce1f8009bb440",
            "63da8a7cd21240ed8bed22617027da55",
            "55e1b58f50254b0cafb5574d283d5202",
            "ccd6bbf9fb394445a00f894890285221",
            "1b1d1fb42820480bbc254636fcb05fd3",
            "428a8df11d9c4fa5a806f52440dee503",
            "325ff361c619438eb7598ddf7bb01c73",
            "6abd7980908a45728c0b5ac2355f3260",
            "0f6cce65c55347cfa754e95d5aee6c44",
            "d81605f96fb44adfb6075bc0ddd17492",
            "5d7358e28db7499b9fd8c5840ae7ffe7",
            "e5152e118fb349dd9aaa097fdf0b33cf",
            "db8a236e342e491fad4521b0e54be7e0",
            "0c28a0d089814644b95105ac35a8f928",
            "be1c51020f9245d6a7dd49315fe00ea8",
            "9f3e6e531fc34f4eaf8c90ef5cdef2b4",
            "a51f3f7eaf0c44efab93b913e78edd18",
            "40cd17d0eacb4625b9aba73cb2d4386a",
            "f17a9c3a7d054231b4152ec810910577",
            "e725b58d08744854ac40bc0faf49df9c",
            "984d4f98624f47588a49b269c9f8db88",
            "32b24d61a48840ac92186c69778e3a31",
            "2f565026d7e843929e96e64faed9a0c2",
            "30194208974a45a7b58be34bba39254c",
            "6c6ed33272a94da29cd93332908a121b",
            "4a55162b12d549bfa964d13545024082",
            "34d5c6c2727849f78dc7625e5b4dff88",
            "e3ef3ee3528f4e4297d5a24024b17140",
            "5ec6f700d1ed4664a261d96d6c043aa9",
            "4a8cbd2e27174943802220daff9fd083",
            "bf465969abb847eb88a5d992bfdb0316",
            "643d54c0fdbe44cda366d390ea918534",
            "cf84f63f9ac046eda81e12ddee816398",
            "3000438ee4344041bf83909588b13563",
            "54a2758ed0df443181946cb3aabea223",
            "bc6b39062bf4437b83603e099f25d177",
            "128cdbdba2b844c6a9ba47ddf3767512",
            "deb657b3ae044556b5d6b7917e3445d2",
            "a7a029f4b4a64bcaba1bfd172d341205",
            "e555b58486464286a0fb5dc815f7a276",
            "f35701820e06499181d28b5ac0975e38",
            "95924921de304933a7dc3ac1f3251740",
            "42ab306e858842a3b7e483728b1858b4",
            "2b9862a93887477d8d1f2d70496c5b64",
            "a5f54964a9d84e618d8a81ce2d152e73",
            "d0d86df5c8584e42bf952d103417cf9a",
            "5359b9afa8d94e8389cff7b7020e6d09",
            "cdb86b1e98d848bbb91f31fda7773699",
            "516fa957682148e2b63b552e8a80c99a",
            "945f7646b6a945ae8ebd393eff2e6aa5",
            "a31f56378983498dbc6d91536da3b7ef",
            "496e54ae65344f2fbc01181dda57aec1",
            "4d747e8c8bd84ed79d074904595ab709",
            "dff83628f14047b98ba1e3506123da20",
            "44898272f60f491f9eb5c5979aa00a6d",
            "49f9eef95dab497091dad4893c42312e",
            "e9dac222714e4fbbaa604481fd726f90",
            "35dd62bcf4ea48bdb4f7a1ef599bd14a",
            "560ed75ebd714ec2a10acd390c5ae68e",
            "2548e704444d416987ccb3d171645e82",
            "45a1164882da4b81b263007304c2602f",
            "c0c8bc51b3f4480794d9ae1f34e747c5",
            "92ecf479332e4c4c865fc639908ce6cc",
            "f9dba02ecc8c45c2babe583db4222fad",
            "9498a342d0e64fd4a26254bf6265c226",
            "f72fe81ec6924e65becb66545eee4e52",
            "8c67379d8cfb4fe79c1a54555f89b178",
            "3080c0606bda44d28935e289b92bfe36",
            "0532f2a6214245218fca3159917c2408",
            "c060c562cc5a4d819ede9709efe4bb47",
            "0bc447ab3a3b475e8cc2db9a290281f7",
            "9469c425e4af443c9426e8da3c204636",
            "43209b857f2848eaba8eb57fa9586d3a",
            "5f3bf29c295c4fe9b24608f405f535f9"
          ],
          "base_uri": "https://localhost:8080/",
          "height": 273
        },
        "id": "LgyxkYZRuP8f",
        "outputId": "a094c4df-f29a-4bbb-9ec8-03d843af819f"
      },
      "outputs": [
        {
          "output_type": "display_data",
          "data": {
            "text/plain": [
              "Downloading builder script:   0%|          | 0.00/5.76k [00:00<?, ?B/s]"
            ],
            "application/vnd.jupyter.widget-view+json": {
              "version_major": 2,
              "version_minor": 0,
              "model_id": "f7d088c72c394eaf832685a5552b20e6"
            }
          },
          "metadata": {}
        },
        {
          "output_type": "display_data",
          "data": {
            "text/plain": [
              "Downloading readme:   0%|          | 0.00/6.24k [00:00<?, ?B/s]"
            ],
            "application/vnd.jupyter.widget-view+json": {
              "version_major": 2,
              "version_minor": 0,
              "model_id": "d1c43d70658c4f2c8c860dcfe549f9b3"
            }
          },
          "metadata": {}
        },
        {
          "output_type": "display_data",
          "data": {
            "text/plain": [
              "Downloading data files:   0%|          | 0/2 [00:00<?, ?it/s]"
            ],
            "application/vnd.jupyter.widget-view+json": {
              "version_major": 2,
              "version_minor": 0,
              "model_id": "0f6cce65c55347cfa754e95d5aee6c44"
            }
          },
          "metadata": {}
        },
        {
          "output_type": "display_data",
          "data": {
            "text/plain": [
              "Downloading data:   0%|          | 0.00/255M [00:00<?, ?B/s]"
            ],
            "application/vnd.jupyter.widget-view+json": {
              "version_major": 2,
              "version_minor": 0,
              "model_id": "e725b58d08744854ac40bc0faf49df9c"
            }
          },
          "metadata": {}
        },
        {
          "output_type": "display_data",
          "data": {
            "text/plain": [
              "Downloading data:   0%|          | 0.00/1.00M [00:00<?, ?B/s]"
            ],
            "application/vnd.jupyter.widget-view+json": {
              "version_major": 2,
              "version_minor": 0,
              "model_id": "bf465969abb847eb88a5d992bfdb0316"
            }
          },
          "metadata": {}
        },
        {
          "output_type": "display_data",
          "data": {
            "text/plain": [
              "Generating train split:   0%|          | 0/204045 [00:00<?, ? examples/s]"
            ],
            "application/vnd.jupyter.widget-view+json": {
              "version_major": 2,
              "version_minor": 0,
              "model_id": "95924921de304933a7dc3ac1f3251740"
            }
          },
          "metadata": {}
        },
        {
          "output_type": "display_data",
          "data": {
            "text/plain": [
              "Generating validation split:   0%|          | 0/11332 [00:00<?, ? examples/s]"
            ],
            "application/vnd.jupyter.widget-view+json": {
              "version_major": 2,
              "version_minor": 0,
              "model_id": "4d747e8c8bd84ed79d074904595ab709"
            }
          },
          "metadata": {}
        },
        {
          "output_type": "display_data",
          "data": {
            "text/plain": [
              "Generating test split:   0%|          | 0/11334 [00:00<?, ? examples/s]"
            ],
            "application/vnd.jupyter.widget-view+json": {
              "version_major": 2,
              "version_minor": 0,
              "model_id": "f9dba02ecc8c45c2babe583db4222fad"
            }
          },
          "metadata": {}
        }
      ],
      "source": [
        "from datasets import load_dataset, load_metric\n",
        "\n",
        "raw_datasets = load_dataset(\"xsum\")\n",
        "#metric = load_metric(\"rouge\")"
      ]
    },
    {
      "cell_type": "code",
      "execution_count": 6,
      "metadata": {
        "colab": {
          "base_uri": "https://localhost:8080/",
          "height": 1000
        },
        "id": "uI8TXWKfuYbJ",
        "outputId": "0b01abc5-96df-4a16-e56c-372eed3ccb80"
      },
      "outputs": [
        {
          "output_type": "display_data",
          "data": {
            "text/plain": [
              "<IPython.core.display.HTML object>"
            ],
            "text/html": [
              "<table border=\"1\" class=\"dataframe\">\n",
              "  <thead>\n",
              "    <tr style=\"text-align: right;\">\n",
              "      <th></th>\n",
              "      <th>document</th>\n",
              "      <th>summary</th>\n",
              "      <th>id</th>\n",
              "    </tr>\n",
              "  </thead>\n",
              "  <tbody>\n",
              "    <tr>\n",
              "      <th>0</th>\n",
              "      <td>Several policemen were injured in a clash with the supporters of the controversial guru on Tuesday.\\nThe 63-year-old self-styled guru, known as Rampal, is on bail after being accused in a 2006 murder case.\\nBut authorities ordered his arrest on contempt charges after he failed to appear in court several times.\\nThe clashes occurred when the police went to arrest Rampal in his ashram. Police say armed supporters are holding people hostage and using women and children as human shields.\\n\"The bid by the cops to nab him exposed several flaws in their strategy and operational preparednessâ€¦ Despite keeping close watch on the premises and armed with the prior knowledge of weapons in the ashram, the police appeared completely unprepared and they were the worst hit during the action,\" The Times of India says.\\nMany journalists who were covering the clashes were also injured, reports said.\\nThe Asian Age says the police \"used batons against several media people covering the clash between sect followers and the security forces\".\\nThe police have promised to look into the allegations, the India Today website reports.\\n\"The moment this operation is over, we will get it looked into... There was no intentional or operational compulsion to target the media,\" the website quotes top police official SN Vashisht as saying.\\nMeanwhile, papers feel Prime Minister Narendra Modi's visit to Australia has \"scripted a new chapter\" in India's ties with the country.\\nMr Modi met Prime Minister Tony Abbott in Canberra on Tuesday and also addressed Australian lawmakers.\\nThe leaders pledged to boost bilateral trade and agreed to speed up talks on a crucial nuclear agreement.\\n\"Bilateral trade between the two countries has lagged considerably behind the potential. The actual trade languishes at just $15bn, against a $40bn target by 2015,\" says The Hindu in an editorial.\\nThe two countries have now agreed to sign a free trade agreement by 2016 to boost bilateral trade.\\nPapers say the personal camaraderie between the two leaders is likely to help Delhi and Canberra work closely on global issues like security, terrorism and economy.\\n\"Mr Modi's vigorous approach to Asia is matched by his Australian counterpart Tony Abbott's enthusiasm for partnership with India,\" says The Indian Express editorial.\\nApart from trade, the paper sees the two countries coming together to form a regional bloc in the Asia Pacific region.\\n\"Given the bilateral enthusiasm for expanding the circle of engagement, Delhi and Canberra must initiate a joint dialogue with Indonesia and also pull Japan in to bulwark the region against the vicissitudes of China-US relations,\" it adds.\\nThe Hindustan Times praises Mr Modi's outreach to Australian lawmakers and his initiatives to start several track II diplomatic channels.\\n\"In a well-received address to the Australian parliament, Mr Modi memorably underlined that Australia will not be at the periphery of India's vision 'but at the centre of our thought',\" it says.\\nThe paper adds that \"the India-Australia relationship will now be one to look out for in the fast evolving Asia Pacific region\".\\nIn some domestic news, fresh data shows that more than 90% of the rape cases in Delhi this year were committed by those known to the victims.\\nThe Delhi police told a court on Tuesday that in many cases the suspects were fathers, uncles, neighbours, friends and even grandfather, The Hindu reports.\\n\"A total of 1,704 cases were registered till 15 October this year, and the accused were strangers only in 72 cases,\" according to the data submitted by the Delhi police.\\nAnd finally, the International Union for Conservation of Nature (IUCN) has raised concerns over the condition of India's world heritage sites like the Western Ghats, Kaziranga National Park and the Sundarbans, The Hindu reports.\\n\"Assessing the threats faced by the sites, the IUCN experts observed that there was 'extraordinary' pressure on biodiversity remains in the Western Ghats, given the 'tremendous population pressure both within and surrounding the property,\" the report adds.\\nBBC Monitoring reports and analyses news from TV, radio, web and print media around the world. . You can follow BBC Monitoring on Twitter and Facebook.</td>\n",
              "      <td>Papers are criticising police for failing to arrest a Hindu guru in the northern Indian state of Haryana.</td>\n",
              "      <td>30110332</td>\n",
              "    </tr>\n",
              "    <tr>\n",
              "      <th>1</th>\n",
              "      <td>The arrests were for offences including suspected drugs possession, affray and having lit flares inside Ipswich's Portman Road ground.\\nSeveral people treated for the effects of the flares had now recovered, Suffolk Police said.\\nThe result of the Sky Bet Championship match was a 1-1 draw.</td>\n",
              "      <td>Several people who \"appeared to be set on causing trouble\" were arrested at Sunday's derby match between Ipswich Town and Norwich City, police said.</td>\n",
              "      <td>37153009</td>\n",
              "    </tr>\n",
              "    <tr>\n",
              "      <th>2</th>\n",
              "      <td>A fourth edition of irreverent, adult-themed magazine was one of a number of comics to go under the hammer at Anderson and Garland in Northumberland.\\nThese included editions of Viz, Dandy and Hotspur which went for a total of £13,458 - double the pre-sale estimate.\\nViz was the brainchild of Chris Donald, who set it up in 1979 in his bedroom whilst living with his parents.\\nOriginally photocopied and distributed among the then-teenager's friends, by 1989 sales had reached one million.\\nThe fourth edition, dated October 1980, had been listed with a guide price of £20-40.\\nFred Wyrley Birch, from Anderson and Garland, said: \"We have sold first edition copies of Viz in the past for less than this fourth edition made.\"</td>\n",
              "      <td>A rare copy of the comic Viz has sold at auction for £900 - raising more than 22 times its estimated price.</td>\n",
              "      <td>37776477</td>\n",
              "    </tr>\n",
              "    <tr>\n",
              "      <th>3</th>\n",
              "      <td>The 28-year-old was getting into his car in Glasgow's Scaraway Street at about 18.45 on Wednesday when he was attacked by two men who fled in a vehicle.\\nHe was left with facial injuries and went to the city's Royal Infirmary for treatment.\\nPolice Scotland have appealed for witnesses.\\nDet Con Katy Allan said: \"Officers have been examining CCTV and we can see that the surrounding area was busy at the time with buses, taxis and other vehicles.\\n\"I would urge anyone who saw what happened to contact police immediately.\"</td>\n",
              "      <td>A man has been seriously assaulted in front of his partner and 10-month-old baby.</td>\n",
              "      <td>33942240</td>\n",
              "    </tr>\n",
              "    <tr>\n",
              "      <th>4</th>\n",
              "      <td>On Monday, she told the assembly it was \"probably not going to be the case\" that the 2017 target would be achieved.\\nShe told the BBC that 2017 is still \"possible\", but only if there is a deal on welfare reform in the coming months.\\nThis power will not be devolved until the Treasury assesses that Stormont's finances are on a sustainable footing.\\nThat assessment of what is sustainable includes the implementation of welfare reforms.\\nA so-called \"rate and date\" for corporation tax would need to be agreed by the end of this year, to give Invest Northern Ireland time to attract investment projects.\\nForeign direct investment deals typically take 18 months to come to fruition.\\nThe business community is increasingly concerned that the lack of \"a date and a rate\" will cause foreign companies to defer investment.\\nCorporation tax is the tax that companies pay on their profits. The current UK rate is 20%, whereas in the Republic of Ireland firms pay 12.5%.\\nThe Northern Ireland Executive wants to be able to match the tax rate in the Republic of Ireland</td>\n",
              "      <td>Finance Minister Arlene Foster has said it is still possible that a corporation tax rate cut could be introduced in Northern Ireland in April 2017.</td>\n",
              "      <td>33239248</td>\n",
              "    </tr>\n",
              "  </tbody>\n",
              "</table>"
            ]
          },
          "metadata": {}
        }
      ],
      "source": [
        "import datasets\n",
        "import random\n",
        "import pandas as pd\n",
        "from IPython.display import display, HTML\n",
        "\n",
        "def show_random_elements(dataset, num_examples=5):\n",
        "    assert num_examples <= len(dataset), \"Can't pick more elements than there are in the dataset.\"\n",
        "    picks = []\n",
        "    for _ in range(num_examples):\n",
        "        pick = random.randint(0, len(dataset)-1)\n",
        "        while pick in picks:\n",
        "            pick = random.randint(0, len(dataset)-1)\n",
        "        picks.append(pick)\n",
        "\n",
        "    df = pd.DataFrame(dataset[picks])\n",
        "    for column, typ in dataset.features.items():\n",
        "        if isinstance(typ, datasets.ClassLabel):\n",
        "            df[column] = df[column].transform(lambda i: typ.names[i])\n",
        "    display(HTML(df.to_html()))\n",
        "\n",
        "\n",
        "show_random_elements(raw_datasets[\"train\"])"
      ]
    },
    {
      "cell_type": "code",
      "execution_count": 7,
      "metadata": {
        "id": "wzfbnJm6wEUF"
      },
      "outputs": [],
      "source": [
        "summary = pd.Series(raw_datasets[\"train\"][\"summary\"])\n",
        "document = pd.Series(raw_datasets[\"train\"][\"document\"])"
      ]
    },
    {
      "cell_type": "code",
      "execution_count": 8,
      "metadata": {
        "colab": {
          "base_uri": "https://localhost:8080/"
        },
        "id": "d_WKAb4j1zlt",
        "outputId": "24c450b1-5cb1-469c-ed3d-f6e9475eaf27"
      },
      "outputs": [
        {
          "output_type": "stream",
          "name": "stdout",
          "text": [
            "Summary head: \n",
            " 0    Clean-up operations are continuing across the ...\n",
            "1    Two tourist buses have been destroyed by fire ...\n",
            "2    Lewis Hamilton stormed to pole position at the...\n",
            "3    A former Lincolnshire Police officer carried o...\n",
            "4    An armed man who locked himself into a room at...\n",
            "5    Defending Pro12 champions Glasgow Warriors bag...\n",
            "6    A man with links to a car that was involved in...\n",
            "7    Welsh cyclist Luke Rowe says changes to the sp...\n",
            "8    Manchester City midfielder Ilkay Gundogan says...\n",
            "9    A jogger has been hit by an unmarked police ca...\n",
            "dtype: object\n",
            "======================================\n",
            "Document head: \n",
            " 0    The full cost of damage in Newton Stewart, one...\n",
            "1    A fire alarm went off at the Holiday Inn in Ho...\n",
            "2    Ferrari appeared in a position to challenge un...\n",
            "3    John Edward Bates, formerly of Spalding, Linco...\n",
            "4    Patients and staff were evacuated from Cerahpa...\n",
            "5    Simone Favaro got the crucial try with the las...\n",
            "6    Veronica Vanessa Chango-Alverez, 31, was kille...\n",
            "7    Belgian cyclist Demoitie died after a collisio...\n",
            "8    Gundogan, 26, told BBC Sport he \"can see the f...\n",
            "9    The crash happened about 07:20 GMT at the junc...\n",
            "dtype: object\n"
          ]
        }
      ],
      "source": [
        "print(\"Summary head: \\n\", summary.head(10))\n",
        "print(\"======================================\")\n",
        "print(\"Document head: \\n\", document.head(10))"
      ]
    },
    {
      "cell_type": "code",
      "execution_count": 9,
      "metadata": {
        "id": "CJHlIyFHrH0w"
      },
      "outputs": [],
      "source": [
        "#news = pd.read_excel(\"news.xlsx\")\n",
        "#news.drop(['Source ', 'Time ', 'Publish Date'], axis=1, inplace=True)\n",
        "#print(news.head())\n",
        "#print(news.shape)"
      ]
    },
    {
      "cell_type": "code",
      "execution_count": 10,
      "metadata": {
        "id": "DZDOZduJrH3P"
      },
      "outputs": [],
      "source": [
        "#document = news['Short']\n",
        "#summary = news['Headline']\n",
        "#document[30], summary[30]"
      ]
    },
    {
      "cell_type": "markdown",
      "metadata": {
        "id": "hvrXyg4VrPg_"
      },
      "source": [
        "## Processing"
      ]
    },
    {
      "cell_type": "code",
      "execution_count": 11,
      "metadata": {
        "colab": {
          "base_uri": "https://localhost:8080/"
        },
        "id": "YdpX4B4PrH5E",
        "outputId": "51d26b9d-4083-46ab-c278-4fc10247279c"
      },
      "outputs": [
        {
          "output_type": "stream",
          "name": "stdout",
          "text": [
            "0     <go> Clean-up operations are continuing acros...\n",
            "1     <go> Two tourist buses have been destroyed by...\n",
            "2     <go> Lewis Hamilton stormed to pole position ...\n",
            "3     <go> A former Lincolnshire Police officer car...\n",
            "4     <go> An armed man who locked himself into a r...\n",
            "dtype: object\n"
          ]
        }
      ],
      "source": [
        "# for decoder sequence\n",
        "summary = summary.apply(lambda x: ' <go> ' + x + ' <stop> ')\n",
        "print(summary.head())"
      ]
    },
    {
      "cell_type": "markdown",
      "metadata": {
        "id": "f46t75ZDrXjF"
      },
      "source": [
        "### Tokenizing the texts into integer tokens"
      ]
    },
    {
      "cell_type": "code",
      "execution_count": 12,
      "metadata": {
        "id": "rr4rLYJxrH71"
      },
      "outputs": [],
      "source": [
        "# since < and > from default tokens cannot be removed\n",
        "filters = '!\"#$%&()*+,-./:;=?@[\\\\]^_`{|}~\\t\\n'\n",
        "oov_token = '<unk>'\n",
        "\n",
        "document_tokenizer = tf.keras.preprocessing.text.Tokenizer(oov_token=oov_token)\n",
        "summary_tokenizer = tf.keras.preprocessing.text.Tokenizer(filters=filters, oov_token=oov_token)\n",
        "\n",
        "document_tokenizer.fit_on_texts(document)\n",
        "summary_tokenizer.fit_on_texts(summary)\n",
        "\n",
        "inputs = document_tokenizer.texts_to_sequences(document)\n",
        "targets = summary_tokenizer.texts_to_sequences(summary)"
      ]
    },
    {
      "cell_type": "code",
      "execution_count": 13,
      "metadata": {
        "id": "0BimJ4-qySLI"
      },
      "outputs": [],
      "source": [
        "#print(\"inputs: \\n\", inputs[:3])\n",
        "#print(\"=\"*10)\n",
        "#print(\"targets: \\n\", targets[:3])"
      ]
    },
    {
      "cell_type": "code",
      "execution_count": 14,
      "metadata": {
        "colab": {
          "base_uri": "https://localhost:8080/"
        },
        "id": "U1IW2L1orH-L",
        "outputId": "371ec82d-92a8-47f5-a563-0f92e89b4c33"
      },
      "outputs": [
        {
          "output_type": "execute_result",
          "data": {
            "text/plain": [
              "[[70, 16, 5, 284]]"
            ]
          },
          "metadata": {},
          "execution_count": 14
        }
      ],
      "source": [
        "summary_tokenizer.texts_to_sequences([\"This is a test\"])\n"
      ]
    },
    {
      "cell_type": "code",
      "execution_count": 15,
      "metadata": {
        "colab": {
          "base_uri": "https://localhost:8080/"
        },
        "id": "JfNbgJqTrIAR",
        "outputId": "b137ec1f-f7be-444a-ac0e-9ba128dcd788"
      },
      "outputs": [
        {
          "output_type": "execute_result",
          "data": {
            "text/plain": [
              "['this is a test']"
            ]
          },
          "metadata": {},
          "execution_count": 15
        }
      ],
      "source": [
        "summary_tokenizer.sequences_to_texts([[70, 16, 5, 284]])\n"
      ]
    },
    {
      "cell_type": "code",
      "execution_count": 16,
      "metadata": {
        "colab": {
          "base_uri": "https://localhost:8080/"
        },
        "id": "5c_xLAfurICb",
        "outputId": "99ca8f53-b004-4939-f6a7-15862518693c"
      },
      "outputs": [
        {
          "output_type": "execute_result",
          "data": {
            "text/plain": [
              "(322877, 71953)"
            ]
          },
          "metadata": {},
          "execution_count": 16
        }
      ],
      "source": [
        "encoder_vocab_size = len(document_tokenizer.word_index) + 1\n",
        "decoder_vocab_size = len(summary_tokenizer.word_index) + 1\n",
        "\n",
        "# vocab_size\n",
        "encoder_vocab_size, decoder_vocab_size"
      ]
    },
    {
      "cell_type": "markdown",
      "metadata": {
        "id": "rY7K7Jdmrkca"
      },
      "source": [
        "### Obtaining insights on lenghts for defining maxlen"
      ]
    },
    {
      "cell_type": "code",
      "execution_count": 17,
      "metadata": {
        "colab": {
          "base_uri": "https://localhost:8080/"
        },
        "id": "Dbm7hNPRrIEu",
        "outputId": "6436eff2-fe60-45df-bb0b-7a4e27df894f"
      },
      "outputs": [
        {
          "output_type": "stream",
          "name": "stdout",
          "text": [
            "count    204045.000000\n",
            "mean       2202.116053\n",
            "std        1795.620910\n",
            "min           0.000000\n",
            "25%        1040.000000\n",
            "50%        1742.000000\n",
            "75%        2898.000000\n",
            "max      174045.000000\n",
            "dtype: float64\n",
            "==============================\n",
            "count    204045.000000\n",
            "mean        139.463050\n",
            "std          30.241458\n",
            "min          15.000000\n",
            "25%         120.000000\n",
            "50%         140.000000\n",
            "75%         158.000000\n",
            "max         413.000000\n",
            "dtype: float64\n"
          ]
        }
      ],
      "source": [
        "document_lengths = pd.Series([len(x) for x in document])\n",
        "summary_lengths = pd.Series([len(x) for x in summary])\n",
        "print(document_lengths.describe())\n",
        "print(\"==============================\")\n",
        "print(summary_lengths.describe())"
      ]
    },
    {
      "cell_type": "code",
      "execution_count": 18,
      "metadata": {
        "id": "y4SxGAF8rIHD"
      },
      "outputs": [],
      "source": [
        "# maxlen\n",
        "# taking values > and round figured to 75th percentile\n",
        "# at the same time not leaving high variance\n",
        "encoder_maxlen = 400\n",
        "decoder_maxlen = 75"
      ]
    },
    {
      "cell_type": "markdown",
      "metadata": {
        "id": "FWQHVGLNro89"
      },
      "source": [
        "### Padding/Truncating sequences for identical sequence lengths"
      ]
    },
    {
      "cell_type": "code",
      "execution_count": 19,
      "metadata": {
        "id": "-eclTNUnrIJ6"
      },
      "outputs": [],
      "source": [
        "inputs = tf.keras.preprocessing.sequence.pad_sequences(inputs, maxlen=encoder_maxlen, padding='post', truncating='post')\n",
        "targets = tf.keras.preprocessing.sequence.pad_sequences(targets, maxlen=decoder_maxlen, padding='post', truncating='post')\n"
      ]
    },
    {
      "cell_type": "markdown",
      "metadata": {
        "id": "EFL2Kl-Ert0W"
      },
      "source": [
        "## Creating dataset pipeline"
      ]
    },
    {
      "cell_type": "code",
      "execution_count": 20,
      "metadata": {
        "id": "r82Vsbl_rIMn"
      },
      "outputs": [],
      "source": [
        "inputs = tf.cast(inputs, dtype=tf.int32)\n",
        "targets = tf.cast(targets, dtype=tf.int32)\n",
        "BUFFER_SIZE = 20000\n",
        "BATCH_SIZE = 64\n",
        "dataset = tf.data.Dataset.from_tensor_slices((inputs, targets)).shuffle(BUFFER_SIZE).batch(BATCH_SIZE)\n"
      ]
    },
    {
      "cell_type": "markdown",
      "metadata": {
        "id": "mdp3XEXVryhj"
      },
      "source": [
        "## Positional Encoding for adding notion of position among words as unlike RNN this is non-directional"
      ]
    },
    {
      "cell_type": "code",
      "execution_count": 21,
      "metadata": {
        "id": "4Ecy-2-4rIPH"
      },
      "outputs": [],
      "source": [
        "def get_angles(position, i, d_model):\n",
        "    angle_rates = 1 / np.power(10000, (2 * (i // 2)) / np.float32(d_model))\n",
        "    return position * angle_rates\n",
        "\n",
        "def positional_encoding(position, d_model):\n",
        "    angle_rads = get_angles(\n",
        "        np.arange(position)[:, np.newaxis],\n",
        "        np.arange(d_model)[np.newaxis, :],\n",
        "        d_model\n",
        "    )\n",
        "\n",
        "    # apply sin to even indices in the array; 2i\n",
        "    angle_rads[:, 0::2] = np.sin(angle_rads[:, 0::2])\n",
        "\n",
        "    # apply cos to odd indices in the array; 2i+1\n",
        "    angle_rads[:, 1::2] = np.cos(angle_rads[:, 1::2])\n",
        "\n",
        "    pos_encoding = angle_rads[np.newaxis, ...]\n",
        "\n",
        "    return tf.cast(pos_encoding, dtype=tf.float32)"
      ]
    },
    {
      "cell_type": "code",
      "execution_count": 22,
      "metadata": {
        "id": "7cxaoMEQrIRi"
      },
      "outputs": [],
      "source": [
        "def create_padding_mask(seq):\n",
        "    seq = tf.cast(tf.math.equal(seq, 0), tf.float32)\n",
        "    return seq[:, tf.newaxis, tf.newaxis, :]\n",
        "\n",
        "def create_look_ahead_mask(size):\n",
        "    mask = 1 - tf.linalg.band_part(tf.ones((size, size)), -1, 0)\n",
        "    return mask"
      ]
    },
    {
      "cell_type": "markdown",
      "metadata": {
        "id": "rIFhcJ_kr9WT"
      },
      "source": [
        "## Building the model"
      ]
    },
    {
      "cell_type": "markdown",
      "metadata": {
        "id": "PW2XCk8_sAnw"
      },
      "source": [
        "Scaled dot-product\n",
        "This is one of the most important steps in building the Transformer as this is the base for attention computation in the model."
      ]
    },
    {
      "cell_type": "code",
      "execution_count": 23,
      "metadata": {
        "id": "yayrGFHMr7Bs"
      },
      "outputs": [],
      "source": [
        "def scaled_dot_product_attention(q, k, v, mask):\n",
        "    matmul_qk = tf.matmul(q, k, transpose_b=True)\n",
        "\n",
        "    dk = tf.cast(tf.shape(k)[-1], tf.float32)\n",
        "    scaled_attention_logits = matmul_qk / tf.math.sqrt(dk)\n",
        "\n",
        "    if mask is not None:\n",
        "        scaled_attention_logits += (mask * -1e9)\n",
        "\n",
        "    attention_weights = tf.nn.softmax(scaled_attention_logits, axis=-1)\n",
        "\n",
        "    output = tf.matmul(attention_weights, v)\n",
        "    return output, attention_weights"
      ]
    },
    {
      "cell_type": "markdown",
      "metadata": {
        "id": "rkxdSEnvsGF8"
      },
      "source": [
        "We define Multi-Head Attention as a TensorFlow Custom Layer. Here, we split the inputs into multiple heads, compute the attention weights using scaled dot-product attention and finally, concat output from all the heads"
      ]
    },
    {
      "cell_type": "code",
      "execution_count": 24,
      "metadata": {
        "id": "GMlm65Ylr6_F"
      },
      "outputs": [],
      "source": [
        "class MultiHeadAttention(tf.keras.layers.Layer):\n",
        "    def __init__(self, d_model, num_heads):\n",
        "        super(MultiHeadAttention, self).__init__()\n",
        "        self.num_heads = num_heads\n",
        "        self.d_model = d_model\n",
        "\n",
        "        assert d_model % self.num_heads == 0\n",
        "\n",
        "        self.depth = d_model // self.num_heads\n",
        "\n",
        "        self.wq = tf.keras.layers.Dense(d_model)\n",
        "        self.wk = tf.keras.layers.Dense(d_model)\n",
        "        self.wv = tf.keras.layers.Dense(d_model)\n",
        "\n",
        "        self.dense = tf.keras.layers.Dense(d_model)\n",
        "\n",
        "    def split_heads(self, x, batch_size):\n",
        "        x = tf.reshape(x, (batch_size, -1, self.num_heads, self.depth))\n",
        "        return tf.transpose(x, perm=[0, 2, 1, 3])\n",
        "\n",
        "    def call(self, v, k, q, mask):\n",
        "        batch_size = tf.shape(q)[0]\n",
        "\n",
        "        q = self.wq(q)\n",
        "        k = self.wk(k)\n",
        "        v = self.wv(v)\n",
        "\n",
        "        q = self.split_heads(q, batch_size)\n",
        "        k = self.split_heads(k, batch_size)\n",
        "        v = self.split_heads(v, batch_size)\n",
        "\n",
        "        scaled_attention, attention_weights = scaled_dot_product_attention(\n",
        "            q, k, v, mask)\n",
        "\n",
        "        scaled_attention = tf.transpose(scaled_attention, perm=[0, 2, 1, 3])\n",
        "\n",
        "        concat_attention = tf.reshape(scaled_attention, (batch_size, -1, self.d_model))\n",
        "        output = self.dense(concat_attention)\n",
        "\n",
        "        return output, attention_weights"
      ]
    },
    {
      "cell_type": "markdown",
      "metadata": {
        "id": "Y3W2e78bsMV4"
      },
      "source": [
        "## Feed Forward Network"
      ]
    },
    {
      "cell_type": "markdown",
      "metadata": {
        "id": "gFiuStrVsMJa"
      },
      "source": [
        "This is a regular two-layered Feed-Forward Network which is used after almost every sub-layer and is used identically."
      ]
    },
    {
      "cell_type": "code",
      "execution_count": 25,
      "metadata": {
        "id": "XYAAG2gHr68v"
      },
      "outputs": [],
      "source": [
        "def point_wise_feed_forward_network(d_model, dff):\n",
        "    return tf.keras.Sequential([\n",
        "        tf.keras.layers.Dense(dff, activation='relu'),\n",
        "        tf.keras.layers.Dense(d_model)\n",
        "    ])"
      ]
    },
    {
      "cell_type": "markdown",
      "metadata": {
        "id": "5yfxTL7usRgq"
      },
      "source": [
        "The Encoder and Decoder Blocks\n",
        "These are the fundamental units of encoder and decoder respectively. These may be expanded into Nₓ encoder/decoder layers while tuning the model."
      ]
    },
    {
      "cell_type": "code",
      "execution_count": 26,
      "metadata": {
        "id": "3H0YvU6kr65w"
      },
      "outputs": [],
      "source": [
        "class EncoderLayer(tf.keras.layers.Layer):\n",
        "    def __init__(self, d_model, num_heads, dff, rate=0.1):\n",
        "        super(EncoderLayer, self).__init__()\n",
        "\n",
        "        self.mha = MultiHeadAttention(d_model, num_heads)\n",
        "        self.ffn = point_wise_feed_forward_network(d_model, dff)\n",
        "\n",
        "        self.layernorm1 = tf.keras.layers.LayerNormalization(epsilon=1e-6)\n",
        "        self.layernorm2 = tf.keras.layers.LayerNormalization(epsilon=1e-6)\n",
        "\n",
        "        self.dropout1 = tf.keras.layers.Dropout(rate)\n",
        "        self.dropout2 = tf.keras.layers.Dropout(rate)\n",
        "\n",
        "    def call(self, x, training, mask):\n",
        "        attn_output, _ = self.mha(x, x, x, mask)\n",
        "        attn_output = self.dropout1(attn_output, training=training)\n",
        "        out1 = self.layernorm1(x + attn_output)\n",
        "\n",
        "        ffn_output = self.ffn(out1)\n",
        "        ffn_output = self.dropout2(ffn_output, training=training)\n",
        "        out2 = self.layernorm2(out1 + ffn_output)\n",
        "\n",
        "        return out2\n",
        "\n",
        "class DecoderLayer(tf.keras.layers.Layer):\n",
        "    def __init__(self, d_model, num_heads, dff, rate=0.1):\n",
        "        super(DecoderLayer, self).__init__()\n",
        "\n",
        "        self.mha1 = MultiHeadAttention(d_model, num_heads)\n",
        "        self.mha2 = MultiHeadAttention(d_model, num_heads)\n",
        "\n",
        "        self.ffn = point_wise_feed_forward_network(d_model, dff)\n",
        "\n",
        "        self.layernorm1 = tf.keras.layers.LayerNormalization(epsilon=1e-6)\n",
        "        self.layernorm2 = tf.keras.layers.LayerNormalization(epsilon=1e-6)\n",
        "        self.layernorm3 = tf.keras.layers.LayerNormalization(epsilon=1e-6)\n",
        "\n",
        "        self.dropout1 = tf.keras.layers.Dropout(rate)\n",
        "        self.dropout2 = tf.keras.layers.Dropout(rate)\n",
        "        self.dropout3 = tf.keras.layers.Dropout(rate)\n",
        "\n",
        "\n",
        "    def call(self, x, enc_output, training, look_ahead_mask, padding_mask):\n",
        "        attn1, attn_weights_block1 = self.mha1(x, x, x, look_ahead_mask)\n",
        "        attn1 = self.dropout1(attn1, training=training)\n",
        "        out1 = self.layernorm1(attn1 + x)\n",
        "\n",
        "        attn2, attn_weights_block2 = self.mha2(enc_output, enc_output, out1, padding_mask)\n",
        "        attn2 = self.dropout2(attn2, training=training)\n",
        "        out2 = self.layernorm2(attn2 + out1)\n",
        "\n",
        "        ffn_output = self.ffn(out2)\n",
        "        ffn_output = self.dropout3(ffn_output, training=training)\n",
        "        out3 = self.layernorm3(ffn_output + out2)\n",
        "\n",
        "        return out3, attn_weights_block1, attn_weights_block2\n",
        "\n",
        "\n",
        "class Encoder(tf.keras.layers.Layer):\n",
        "    def __init__(self, num_layers, d_model, num_heads, dff, input_vocab_size, maximum_position_encoding, rate=0.1):\n",
        "        super(Encoder, self).__init__()\n",
        "\n",
        "        self.d_model = d_model\n",
        "        self.num_layers = num_layers\n",
        "\n",
        "        self.embedding = tf.keras.layers.Embedding(input_vocab_size, d_model)\n",
        "        self.pos_encoding = positional_encoding(maximum_position_encoding, self.d_model)\n",
        "\n",
        "        self.enc_layers = [EncoderLayer(d_model, num_heads, dff, rate) for _ in range(num_layers)]\n",
        "\n",
        "        self.dropout = tf.keras.layers.Dropout(rate)\n",
        "\n",
        "    def call(self, x, training, mask):\n",
        "        seq_len = tf.shape(x)[1]\n",
        "\n",
        "        x = self.embedding(x)\n",
        "        x *= tf.math.sqrt(tf.cast(self.d_model, tf.float32))\n",
        "        x += self.pos_encoding[:, :seq_len, :]\n",
        "\n",
        "        x = self.dropout(x, training=training)\n",
        "\n",
        "        for i in range(self.num_layers):\n",
        "            x = self.enc_layers[i](x, training, mask)\n",
        "\n",
        "        return x\n",
        "\n",
        "class Decoder(tf.keras.layers.Layer):\n",
        "    def __init__(self, num_layers, d_model, num_heads, dff, target_vocab_size, maximum_position_encoding, rate=0.1):\n",
        "        super(Decoder, self).__init__()\n",
        "\n",
        "        self.d_model = d_model\n",
        "        self.num_layers = num_layers\n",
        "\n",
        "        self.embedding = tf.keras.layers.Embedding(target_vocab_size, d_model)\n",
        "        self.pos_encoding = positional_encoding(maximum_position_encoding, d_model)\n",
        "\n",
        "        self.dec_layers = [DecoderLayer(d_model, num_heads, dff, rate) for _ in range(num_layers)]\n",
        "        self.dropout = tf.keras.layers.Dropout(rate)\n",
        "\n",
        "    def call(self, x, enc_output, training, look_ahead_mask, padding_mask):\n",
        "        seq_len = tf.shape(x)[1]\n",
        "        attention_weights = {}\n",
        "\n",
        "        x = self.embedding(x)\n",
        "        x *= tf.math.sqrt(tf.cast(self.d_model, tf.float32))\n",
        "        x += self.pos_encoding[:, :seq_len, :]\n",
        "\n",
        "        x = self.dropout(x, training=training)\n",
        "\n",
        "        for i in range(self.num_layers):\n",
        "            x, block1, block2 = self.dec_layers[i](x, enc_output, training, look_ahead_mask, padding_mask)\n",
        "\n",
        "            attention_weights['decoder_layer{}_block1'.format(i+1)] = block1\n",
        "            attention_weights['decoder_layer{}_block2'.format(i+1)] = block2\n",
        "\n",
        "        return x, attention_weights\n",
        "\n"
      ]
    },
    {
      "cell_type": "markdown",
      "metadata": {
        "id": "HmGFGVS3siES"
      },
      "source": [
        "Stacking the Layers in the ‘Model’\n",
        "Finally, we stack all the intermediate layers in a Custom Model class inherited from tf.keras.Model class."
      ]
    },
    {
      "cell_type": "code",
      "execution_count": 27,
      "metadata": {
        "id": "EpkGa5IHr63e"
      },
      "outputs": [],
      "source": [
        "class Transformer(tf.keras.Model):\n",
        "    def __init__(self, num_layers, d_model, num_heads, dff, input_vocab_size, target_vocab_size, pe_input, pe_target, rate=0.1):\n",
        "        super(Transformer, self).__init__()\n",
        "\n",
        "        self.encoder = Encoder(num_layers, d_model, num_heads, dff, input_vocab_size, pe_input, rate)\n",
        "\n",
        "        self.decoder = Decoder(num_layers, d_model, num_heads, dff, target_vocab_size, pe_target, rate)\n",
        "\n",
        "        self.final_layer = tf.keras.layers.Dense(target_vocab_size)\n",
        "\n",
        "    def call(self, inp, tar, training, enc_padding_mask, look_ahead_mask, dec_padding_mask):\n",
        "        enc_output = self.encoder(inp, training, enc_padding_mask)\n",
        "\n",
        "        dec_output, attention_weights = self.decoder(tar, enc_output, training, look_ahead_mask, dec_padding_mask)\n",
        "\n",
        "        final_output = self.final_layer(dec_output)\n",
        "\n",
        "        return final_output, attention_weights\n"
      ]
    },
    {
      "cell_type": "markdown",
      "metadata": {
        "id": "tzz7UQDmsmdh"
      },
      "source": [
        "## Training"
      ]
    },
    {
      "cell_type": "markdown",
      "metadata": {
        "id": "cZfbNyvospEx"
      },
      "source": [
        "Training the Model\n",
        "The cool stuff. We train the model with SparseCategoricalCrossEntropy loss as regular CategoricalCrossEntropy loss would require the target as a one-hot encoding of each word in the target sequence which would be a huge array.\n",
        "Moreover, we mask the loss incurred by the padded tokens to 0 so that they do not contribute to the mean loss.\n",
        "Following are the hyper-parameter values that I have used while training the summarizer:"
      ]
    },
    {
      "cell_type": "code",
      "execution_count": 28,
      "metadata": {
        "id": "wH_pulWCr61M"
      },
      "outputs": [],
      "source": [
        "# hyper-params\n",
        "num_layers = 4\n",
        "d_model = 128\n",
        "dff = 512\n",
        "num_heads = 8"
      ]
    },
    {
      "cell_type": "markdown",
      "metadata": {
        "id": "KdZUSJNest_m"
      },
      "source": [
        "Custom Learning Rate\n",
        "The transformer paper also suggests training on a custom learning rate scheduler that helps faster convergence"
      ]
    },
    {
      "cell_type": "code",
      "execution_count": 29,
      "metadata": {
        "id": "IYJqJJBsr6y1"
      },
      "outputs": [],
      "source": [
        "#class CustomSchedule(tf.keras.optimizers.schedules.LearningRateSchedule):\n",
        "#    def __init__(self, d_model, warmup_steps=4000):\n",
        "#        super(CustomSchedule, self).__init__()\n",
        "\n",
        "#        self.d_model = d_model\n",
        "#        self.d_model = tf.cast(self.d_model, tf.float32)\n",
        "\n",
        "#        self.warmup_steps = warmup_steps\n",
        "\n",
        "#    def __call__(self, step):\n",
        "#        arg1 = tf.math.rsqrt(step)\n",
        "#        arg2 = step * (self.warmup_steps ** -1.5)\n",
        "\n",
        "#        return tf.math.rsqrt(self.d_model) * tf.math.minimum(arg1, arg2)\n",
        "\n",
        "class CustomSchedule(tf.keras.optimizers.schedules.LearningRateSchedule):\n",
        "    def __init__(self, d_model, warmup_steps=4000):\n",
        "        super(CustomSchedule, self).__init__()\n",
        "\n",
        "        self.d_model = d_model\n",
        "        self.d_model = tf.cast(self.d_model, tf.float32)\n",
        "\n",
        "        self.warmup_steps = tf.cast(warmup_steps, tf.float32)\n",
        "\n",
        "    def __call__(self, step):\n",
        "        arg1 = tf.math.rsqrt(tf.cast(step, tf.float32))\n",
        "        arg2 = tf.cast(step, tf.float32) * (self.warmup_steps ** -1.5)\n",
        "\n",
        "        return tf.math.rsqrt(self.d_model) * tf.math.minimum(arg1, arg2)\n",
        "\n",
        "\n"
      ]
    },
    {
      "cell_type": "code",
      "execution_count": 30,
      "metadata": {
        "colab": {
          "base_uri": "https://localhost:8080/"
        },
        "id": "3wXg2UHw26bf",
        "outputId": "634b258b-a35c-4b0c-f3e6-9eabcb0ffccf"
      },
      "outputs": [
        {
          "output_type": "execute_result",
          "data": {
            "text/plain": [
              "<__main__.CustomSchedule at 0x7d030e5b7dc0>"
            ]
          },
          "metadata": {},
          "execution_count": 30
        }
      ],
      "source": [
        "learning_rate = CustomSchedule(d_model)\n",
        "learning_rate"
      ]
    },
    {
      "cell_type": "code",
      "execution_count": 31,
      "metadata": {
        "id": "SHnMj3ysr6wd"
      },
      "outputs": [],
      "source": [
        "optimizer = tf.keras.optimizers.Adam(learning_rate, beta_1=0.9, beta_2=0.98, epsilon=1e-9)\n",
        "loss_object = tf.keras.losses.SparseCategoricalCrossentropy(from_logits=True, reduction='none')\n",
        "\n",
        "def loss_function(real, pred):\n",
        "    mask = tf.math.logical_not(tf.math.equal(real, 0))\n",
        "    loss_ = loss_object(real, pred)\n",
        "\n",
        "    mask = tf.cast(mask, dtype=loss_.dtype)\n",
        "    loss_ *= mask\n",
        "\n",
        "    return tf.reduce_sum(loss_)/tf.reduce_sum(mask)\n",
        "\n",
        "train_loss = tf.keras.metrics.Mean(name='train_loss')\n"
      ]
    },
    {
      "cell_type": "code",
      "execution_count": 32,
      "metadata": {
        "id": "bkSL-Unsr6uI"
      },
      "outputs": [],
      "source": [
        "transformer = Transformer(\n",
        "    num_layers,\n",
        "    d_model,\n",
        "    num_heads,\n",
        "    dff,\n",
        "    encoder_vocab_size,\n",
        "    decoder_vocab_size,\n",
        "    pe_input=encoder_vocab_size,\n",
        "    pe_target=decoder_vocab_size,\n",
        ")"
      ]
    },
    {
      "cell_type": "code",
      "source": [
        "# Exemple pour calculer dynamiquement la longueur maximale à partir de vos données d'entraînement\n",
        "max_input_length = max(len(sentence.split()) for sentence in document)\n",
        "max_input_length"
      ],
      "metadata": {
        "colab": {
          "base_uri": "https://localhost:8080/"
        },
        "id": "YEXkErK62ya0",
        "outputId": "2afde838-ae50-4eed-beea-921ba3c1e8fc"
      },
      "execution_count": 44,
      "outputs": [
        {
          "output_type": "execute_result",
          "data": {
            "text/plain": [
              "29189"
            ]
          },
          "metadata": {},
          "execution_count": 44
        }
      ]
    },
    {
      "cell_type": "code",
      "source": [
        "sample_input = tf.constant([[1, 2, 3, 4, 5]])\n",
        "sample_target = tf.constant([[1, 2, 3, 4, 5]])\n",
        "_ = transformer(sample_input, sample_target, training=False, enc_padding_mask=None, look_ahead_mask=None, dec_padding_mask=None)\n",
        "\n",
        "# Affichage du nombre de paramètres du modèle\n",
        "def count_parameters(model):\n",
        "    return sum([tf.keras.backend.count_params(w) for w in model.trainable_weights])\n",
        "\n",
        "num_params = count_parameters(transformer)\n",
        "print(\"Nombre de paramètres du modèle:\", num_params) # 61671569\n"
      ],
      "metadata": {
        "colab": {
          "base_uri": "https://localhost:8080/"
        },
        "id": "aonVtQRw1sJP",
        "outputId": "de8e692b-968b-47ee-a855-7f529273ab5a"
      },
      "execution_count": 69,
      "outputs": [
        {
          "output_type": "stream",
          "name": "stdout",
          "text": [
            "Nombre de paramètres du modèle: 61671569\n"
          ]
        }
      ]
    },
    {
      "cell_type": "code",
      "execution_count": null,
      "metadata": {
        "id": "k_yQf3yZs1kM"
      },
      "outputs": [],
      "source": [
        "import numpy as np\n",
        "\n",
        "def create_masks(inp, tar):\n",
        "    enc_padding_mask = create_padding_mask(inp)\n",
        "    dec_padding_mask = create_padding_mask(inp)\n",
        "\n",
        "    look_ahead_mask = create_look_ahead_mask(tf.shape(tar)[1])\n",
        "    dec_target_padding_mask = create_padding_mask(tar)\n",
        "    combined_mask = tf.maximum(dec_target_padding_mask, look_ahead_mask)\n",
        "\n",
        "    return enc_padding_mask, combined_mask, dec_padding_mask\n",
        "\n",
        "def append_losses_to_file(filename, float_list):\n",
        "    # open file in append mode\n",
        "    with open(filename, 'a') as f:\n",
        "        np.savetxt(f, float_list) #.numpy()\n",
        "    # close the file\n",
        "    f.close()"
      ]
    },
    {
      "cell_type": "code",
      "execution_count": null,
      "metadata": {
        "id": "ExGrod_bs1g3",
        "outputId": "8c32b844-0fe0-40cb-c732-ef6434fda9a1"
      },
      "outputs": [
        {
          "name": "stdout",
          "output_type": "stream",
          "text": [
            "Latest checkpoint restored!!\n"
          ]
        }
      ],
      "source": [
        "checkpoint_path = \"saved_model\"\n",
        "model_path = './saved_model/abstract_summary'\n",
        "\n",
        "ckpt = tf.train.Checkpoint(transformer=transformer, optimizer=optimizer)\n",
        "\n",
        "ckpt_manager = tf.train.CheckpointManager(ckpt, checkpoint_path, max_to_keep=5)\n",
        "\n",
        "if ckpt_manager.latest_checkpoint:\n",
        "    ckpt.restore(ckpt_manager.latest_checkpoint)\n",
        "    print ('Latest checkpoint restored!!')"
      ]
    },
    {
      "cell_type": "code",
      "execution_count": null,
      "metadata": {
        "id": "oVMNPP5ds1du"
      },
      "outputs": [],
      "source": [
        "@tf.function\n",
        "def train_step(inp, tar):\n",
        "    tar_inp = tar[:, :-1]\n",
        "    tar_real = tar[:, 1:]\n",
        "\n",
        "    enc_padding_mask, combined_mask, dec_padding_mask = create_masks(inp, tar_inp)\n",
        "\n",
        "    with tf.GradientTape() as tape:\n",
        "        predictions, _ = transformer(\n",
        "            inp, tar_inp,\n",
        "            True,\n",
        "            enc_padding_mask,\n",
        "            combined_mask,\n",
        "            dec_padding_mask\n",
        "        )\n",
        "        loss = loss_function(tar_real, predictions)\n",
        "\n",
        "    gradients = tape.gradient(loss, transformer.trainable_variables)\n",
        "    optimizer.apply_gradients(zip(gradients, transformer.trainable_variables))\n",
        "\n",
        "    train_loss(loss)"
      ]
    },
    {
      "cell_type": "markdown",
      "metadata": {
        "id": "9Upo3qgcs8Xi"
      },
      "source": [
        "## Run"
      ]
    },
    {
      "cell_type": "markdown",
      "metadata": {
        "id": "S3udgbqRuXai"
      },
      "source": [
        "### Import model checkpoints"
      ]
    },
    {
      "cell_type": "code",
      "execution_count": null,
      "metadata": {
        "id": "2FeXumWWuXOa"
      },
      "outputs": [],
      "source": [
        "#ckpt_manager.load_weights(checkpoint_path)\n",
        "\n",
        "#model = tf.keras.models.load_model(model_path)"
      ]
    },
    {
      "cell_type": "code",
      "execution_count": null,
      "metadata": {
        "id": "Cu-g9qwRuSAw"
      },
      "outputs": [],
      "source": [
        "# hyper-params\n",
        "EPOCHS = 50"
      ]
    },
    {
      "cell_type": "code",
      "execution_count": null,
      "metadata": {
        "colab": {
          "base_uri": "https://localhost:8080/",
          "referenced_widgets": [
            "afee6db917644d1f9f49109af1c5a254",
            "e81d3c10b6c94995816e3dbfe038b9e1",
            "6ee88c77e4fa4ee7b6b43cdda41b77c8",
            "fcb37a0ae3074ea9b75d5ba63a061573",
            "5372fe7a1b894713b6c618d0ddefd50e",
            "46b7bf14796341fc9865b751c72a089d",
            "126d278efb6b4d609a475da190144ef9",
            "43f566e8ab1b4e8f9bc1666165421c5a",
            "f1dc61a6c8a9466182bd847a6dac86d9",
            "57f6c36abcde423699f38d6ee89cfe1a",
            "dade871f711e4b098519aff50650ca1e",
            "f3e08cff9174481198c3f15453e97f5e",
            "0f0ea2e652b149b5b1df26d25fd34201",
            "e5357490464c4dfb87a0a9e3067eeaf8",
            "6fe70c4de14a4e6b8516329fe7a620df",
            "699b48f785ed48a7af9840a713bf41be",
            "03f738e21e12470ebf5e3488870bfdbe",
            "85cc7dd7b74140599c8754809c8cc17f",
            "763026ef3a634916a9a67600f17eb935",
            "776d3e78c68a4b39883b94d34d1e4a51",
            "8f221033f4d942fd9f4c4583ffc405be",
            "0850c63bb1c84cdfb42b5b4e90201994",
            "ff897f3e746748f8923118097e98a3b7",
            "56a11f11704e40dd81f3f211e033a7da",
            "bb8e3e9bf4dc4e59b0a9aae490249e7b",
            "6e99b48eb27d432b8cb093f27644f228",
            "5396c562aa704bfd9a94ce195ad25bf1",
            "fc5983dac7264b4c85d4a40a0468182c",
            "de46426434c0492ba8f82ea31daa5037",
            "3f64d73d9f7a4baa8655efe2a9558ec6",
            "c0a1a85a6a5b487187c2959a278dac23",
            "8a2a14ec6baa4c5a84edce6755622ba2",
            "e24c9ac4d78a4a04a3390c15797f8dcc",
            "8d40171ad75e43d8b33a8e7edcc16263",
            "397b56723b5142f3ad51f605ce6aba91",
            "575ebc635e024ce4a8fc7b86f4685007",
            "f37778bf2ff742698e4c419fe004d542",
            "805df1e8615f472989c972c52407a466",
            "45cb8dae3b414a4bb0e3cdc9578cc07b",
            "57c11b4f65c64a81b51867c885165288",
            "09c1136a90704032b50de79b545ec2db",
            "94c258d32f4e40d58e13f0cab4b1f162",
            "13643f1125be4988a148103cf4d88521",
            "261d0ae2034a4f21a9115f07b49ebcc5",
            "88f2495a0e90411f810f85f00bc815d8",
            "85c242061db241148cab21451e3fc87a",
            "aced674ec0e54c46a528cf014b2e0d3a",
            "0b04303a9d7a4b53b02f56fee5753311",
            "62c4f0d40cd746029501a15ed54d3bd1",
            "1285b8d5711d497dbcd97acc0304d45b",
            "463fce92f5a142c2bc5eb873addd048f"
          ]
        },
        "id": "oLVtpZuxs6rK",
        "outputId": "ee8bb1c7-33cb-4bb4-eeed-befab842c8f6"
      },
      "outputs": [
        {
          "data": {
            "application/vnd.jupyter.widget-view+json": {
              "model_id": "afee6db917644d1f9f49109af1c5a254",
              "version_major": 2,
              "version_minor": 0
            },
            "text/plain": [
              "  0%|          | 0/50 [00:00<?, ?it/s]"
            ]
          },
          "metadata": {},
          "output_type": "display_data"
        },
        {
          "name": "stdout",
          "output_type": "stream",
          "text": [
            "===============\n"
          ]
        },
        {
          "data": {
            "application/vnd.jupyter.widget-view+json": {
              "model_id": "e81d3c10b6c94995816e3dbfe038b9e1",
              "version_major": 2,
              "version_minor": 0
            },
            "text/plain": [
              "0it [00:00, ?it/s]"
            ]
          },
          "metadata": {},
          "output_type": "display_data"
        },
        {
          "name": "stdout",
          "output_type": "stream",
          "text": [
            "Epoch 1 Batch 0 Loss 2.7944\n",
            "Epoch 1 Batch 429 Loss 2.8039\n",
            "Epoch 1 Batch 858 Loss 2.7991\n",
            "Epoch 1 Batch 1287 Loss 2.7978\n",
            "Epoch 1 Batch 1716 Loss 2.7975\n",
            "Epoch 1 Batch 2145 Loss 2.7987\n",
            "Epoch 1 Batch 2574 Loss 2.7983\n",
            "Epoch 1 Batch 3003 Loss 2.7972\n",
            "Epoch 1 Loss 2.7972\n",
            "Time taken for 1 epoch: 478.2724096775055 secs\n",
            "\n",
            "===============\n"
          ]
        },
        {
          "data": {
            "application/vnd.jupyter.widget-view+json": {
              "model_id": "6ee88c77e4fa4ee7b6b43cdda41b77c8",
              "version_major": 2,
              "version_minor": 0
            },
            "text/plain": [
              "0it [00:00, ?it/s]"
            ]
          },
          "metadata": {},
          "output_type": "display_data"
        },
        {
          "name": "stdout",
          "output_type": "stream",
          "text": [
            "Epoch 2 Batch 0 Loss 2.5410\n",
            "Epoch 2 Batch 429 Loss 2.7984\n",
            "Epoch 2 Batch 858 Loss 2.7957\n",
            "Epoch 2 Batch 1287 Loss 2.7966\n",
            "Epoch 2 Batch 1716 Loss 2.7992\n",
            "Epoch 2 Batch 2145 Loss 2.7966\n",
            "Epoch 2 Batch 2574 Loss 2.7968\n",
            "Epoch 2 Batch 3003 Loss 2.7961\n",
            "Epoch 2 Loss 2.7964\n",
            "Time taken for 1 epoch: 307.6012852191925 secs\n",
            "\n",
            "===============\n"
          ]
        },
        {
          "data": {
            "application/vnd.jupyter.widget-view+json": {
              "model_id": "fcb37a0ae3074ea9b75d5ba63a061573",
              "version_major": 2,
              "version_minor": 0
            },
            "text/plain": [
              "0it [00:00, ?it/s]"
            ]
          },
          "metadata": {},
          "output_type": "display_data"
        },
        {
          "name": "stdout",
          "output_type": "stream",
          "text": [
            "Epoch 3 Batch 0 Loss 2.6241\n",
            "Epoch 3 Batch 429 Loss 2.7949\n",
            "Epoch 3 Batch 858 Loss 2.7961\n",
            "Epoch 3 Batch 1287 Loss 2.7950\n",
            "Epoch 3 Batch 1716 Loss 2.7957\n",
            "Epoch 3 Batch 2145 Loss 2.7947\n",
            "Epoch 3 Batch 2574 Loss 2.7948\n",
            "Epoch 3 Batch 3003 Loss 2.7946\n",
            "Epoch 3 Loss 2.7942\n",
            "Time taken for 1 epoch: 296.2461543083191 secs\n",
            "\n",
            "===============\n"
          ]
        },
        {
          "data": {
            "application/vnd.jupyter.widget-view+json": {
              "model_id": "5372fe7a1b894713b6c618d0ddefd50e",
              "version_major": 2,
              "version_minor": 0
            },
            "text/plain": [
              "0it [00:00, ?it/s]"
            ]
          },
          "metadata": {},
          "output_type": "display_data"
        },
        {
          "name": "stdout",
          "output_type": "stream",
          "text": [
            "Epoch 4 Batch 0 Loss 2.9245\n",
            "Epoch 4 Batch 429 Loss 2.7953\n",
            "Epoch 4 Batch 858 Loss 2.7938\n",
            "Epoch 4 Batch 1287 Loss 2.7896\n",
            "Epoch 4 Batch 1716 Loss 2.7919\n",
            "Epoch 4 Batch 2145 Loss 2.7929\n",
            "Epoch 4 Batch 2574 Loss 2.7934\n",
            "Epoch 4 Batch 3003 Loss 2.7927\n",
            "Epoch 4 Loss 2.7923\n",
            "Time taken for 1 epoch: 292.0574288368225 secs\n",
            "\n",
            "===============\n"
          ]
        },
        {
          "data": {
            "application/vnd.jupyter.widget-view+json": {
              "model_id": "46b7bf14796341fc9865b751c72a089d",
              "version_major": 2,
              "version_minor": 0
            },
            "text/plain": [
              "0it [00:00, ?it/s]"
            ]
          },
          "metadata": {},
          "output_type": "display_data"
        },
        {
          "name": "stdout",
          "output_type": "stream",
          "text": [
            "Epoch 5 Batch 0 Loss 2.8084\n",
            "Epoch 5 Batch 429 Loss 2.7903\n",
            "Epoch 5 Batch 858 Loss 2.7918\n",
            "Epoch 5 Batch 1287 Loss 2.7902\n",
            "Epoch 5 Batch 1716 Loss 2.7932\n",
            "Epoch 5 Batch 2145 Loss 2.7929\n",
            "Epoch 5 Batch 2574 Loss 2.7933\n",
            "Epoch 5 Batch 3003 Loss 2.7918\n",
            "Saving checkpoint for epoch 5 at saved_model/ckpt-46\n",
            "Epoch 5 Loss 2.7920\n",
            "Time taken for 1 epoch: 289.00841999053955 secs\n",
            "\n",
            "===============\n"
          ]
        },
        {
          "data": {
            "application/vnd.jupyter.widget-view+json": {
              "model_id": "126d278efb6b4d609a475da190144ef9",
              "version_major": 2,
              "version_minor": 0
            },
            "text/plain": [
              "0it [00:00, ?it/s]"
            ]
          },
          "metadata": {},
          "output_type": "display_data"
        },
        {
          "name": "stdout",
          "output_type": "stream",
          "text": [
            "Epoch 6 Batch 0 Loss 2.9657\n",
            "Epoch 6 Batch 429 Loss 2.7985\n",
            "Epoch 6 Batch 858 Loss 2.7915\n",
            "Epoch 6 Batch 1287 Loss 2.7926\n",
            "Epoch 6 Batch 1716 Loss 2.7922\n",
            "Epoch 6 Batch 2145 Loss 2.7908\n",
            "Epoch 6 Batch 2574 Loss 2.7923\n",
            "Epoch 6 Batch 3003 Loss 2.7914\n",
            "Epoch 6 Loss 2.7921\n",
            "Time taken for 1 epoch: 287.6684491634369 secs\n",
            "\n",
            "===============\n"
          ]
        },
        {
          "data": {
            "application/vnd.jupyter.widget-view+json": {
              "model_id": "43f566e8ab1b4e8f9bc1666165421c5a",
              "version_major": 2,
              "version_minor": 0
            },
            "text/plain": [
              "0it [00:00, ?it/s]"
            ]
          },
          "metadata": {},
          "output_type": "display_data"
        },
        {
          "name": "stdout",
          "output_type": "stream",
          "text": [
            "Epoch 7 Batch 0 Loss 2.8396\n",
            "Epoch 7 Batch 429 Loss 2.7971\n",
            "Epoch 7 Batch 858 Loss 2.7899\n",
            "Epoch 7 Batch 1287 Loss 2.7886\n",
            "Epoch 7 Batch 1716 Loss 2.7907\n",
            "Epoch 7 Batch 2145 Loss 2.7916\n",
            "Epoch 7 Batch 2574 Loss 2.7907\n",
            "Epoch 7 Batch 3003 Loss 2.7901\n",
            "Epoch 7 Loss 2.7903\n",
            "Time taken for 1 epoch: 285.07049798965454 secs\n",
            "\n",
            "===============\n"
          ]
        },
        {
          "data": {
            "application/vnd.jupyter.widget-view+json": {
              "model_id": "f1dc61a6c8a9466182bd847a6dac86d9",
              "version_major": 2,
              "version_minor": 0
            },
            "text/plain": [
              "0it [00:00, ?it/s]"
            ]
          },
          "metadata": {},
          "output_type": "display_data"
        },
        {
          "name": "stdout",
          "output_type": "stream",
          "text": [
            "Epoch 8 Batch 0 Loss 2.7231\n",
            "Epoch 8 Batch 429 Loss 2.7902\n",
            "Epoch 8 Batch 858 Loss 2.7915\n",
            "Epoch 8 Batch 1287 Loss 2.7909\n",
            "Epoch 8 Batch 1716 Loss 2.7889\n",
            "Epoch 8 Batch 2145 Loss 2.7904\n",
            "Epoch 8 Batch 2574 Loss 2.7891\n",
            "Epoch 8 Batch 3003 Loss 2.7886\n",
            "Epoch 8 Loss 2.7892\n",
            "Time taken for 1 epoch: 287.33680391311646 secs\n",
            "\n",
            "===============\n"
          ]
        },
        {
          "data": {
            "application/vnd.jupyter.widget-view+json": {
              "model_id": "57f6c36abcde423699f38d6ee89cfe1a",
              "version_major": 2,
              "version_minor": 0
            },
            "text/plain": [
              "0it [00:00, ?it/s]"
            ]
          },
          "metadata": {},
          "output_type": "display_data"
        },
        {
          "name": "stdout",
          "output_type": "stream",
          "text": [
            "Epoch 9 Batch 0 Loss 2.7528\n",
            "Epoch 9 Batch 429 Loss 2.7922\n",
            "Epoch 9 Batch 858 Loss 2.7892\n",
            "Epoch 9 Batch 1287 Loss 2.7873\n",
            "Epoch 9 Batch 1716 Loss 2.7873\n",
            "Epoch 9 Batch 2145 Loss 2.7878\n",
            "Epoch 9 Batch 2574 Loss 2.7889\n",
            "Epoch 9 Batch 3003 Loss 2.7882\n",
            "Epoch 9 Loss 2.7884\n",
            "Time taken for 1 epoch: 286.40331506729126 secs\n",
            "\n",
            "===============\n"
          ]
        },
        {
          "data": {
            "application/vnd.jupyter.widget-view+json": {
              "model_id": "dade871f711e4b098519aff50650ca1e",
              "version_major": 2,
              "version_minor": 0
            },
            "text/plain": [
              "0it [00:00, ?it/s]"
            ]
          },
          "metadata": {},
          "output_type": "display_data"
        },
        {
          "name": "stdout",
          "output_type": "stream",
          "text": [
            "Epoch 10 Batch 0 Loss 2.7890\n",
            "Epoch 10 Batch 429 Loss 2.7904\n",
            "Epoch 10 Batch 858 Loss 2.7885\n",
            "Epoch 10 Batch 1287 Loss 2.7867\n",
            "Epoch 10 Batch 1716 Loss 2.7885\n",
            "Epoch 10 Batch 2145 Loss 2.7880\n",
            "Epoch 10 Batch 2574 Loss 2.7881\n",
            "Epoch 10 Batch 3003 Loss 2.7873\n",
            "Saving checkpoint for epoch 10 at saved_model/ckpt-47\n",
            "Epoch 10 Loss 2.7874\n",
            "Time taken for 1 epoch: 286.6458549499512 secs\n",
            "\n",
            "===============\n"
          ]
        },
        {
          "data": {
            "application/vnd.jupyter.widget-view+json": {
              "model_id": "f3e08cff9174481198c3f15453e97f5e",
              "version_major": 2,
              "version_minor": 0
            },
            "text/plain": [
              "0it [00:00, ?it/s]"
            ]
          },
          "metadata": {},
          "output_type": "display_data"
        },
        {
          "name": "stdout",
          "output_type": "stream",
          "text": [
            "Epoch 11 Batch 0 Loss 2.7951\n",
            "Epoch 11 Batch 429 Loss 2.7851\n",
            "Epoch 11 Batch 858 Loss 2.7886\n",
            "Epoch 11 Batch 1287 Loss 2.7871\n",
            "Epoch 11 Batch 1716 Loss 2.7884\n",
            "Epoch 11 Batch 2145 Loss 2.7884\n",
            "Epoch 11 Batch 2574 Loss 2.7877\n",
            "Epoch 11 Batch 3003 Loss 2.7872\n",
            "Epoch 11 Loss 2.7868\n",
            "Time taken for 1 epoch: 284.3082444667816 secs\n",
            "\n",
            "===============\n"
          ]
        },
        {
          "data": {
            "application/vnd.jupyter.widget-view+json": {
              "model_id": "0f0ea2e652b149b5b1df26d25fd34201",
              "version_major": 2,
              "version_minor": 0
            },
            "text/plain": [
              "0it [00:00, ?it/s]"
            ]
          },
          "metadata": {},
          "output_type": "display_data"
        },
        {
          "name": "stdout",
          "output_type": "stream",
          "text": [
            "Epoch 12 Batch 0 Loss 2.8239\n",
            "Epoch 12 Batch 429 Loss 2.7919\n",
            "Epoch 12 Batch 858 Loss 2.7850\n",
            "Epoch 12 Batch 1287 Loss 2.7842\n",
            "Epoch 12 Batch 1716 Loss 2.7848\n",
            "Epoch 12 Batch 2145 Loss 2.7864\n",
            "Epoch 12 Batch 2574 Loss 2.7859\n",
            "Epoch 12 Batch 3003 Loss 2.7853\n",
            "Epoch 12 Loss 2.7850\n",
            "Time taken for 1 epoch: 285.211706161499 secs\n",
            "\n",
            "===============\n"
          ]
        },
        {
          "data": {
            "application/vnd.jupyter.widget-view+json": {
              "model_id": "e5357490464c4dfb87a0a9e3067eeaf8",
              "version_major": 2,
              "version_minor": 0
            },
            "text/plain": [
              "0it [00:00, ?it/s]"
            ]
          },
          "metadata": {},
          "output_type": "display_data"
        },
        {
          "name": "stdout",
          "output_type": "stream",
          "text": [
            "Epoch 13 Batch 0 Loss 2.9348\n",
            "Epoch 13 Batch 429 Loss 2.7879\n",
            "Epoch 13 Batch 858 Loss 2.7882\n",
            "Epoch 13 Batch 1287 Loss 2.7822\n",
            "Epoch 13 Batch 1716 Loss 2.7848\n",
            "Epoch 13 Batch 2145 Loss 2.7846\n",
            "Epoch 13 Batch 2574 Loss 2.7851\n",
            "Epoch 13 Batch 3003 Loss 2.7845\n",
            "Epoch 13 Loss 2.7846\n",
            "Time taken for 1 epoch: 284.2198967933655 secs\n",
            "\n",
            "===============\n"
          ]
        },
        {
          "data": {
            "application/vnd.jupyter.widget-view+json": {
              "model_id": "6fe70c4de14a4e6b8516329fe7a620df",
              "version_major": 2,
              "version_minor": 0
            },
            "text/plain": [
              "0it [00:00, ?it/s]"
            ]
          },
          "metadata": {},
          "output_type": "display_data"
        },
        {
          "name": "stdout",
          "output_type": "stream",
          "text": [
            "Epoch 14 Batch 0 Loss 2.7645\n",
            "Epoch 14 Batch 429 Loss 2.7852\n",
            "Epoch 14 Batch 858 Loss 2.7850\n",
            "Epoch 14 Batch 1287 Loss 2.7823\n",
            "Epoch 14 Batch 1716 Loss 2.7837\n",
            "Epoch 14 Batch 2145 Loss 2.7829\n",
            "Epoch 14 Batch 2574 Loss 2.7841\n",
            "Epoch 14 Batch 3003 Loss 2.7820\n",
            "Epoch 14 Loss 2.7826\n",
            "Time taken for 1 epoch: 285.15021777153015 secs\n",
            "\n",
            "===============\n"
          ]
        },
        {
          "data": {
            "application/vnd.jupyter.widget-view+json": {
              "model_id": "699b48f785ed48a7af9840a713bf41be",
              "version_major": 2,
              "version_minor": 0
            },
            "text/plain": [
              "0it [00:00, ?it/s]"
            ]
          },
          "metadata": {},
          "output_type": "display_data"
        },
        {
          "name": "stdout",
          "output_type": "stream",
          "text": [
            "Epoch 15 Batch 0 Loss 2.8295\n",
            "Epoch 15 Batch 429 Loss 2.7823\n",
            "Epoch 15 Batch 858 Loss 2.7826\n",
            "Epoch 15 Batch 1287 Loss 2.7826\n",
            "Epoch 15 Batch 1716 Loss 2.7820\n",
            "Epoch 15 Batch 2145 Loss 2.7825\n",
            "Epoch 15 Batch 2574 Loss 2.7818\n",
            "Epoch 15 Batch 3003 Loss 2.7810\n",
            "Saving checkpoint for epoch 15 at saved_model/ckpt-48\n",
            "Epoch 15 Loss 2.7816\n",
            "Time taken for 1 epoch: 285.65133023262024 secs\n",
            "\n",
            "===============\n"
          ]
        },
        {
          "data": {
            "application/vnd.jupyter.widget-view+json": {
              "model_id": "03f738e21e12470ebf5e3488870bfdbe",
              "version_major": 2,
              "version_minor": 0
            },
            "text/plain": [
              "0it [00:00, ?it/s]"
            ]
          },
          "metadata": {},
          "output_type": "display_data"
        },
        {
          "name": "stdout",
          "output_type": "stream",
          "text": [
            "Epoch 16 Batch 0 Loss 2.6502\n",
            "Epoch 16 Batch 429 Loss 2.7881\n",
            "Epoch 16 Batch 858 Loss 2.7827\n",
            "Epoch 16 Batch 1287 Loss 2.7813\n",
            "Epoch 16 Batch 1716 Loss 2.7817\n",
            "Epoch 16 Batch 2145 Loss 2.7823\n",
            "Epoch 16 Batch 2574 Loss 2.7826\n",
            "Epoch 16 Batch 3003 Loss 2.7810\n",
            "Epoch 16 Loss 2.7811\n",
            "Time taken for 1 epoch: 283.3568274974823 secs\n",
            "\n",
            "===============\n"
          ]
        },
        {
          "data": {
            "application/vnd.jupyter.widget-view+json": {
              "model_id": "85cc7dd7b74140599c8754809c8cc17f",
              "version_major": 2,
              "version_minor": 0
            },
            "text/plain": [
              "0it [00:00, ?it/s]"
            ]
          },
          "metadata": {},
          "output_type": "display_data"
        },
        {
          "name": "stdout",
          "output_type": "stream",
          "text": [
            "Epoch 17 Batch 0 Loss 2.7263\n",
            "Epoch 17 Batch 429 Loss 2.7775\n",
            "Epoch 17 Batch 858 Loss 2.7795\n",
            "Epoch 17 Batch 1287 Loss 2.7792\n",
            "Epoch 17 Batch 1716 Loss 2.7798\n",
            "Epoch 17 Batch 2145 Loss 2.7795\n",
            "Epoch 17 Batch 2574 Loss 2.7790\n",
            "Epoch 17 Batch 3003 Loss 2.7789\n",
            "Epoch 17 Loss 2.7794\n",
            "Time taken for 1 epoch: 283.7008156776428 secs\n",
            "\n",
            "===============\n"
          ]
        },
        {
          "data": {
            "application/vnd.jupyter.widget-view+json": {
              "model_id": "763026ef3a634916a9a67600f17eb935",
              "version_major": 2,
              "version_minor": 0
            },
            "text/plain": [
              "0it [00:00, ?it/s]"
            ]
          },
          "metadata": {},
          "output_type": "display_data"
        },
        {
          "name": "stdout",
          "output_type": "stream",
          "text": [
            "Epoch 18 Batch 0 Loss 2.7127\n",
            "Epoch 18 Batch 429 Loss 2.7820\n",
            "Epoch 18 Batch 858 Loss 2.7817\n",
            "Epoch 18 Batch 1287 Loss 2.7803\n",
            "Epoch 18 Batch 1716 Loss 2.7790\n",
            "Epoch 18 Batch 2145 Loss 2.7807\n",
            "Epoch 18 Batch 2574 Loss 2.7786\n",
            "Epoch 18 Batch 3003 Loss 2.7789\n",
            "Epoch 18 Loss 2.7790\n",
            "Time taken for 1 epoch: 284.08595299720764 secs\n",
            "\n",
            "===============\n"
          ]
        },
        {
          "data": {
            "application/vnd.jupyter.widget-view+json": {
              "model_id": "776d3e78c68a4b39883b94d34d1e4a51",
              "version_major": 2,
              "version_minor": 0
            },
            "text/plain": [
              "0it [00:00, ?it/s]"
            ]
          },
          "metadata": {},
          "output_type": "display_data"
        },
        {
          "name": "stdout",
          "output_type": "stream",
          "text": [
            "Epoch 19 Batch 0 Loss 2.8925\n",
            "Epoch 19 Batch 429 Loss 2.7833\n",
            "Epoch 19 Batch 858 Loss 2.7796\n",
            "Epoch 19 Batch 1287 Loss 2.7772\n",
            "Epoch 19 Batch 1716 Loss 2.7792\n",
            "Epoch 19 Batch 2145 Loss 2.7791\n",
            "Epoch 19 Batch 2574 Loss 2.7802\n",
            "Epoch 19 Batch 3003 Loss 2.7779\n",
            "Epoch 19 Loss 2.7778\n",
            "Time taken for 1 epoch: 284.42686223983765 secs\n",
            "\n",
            "===============\n"
          ]
        },
        {
          "data": {
            "application/vnd.jupyter.widget-view+json": {
              "model_id": "8f221033f4d942fd9f4c4583ffc405be",
              "version_major": 2,
              "version_minor": 0
            },
            "text/plain": [
              "0it [00:00, ?it/s]"
            ]
          },
          "metadata": {},
          "output_type": "display_data"
        },
        {
          "name": "stdout",
          "output_type": "stream",
          "text": [
            "Epoch 20 Batch 0 Loss 2.4885\n",
            "Epoch 20 Batch 429 Loss 2.7770\n",
            "Epoch 20 Batch 858 Loss 2.7755\n",
            "Epoch 20 Batch 1287 Loss 2.7756\n",
            "Epoch 20 Batch 1716 Loss 2.7762\n",
            "Epoch 20 Batch 2145 Loss 2.7776\n",
            "Epoch 20 Batch 2574 Loss 2.7770\n",
            "Epoch 20 Batch 3003 Loss 2.7775\n",
            "Saving checkpoint for epoch 20 at saved_model/ckpt-49\n",
            "Epoch 20 Loss 2.7771\n",
            "Time taken for 1 epoch: 284.2108497619629 secs\n",
            "\n",
            "===============\n"
          ]
        },
        {
          "data": {
            "application/vnd.jupyter.widget-view+json": {
              "model_id": "0850c63bb1c84cdfb42b5b4e90201994",
              "version_major": 2,
              "version_minor": 0
            },
            "text/plain": [
              "0it [00:00, ?it/s]"
            ]
          },
          "metadata": {},
          "output_type": "display_data"
        },
        {
          "name": "stdout",
          "output_type": "stream",
          "text": [
            "Epoch 21 Batch 0 Loss 2.7692\n",
            "Epoch 21 Batch 429 Loss 2.7760\n",
            "Epoch 21 Batch 858 Loss 2.7750\n",
            "Epoch 21 Batch 1287 Loss 2.7743\n",
            "Epoch 21 Batch 1716 Loss 2.7760\n",
            "Epoch 21 Batch 2145 Loss 2.7759\n",
            "Epoch 21 Batch 2574 Loss 2.7756\n",
            "Epoch 21 Batch 3003 Loss 2.7754\n",
            "Epoch 21 Loss 2.7750\n",
            "Time taken for 1 epoch: 282.6371240615845 secs\n",
            "\n",
            "===============\n"
          ]
        },
        {
          "data": {
            "application/vnd.jupyter.widget-view+json": {
              "model_id": "ff897f3e746748f8923118097e98a3b7",
              "version_major": 2,
              "version_minor": 0
            },
            "text/plain": [
              "0it [00:00, ?it/s]"
            ]
          },
          "metadata": {},
          "output_type": "display_data"
        },
        {
          "name": "stdout",
          "output_type": "stream",
          "text": [
            "Epoch 22 Batch 0 Loss 2.7433\n",
            "Epoch 22 Batch 429 Loss 2.7718\n",
            "Epoch 22 Batch 858 Loss 2.7721\n",
            "Epoch 22 Batch 1287 Loss 2.7723\n",
            "Epoch 22 Batch 1716 Loss 2.7743\n",
            "Epoch 22 Batch 2145 Loss 2.7757\n",
            "Epoch 22 Batch 2574 Loss 2.7765\n",
            "Epoch 22 Batch 3003 Loss 2.7755\n",
            "Epoch 22 Loss 2.7758\n",
            "Time taken for 1 epoch: 283.87915682792664 secs\n",
            "\n",
            "===============\n"
          ]
        },
        {
          "data": {
            "application/vnd.jupyter.widget-view+json": {
              "model_id": "56a11f11704e40dd81f3f211e033a7da",
              "version_major": 2,
              "version_minor": 0
            },
            "text/plain": [
              "0it [00:00, ?it/s]"
            ]
          },
          "metadata": {},
          "output_type": "display_data"
        },
        {
          "name": "stdout",
          "output_type": "stream",
          "text": [
            "Epoch 23 Batch 0 Loss 2.8339\n",
            "Epoch 23 Batch 429 Loss 2.7753\n",
            "Epoch 23 Batch 858 Loss 2.7753\n",
            "Epoch 23 Batch 1287 Loss 2.7740\n",
            "Epoch 23 Batch 1716 Loss 2.7737\n",
            "Epoch 23 Batch 2145 Loss 2.7744\n",
            "Epoch 23 Batch 2574 Loss 2.7753\n",
            "Epoch 23 Batch 3003 Loss 2.7740\n",
            "Epoch 23 Loss 2.7744\n",
            "Time taken for 1 epoch: 283.80107045173645 secs\n",
            "\n",
            "===============\n"
          ]
        },
        {
          "data": {
            "application/vnd.jupyter.widget-view+json": {
              "model_id": "bb8e3e9bf4dc4e59b0a9aae490249e7b",
              "version_major": 2,
              "version_minor": 0
            },
            "text/plain": [
              "0it [00:00, ?it/s]"
            ]
          },
          "metadata": {},
          "output_type": "display_data"
        },
        {
          "name": "stdout",
          "output_type": "stream",
          "text": [
            "Epoch 24 Batch 0 Loss 2.8395\n",
            "Epoch 24 Batch 429 Loss 2.7720\n",
            "Epoch 24 Batch 858 Loss 2.7739\n",
            "Epoch 24 Batch 1287 Loss 2.7746\n",
            "Epoch 24 Batch 1716 Loss 2.7732\n",
            "Epoch 24 Batch 2145 Loss 2.7733\n",
            "Epoch 24 Batch 2574 Loss 2.7746\n",
            "Epoch 24 Batch 3003 Loss 2.7735\n",
            "Epoch 24 Loss 2.7729\n",
            "Time taken for 1 epoch: 283.2729387283325 secs\n",
            "\n",
            "===============\n"
          ]
        },
        {
          "data": {
            "application/vnd.jupyter.widget-view+json": {
              "model_id": "6e99b48eb27d432b8cb093f27644f228",
              "version_major": 2,
              "version_minor": 0
            },
            "text/plain": [
              "0it [00:00, ?it/s]"
            ]
          },
          "metadata": {},
          "output_type": "display_data"
        },
        {
          "name": "stdout",
          "output_type": "stream",
          "text": [
            "Epoch 25 Batch 0 Loss 2.9113\n",
            "Epoch 25 Batch 429 Loss 2.7659\n",
            "Epoch 25 Batch 858 Loss 2.7714\n",
            "Epoch 25 Batch 1287 Loss 2.7724\n",
            "Epoch 25 Batch 1716 Loss 2.7730\n",
            "Epoch 25 Batch 2145 Loss 2.7735\n",
            "Epoch 25 Batch 2574 Loss 2.7745\n",
            "Epoch 25 Batch 3003 Loss 2.7724\n",
            "Saving checkpoint for epoch 25 at saved_model/ckpt-50\n",
            "Epoch 25 Loss 2.7722\n",
            "Time taken for 1 epoch: 284.05048179626465 secs\n",
            "\n",
            "===============\n"
          ]
        },
        {
          "data": {
            "application/vnd.jupyter.widget-view+json": {
              "model_id": "5396c562aa704bfd9a94ce195ad25bf1",
              "version_major": 2,
              "version_minor": 0
            },
            "text/plain": [
              "0it [00:00, ?it/s]"
            ]
          },
          "metadata": {},
          "output_type": "display_data"
        },
        {
          "name": "stdout",
          "output_type": "stream",
          "text": [
            "Epoch 26 Batch 0 Loss 2.6058\n",
            "Epoch 26 Batch 429 Loss 2.7714\n",
            "Epoch 26 Batch 858 Loss 2.7700\n",
            "Epoch 26 Batch 1287 Loss 2.7699\n",
            "Epoch 26 Batch 1716 Loss 2.7698\n",
            "Epoch 26 Batch 2145 Loss 2.7709\n",
            "Epoch 26 Batch 2574 Loss 2.7725\n",
            "Epoch 26 Batch 3003 Loss 2.7712\n",
            "Epoch 26 Loss 2.7714\n",
            "Time taken for 1 epoch: 283.9352970123291 secs\n",
            "\n",
            "===============\n"
          ]
        },
        {
          "data": {
            "application/vnd.jupyter.widget-view+json": {
              "model_id": "fc5983dac7264b4c85d4a40a0468182c",
              "version_major": 2,
              "version_minor": 0
            },
            "text/plain": [
              "0it [00:00, ?it/s]"
            ]
          },
          "metadata": {},
          "output_type": "display_data"
        },
        {
          "name": "stdout",
          "output_type": "stream",
          "text": [
            "Epoch 27 Batch 0 Loss 2.7200\n",
            "Epoch 27 Batch 429 Loss 2.7698\n",
            "Epoch 27 Batch 858 Loss 2.7691\n",
            "Epoch 27 Batch 1287 Loss 2.7702\n",
            "Epoch 27 Batch 1716 Loss 2.7691\n",
            "Epoch 27 Batch 2145 Loss 2.7720\n",
            "Epoch 27 Batch 2574 Loss 2.7725\n",
            "Epoch 27 Batch 3003 Loss 2.7708\n",
            "Epoch 27 Loss 2.7712\n",
            "Time taken for 1 epoch: 283.22810530662537 secs\n",
            "\n",
            "===============\n"
          ]
        },
        {
          "data": {
            "application/vnd.jupyter.widget-view+json": {
              "model_id": "de46426434c0492ba8f82ea31daa5037",
              "version_major": 2,
              "version_minor": 0
            },
            "text/plain": [
              "0it [00:00, ?it/s]"
            ]
          },
          "metadata": {},
          "output_type": "display_data"
        },
        {
          "name": "stdout",
          "output_type": "stream",
          "text": [
            "Epoch 28 Batch 0 Loss 2.9184\n",
            "Epoch 28 Batch 429 Loss 2.7691\n",
            "Epoch 28 Batch 858 Loss 2.7702\n",
            "Epoch 28 Batch 1287 Loss 2.7729\n",
            "Epoch 28 Batch 1716 Loss 2.7726\n",
            "Epoch 28 Batch 2145 Loss 2.7733\n",
            "Epoch 28 Batch 2574 Loss 2.7718\n",
            "Epoch 28 Batch 3003 Loss 2.7722\n",
            "Epoch 28 Loss 2.7712\n",
            "Time taken for 1 epoch: 283.11054396629333 secs\n",
            "\n",
            "===============\n"
          ]
        },
        {
          "data": {
            "application/vnd.jupyter.widget-view+json": {
              "model_id": "3f64d73d9f7a4baa8655efe2a9558ec6",
              "version_major": 2,
              "version_minor": 0
            },
            "text/plain": [
              "0it [00:00, ?it/s]"
            ]
          },
          "metadata": {},
          "output_type": "display_data"
        },
        {
          "name": "stdout",
          "output_type": "stream",
          "text": [
            "Epoch 29 Batch 0 Loss 2.7908\n",
            "Epoch 29 Batch 429 Loss 2.7702\n",
            "Epoch 29 Batch 858 Loss 2.7712\n",
            "Epoch 29 Batch 1287 Loss 2.7695\n",
            "Epoch 29 Batch 1716 Loss 2.7700\n",
            "Epoch 29 Batch 2145 Loss 2.7700\n",
            "Epoch 29 Batch 2574 Loss 2.7703\n",
            "Epoch 29 Batch 3003 Loss 2.7699\n",
            "Epoch 29 Loss 2.7693\n",
            "Time taken for 1 epoch: 282.6970021724701 secs\n",
            "\n",
            "===============\n"
          ]
        },
        {
          "data": {
            "application/vnd.jupyter.widget-view+json": {
              "model_id": "c0a1a85a6a5b487187c2959a278dac23",
              "version_major": 2,
              "version_minor": 0
            },
            "text/plain": [
              "0it [00:00, ?it/s]"
            ]
          },
          "metadata": {},
          "output_type": "display_data"
        },
        {
          "name": "stdout",
          "output_type": "stream",
          "text": [
            "Epoch 30 Batch 0 Loss 2.6523\n",
            "Epoch 30 Batch 429 Loss 2.7759\n",
            "Epoch 30 Batch 858 Loss 2.7702\n",
            "Epoch 30 Batch 1287 Loss 2.7685\n",
            "Epoch 30 Batch 1716 Loss 2.7684\n",
            "Epoch 30 Batch 2145 Loss 2.7703\n",
            "Epoch 30 Batch 2574 Loss 2.7703\n",
            "Epoch 30 Batch 3003 Loss 2.7690\n",
            "Saving checkpoint for epoch 30 at saved_model/ckpt-51\n",
            "Epoch 30 Loss 2.7690\n",
            "Time taken for 1 epoch: 284.1857879161835 secs\n",
            "\n",
            "===============\n"
          ]
        },
        {
          "data": {
            "application/vnd.jupyter.widget-view+json": {
              "model_id": "8a2a14ec6baa4c5a84edce6755622ba2",
              "version_major": 2,
              "version_minor": 0
            },
            "text/plain": [
              "0it [00:00, ?it/s]"
            ]
          },
          "metadata": {},
          "output_type": "display_data"
        },
        {
          "name": "stdout",
          "output_type": "stream",
          "text": [
            "Epoch 31 Batch 0 Loss 2.7008\n",
            "Epoch 31 Batch 429 Loss 2.7718\n",
            "Epoch 31 Batch 858 Loss 2.7678\n",
            "Epoch 31 Batch 1287 Loss 2.7675\n",
            "Epoch 31 Batch 1716 Loss 2.7682\n",
            "Epoch 31 Batch 2145 Loss 2.7695\n",
            "Epoch 31 Batch 2574 Loss 2.7690\n",
            "Epoch 31 Batch 3003 Loss 2.7681\n",
            "Epoch 31 Loss 2.7688\n",
            "Time taken for 1 epoch: 283.9105086326599 secs\n",
            "\n",
            "===============\n"
          ]
        },
        {
          "data": {
            "application/vnd.jupyter.widget-view+json": {
              "model_id": "e24c9ac4d78a4a04a3390c15797f8dcc",
              "version_major": 2,
              "version_minor": 0
            },
            "text/plain": [
              "0it [00:00, ?it/s]"
            ]
          },
          "metadata": {},
          "output_type": "display_data"
        },
        {
          "name": "stdout",
          "output_type": "stream",
          "text": [
            "Epoch 32 Batch 0 Loss 2.7537\n",
            "Epoch 32 Batch 429 Loss 2.7738\n",
            "Epoch 32 Batch 858 Loss 2.7712\n",
            "Epoch 32 Batch 1287 Loss 2.7716\n",
            "Epoch 32 Batch 1716 Loss 2.7731\n",
            "Epoch 32 Batch 2145 Loss 2.7711\n",
            "Epoch 32 Batch 2574 Loss 2.7697\n",
            "Epoch 32 Batch 3003 Loss 2.7692\n",
            "Epoch 32 Loss 2.7699\n",
            "Time taken for 1 epoch: 282.7394163608551 secs\n",
            "\n",
            "===============\n"
          ]
        },
        {
          "data": {
            "application/vnd.jupyter.widget-view+json": {
              "model_id": "8d40171ad75e43d8b33a8e7edcc16263",
              "version_major": 2,
              "version_minor": 0
            },
            "text/plain": [
              "0it [00:00, ?it/s]"
            ]
          },
          "metadata": {},
          "output_type": "display_data"
        },
        {
          "name": "stdout",
          "output_type": "stream",
          "text": [
            "Epoch 33 Batch 0 Loss 2.6546\n",
            "Epoch 33 Batch 429 Loss 2.7762\n",
            "Epoch 33 Batch 858 Loss 2.7714\n",
            "Epoch 33 Batch 1287 Loss 2.7705\n",
            "Epoch 33 Batch 1716 Loss 2.7683\n",
            "Epoch 33 Batch 2145 Loss 2.7691\n",
            "Epoch 33 Batch 2574 Loss 2.7680\n",
            "Epoch 33 Batch 3003 Loss 2.7692\n",
            "Epoch 33 Loss 2.7688\n",
            "Time taken for 1 epoch: 282.92438101768494 secs\n",
            "\n",
            "===============\n"
          ]
        },
        {
          "data": {
            "application/vnd.jupyter.widget-view+json": {
              "model_id": "397b56723b5142f3ad51f605ce6aba91",
              "version_major": 2,
              "version_minor": 0
            },
            "text/plain": [
              "0it [00:00, ?it/s]"
            ]
          },
          "metadata": {},
          "output_type": "display_data"
        },
        {
          "name": "stdout",
          "output_type": "stream",
          "text": [
            "Epoch 34 Batch 0 Loss 2.7413\n",
            "Epoch 34 Batch 429 Loss 2.7721\n",
            "Epoch 34 Batch 858 Loss 2.7670\n",
            "Epoch 34 Batch 1287 Loss 2.7681\n",
            "Epoch 34 Batch 1716 Loss 2.7705\n",
            "Epoch 34 Batch 2145 Loss 2.7700\n",
            "Epoch 34 Batch 2574 Loss 2.7683\n",
            "Epoch 34 Batch 3003 Loss 2.7686\n",
            "Epoch 34 Loss 2.7683\n",
            "Time taken for 1 epoch: 283.8620502948761 secs\n",
            "\n",
            "===============\n"
          ]
        },
        {
          "data": {
            "application/vnd.jupyter.widget-view+json": {
              "model_id": "575ebc635e024ce4a8fc7b86f4685007",
              "version_major": 2,
              "version_minor": 0
            },
            "text/plain": [
              "0it [00:00, ?it/s]"
            ]
          },
          "metadata": {},
          "output_type": "display_data"
        },
        {
          "name": "stdout",
          "output_type": "stream",
          "text": [
            "Epoch 35 Batch 0 Loss 2.5694\n",
            "Epoch 35 Batch 429 Loss 2.7679\n",
            "Epoch 35 Batch 858 Loss 2.7667\n",
            "Epoch 35 Batch 1287 Loss 2.7681\n",
            "Epoch 35 Batch 1716 Loss 2.7687\n",
            "Epoch 35 Batch 2145 Loss 2.7672\n",
            "Epoch 35 Batch 2574 Loss 2.7683\n",
            "Epoch 35 Batch 3003 Loss 2.7672\n",
            "Saving checkpoint for epoch 35 at saved_model/ckpt-52\n",
            "Epoch 35 Loss 2.7672\n",
            "Time taken for 1 epoch: 284.7771534919739 secs\n",
            "\n",
            "===============\n"
          ]
        },
        {
          "data": {
            "application/vnd.jupyter.widget-view+json": {
              "model_id": "f37778bf2ff742698e4c419fe004d542",
              "version_major": 2,
              "version_minor": 0
            },
            "text/plain": [
              "0it [00:00, ?it/s]"
            ]
          },
          "metadata": {},
          "output_type": "display_data"
        },
        {
          "name": "stdout",
          "output_type": "stream",
          "text": [
            "Epoch 36 Batch 0 Loss 2.9568\n",
            "Epoch 36 Batch 429 Loss 2.7716\n",
            "Epoch 36 Batch 858 Loss 2.7664\n",
            "Epoch 36 Batch 1287 Loss 2.7644\n",
            "Epoch 36 Batch 1716 Loss 2.7652\n",
            "Epoch 36 Batch 2145 Loss 2.7679\n",
            "Epoch 36 Batch 2574 Loss 2.7685\n",
            "Epoch 36 Batch 3003 Loss 2.7661\n",
            "Epoch 36 Loss 2.7666\n",
            "Time taken for 1 epoch: 284.29456400871277 secs\n",
            "\n",
            "===============\n"
          ]
        },
        {
          "data": {
            "application/vnd.jupyter.widget-view+json": {
              "model_id": "805df1e8615f472989c972c52407a466",
              "version_major": 2,
              "version_minor": 0
            },
            "text/plain": [
              "0it [00:00, ?it/s]"
            ]
          },
          "metadata": {},
          "output_type": "display_data"
        },
        {
          "name": "stdout",
          "output_type": "stream",
          "text": [
            "Epoch 37 Batch 0 Loss 2.7615\n",
            "Epoch 37 Batch 429 Loss 2.7651\n",
            "Epoch 37 Batch 858 Loss 2.7675\n",
            "Epoch 37 Batch 1287 Loss 2.7638\n",
            "Epoch 37 Batch 1716 Loss 2.7660\n",
            "Epoch 37 Batch 2145 Loss 2.7659\n",
            "Epoch 37 Batch 2574 Loss 2.7672\n",
            "Epoch 37 Batch 3003 Loss 2.7651\n",
            "Epoch 37 Loss 2.7653\n",
            "Time taken for 1 epoch: 283.4879035949707 secs\n",
            "\n",
            "===============\n"
          ]
        },
        {
          "data": {
            "application/vnd.jupyter.widget-view+json": {
              "model_id": "45cb8dae3b414a4bb0e3cdc9578cc07b",
              "version_major": 2,
              "version_minor": 0
            },
            "text/plain": [
              "0it [00:00, ?it/s]"
            ]
          },
          "metadata": {},
          "output_type": "display_data"
        },
        {
          "name": "stdout",
          "output_type": "stream",
          "text": [
            "Epoch 38 Batch 0 Loss 2.9004\n",
            "Epoch 38 Batch 429 Loss 2.7645\n",
            "Epoch 38 Batch 858 Loss 2.7680\n",
            "Epoch 38 Batch 1287 Loss 2.7672\n",
            "Epoch 38 Batch 1716 Loss 2.7666\n",
            "Epoch 38 Batch 2145 Loss 2.7657\n",
            "Epoch 38 Batch 2574 Loss 2.7655\n",
            "Epoch 38 Batch 3003 Loss 2.7644\n",
            "Epoch 38 Loss 2.7642\n",
            "Time taken for 1 epoch: 281.93191623687744 secs\n",
            "\n",
            "===============\n"
          ]
        },
        {
          "data": {
            "application/vnd.jupyter.widget-view+json": {
              "model_id": "57c11b4f65c64a81b51867c885165288",
              "version_major": 2,
              "version_minor": 0
            },
            "text/plain": [
              "0it [00:00, ?it/s]"
            ]
          },
          "metadata": {},
          "output_type": "display_data"
        },
        {
          "name": "stdout",
          "output_type": "stream",
          "text": [
            "Epoch 39 Batch 0 Loss 2.7639\n",
            "Epoch 39 Batch 429 Loss 2.7675\n",
            "Epoch 39 Batch 858 Loss 2.7647\n",
            "Epoch 39 Batch 1287 Loss 2.7637\n",
            "Epoch 39 Batch 1716 Loss 2.7640\n",
            "Epoch 39 Batch 2145 Loss 2.7637\n",
            "Epoch 39 Batch 2574 Loss 2.7652\n",
            "Epoch 39 Batch 3003 Loss 2.7641\n",
            "Epoch 39 Loss 2.7638\n",
            "Time taken for 1 epoch: 282.34431076049805 secs\n",
            "\n",
            "===============\n"
          ]
        },
        {
          "data": {
            "application/vnd.jupyter.widget-view+json": {
              "model_id": "09c1136a90704032b50de79b545ec2db",
              "version_major": 2,
              "version_minor": 0
            },
            "text/plain": [
              "0it [00:00, ?it/s]"
            ]
          },
          "metadata": {},
          "output_type": "display_data"
        },
        {
          "name": "stdout",
          "output_type": "stream",
          "text": [
            "Epoch 40 Batch 0 Loss 2.9925\n",
            "Epoch 40 Batch 429 Loss 2.7631\n",
            "Epoch 40 Batch 858 Loss 2.7617\n",
            "Epoch 40 Batch 1287 Loss 2.7633\n",
            "Epoch 40 Batch 1716 Loss 2.7639\n",
            "Epoch 40 Batch 2145 Loss 2.7629\n",
            "Epoch 40 Batch 2574 Loss 2.7626\n",
            "Epoch 40 Batch 3003 Loss 2.7626\n",
            "Saving checkpoint for epoch 40 at saved_model/ckpt-53\n",
            "Epoch 40 Loss 2.7625\n",
            "Time taken for 1 epoch: 282.8438334465027 secs\n",
            "\n",
            "===============\n"
          ]
        },
        {
          "data": {
            "application/vnd.jupyter.widget-view+json": {
              "model_id": "94c258d32f4e40d58e13f0cab4b1f162",
              "version_major": 2,
              "version_minor": 0
            },
            "text/plain": [
              "0it [00:00, ?it/s]"
            ]
          },
          "metadata": {},
          "output_type": "display_data"
        },
        {
          "name": "stdout",
          "output_type": "stream",
          "text": [
            "Epoch 41 Batch 0 Loss 2.8342\n",
            "Epoch 41 Batch 429 Loss 2.7620\n",
            "Epoch 41 Batch 858 Loss 2.7667\n",
            "Epoch 41 Batch 1287 Loss 2.7647\n",
            "Epoch 41 Batch 1716 Loss 2.7617\n",
            "Epoch 41 Batch 2145 Loss 2.7616\n",
            "Epoch 41 Batch 2574 Loss 2.7614\n",
            "Epoch 41 Batch 3003 Loss 2.7623\n",
            "Epoch 41 Loss 2.7623\n",
            "Time taken for 1 epoch: 283.3642785549164 secs\n",
            "\n",
            "===============\n"
          ]
        },
        {
          "data": {
            "application/vnd.jupyter.widget-view+json": {
              "model_id": "13643f1125be4988a148103cf4d88521",
              "version_major": 2,
              "version_minor": 0
            },
            "text/plain": [
              "0it [00:00, ?it/s]"
            ]
          },
          "metadata": {},
          "output_type": "display_data"
        },
        {
          "name": "stdout",
          "output_type": "stream",
          "text": [
            "Epoch 42 Batch 0 Loss 2.7490\n",
            "Epoch 42 Batch 429 Loss 2.7661\n",
            "Epoch 42 Batch 858 Loss 2.7655\n",
            "Epoch 42 Batch 1287 Loss 2.7642\n",
            "Epoch 42 Batch 1716 Loss 2.7627\n",
            "Epoch 42 Batch 2145 Loss 2.7624\n",
            "Epoch 42 Batch 2574 Loss 2.7648\n",
            "Epoch 42 Batch 3003 Loss 2.7630\n",
            "Epoch 42 Loss 2.7631\n",
            "Time taken for 1 epoch: 284.1655352115631 secs\n",
            "\n",
            "===============\n"
          ]
        },
        {
          "data": {
            "application/vnd.jupyter.widget-view+json": {
              "model_id": "261d0ae2034a4f21a9115f07b49ebcc5",
              "version_major": 2,
              "version_minor": 0
            },
            "text/plain": [
              "0it [00:00, ?it/s]"
            ]
          },
          "metadata": {},
          "output_type": "display_data"
        },
        {
          "name": "stdout",
          "output_type": "stream",
          "text": [
            "Epoch 43 Batch 0 Loss 2.8552\n",
            "Epoch 43 Batch 429 Loss 2.7634\n",
            "Epoch 43 Batch 858 Loss 2.7621\n",
            "Epoch 43 Batch 1287 Loss 2.7603\n",
            "Epoch 43 Batch 1716 Loss 2.7620\n",
            "Epoch 43 Batch 2145 Loss 2.7601\n",
            "Epoch 43 Batch 2574 Loss 2.7594\n",
            "Epoch 43 Batch 3003 Loss 2.7587\n",
            "Epoch 43 Loss 2.7587\n",
            "Time taken for 1 epoch: 282.8426253795624 secs\n",
            "\n",
            "===============\n"
          ]
        },
        {
          "data": {
            "application/vnd.jupyter.widget-view+json": {
              "model_id": "88f2495a0e90411f810f85f00bc815d8",
              "version_major": 2,
              "version_minor": 0
            },
            "text/plain": [
              "0it [00:00, ?it/s]"
            ]
          },
          "metadata": {},
          "output_type": "display_data"
        },
        {
          "name": "stdout",
          "output_type": "stream",
          "text": [
            "Epoch 44 Batch 0 Loss 2.8377\n",
            "Epoch 44 Batch 429 Loss 2.7551\n",
            "Epoch 44 Batch 858 Loss 2.7560\n",
            "Epoch 44 Batch 1287 Loss 2.7578\n",
            "Epoch 44 Batch 1716 Loss 2.7592\n",
            "Epoch 44 Batch 2145 Loss 2.7599\n",
            "Epoch 44 Batch 2574 Loss 2.7591\n",
            "Epoch 44 Batch 3003 Loss 2.7582\n",
            "Epoch 44 Loss 2.7580\n",
            "Time taken for 1 epoch: 284.2571949958801 secs\n",
            "\n",
            "===============\n"
          ]
        },
        {
          "data": {
            "application/vnd.jupyter.widget-view+json": {
              "model_id": "85c242061db241148cab21451e3fc87a",
              "version_major": 2,
              "version_minor": 0
            },
            "text/plain": [
              "0it [00:00, ?it/s]"
            ]
          },
          "metadata": {},
          "output_type": "display_data"
        },
        {
          "name": "stdout",
          "output_type": "stream",
          "text": [
            "Epoch 45 Batch 0 Loss 2.6088\n",
            "Epoch 45 Batch 429 Loss 2.7599\n",
            "Epoch 45 Batch 858 Loss 2.7612\n",
            "Epoch 45 Batch 1287 Loss 2.7572\n",
            "Epoch 45 Batch 1716 Loss 2.7583\n",
            "Epoch 45 Batch 2145 Loss 2.7588\n",
            "Epoch 45 Batch 2574 Loss 2.7582\n",
            "Epoch 45 Batch 3003 Loss 2.7578\n",
            "Saving checkpoint for epoch 45 at saved_model/ckpt-54\n",
            "Epoch 45 Loss 2.7576\n",
            "Time taken for 1 epoch: 284.33544540405273 secs\n",
            "\n",
            "===============\n"
          ]
        },
        {
          "data": {
            "application/vnd.jupyter.widget-view+json": {
              "model_id": "aced674ec0e54c46a528cf014b2e0d3a",
              "version_major": 2,
              "version_minor": 0
            },
            "text/plain": [
              "0it [00:00, ?it/s]"
            ]
          },
          "metadata": {},
          "output_type": "display_data"
        },
        {
          "name": "stdout",
          "output_type": "stream",
          "text": [
            "Epoch 46 Batch 0 Loss 2.9526\n",
            "Epoch 46 Batch 429 Loss 2.7593\n",
            "Epoch 46 Batch 858 Loss 2.7562\n",
            "Epoch 46 Batch 1287 Loss 2.7567\n",
            "Epoch 46 Batch 1716 Loss 2.7567\n",
            "Epoch 46 Batch 2145 Loss 2.7573\n",
            "Epoch 46 Batch 2574 Loss 2.7576\n",
            "Epoch 46 Batch 3003 Loss 2.7564\n",
            "Epoch 46 Loss 2.7564\n",
            "Time taken for 1 epoch: 282.9187021255493 secs\n",
            "\n",
            "===============\n"
          ]
        },
        {
          "data": {
            "application/vnd.jupyter.widget-view+json": {
              "model_id": "0b04303a9d7a4b53b02f56fee5753311",
              "version_major": 2,
              "version_minor": 0
            },
            "text/plain": [
              "0it [00:00, ?it/s]"
            ]
          },
          "metadata": {},
          "output_type": "display_data"
        },
        {
          "name": "stdout",
          "output_type": "stream",
          "text": [
            "Epoch 47 Batch 0 Loss 2.7255\n",
            "Epoch 47 Batch 429 Loss 2.7524\n",
            "Epoch 47 Batch 858 Loss 2.7593\n",
            "Epoch 47 Batch 1287 Loss 2.7556\n",
            "Epoch 47 Batch 1716 Loss 2.7555\n",
            "Epoch 47 Batch 2145 Loss 2.7570\n",
            "Epoch 47 Batch 2574 Loss 2.7568\n",
            "Epoch 47 Batch 3003 Loss 2.7564\n",
            "Epoch 47 Loss 2.7556\n",
            "Time taken for 1 epoch: 283.34791469573975 secs\n",
            "\n",
            "===============\n"
          ]
        },
        {
          "data": {
            "application/vnd.jupyter.widget-view+json": {
              "model_id": "62c4f0d40cd746029501a15ed54d3bd1",
              "version_major": 2,
              "version_minor": 0
            },
            "text/plain": [
              "0it [00:00, ?it/s]"
            ]
          },
          "metadata": {},
          "output_type": "display_data"
        },
        {
          "name": "stdout",
          "output_type": "stream",
          "text": [
            "Epoch 48 Batch 0 Loss 2.9297\n",
            "Epoch 48 Batch 429 Loss 2.7603\n",
            "Epoch 48 Batch 858 Loss 2.7586\n",
            "Epoch 48 Batch 1287 Loss 2.7562\n",
            "Epoch 48 Batch 1716 Loss 2.7563\n",
            "Epoch 48 Batch 2145 Loss 2.7569\n",
            "Epoch 48 Batch 2574 Loss 2.7564\n",
            "Epoch 48 Batch 3003 Loss 2.7566\n",
            "Epoch 48 Loss 2.7561\n",
            "Time taken for 1 epoch: 282.5121097564697 secs\n",
            "\n",
            "===============\n"
          ]
        },
        {
          "data": {
            "application/vnd.jupyter.widget-view+json": {
              "model_id": "1285b8d5711d497dbcd97acc0304d45b",
              "version_major": 2,
              "version_minor": 0
            },
            "text/plain": [
              "0it [00:00, ?it/s]"
            ]
          },
          "metadata": {},
          "output_type": "display_data"
        },
        {
          "name": "stdout",
          "output_type": "stream",
          "text": [
            "Epoch 49 Batch 0 Loss 2.8469\n",
            "Epoch 49 Batch 429 Loss 2.7543\n",
            "Epoch 49 Batch 858 Loss 2.7563\n",
            "Epoch 49 Batch 1287 Loss 2.7572\n",
            "Epoch 49 Batch 1716 Loss 2.7572\n",
            "Epoch 49 Batch 2145 Loss 2.7559\n",
            "Epoch 49 Batch 2574 Loss 2.7561\n",
            "Epoch 49 Batch 3003 Loss 2.7552\n",
            "Epoch 49 Loss 2.7548\n",
            "Time taken for 1 epoch: 283.76342487335205 secs\n",
            "\n",
            "===============\n"
          ]
        },
        {
          "data": {
            "application/vnd.jupyter.widget-view+json": {
              "model_id": "463fce92f5a142c2bc5eb873addd048f",
              "version_major": 2,
              "version_minor": 0
            },
            "text/plain": [
              "0it [00:00, ?it/s]"
            ]
          },
          "metadata": {},
          "output_type": "display_data"
        },
        {
          "name": "stdout",
          "output_type": "stream",
          "text": [
            "Epoch 50 Batch 0 Loss 2.7407\n",
            "Epoch 50 Batch 429 Loss 2.7642\n",
            "Epoch 50 Batch 858 Loss 2.7559\n",
            "Epoch 50 Batch 1287 Loss 2.7543\n",
            "Epoch 50 Batch 1716 Loss 2.7545\n",
            "Epoch 50 Batch 2145 Loss 2.7564\n",
            "Epoch 50 Batch 2574 Loss 2.7563\n",
            "Epoch 50 Batch 3003 Loss 2.7558\n",
            "Saving checkpoint for epoch 50 at saved_model/ckpt-55\n",
            "Epoch 50 Loss 2.7549\n",
            "Time taken for 1 epoch: 284.02491188049316 secs\n",
            "\n",
            "CPU times: user 2h 15min 7s, sys: 49min 14s, total: 3h 4min 22s\n",
            "Wall time: 4h 44s\n"
          ]
        }
      ],
      "source": [
        "%%time\n",
        "from tqdm.notebook import tqdm_notebook\n",
        "\n",
        "losses = []\n",
        "\n",
        "for epoch in tqdm_notebook(range(EPOCHS)):\n",
        "    start = time.time()\n",
        "\n",
        "    train_loss.reset_states()\n",
        "    print(\"=\"*15)\n",
        "\n",
        "    for (batch, (inp, tar)) in tqdm_notebook(enumerate(dataset)):\n",
        "        train_step(inp, tar)\n",
        "        # 55k samples\n",
        "        # we display 3 batch results -- 0th, middle and last one (approx)\n",
        "        # 55k / 64 ~ 858; 858 / 2 = 429\n",
        "        if batch % 429 == 0:\n",
        "            print ('Epoch {} Batch {} Loss {:.4f}'.format(epoch + 1, batch, train_loss.result()))\n",
        "            losses.append(train_loss.result())\n",
        "\n",
        "    if (epoch + 1) % 5 == 0:\n",
        "        ckpt_save_path = ckpt_manager.save()\n",
        "        print ('Saving checkpoint for epoch {} at {}'.format(epoch+1, ckpt_save_path))\n",
        "\n",
        "    print ('Epoch {} Loss {:.4f}'.format(epoch + 1, train_loss.result()))\n",
        "\n",
        "    print ('Time taken for 1 epoch: {} secs\\n'.format(time.time() - start))\n"
      ]
    },
    {
      "cell_type": "markdown",
      "metadata": {
        "id": "FqsiN1zYwJlO"
      },
      "source": [
        "## Save results"
      ]
    },
    {
      "cell_type": "code",
      "execution_count": null,
      "metadata": {
        "id": "oXlxTwQawb0G"
      },
      "outputs": [],
      "source": [
        "#ckpt_manager.save(model_path)"
      ]
    },
    {
      "cell_type": "code",
      "execution_count": null,
      "metadata": {
        "id": "CRNSXIeowJdW"
      },
      "outputs": [],
      "source": [
        "append_losses_to_file(\"saved-text-summarization-train-losses.txt\", losses)"
      ]
    },
    {
      "cell_type": "markdown",
      "metadata": {
        "id": "DvH5PiLbtBWE"
      },
      "source": [
        "## Evaluate"
      ]
    },
    {
      "cell_type": "code",
      "execution_count": null,
      "metadata": {
        "id": "hcJPgEf8s1aj"
      },
      "outputs": [],
      "source": [
        "def evaluate(input_document):\n",
        "    input_document = document_tokenizer.texts_to_sequences([input_document])\n",
        "    input_document = tf.keras.preprocessing.sequence.pad_sequences(input_document, maxlen=encoder_maxlen, padding='post', truncating='post')\n",
        "\n",
        "    encoder_input = tf.expand_dims(input_document[0], 0)\n",
        "\n",
        "    decoder_input = [summary_tokenizer.word_index[\"<go>\"]]\n",
        "    output = tf.expand_dims(decoder_input, 0)\n",
        "\n",
        "    for i in range(decoder_maxlen):\n",
        "        enc_padding_mask, combined_mask, dec_padding_mask = create_masks(encoder_input, output)\n",
        "\n",
        "        predictions, attention_weights = transformer(\n",
        "            encoder_input,\n",
        "            output,\n",
        "            False,\n",
        "            enc_padding_mask,\n",
        "            combined_mask,\n",
        "            dec_padding_mask\n",
        "        )\n",
        "\n",
        "        predictions = predictions[: ,-1:, :]\n",
        "        predicted_id = tf.cast(tf.argmax(predictions, axis=-1), tf.int32)\n",
        "\n",
        "        if predicted_id == summary_tokenizer.word_index[\"<stop>\"]:\n",
        "            return tf.squeeze(output, axis=0), attention_weights\n",
        "\n",
        "        output = tf.concat([output, predicted_id], axis=-1)\n",
        "\n",
        "    return tf.squeeze(output, axis=0), attention_weights"
      ]
    },
    {
      "cell_type": "code",
      "execution_count": null,
      "metadata": {
        "id": "RiMSONaNySLM"
      },
      "outputs": [],
      "source": [
        "#evaluate(document)"
      ]
    },
    {
      "cell_type": "code",
      "execution_count": null,
      "metadata": {
        "id": "g1e_rfWys1Xd"
      },
      "outputs": [],
      "source": [
        "def summarize(input_document):\n",
        "    # not considering attention weights for now, can be used to plot attention heatmaps in the future\n",
        "    summarized = evaluate(input_document=input_document)[0].numpy()\n",
        "    summarized = np.expand_dims(summarized[1:], 0)  # not printing  token\n",
        "    return summary_tokenizer.sequences_to_texts(summarized)[0]  # since there is just one translated document"
      ]
    },
    {
      "cell_type": "code",
      "execution_count": null,
      "metadata": {
        "id": "4sXdRhNFs1T-",
        "outputId": "f9e8024c-a1fb-44e8-af9e-531ce09ed9b7"
      },
      "outputs": [
        {
          "data": {
            "text/plain": [
              "'the man who was in charge of a group of african countries has been given the chance to play in a world cup final'"
            ]
          },
          "execution_count": 51,
          "metadata": {},
          "output_type": "execute_result"
        }
      ],
      "source": [
        "summarize(\n",
        "    \"Napoleon Bonaparte (born Napoleone Buonaparte;[a] 15 August 1769 – 5 May 1821), later known by his regnal name Napoleon I, was a French military commander and political leader who rose to prominence during the French Revolution and led successful campaigns during the Revolutionary Wars. He was the leader of the French Republic as First Consul from 1799 to 1804, then of the French Empire as Emperor of the French from 1804 until 1814 and again in 1815. Napoleons political and cultural legacy endures as a celebrated and controversial leader. He initiated many liberal reforms that have persisted, and is considered one of the greatest military commanders in history. His campaigns are still studied at military academies worldwide. Between three and six million civilians and soldiers died in the Napoleonic Wars.[2][3] Napoleon was born on the island of Corsica to a native family descending from Italian nobility.[4][5] He supported the French Revolution in 1789 while serving in the French army, and tried to spread its ideals to his native Corsica. He rose rapidly after he saved the governing French Directory by firing on royalist insurgents. In 1796, he began a military campaign against the Austrians and their Italian allies, scoring decisive victories and became a national hero. Two years later, he led a military expedition to Egypt that served as a springboard to political power. He engineered a coup in November 1799 and became First Consul of the Republic. In 1804, to consolidate and expand his power, he crowned himself Emperor of the French. Differences with the United Kingdom meant France faced the War of the Third Coalition by 1805. Napoleon shattered this coalition with victories in the Ulm campaign and at the Battle of Austerlitz, which led to the dissolution of the Holy Roman Empire. In 1806, the Fourth Coalition took up arms against him. Napoleon defeated Prussia at the battles of Jena and Auerstedt, marched the Grande Armée into Eastern Europe, and defeated the Russians in June 1807 at Friedland, forcing the defeated nations of the Fourth Coalition to accept the Treaties of Tilsit. Two years later, the Austrians challenged the French again during the War of the Fifth Coalition, but Napoleon solidified his grip over Europe after triumphing at the Battle of Wagram. Hoping to extend the Continental System, his embargo against Britain, Napoleon invaded the Iberian Peninsula and declared his brother Joseph the King of Spain in 1808. The Spanish and the Portuguese revolted in the Peninsular War aided by a British army, culminating in defeat for Napoleons marshals. Napoleon launched an invasion of Russia in the summer of 1812. The resulting campaign witnessed the catastrophic retreat of Napoleons Grande Armée. In 1813, Prussia and Austria joined Russian forces in a Sixth Coalition against France, resulting in a large coalition army defeating Napoleon at the Battle of Leipzig. The coalition invaded France and captured Paris, forcing Napoleon to abdicate in April 1814. He was exiled to the island of Elba, between Corsica and Italy. In France, the Bourbons were restored to power. Napoleon escaped in February 1815 and took control of France.[6] The Allies responded by forming a Seventh Coalition, which defeated Napoleon at the Battle of Waterloo in June 1815. The British exiled him to the remote island of Saint Helena in the Atlantic, where he died in 1821 at the age of 51. Napoleon had an extensive impact on the modern world, bringing liberal reforms to the lands he conquered, especially the regions of the Low Countries, Switzerland, and parts of modern Italy and Germany. He implemented many liberal policies in France and Western Europe.[b] Napoleons family was of Italian origin. His paternal ancestors, the Buonapartes, descended from a minor Tuscan noble family that emigrated to Corsica in the 16th century and his maternal ancestors, the Ramolinos, descended from a minor Genoese noble family.[13] His parents Carlo Maria di Buonaparte and Maria Letizia Ramolino maintained an ancestral home called Casa Buonaparte in Ajaccio. Napoleon was born there on 15 August 1769. He was the familys fourth child and third son.[c] He had an elder brother, Joseph, and younger siblings Lucien, Elisa, Louis, Pauline, Caroline, and Jérôme. Napoleon was baptised as a Catholic, under the name Napoleone.[14] In his youth, his name was also spelled as Nabulione, Nabulio, Napolionne, and Napulione.[15] Napoleon was born one year after the Republic of Genoa ceded Corsica to France.[16] The state sold sovereign rights a year before his birth and the island was conquered by France during the year of his birth. It was formally incorporated as a province in 1770, after 500 years under Genoese rule and 14 years of independence.[d] Napoleons parents joined the Corsican resistance and fought against the French to maintain independence, even when Maria was pregnant with him. His father Carlo was an attorney who had supported and actively collaborated with patriot Pasquale Paoli during the Corsican war of independence against France;[5] after the Corsican defeat at Ponte Novu in 1769 and Paolis exile in Britain, Carlo began working for the new French government and in 1777 was named representative of the island to the court of Louis XVI.[5][20] The dominant influence of Napoleons childhood was his mother, whose firm discipline restrained a rambunctious child.[20] Later in life, Napoleon said, The future destiny of the child is always the work of the mother.[21] His maternal grandmother had married into the Swiss Fesch family in her second marriage, and Napoleons uncle, the cardinal Joseph Fesch, fulfilled a role as protector of the Bonaparte family for some years. Napoleons noble, moderately affluent background afforded him greater opportunities to study than were available to a typical Corsican of the time.[22] When he turned 9 years old,[23][24] he moved to the French mainland and enrolled at a religious school in Autun in January 1779. In May, he transferred with a scholarship to a military academy at Brienne-le-Château.[25] In his youth he was an outspoken Corsican nationalist and supported the states independence from France.[23][26] Like many Corsicans, Napoleon spoke and read Corsican (as his mother tongue) and Italian (as the official language of Corsica).[27][28][29][26] He began learning French in school at around age 10.[30] Although he became fluent in French, he spoke with a distinctive Corsican accent and never learned to spell in French.[31] Consequently, Napoleon was routinely bullied by his peers for his accent, birthplace, short stature, mannerisms, and inability to speak French quickly.[28] He became reserved and melancholy, applying himself to reading. An examiner observed that Napoleon has always been distinguished for his application in mathematics. He is fairly well acquainted with history and geography ... This boy would make an excellent sailor.[e][33] One story told of Napoleon at the school is that he led junior students to victory against senior students in a snowball fight, showing his leadership abilities.[34] In early adulthood, Napoleon briefly intended to become a writer; he authored a history of Corsica and a romantic novella.[23] On completion of his studies at Brienne in 1784, Napoleon was admitted to the École Militaire in Paris. He trained to become an artillery officer and, when his fathers death reduced his income, was forced to complete the two-year course in one year.[35] He was the first Corsican to graduate from the École Militaire.[35] He was examined by the famed scientist Pierre-Simon Laplace.[36] Upon graduating in September 1785, Bonaparte was commissioned a second lieutenant in La Fère artillery regiment.[f][25] He served in Valence and Auxonne until after the outbreak of the French Revolution in 1789. Bonaparte was a fervent Corsican nationalist during this period.[38] He asked for leave to join his mentor Pasquale Paoli, when Paoli was allowed to return to Corsica by the National Assembly. But Paoli had no sympathy for Napoleon, as he deemed his father a traitor for having deserted the cause of Corsican independence.[39] He spent the early years of the Revolution in Corsica, fighting in a complex three-way struggle among royalists, revolutionaries, and Corsican nationalists. Napoleon embraced the ideals of the Revolution, becoming a supporter of the Jacobins and joining the pro-French Corsican Republicans who opposed Paolis policy and his aspirations to secede.[40] He was given command over a battalion of volunteers and promoted to captain in the regular army in 1792, despite exceeding his leave of absence and leading a riot against French troops.[41] When Corsica declared formal secession from France and requested the protection of the British government, Napoleon and his commitment to the French Revolution came into conflict with Paoli, who had decided to sabotage the Corsican contribution to the Expédition de Sardaigne by preventing a French assault on the Sardinian island La Maddalena.[42] Bonaparte and his family were compelled to flee to Toulon on the French mainland in June 1793 because of the split with Paoli.[43] Although he was born Napoleone Buonaparte, it was after this that Napoleon began styling himself Napoléon Bonaparte. His family did not drop the name Buonaparte until 1796. The first known record of him signing his name as Bonaparte was at the age of 27 (in 1796).[44][14][45] In July 1793, Bonaparte published a pro-republican pamphlet, Le souper de Beaucaire (Supper at Beaucaire), which gained him the support of Augustin Robespierre, the younger brother of the Revolutionary leader Maximilien Robespierre. With the help of his fellow Corsican Antoine Christophe Saliceti, Bonaparte was appointed senior gunner and artillery commander of the republican forces that arrived at Toulon on 8 September.[46][47] He adopted a plan to capture a hill where republican guns could dominate the citys harbour and force the British to evacuate. The assault on the position led to the capture of the city, and during it Bonaparte was wounded in the thigh on 16 December. Catching the attention of the Committee of Public Safety, he was put in charge of the artillery of France Army of Italy.[48] On 22 December he was on his way to a new post in Nice, promoted from colonel to brigadier general at the age of 24. He devised plans to attack the Kingdom of Sardinia as part of Frances campaign against the First Coalition.The French army carried out Bonapartes plan in the Battle of Saorgio in April 1794, and then advanced to seize Ormea in the mountains. From Ormea, it headed west to outflank the Austro-Sardinian positions around Saorge. After this campaign, Augustin Robespierre sent Bonaparte on a mission to the Republic of Genoa to determine that countrys intentions towards France.[49]\"\n",
        ")"
      ]
    },
    {
      "cell_type": "markdown",
      "metadata": {
        "id": "4ooJUac3w8di"
      },
      "source": [
        "## Plot"
      ]
    },
    {
      "cell_type": "code",
      "execution_count": null,
      "metadata": {
        "id": "j1YpJQc4w7_M",
        "outputId": "5c0bdbae-ffda-4b3c-8b58-3151448eb3c8"
      },
      "outputs": [
        {
          "data": {
            "image/png": "[encoded data removed]",
            "text/plain": [
              "<Figure size 640x480 with 1 Axes>"
            ]
          },
          "metadata": {},
          "output_type": "display_data"
        }
      ],
      "source": [
        "import matplotlib.pyplot as plt\n",
        "# load array from file and convert to PyTorch tensor\n",
        "train_losses = np.loadtxt('saved-text-summarization-train-losses.txt')\n",
        "#my_tensor = torch.from_numpy(my_array)\n",
        "\n",
        "\n",
        "def plot_losses(losses1):\n",
        "    # create a new figure\n",
        "    plt.figure()\n",
        "\n",
        "    # plot the first series of losses\n",
        "    plt.plot(losses1, label='Train loss')\n",
        "\n",
        "    # plot the second series of losses\n",
        "    #plt.plot(losses2, label='Val loss')\n",
        "\n",
        "    # add labels and title to the plot\n",
        "    plt.xlabel('Epoch')\n",
        "    plt.ylabel('Loss')\n",
        "    plt.title('Losses')\n",
        "\n",
        "    # add a legend to the plot\n",
        "    plt.legend()\n",
        "\n",
        "    # display the plot\n",
        "    plt.show()\n",
        "\n",
        "plot_losses(train_losses)"
      ]
    },
    {
      "cell_type": "code",
      "execution_count": null,
      "metadata": {
        "id": "Ik_yvbblySLN"
      },
      "outputs": [],
      "source": []
    }
  ],
  "metadata": {
    "colab": {
      "provenance": []
    },
    "kernelspec": {
      "display_name": "Python 3 (ipykernel)",
      "language": "python",
      "name": "python3"
    },
    "language_info": {
      "codemirror_mode": {
        "name": "ipython",
        "version": 3
      },
      "file_extension": ".py",
      "mimetype": "text/x-python",
      "name": "python",
      "nbconvert_exporter": "python",
      "pygments_lexer": "ipython3",
      "version": "3.8.10"
    },
    "widgets": {
      "application/vnd.jupyter.widget-state+json": {
        "f7d088c72c394eaf832685a5552b20e6": {
          "model_module": "@jupyter-widgets/controls",
          "model_name": "HBoxModel",
          "model_module_version": "1.5.0",
          "state": {
            "_dom_classes": [],
            "_model_module": "@jupyter-widgets/controls",
            "_model_module_version": "1.5.0",
            "_model_name": "HBoxModel",
            "_view_count": null,
            "_view_module": "@jupyter-widgets/controls",
            "_view_module_version": "1.5.0",
            "_view_name": "HBoxView",
            "box_style": "",
            "children": [
              "IPY_MODEL_2679265e82854c3d9173789487e3a422",
              "IPY_MODEL_5ea2322a121a445bbfe59980cc1aed6d",
              "IPY_MODEL_af708a9ddf9346dbac6a25dc61c6c4b1"
            ],
            "layout": "IPY_MODEL_20351e00040d4c57ab132ab57df196c1"
          }
        },
        "2679265e82854c3d9173789487e3a422": {
          "model_module": "@jupyter-widgets/controls",
          "model_name": "HTMLModel",
          "model_module_version": "1.5.0",
          "state": {
            "_dom_classes": [],
            "_model_module": "@jupyter-widgets/controls",
            "_model_module_version": "1.5.0",
            "_model_name": "HTMLModel",
            "_view_count": null,
            "_view_module": "@jupyter-widgets/controls",
            "_view_module_version": "1.5.0",
            "_view_name": "HTMLView",
            "description": "",
            "description_tooltip": null,
            "layout": "IPY_MODEL_f83451769f454ffd8dc153f81407bb23",
            "placeholder": "​",
            "style": "IPY_MODEL_ecd66a4b560741b0b78b8deb44ef5554",
            "value": "Downloading builder script: 100%"
          }
        },
        "5ea2322a121a445bbfe59980cc1aed6d": {
          "model_module": "@jupyter-widgets/controls",
          "model_name": "FloatProgressModel",
          "model_module_version": "1.5.0",
          "state": {
            "_dom_classes": [],
            "_model_module": "@jupyter-widgets/controls",
            "_model_module_version": "1.5.0",
            "_model_name": "FloatProgressModel",
            "_view_count": null,
            "_view_module": "@jupyter-widgets/controls",
            "_view_module_version": "1.5.0",
            "_view_name": "ProgressView",
            "bar_style": "success",
            "description": "",
            "description_tooltip": null,
            "layout": "IPY_MODEL_9bdbf5f13f6349499981ac44c322b90b",
            "max": 5758,
            "min": 0,
            "orientation": "horizontal",
            "style": "IPY_MODEL_bb8da6d010064f7ea6e80612d7dafaa1",
            "value": 5758
          }
        },
        "af708a9ddf9346dbac6a25dc61c6c4b1": {
          "model_module": "@jupyter-widgets/controls",
          "model_name": "HTMLModel",
          "model_module_version": "1.5.0",
          "state": {
            "_dom_classes": [],
            "_model_module": "@jupyter-widgets/controls",
            "_model_module_version": "1.5.0",
            "_model_name": "HTMLModel",
            "_view_count": null,
            "_view_module": "@jupyter-widgets/controls",
            "_view_module_version": "1.5.0",
            "_view_name": "HTMLView",
            "description": "",
            "description_tooltip": null,
            "layout": "IPY_MODEL_8a36ed19afae48fb974e32d29e35bd62",
            "placeholder": "​",
            "style": "IPY_MODEL_5d0c14dab5a84817850e65ca14c910db",
            "value": " 5.76k/5.76k [00:00&lt;00:00, 424kB/s]"
          }
        },
        "20351e00040d4c57ab132ab57df196c1": {
          "model_module": "@jupyter-widgets/base",
          "model_name": "LayoutModel",
          "model_module_version": "1.2.0",
          "state": {
            "_model_module": "@jupyter-widgets/base",
            "_model_module_version": "1.2.0",
            "_model_name": "LayoutModel",
            "_view_count": null,
            "_view_module": "@jupyter-widgets/base",
            "_view_module_version": "1.2.0",
            "_view_name": "LayoutView",
            "align_content": null,
            "align_items": null,
            "align_self": null,
            "border": null,
            "bottom": null,
            "display": null,
            "flex": null,
            "flex_flow": null,
            "grid_area": null,
            "grid_auto_columns": null,
            "grid_auto_flow": null,
            "grid_auto_rows": null,
            "grid_column": null,
            "grid_gap": null,
            "grid_row": null,
            "grid_template_areas": null,
            "grid_template_columns": null,
            "grid_template_rows": null,
            "height": null,
            "justify_content": null,
            "justify_items": null,
            "left": null,
            "margin": null,
            "max_height": null,
            "max_width": null,
            "min_height": null,
            "min_width": null,
            "object_fit": null,
            "object_position": null,
            "order": null,
            "overflow": null,
            "overflow_x": null,
            "overflow_y": null,
            "padding": null,
            "right": null,
            "top": null,
            "visibility": null,
            "width": null
          }
        },
        "f83451769f454ffd8dc153f81407bb23": {
          "model_module": "@jupyter-widgets/base",
          "model_name": "LayoutModel",
          "model_module_version": "1.2.0",
          "state": {
            "_model_module": "@jupyter-widgets/base",
            "_model_module_version": "1.2.0",
            "_model_name": "LayoutModel",
            "_view_count": null,
            "_view_module": "@jupyter-widgets/base",
            "_view_module_version": "1.2.0",
            "_view_name": "LayoutView",
            "align_content": null,
            "align_items": null,
            "align_self": null,
            "border": null,
            "bottom": null,
            "display": null,
            "flex": null,
            "flex_flow": null,
            "grid_area": null,
            "grid_auto_columns": null,
            "grid_auto_flow": null,
            "grid_auto_rows": null,
            "grid_column": null,
            "grid_gap": null,
            "grid_row": null,
            "grid_template_areas": null,
            "grid_template_columns": null,
            "grid_template_rows": null,
            "height": null,
            "justify_content": null,
            "justify_items": null,
            "left": null,
            "margin": null,
            "max_height": null,
            "max_width": null,
            "min_height": null,
            "min_width": null,
            "object_fit": null,
            "object_position": null,
            "order": null,
            "overflow": null,
            "overflow_x": null,
            "overflow_y": null,
            "padding": null,
            "right": null,
            "top": null,
            "visibility": null,
            "width": null
          }
        },
        "ecd66a4b560741b0b78b8deb44ef5554": {
          "model_module": "@jupyter-widgets/controls",
          "model_name": "DescriptionStyleModel",
          "model_module_version": "1.5.0",
          "state": {
            "_model_module": "@jupyter-widgets/controls",
            "_model_module_version": "1.5.0",
            "_model_name": "DescriptionStyleModel",
            "_view_count": null,
            "_view_module": "@jupyter-widgets/base",
            "_view_module_version": "1.2.0",
            "_view_name": "StyleView",
            "description_width": ""
          }
        },
        "9bdbf5f13f6349499981ac44c322b90b": {
          "model_module": "@jupyter-widgets/base",
          "model_name": "LayoutModel",
          "model_module_version": "1.2.0",
          "state": {
            "_model_module": "@jupyter-widgets/base",
            "_model_module_version": "1.2.0",
            "_model_name": "LayoutModel",
            "_view_count": null,
            "_view_module": "@jupyter-widgets/base",
            "_view_module_version": "1.2.0",
            "_view_name": "LayoutView",
            "align_content": null,
            "align_items": null,
            "align_self": null,
            "border": null,
            "bottom": null,
            "display": null,
            "flex": null,
            "flex_flow": null,
            "grid_area": null,
            "grid_auto_columns": null,
            "grid_auto_flow": null,
            "grid_auto_rows": null,
            "grid_column": null,
            "grid_gap": null,
            "grid_row": null,
            "grid_template_areas": null,
            "grid_template_columns": null,
            "grid_template_rows": null,
            "height": null,
            "justify_content": null,
            "justify_items": null,
            "left": null,
            "margin": null,
            "max_height": null,
            "max_width": null,
            "min_height": null,
            "min_width": null,
            "object_fit": null,
            "object_position": null,
            "order": null,
            "overflow": null,
            "overflow_x": null,
            "overflow_y": null,
            "padding": null,
            "right": null,
            "top": null,
            "visibility": null,
            "width": null
          }
        },
        "bb8da6d010064f7ea6e80612d7dafaa1": {
          "model_module": "@jupyter-widgets/controls",
          "model_name": "ProgressStyleModel",
          "model_module_version": "1.5.0",
          "state": {
            "_model_module": "@jupyter-widgets/controls",
            "_model_module_version": "1.5.0",
            "_model_name": "ProgressStyleModel",
            "_view_count": null,
            "_view_module": "@jupyter-widgets/base",
            "_view_module_version": "1.2.0",
            "_view_name": "StyleView",
            "bar_color": null,
            "description_width": ""
          }
        },
        "8a36ed19afae48fb974e32d29e35bd62": {
          "model_module": "@jupyter-widgets/base",
          "model_name": "LayoutModel",
          "model_module_version": "1.2.0",
          "state": {
            "_model_module": "@jupyter-widgets/base",
            "_model_module_version": "1.2.0",
            "_model_name": "LayoutModel",
            "_view_count": null,
            "_view_module": "@jupyter-widgets/base",
            "_view_module_version": "1.2.0",
            "_view_name": "LayoutView",
            "align_content": null,
            "align_items": null,
            "align_self": null,
            "border": null,
            "bottom": null,
            "display": null,
            "flex": null,
            "flex_flow": null,
            "grid_area": null,
            "grid_auto_columns": null,
            "grid_auto_flow": null,
            "grid_auto_rows": null,
            "grid_column": null,
            "grid_gap": null,
            "grid_row": null,
            "grid_template_areas": null,
            "grid_template_columns": null,
            "grid_template_rows": null,
            "height": null,
            "justify_content": null,
            "justify_items": null,
            "left": null,
            "margin": null,
            "max_height": null,
            "max_width": null,
            "min_height": null,
            "min_width": null,
            "object_fit": null,
            "object_position": null,
            "order": null,
            "overflow": null,
            "overflow_x": null,
            "overflow_y": null,
            "padding": null,
            "right": null,
            "top": null,
            "visibility": null,
            "width": null
          }
        },
        "5d0c14dab5a84817850e65ca14c910db": {
          "model_module": "@jupyter-widgets/controls",
          "model_name": "DescriptionStyleModel",
          "model_module_version": "1.5.0",
          "state": {
            "_model_module": "@jupyter-widgets/controls",
            "_model_module_version": "1.5.0",
            "_model_name": "DescriptionStyleModel",
            "_view_count": null,
            "_view_module": "@jupyter-widgets/base",
            "_view_module_version": "1.2.0",
            "_view_name": "StyleView",
            "description_width": ""
          }
        },
        "d1c43d70658c4f2c8c860dcfe549f9b3": {
          "model_module": "@jupyter-widgets/controls",
          "model_name": "HBoxModel",
          "model_module_version": "1.5.0",
          "state": {
            "_dom_classes": [],
            "_model_module": "@jupyter-widgets/controls",
            "_model_module_version": "1.5.0",
            "_model_name": "HBoxModel",
            "_view_count": null,
            "_view_module": "@jupyter-widgets/controls",
            "_view_module_version": "1.5.0",
            "_view_name": "HBoxView",
            "box_style": "",
            "children": [
              "IPY_MODEL_a913a5c3aba9480fa6a8490eda71b0bb",
              "IPY_MODEL_d3067fb46a994d018fa989a58b609e54",
              "IPY_MODEL_9d4ad0c2689045beb68ce1f8009bb440"
            ],
            "layout": "IPY_MODEL_63da8a7cd21240ed8bed22617027da55"
          }
        },
        "a913a5c3aba9480fa6a8490eda71b0bb": {
          "model_module": "@jupyter-widgets/controls",
          "model_name": "HTMLModel",
          "model_module_version": "1.5.0",
          "state": {
            "_dom_classes": [],
            "_model_module": "@jupyter-widgets/controls",
            "_model_module_version": "1.5.0",
            "_model_name": "HTMLModel",
            "_view_count": null,
            "_view_module": "@jupyter-widgets/controls",
            "_view_module_version": "1.5.0",
            "_view_name": "HTMLView",
            "description": "",
            "description_tooltip": null,
            "layout": "IPY_MODEL_55e1b58f50254b0cafb5574d283d5202",
            "placeholder": "​",
            "style": "IPY_MODEL_ccd6bbf9fb394445a00f894890285221",
            "value": "Downloading readme: 100%"
          }
        },
        "d3067fb46a994d018fa989a58b609e54": {
          "model_module": "@jupyter-widgets/controls",
          "model_name": "FloatProgressModel",
          "model_module_version": "1.5.0",
          "state": {
            "_dom_classes": [],
            "_model_module": "@jupyter-widgets/controls",
            "_model_module_version": "1.5.0",
            "_model_name": "FloatProgressModel",
            "_view_count": null,
            "_view_module": "@jupyter-widgets/controls",
            "_view_module_version": "1.5.0",
            "_view_name": "ProgressView",
            "bar_style": "success",
            "description": "",
            "description_tooltip": null,
            "layout": "IPY_MODEL_1b1d1fb42820480bbc254636fcb05fd3",
            "max": 6243,
            "min": 0,
            "orientation": "horizontal",
            "style": "IPY_MODEL_428a8df11d9c4fa5a806f52440dee503",
            "value": 6243
          }
        },
        "9d4ad0c2689045beb68ce1f8009bb440": {
          "model_module": "@jupyter-widgets/controls",
          "model_name": "HTMLModel",
          "model_module_version": "1.5.0",
          "state": {
            "_dom_classes": [],
            "_model_module": "@jupyter-widgets/controls",
            "_model_module_version": "1.5.0",
            "_model_name": "HTMLModel",
            "_view_count": null,
            "_view_module": "@jupyter-widgets/controls",
            "_view_module_version": "1.5.0",
            "_view_name": "HTMLView",
            "description": "",
            "description_tooltip": null,
            "layout": "IPY_MODEL_325ff361c619438eb7598ddf7bb01c73",
            "placeholder": "​",
            "style": "IPY_MODEL_6abd7980908a45728c0b5ac2355f3260",
            "value": " 6.24k/6.24k [00:00&lt;00:00, 344kB/s]"
          }
        },
        "63da8a7cd21240ed8bed22617027da55": {
          "model_module": "@jupyter-widgets/base",
          "model_name": "LayoutModel",
          "model_module_version": "1.2.0",
          "state": {
            "_model_module": "@jupyter-widgets/base",
            "_model_module_version": "1.2.0",
            "_model_name": "LayoutModel",
            "_view_count": null,
            "_view_module": "@jupyter-widgets/base",
            "_view_module_version": "1.2.0",
            "_view_name": "LayoutView",
            "align_content": null,
            "align_items": null,
            "align_self": null,
            "border": null,
            "bottom": null,
            "display": null,
            "flex": null,
            "flex_flow": null,
            "grid_area": null,
            "grid_auto_columns": null,
            "grid_auto_flow": null,
            "grid_auto_rows": null,
            "grid_column": null,
            "grid_gap": null,
            "grid_row": null,
            "grid_template_areas": null,
            "grid_template_columns": null,
            "grid_template_rows": null,
            "height": null,
            "justify_content": null,
            "justify_items": null,
            "left": null,
            "margin": null,
            "max_height": null,
            "max_width": null,
            "min_height": null,
            "min_width": null,
            "object_fit": null,
            "object_position": null,
            "order": null,
            "overflow": null,
            "overflow_x": null,
            "overflow_y": null,
            "padding": null,
            "right": null,
            "top": null,
            "visibility": null,
            "width": null
          }
        },
        "55e1b58f50254b0cafb5574d283d5202": {
          "model_module": "@jupyter-widgets/base",
          "model_name": "LayoutModel",
          "model_module_version": "1.2.0",
          "state": {
            "_model_module": "@jupyter-widgets/base",
            "_model_module_version": "1.2.0",
            "_model_name": "LayoutModel",
            "_view_count": null,
            "_view_module": "@jupyter-widgets/base",
            "_view_module_version": "1.2.0",
            "_view_name": "LayoutView",
            "align_content": null,
            "align_items": null,
            "align_self": null,
            "border": null,
            "bottom": null,
            "display": null,
            "flex": null,
            "flex_flow": null,
            "grid_area": null,
            "grid_auto_columns": null,
            "grid_auto_flow": null,
            "grid_auto_rows": null,
            "grid_column": null,
            "grid_gap": null,
            "grid_row": null,
            "grid_template_areas": null,
            "grid_template_columns": null,
            "grid_template_rows": null,
            "height": null,
            "justify_content": null,
            "justify_items": null,
            "left": null,
            "margin": null,
            "max_height": null,
            "max_width": null,
            "min_height": null,
            "min_width": null,
            "object_fit": null,
            "object_position": null,
            "order": null,
            "overflow": null,
            "overflow_x": null,
            "overflow_y": null,
            "padding": null,
            "right": null,
            "top": null,
            "visibility": null,
            "width": null
          }
        },
        "ccd6bbf9fb394445a00f894890285221": {
          "model_module": "@jupyter-widgets/controls",
          "model_name": "DescriptionStyleModel",
          "model_module_version": "1.5.0",
          "state": {
            "_model_module": "@jupyter-widgets/controls",
            "_model_module_version": "1.5.0",
            "_model_name": "DescriptionStyleModel",
            "_view_count": null,
            "_view_module": "@jupyter-widgets/base",
            "_view_module_version": "1.2.0",
            "_view_name": "StyleView",
            "description_width": ""
          }
        },
        "1b1d1fb42820480bbc254636fcb05fd3": {
          "model_module": "@jupyter-widgets/base",
          "model_name": "LayoutModel",
          "model_module_version": "1.2.0",
          "state": {
            "_model_module": "@jupyter-widgets/base",
            "_model_module_version": "1.2.0",
            "_model_name": "LayoutModel",
            "_view_count": null,
            "_view_module": "@jupyter-widgets/base",
            "_view_module_version": "1.2.0",
            "_view_name": "LayoutView",
            "align_content": null,
            "align_items": null,
            "align_self": null,
            "border": null,
            "bottom": null,
            "display": null,
            "flex": null,
            "flex_flow": null,
            "grid_area": null,
            "grid_auto_columns": null,
            "grid_auto_flow": null,
            "grid_auto_rows": null,
            "grid_column": null,
            "grid_gap": null,
            "grid_row": null,
            "grid_template_areas": null,
            "grid_template_columns": null,
            "grid_template_rows": null,
            "height": null,
            "justify_content": null,
            "justify_items": null,
            "left": null,
            "margin": null,
            "max_height": null,
            "max_width": null,
            "min_height": null,
            "min_width": null,
            "object_fit": null,
            "object_position": null,
            "order": null,
            "overflow": null,
            "overflow_x": null,
            "overflow_y": null,
            "padding": null,
            "right": null,
            "top": null,
            "visibility": null,
            "width": null
          }
        },
        "428a8df11d9c4fa5a806f52440dee503": {
          "model_module": "@jupyter-widgets/controls",
          "model_name": "ProgressStyleModel",
          "model_module_version": "1.5.0",
          "state": {
            "_model_module": "@jupyter-widgets/controls",
            "_model_module_version": "1.5.0",
            "_model_name": "ProgressStyleModel",
            "_view_count": null,
            "_view_module": "@jupyter-widgets/base",
            "_view_module_version": "1.2.0",
            "_view_name": "StyleView",
            "bar_color": null,
            "description_width": ""
          }
        },
        "325ff361c619438eb7598ddf7bb01c73": {
          "model_module": "@jupyter-widgets/base",
          "model_name": "LayoutModel",
          "model_module_version": "1.2.0",
          "state": {
            "_model_module": "@jupyter-widgets/base",
            "_model_module_version": "1.2.0",
            "_model_name": "LayoutModel",
            "_view_count": null,
            "_view_module": "@jupyter-widgets/base",
            "_view_module_version": "1.2.0",
            "_view_name": "LayoutView",
            "align_content": null,
            "align_items": null,
            "align_self": null,
            "border": null,
            "bottom": null,
            "display": null,
            "flex": null,
            "flex_flow": null,
            "grid_area": null,
            "grid_auto_columns": null,
            "grid_auto_flow": null,
            "grid_auto_rows": null,
            "grid_column": null,
            "grid_gap": null,
            "grid_row": null,
            "grid_template_areas": null,
            "grid_template_columns": null,
            "grid_template_rows": null,
            "height": null,
            "justify_content": null,
            "justify_items": null,
            "left": null,
            "margin": null,
            "max_height": null,
            "max_width": null,
            "min_height": null,
            "min_width": null,
            "object_fit": null,
            "object_position": null,
            "order": null,
            "overflow": null,
            "overflow_x": null,
            "overflow_y": null,
            "padding": null,
            "right": null,
            "top": null,
            "visibility": null,
            "width": null
          }
        },
        "6abd7980908a45728c0b5ac2355f3260": {
          "model_module": "@jupyter-widgets/controls",
          "model_name": "DescriptionStyleModel",
          "model_module_version": "1.5.0",
          "state": {
            "_model_module": "@jupyter-widgets/controls",
            "_model_module_version": "1.5.0",
            "_model_name": "DescriptionStyleModel",
            "_view_count": null,
            "_view_module": "@jupyter-widgets/base",
            "_view_module_version": "1.2.0",
            "_view_name": "StyleView",
            "description_width": ""
          }
        },
        "0f6cce65c55347cfa754e95d5aee6c44": {
          "model_module": "@jupyter-widgets/controls",
          "model_name": "HBoxModel",
          "model_module_version": "1.5.0",
          "state": {
            "_dom_classes": [],
            "_model_module": "@jupyter-widgets/controls",
            "_model_module_version": "1.5.0",
            "_model_name": "HBoxModel",
            "_view_count": null,
            "_view_module": "@jupyter-widgets/controls",
            "_view_module_version": "1.5.0",
            "_view_name": "HBoxView",
            "box_style": "",
            "children": [
              "IPY_MODEL_d81605f96fb44adfb6075bc0ddd17492",
              "IPY_MODEL_5d7358e28db7499b9fd8c5840ae7ffe7",
              "IPY_MODEL_e5152e118fb349dd9aaa097fdf0b33cf"
            ],
            "layout": "IPY_MODEL_db8a236e342e491fad4521b0e54be7e0"
          }
        },
        "d81605f96fb44adfb6075bc0ddd17492": {
          "model_module": "@jupyter-widgets/controls",
          "model_name": "HTMLModel",
          "model_module_version": "1.5.0",
          "state": {
            "_dom_classes": [],
            "_model_module": "@jupyter-widgets/controls",
            "_model_module_version": "1.5.0",
            "_model_name": "HTMLModel",
            "_view_count": null,
            "_view_module": "@jupyter-widgets/controls",
            "_view_module_version": "1.5.0",
            "_view_name": "HTMLView",
            "description": "",
            "description_tooltip": null,
            "layout": "IPY_MODEL_0c28a0d089814644b95105ac35a8f928",
            "placeholder": "​",
            "style": "IPY_MODEL_be1c51020f9245d6a7dd49315fe00ea8",
            "value": "Downloading data files: 100%"
          }
        },
        "5d7358e28db7499b9fd8c5840ae7ffe7": {
          "model_module": "@jupyter-widgets/controls",
          "model_name": "FloatProgressModel",
          "model_module_version": "1.5.0",
          "state": {
            "_dom_classes": [],
            "_model_module": "@jupyter-widgets/controls",
            "_model_module_version": "1.5.0",
            "_model_name": "FloatProgressModel",
            "_view_count": null,
            "_view_module": "@jupyter-widgets/controls",
            "_view_module_version": "1.5.0",
            "_view_name": "ProgressView",
            "bar_style": "success",
            "description": "",
            "description_tooltip": null,
            "layout": "IPY_MODEL_9f3e6e531fc34f4eaf8c90ef5cdef2b4",
            "max": 2,
            "min": 0,
            "orientation": "horizontal",
            "style": "IPY_MODEL_a51f3f7eaf0c44efab93b913e78edd18",
            "value": 2
          }
        },
        "e5152e118fb349dd9aaa097fdf0b33cf": {
          "model_module": "@jupyter-widgets/controls",
          "model_name": "HTMLModel",
          "model_module_version": "1.5.0",
          "state": {
            "_dom_classes": [],
            "_model_module": "@jupyter-widgets/controls",
            "_model_module_version": "1.5.0",
            "_model_name": "HTMLModel",
            "_view_count": null,
            "_view_module": "@jupyter-widgets/controls",
            "_view_module_version": "1.5.0",
            "_view_name": "HTMLView",
            "description": "",
            "description_tooltip": null,
            "layout": "IPY_MODEL_40cd17d0eacb4625b9aba73cb2d4386a",
            "placeholder": "​",
            "style": "IPY_MODEL_f17a9c3a7d054231b4152ec810910577",
            "value": " 2/2 [00:03&lt;00:00,  1.68s/it]"
          }
        },
        "db8a236e342e491fad4521b0e54be7e0": {
          "model_module": "@jupyter-widgets/base",
          "model_name": "LayoutModel",
          "model_module_version": "1.2.0",
          "state": {
            "_model_module": "@jupyter-widgets/base",
            "_model_module_version": "1.2.0",
            "_model_name": "LayoutModel",
            "_view_count": null,
            "_view_module": "@jupyter-widgets/base",
            "_view_module_version": "1.2.0",
            "_view_name": "LayoutView",
            "align_content": null,
            "align_items": null,
            "align_self": null,
            "border": null,
            "bottom": null,
            "display": null,
            "flex": null,
            "flex_flow": null,
            "grid_area": null,
            "grid_auto_columns": null,
            "grid_auto_flow": null,
            "grid_auto_rows": null,
            "grid_column": null,
            "grid_gap": null,
            "grid_row": null,
            "grid_template_areas": null,
            "grid_template_columns": null,
            "grid_template_rows": null,
            "height": null,
            "justify_content": null,
            "justify_items": null,
            "left": null,
            "margin": null,
            "max_height": null,
            "max_width": null,
            "min_height": null,
            "min_width": null,
            "object_fit": null,
            "object_position": null,
            "order": null,
            "overflow": null,
            "overflow_x": null,
            "overflow_y": null,
            "padding": null,
            "right": null,
            "top": null,
            "visibility": null,
            "width": null
          }
        },
        "0c28a0d089814644b95105ac35a8f928": {
          "model_module": "@jupyter-widgets/base",
          "model_name": "LayoutModel",
          "model_module_version": "1.2.0",
          "state": {
            "_model_module": "@jupyter-widgets/base",
            "_model_module_version": "1.2.0",
            "_model_name": "LayoutModel",
            "_view_count": null,
            "_view_module": "@jupyter-widgets/base",
            "_view_module_version": "1.2.0",
            "_view_name": "LayoutView",
            "align_content": null,
            "align_items": null,
            "align_self": null,
            "border": null,
            "bottom": null,
            "display": null,
            "flex": null,
            "flex_flow": null,
            "grid_area": null,
            "grid_auto_columns": null,
            "grid_auto_flow": null,
            "grid_auto_rows": null,
            "grid_column": null,
            "grid_gap": null,
            "grid_row": null,
            "grid_template_areas": null,
            "grid_template_columns": null,
            "grid_template_rows": null,
            "height": null,
            "justify_content": null,
            "justify_items": null,
            "left": null,
            "margin": null,
            "max_height": null,
            "max_width": null,
            "min_height": null,
            "min_width": null,
            "object_fit": null,
            "object_position": null,
            "order": null,
            "overflow": null,
            "overflow_x": null,
            "overflow_y": null,
            "padding": null,
            "right": null,
            "top": null,
            "visibility": null,
            "width": null
          }
        },
        "be1c51020f9245d6a7dd49315fe00ea8": {
          "model_module": "@jupyter-widgets/controls",
          "model_name": "DescriptionStyleModel",
          "model_module_version": "1.5.0",
          "state": {
            "_model_module": "@jupyter-widgets/controls",
            "_model_module_version": "1.5.0",
            "_model_name": "DescriptionStyleModel",
            "_view_count": null,
            "_view_module": "@jupyter-widgets/base",
            "_view_module_version": "1.2.0",
            "_view_name": "StyleView",
            "description_width": ""
          }
        },
        "9f3e6e531fc34f4eaf8c90ef5cdef2b4": {
          "model_module": "@jupyter-widgets/base",
          "model_name": "LayoutModel",
          "model_module_version": "1.2.0",
          "state": {
            "_model_module": "@jupyter-widgets/base",
            "_model_module_version": "1.2.0",
            "_model_name": "LayoutModel",
            "_view_count": null,
            "_view_module": "@jupyter-widgets/base",
            "_view_module_version": "1.2.0",
            "_view_name": "LayoutView",
            "align_content": null,
            "align_items": null,
            "align_self": null,
            "border": null,
            "bottom": null,
            "display": null,
            "flex": null,
            "flex_flow": null,
            "grid_area": null,
            "grid_auto_columns": null,
            "grid_auto_flow": null,
            "grid_auto_rows": null,
            "grid_column": null,
            "grid_gap": null,
            "grid_row": null,
            "grid_template_areas": null,
            "grid_template_columns": null,
            "grid_template_rows": null,
            "height": null,
            "justify_content": null,
            "justify_items": null,
            "left": null,
            "margin": null,
            "max_height": null,
            "max_width": null,
            "min_height": null,
            "min_width": null,
            "object_fit": null,
            "object_position": null,
            "order": null,
            "overflow": null,
            "overflow_x": null,
            "overflow_y": null,
            "padding": null,
            "right": null,
            "top": null,
            "visibility": null,
            "width": null
          }
        },
        "a51f3f7eaf0c44efab93b913e78edd18": {
          "model_module": "@jupyter-widgets/controls",
          "model_name": "ProgressStyleModel",
          "model_module_version": "1.5.0",
          "state": {
            "_model_module": "@jupyter-widgets/controls",
            "_model_module_version": "1.5.0",
            "_model_name": "ProgressStyleModel",
            "_view_count": null,
            "_view_module": "@jupyter-widgets/base",
            "_view_module_version": "1.2.0",
            "_view_name": "StyleView",
            "bar_color": null,
            "description_width": ""
          }
        },
        "40cd17d0eacb4625b9aba73cb2d4386a": {
          "model_module": "@jupyter-widgets/base",
          "model_name": "LayoutModel",
          "model_module_version": "1.2.0",
          "state": {
            "_model_module": "@jupyter-widgets/base",
            "_model_module_version": "1.2.0",
            "_model_name": "LayoutModel",
            "_view_count": null,
            "_view_module": "@jupyter-widgets/base",
            "_view_module_version": "1.2.0",
            "_view_name": "LayoutView",
            "align_content": null,
            "align_items": null,
            "align_self": null,
            "border": null,
            "bottom": null,
            "display": null,
            "flex": null,
            "flex_flow": null,
            "grid_area": null,
            "grid_auto_columns": null,
            "grid_auto_flow": null,
            "grid_auto_rows": null,
            "grid_column": null,
            "grid_gap": null,
            "grid_row": null,
            "grid_template_areas": null,
            "grid_template_columns": null,
            "grid_template_rows": null,
            "height": null,
            "justify_content": null,
            "justify_items": null,
            "left": null,
            "margin": null,
            "max_height": null,
            "max_width": null,
            "min_height": null,
            "min_width": null,
            "object_fit": null,
            "object_position": null,
            "order": null,
            "overflow": null,
            "overflow_x": null,
            "overflow_y": null,
            "padding": null,
            "right": null,
            "top": null,
            "visibility": null,
            "width": null
          }
        },
        "f17a9c3a7d054231b4152ec810910577": {
          "model_module": "@jupyter-widgets/controls",
          "model_name": "DescriptionStyleModel",
          "model_module_version": "1.5.0",
          "state": {
            "_model_module": "@jupyter-widgets/controls",
            "_model_module_version": "1.5.0",
            "_model_name": "DescriptionStyleModel",
            "_view_count": null,
            "_view_module": "@jupyter-widgets/base",
            "_view_module_version": "1.2.0",
            "_view_name": "StyleView",
            "description_width": ""
          }
        },
        "e725b58d08744854ac40bc0faf49df9c": {
          "model_module": "@jupyter-widgets/controls",
          "model_name": "HBoxModel",
          "model_module_version": "1.5.0",
          "state": {
            "_dom_classes": [],
            "_model_module": "@jupyter-widgets/controls",
            "_model_module_version": "1.5.0",
            "_model_name": "HBoxModel",
            "_view_count": null,
            "_view_module": "@jupyter-widgets/controls",
            "_view_module_version": "1.5.0",
            "_view_name": "HBoxView",
            "box_style": "",
            "children": [
              "IPY_MODEL_984d4f98624f47588a49b269c9f8db88",
              "IPY_MODEL_32b24d61a48840ac92186c69778e3a31",
              "IPY_MODEL_2f565026d7e843929e96e64faed9a0c2"
            ],
            "layout": "IPY_MODEL_30194208974a45a7b58be34bba39254c"
          }
        },
        "984d4f98624f47588a49b269c9f8db88": {
          "model_module": "@jupyter-widgets/controls",
          "model_name": "HTMLModel",
          "model_module_version": "1.5.0",
          "state": {
            "_dom_classes": [],
            "_model_module": "@jupyter-widgets/controls",
            "_model_module_version": "1.5.0",
            "_model_name": "HTMLModel",
            "_view_count": null,
            "_view_module": "@jupyter-widgets/controls",
            "_view_module_version": "1.5.0",
            "_view_name": "HTMLView",
            "description": "",
            "description_tooltip": null,
            "layout": "IPY_MODEL_6c6ed33272a94da29cd93332908a121b",
            "placeholder": "​",
            "style": "IPY_MODEL_4a55162b12d549bfa964d13545024082",
            "value": "Downloading data: 100%"
          }
        },
        "32b24d61a48840ac92186c69778e3a31": {
          "model_module": "@jupyter-widgets/controls",
          "model_name": "FloatProgressModel",
          "model_module_version": "1.5.0",
          "state": {
            "_dom_classes": [],
            "_model_module": "@jupyter-widgets/controls",
            "_model_module_version": "1.5.0",
            "_model_name": "FloatProgressModel",
            "_view_count": null,
            "_view_module": "@jupyter-widgets/controls",
            "_view_module_version": "1.5.0",
            "_view_name": "ProgressView",
            "bar_style": "success",
            "description": "",
            "description_tooltip": null,
            "layout": "IPY_MODEL_34d5c6c2727849f78dc7625e5b4dff88",
            "max": 254582292,
            "min": 0,
            "orientation": "horizontal",
            "style": "IPY_MODEL_e3ef3ee3528f4e4297d5a24024b17140",
            "value": 254582292
          }
        },
        "2f565026d7e843929e96e64faed9a0c2": {
          "model_module": "@jupyter-widgets/controls",
          "model_name": "HTMLModel",
          "model_module_version": "1.5.0",
          "state": {
            "_dom_classes": [],
            "_model_module": "@jupyter-widgets/controls",
            "_model_module_version": "1.5.0",
            "_model_name": "HTMLModel",
            "_view_count": null,
            "_view_module": "@jupyter-widgets/controls",
            "_view_module_version": "1.5.0",
            "_view_name": "HTMLView",
            "description": "",
            "description_tooltip": null,
            "layout": "IPY_MODEL_5ec6f700d1ed4664a261d96d6c043aa9",
            "placeholder": "​",
            "style": "IPY_MODEL_4a8cbd2e27174943802220daff9fd083",
            "value": " 255M/255M [00:03&lt;00:00, 92.8MB/s]"
          }
        },
        "30194208974a45a7b58be34bba39254c": {
          "model_module": "@jupyter-widgets/base",
          "model_name": "LayoutModel",
          "model_module_version": "1.2.0",
          "state": {
            "_model_module": "@jupyter-widgets/base",
            "_model_module_version": "1.2.0",
            "_model_name": "LayoutModel",
            "_view_count": null,
            "_view_module": "@jupyter-widgets/base",
            "_view_module_version": "1.2.0",
            "_view_name": "LayoutView",
            "align_content": null,
            "align_items": null,
            "align_self": null,
            "border": null,
            "bottom": null,
            "display": null,
            "flex": null,
            "flex_flow": null,
            "grid_area": null,
            "grid_auto_columns": null,
            "grid_auto_flow": null,
            "grid_auto_rows": null,
            "grid_column": null,
            "grid_gap": null,
            "grid_row": null,
            "grid_template_areas": null,
            "grid_template_columns": null,
            "grid_template_rows": null,
            "height": null,
            "justify_content": null,
            "justify_items": null,
            "left": null,
            "margin": null,
            "max_height": null,
            "max_width": null,
            "min_height": null,
            "min_width": null,
            "object_fit": null,
            "object_position": null,
            "order": null,
            "overflow": null,
            "overflow_x": null,
            "overflow_y": null,
            "padding": null,
            "right": null,
            "top": null,
            "visibility": null,
            "width": null
          }
        },
        "6c6ed33272a94da29cd93332908a121b": {
          "model_module": "@jupyter-widgets/base",
          "model_name": "LayoutModel",
          "model_module_version": "1.2.0",
          "state": {
            "_model_module": "@jupyter-widgets/base",
            "_model_module_version": "1.2.0",
            "_model_name": "LayoutModel",
            "_view_count": null,
            "_view_module": "@jupyter-widgets/base",
            "_view_module_version": "1.2.0",
            "_view_name": "LayoutView",
            "align_content": null,
            "align_items": null,
            "align_self": null,
            "border": null,
            "bottom": null,
            "display": null,
            "flex": null,
            "flex_flow": null,
            "grid_area": null,
            "grid_auto_columns": null,
            "grid_auto_flow": null,
            "grid_auto_rows": null,
            "grid_column": null,
            "grid_gap": null,
            "grid_row": null,
            "grid_template_areas": null,
            "grid_template_columns": null,
            "grid_template_rows": null,
            "height": null,
            "justify_content": null,
            "justify_items": null,
            "left": null,
            "margin": null,
            "max_height": null,
            "max_width": null,
            "min_height": null,
            "min_width": null,
            "object_fit": null,
            "object_position": null,
            "order": null,
            "overflow": null,
            "overflow_x": null,
            "overflow_y": null,
            "padding": null,
            "right": null,
            "top": null,
            "visibility": null,
            "width": null
          }
        },
        "4a55162b12d549bfa964d13545024082": {
          "model_module": "@jupyter-widgets/controls",
          "model_name": "DescriptionStyleModel",
          "model_module_version": "1.5.0",
          "state": {
            "_model_module": "@jupyter-widgets/controls",
            "_model_module_version": "1.5.0",
            "_model_name": "DescriptionStyleModel",
            "_view_count": null,
            "_view_module": "@jupyter-widgets/base",
            "_view_module_version": "1.2.0",
            "_view_name": "StyleView",
            "description_width": ""
          }
        },
        "34d5c6c2727849f78dc7625e5b4dff88": {
          "model_module": "@jupyter-widgets/base",
          "model_name": "LayoutModel",
          "model_module_version": "1.2.0",
          "state": {
            "_model_module": "@jupyter-widgets/base",
            "_model_module_version": "1.2.0",
            "_model_name": "LayoutModel",
            "_view_count": null,
            "_view_module": "@jupyter-widgets/base",
            "_view_module_version": "1.2.0",
            "_view_name": "LayoutView",
            "align_content": null,
            "align_items": null,
            "align_self": null,
            "border": null,
            "bottom": null,
            "display": null,
            "flex": null,
            "flex_flow": null,
            "grid_area": null,
            "grid_auto_columns": null,
            "grid_auto_flow": null,
            "grid_auto_rows": null,
            "grid_column": null,
            "grid_gap": null,
            "grid_row": null,
            "grid_template_areas": null,
            "grid_template_columns": null,
            "grid_template_rows": null,
            "height": null,
            "justify_content": null,
            "justify_items": null,
            "left": null,
            "margin": null,
            "max_height": null,
            "max_width": null,
            "min_height": null,
            "min_width": null,
            "object_fit": null,
            "object_position": null,
            "order": null,
            "overflow": null,
            "overflow_x": null,
            "overflow_y": null,
            "padding": null,
            "right": null,
            "top": null,
            "visibility": null,
            "width": null
          }
        },
        "e3ef3ee3528f4e4297d5a24024b17140": {
          "model_module": "@jupyter-widgets/controls",
          "model_name": "ProgressStyleModel",
          "model_module_version": "1.5.0",
          "state": {
            "_model_module": "@jupyter-widgets/controls",
            "_model_module_version": "1.5.0",
            "_model_name": "ProgressStyleModel",
            "_view_count": null,
            "_view_module": "@jupyter-widgets/base",
            "_view_module_version": "1.2.0",
            "_view_name": "StyleView",
            "bar_color": null,
            "description_width": ""
          }
        },
        "5ec6f700d1ed4664a261d96d6c043aa9": {
          "model_module": "@jupyter-widgets/base",
          "model_name": "LayoutModel",
          "model_module_version": "1.2.0",
          "state": {
            "_model_module": "@jupyter-widgets/base",
            "_model_module_version": "1.2.0",
            "_model_name": "LayoutModel",
            "_view_count": null,
            "_view_module": "@jupyter-widgets/base",
            "_view_module_version": "1.2.0",
            "_view_name": "LayoutView",
            "align_content": null,
            "align_items": null,
            "align_self": null,
            "border": null,
            "bottom": null,
            "display": null,
            "flex": null,
            "flex_flow": null,
            "grid_area": null,
            "grid_auto_columns": null,
            "grid_auto_flow": null,
            "grid_auto_rows": null,
            "grid_column": null,
            "grid_gap": null,
            "grid_row": null,
            "grid_template_areas": null,
            "grid_template_columns": null,
            "grid_template_rows": null,
            "height": null,
            "justify_content": null,
            "justify_items": null,
            "left": null,
            "margin": null,
            "max_height": null,
            "max_width": null,
            "min_height": null,
            "min_width": null,
            "object_fit": null,
            "object_position": null,
            "order": null,
            "overflow": null,
            "overflow_x": null,
            "overflow_y": null,
            "padding": null,
            "right": null,
            "top": null,
            "visibility": null,
            "width": null
          }
        },
        "4a8cbd2e27174943802220daff9fd083": {
          "model_module": "@jupyter-widgets/controls",
          "model_name": "DescriptionStyleModel",
          "model_module_version": "1.5.0",
          "state": {
            "_model_module": "@jupyter-widgets/controls",
            "_model_module_version": "1.5.0",
            "_model_name": "DescriptionStyleModel",
            "_view_count": null,
            "_view_module": "@jupyter-widgets/base",
            "_view_module_version": "1.2.0",
            "_view_name": "StyleView",
            "description_width": ""
          }
        },
        "bf465969abb847eb88a5d992bfdb0316": {
          "model_module": "@jupyter-widgets/controls",
          "model_name": "HBoxModel",
          "model_module_version": "1.5.0",
          "state": {
            "_dom_classes": [],
            "_model_module": "@jupyter-widgets/controls",
            "_model_module_version": "1.5.0",
            "_model_name": "HBoxModel",
            "_view_count": null,
            "_view_module": "@jupyter-widgets/controls",
            "_view_module_version": "1.5.0",
            "_view_name": "HBoxView",
            "box_style": "",
            "children": [
              "IPY_MODEL_643d54c0fdbe44cda366d390ea918534",
              "IPY_MODEL_cf84f63f9ac046eda81e12ddee816398",
              "IPY_MODEL_3000438ee4344041bf83909588b13563"
            ],
            "layout": "IPY_MODEL_54a2758ed0df443181946cb3aabea223"
          }
        },
        "643d54c0fdbe44cda366d390ea918534": {
          "model_module": "@jupyter-widgets/controls",
          "model_name": "HTMLModel",
          "model_module_version": "1.5.0",
          "state": {
            "_dom_classes": [],
            "_model_module": "@jupyter-widgets/controls",
            "_model_module_version": "1.5.0",
            "_model_name": "HTMLModel",
            "_view_count": null,
            "_view_module": "@jupyter-widgets/controls",
            "_view_module_version": "1.5.0",
            "_view_name": "HTMLView",
            "description": "",
            "description_tooltip": null,
            "layout": "IPY_MODEL_bc6b39062bf4437b83603e099f25d177",
            "placeholder": "​",
            "style": "IPY_MODEL_128cdbdba2b844c6a9ba47ddf3767512",
            "value": "Downloading data: "
          }
        },
        "cf84f63f9ac046eda81e12ddee816398": {
          "model_module": "@jupyter-widgets/controls",
          "model_name": "FloatProgressModel",
          "model_module_version": "1.5.0",
          "state": {
            "_dom_classes": [],
            "_model_module": "@jupyter-widgets/controls",
            "_model_module_version": "1.5.0",
            "_model_name": "FloatProgressModel",
            "_view_count": null,
            "_view_module": "@jupyter-widgets/controls",
            "_view_module_version": "1.5.0",
            "_view_name": "ProgressView",
            "bar_style": "success",
            "description": "",
            "description_tooltip": null,
            "layout": "IPY_MODEL_deb657b3ae044556b5d6b7917e3445d2",
            "max": 1001503,
            "min": 0,
            "orientation": "horizontal",
            "style": "IPY_MODEL_a7a029f4b4a64bcaba1bfd172d341205",
            "value": 1001503
          }
        },
        "3000438ee4344041bf83909588b13563": {
          "model_module": "@jupyter-widgets/controls",
          "model_name": "HTMLModel",
          "model_module_version": "1.5.0",
          "state": {
            "_dom_classes": [],
            "_model_module": "@jupyter-widgets/controls",
            "_model_module_version": "1.5.0",
            "_model_name": "HTMLModel",
            "_view_count": null,
            "_view_module": "@jupyter-widgets/controls",
            "_view_module_version": "1.5.0",
            "_view_name": "HTMLView",
            "description": "",
            "description_tooltip": null,
            "layout": "IPY_MODEL_e555b58486464286a0fb5dc815f7a276",
            "placeholder": "​",
            "style": "IPY_MODEL_f35701820e06499181d28b5ac0975e38",
            "value": " 2.72M/? [00:00&lt;00:00, 33.4MB/s]"
          }
        },
        "54a2758ed0df443181946cb3aabea223": {
          "model_module": "@jupyter-widgets/base",
          "model_name": "LayoutModel",
          "model_module_version": "1.2.0",
          "state": {
            "_model_module": "@jupyter-widgets/base",
            "_model_module_version": "1.2.0",
            "_model_name": "LayoutModel",
            "_view_count": null,
            "_view_module": "@jupyter-widgets/base",
            "_view_module_version": "1.2.0",
            "_view_name": "LayoutView",
            "align_content": null,
            "align_items": null,
            "align_self": null,
            "border": null,
            "bottom": null,
            "display": null,
            "flex": null,
            "flex_flow": null,
            "grid_area": null,
            "grid_auto_columns": null,
            "grid_auto_flow": null,
            "grid_auto_rows": null,
            "grid_column": null,
            "grid_gap": null,
            "grid_row": null,
            "grid_template_areas": null,
            "grid_template_columns": null,
            "grid_template_rows": null,
            "height": null,
            "justify_content": null,
            "justify_items": null,
            "left": null,
            "margin": null,
            "max_height": null,
            "max_width": null,
            "min_height": null,
            "min_width": null,
            "object_fit": null,
            "object_position": null,
            "order": null,
            "overflow": null,
            "overflow_x": null,
            "overflow_y": null,
            "padding": null,
            "right": null,
            "top": null,
            "visibility": null,
            "width": null
          }
        },
        "bc6b39062bf4437b83603e099f25d177": {
          "model_module": "@jupyter-widgets/base",
          "model_name": "LayoutModel",
          "model_module_version": "1.2.0",
          "state": {
            "_model_module": "@jupyter-widgets/base",
            "_model_module_version": "1.2.0",
            "_model_name": "LayoutModel",
            "_view_count": null,
            "_view_module": "@jupyter-widgets/base",
            "_view_module_version": "1.2.0",
            "_view_name": "LayoutView",
            "align_content": null,
            "align_items": null,
            "align_self": null,
            "border": null,
            "bottom": null,
            "display": null,
            "flex": null,
            "flex_flow": null,
            "grid_area": null,
            "grid_auto_columns": null,
            "grid_auto_flow": null,
            "grid_auto_rows": null,
            "grid_column": null,
            "grid_gap": null,
            "grid_row": null,
            "grid_template_areas": null,
            "grid_template_columns": null,
            "grid_template_rows": null,
            "height": null,
            "justify_content": null,
            "justify_items": null,
            "left": null,
            "margin": null,
            "max_height": null,
            "max_width": null,
            "min_height": null,
            "min_width": null,
            "object_fit": null,
            "object_position": null,
            "order": null,
            "overflow": null,
            "overflow_x": null,
            "overflow_y": null,
            "padding": null,
            "right": null,
            "top": null,
            "visibility": null,
            "width": null
          }
        },
        "128cdbdba2b844c6a9ba47ddf3767512": {
          "model_module": "@jupyter-widgets/controls",
          "model_name": "DescriptionStyleModel",
          "model_module_version": "1.5.0",
          "state": {
            "_model_module": "@jupyter-widgets/controls",
            "_model_module_version": "1.5.0",
            "_model_name": "DescriptionStyleModel",
            "_view_count": null,
            "_view_module": "@jupyter-widgets/base",
            "_view_module_version": "1.2.0",
            "_view_name": "StyleView",
            "description_width": ""
          }
        },
        "deb657b3ae044556b5d6b7917e3445d2": {
          "model_module": "@jupyter-widgets/base",
          "model_name": "LayoutModel",
          "model_module_version": "1.2.0",
          "state": {
            "_model_module": "@jupyter-widgets/base",
            "_model_module_version": "1.2.0",
            "_model_name": "LayoutModel",
            "_view_count": null,
            "_view_module": "@jupyter-widgets/base",
            "_view_module_version": "1.2.0",
            "_view_name": "LayoutView",
            "align_content": null,
            "align_items": null,
            "align_self": null,
            "border": null,
            "bottom": null,
            "display": null,
            "flex": null,
            "flex_flow": null,
            "grid_area": null,
            "grid_auto_columns": null,
            "grid_auto_flow": null,
            "grid_auto_rows": null,
            "grid_column": null,
            "grid_gap": null,
            "grid_row": null,
            "grid_template_areas": null,
            "grid_template_columns": null,
            "grid_template_rows": null,
            "height": null,
            "justify_content": null,
            "justify_items": null,
            "left": null,
            "margin": null,
            "max_height": null,
            "max_width": null,
            "min_height": null,
            "min_width": null,
            "object_fit": null,
            "object_position": null,
            "order": null,
            "overflow": null,
            "overflow_x": null,
            "overflow_y": null,
            "padding": null,
            "right": null,
            "top": null,
            "visibility": null,
            "width": null
          }
        },
        "a7a029f4b4a64bcaba1bfd172d341205": {
          "model_module": "@jupyter-widgets/controls",
          "model_name": "ProgressStyleModel",
          "model_module_version": "1.5.0",
          "state": {
            "_model_module": "@jupyter-widgets/controls",
            "_model_module_version": "1.5.0",
            "_model_name": "ProgressStyleModel",
            "_view_count": null,
            "_view_module": "@jupyter-widgets/base",
            "_view_module_version": "1.2.0",
            "_view_name": "StyleView",
            "bar_color": null,
            "description_width": ""
          }
        },
        "e555b58486464286a0fb5dc815f7a276": {
          "model_module": "@jupyter-widgets/base",
          "model_name": "LayoutModel",
          "model_module_version": "1.2.0",
          "state": {
            "_model_module": "@jupyter-widgets/base",
            "_model_module_version": "1.2.0",
            "_model_name": "LayoutModel",
            "_view_count": null,
            "_view_module": "@jupyter-widgets/base",
            "_view_module_version": "1.2.0",
            "_view_name": "LayoutView",
            "align_content": null,
            "align_items": null,
            "align_self": null,
            "border": null,
            "bottom": null,
            "display": null,
            "flex": null,
            "flex_flow": null,
            "grid_area": null,
            "grid_auto_columns": null,
            "grid_auto_flow": null,
            "grid_auto_rows": null,
            "grid_column": null,
            "grid_gap": null,
            "grid_row": null,
            "grid_template_areas": null,
            "grid_template_columns": null,
            "grid_template_rows": null,
            "height": null,
            "justify_content": null,
            "justify_items": null,
            "left": null,
            "margin": null,
            "max_height": null,
            "max_width": null,
            "min_height": null,
            "min_width": null,
            "object_fit": null,
            "object_position": null,
            "order": null,
            "overflow": null,
            "overflow_x": null,
            "overflow_y": null,
            "padding": null,
            "right": null,
            "top": null,
            "visibility": null,
            "width": null
          }
        },
        "f35701820e06499181d28b5ac0975e38": {
          "model_module": "@jupyter-widgets/controls",
          "model_name": "DescriptionStyleModel",
          "model_module_version": "1.5.0",
          "state": {
            "_model_module": "@jupyter-widgets/controls",
            "_model_module_version": "1.5.0",
            "_model_name": "DescriptionStyleModel",
            "_view_count": null,
            "_view_module": "@jupyter-widgets/base",
            "_view_module_version": "1.2.0",
            "_view_name": "StyleView",
            "description_width": ""
          }
        },
        "95924921de304933a7dc3ac1f3251740": {
          "model_module": "@jupyter-widgets/controls",
          "model_name": "HBoxModel",
          "model_module_version": "1.5.0",
          "state": {
            "_dom_classes": [],
            "_model_module": "@jupyter-widgets/controls",
            "_model_module_version": "1.5.0",
            "_model_name": "HBoxModel",
            "_view_count": null,
            "_view_module": "@jupyter-widgets/controls",
            "_view_module_version": "1.5.0",
            "_view_name": "HBoxView",
            "box_style": "",
            "children": [
              "IPY_MODEL_42ab306e858842a3b7e483728b1858b4",
              "IPY_MODEL_2b9862a93887477d8d1f2d70496c5b64",
              "IPY_MODEL_a5f54964a9d84e618d8a81ce2d152e73"
            ],
            "layout": "IPY_MODEL_d0d86df5c8584e42bf952d103417cf9a"
          }
        },
        "42ab306e858842a3b7e483728b1858b4": {
          "model_module": "@jupyter-widgets/controls",
          "model_name": "HTMLModel",
          "model_module_version": "1.5.0",
          "state": {
            "_dom_classes": [],
            "_model_module": "@jupyter-widgets/controls",
            "_model_module_version": "1.5.0",
            "_model_name": "HTMLModel",
            "_view_count": null,
            "_view_module": "@jupyter-widgets/controls",
            "_view_module_version": "1.5.0",
            "_view_name": "HTMLView",
            "description": "",
            "description_tooltip": null,
            "layout": "IPY_MODEL_5359b9afa8d94e8389cff7b7020e6d09",
            "placeholder": "​",
            "style": "IPY_MODEL_cdb86b1e98d848bbb91f31fda7773699",
            "value": "Generating train split: 100%"
          }
        },
        "2b9862a93887477d8d1f2d70496c5b64": {
          "model_module": "@jupyter-widgets/controls",
          "model_name": "FloatProgressModel",
          "model_module_version": "1.5.0",
          "state": {
            "_dom_classes": [],
            "_model_module": "@jupyter-widgets/controls",
            "_model_module_version": "1.5.0",
            "_model_name": "FloatProgressModel",
            "_view_count": null,
            "_view_module": "@jupyter-widgets/controls",
            "_view_module_version": "1.5.0",
            "_view_name": "ProgressView",
            "bar_style": "success",
            "description": "",
            "description_tooltip": null,
            "layout": "IPY_MODEL_516fa957682148e2b63b552e8a80c99a",
            "max": 204045,
            "min": 0,
            "orientation": "horizontal",
            "style": "IPY_MODEL_945f7646b6a945ae8ebd393eff2e6aa5",
            "value": 204045
          }
        },
        "a5f54964a9d84e618d8a81ce2d152e73": {
          "model_module": "@jupyter-widgets/controls",
          "model_name": "HTMLModel",
          "model_module_version": "1.5.0",
          "state": {
            "_dom_classes": [],
            "_model_module": "@jupyter-widgets/controls",
            "_model_module_version": "1.5.0",
            "_model_name": "HTMLModel",
            "_view_count": null,
            "_view_module": "@jupyter-widgets/controls",
            "_view_module_version": "1.5.0",
            "_view_name": "HTMLView",
            "description": "",
            "description_tooltip": null,
            "layout": "IPY_MODEL_a31f56378983498dbc6d91536da3b7ef",
            "placeholder": "​",
            "style": "IPY_MODEL_496e54ae65344f2fbc01181dda57aec1",
            "value": " 204045/204045 [00:47&lt;00:00, 5759.63 examples/s]"
          }
        },
        "d0d86df5c8584e42bf952d103417cf9a": {
          "model_module": "@jupyter-widgets/base",
          "model_name": "LayoutModel",
          "model_module_version": "1.2.0",
          "state": {
            "_model_module": "@jupyter-widgets/base",
            "_model_module_version": "1.2.0",
            "_model_name": "LayoutModel",
            "_view_count": null,
            "_view_module": "@jupyter-widgets/base",
            "_view_module_version": "1.2.0",
            "_view_name": "LayoutView",
            "align_content": null,
            "align_items": null,
            "align_self": null,
            "border": null,
            "bottom": null,
            "display": null,
            "flex": null,
            "flex_flow": null,
            "grid_area": null,
            "grid_auto_columns": null,
            "grid_auto_flow": null,
            "grid_auto_rows": null,
            "grid_column": null,
            "grid_gap": null,
            "grid_row": null,
            "grid_template_areas": null,
            "grid_template_columns": null,
            "grid_template_rows": null,
            "height": null,
            "justify_content": null,
            "justify_items": null,
            "left": null,
            "margin": null,
            "max_height": null,
            "max_width": null,
            "min_height": null,
            "min_width": null,
            "object_fit": null,
            "object_position": null,
            "order": null,
            "overflow": null,
            "overflow_x": null,
            "overflow_y": null,
            "padding": null,
            "right": null,
            "top": null,
            "visibility": null,
            "width": null
          }
        },
        "5359b9afa8d94e8389cff7b7020e6d09": {
          "model_module": "@jupyter-widgets/base",
          "model_name": "LayoutModel",
          "model_module_version": "1.2.0",
          "state": {
            "_model_module": "@jupyter-widgets/base",
            "_model_module_version": "1.2.0",
            "_model_name": "LayoutModel",
            "_view_count": null,
            "_view_module": "@jupyter-widgets/base",
            "_view_module_version": "1.2.0",
            "_view_name": "LayoutView",
            "align_content": null,
            "align_items": null,
            "align_self": null,
            "border": null,
            "bottom": null,
            "display": null,
            "flex": null,
            "flex_flow": null,
            "grid_area": null,
            "grid_auto_columns": null,
            "grid_auto_flow": null,
            "grid_auto_rows": null,
            "grid_column": null,
            "grid_gap": null,
            "grid_row": null,
            "grid_template_areas": null,
            "grid_template_columns": null,
            "grid_template_rows": null,
            "height": null,
            "justify_content": null,
            "justify_items": null,
            "left": null,
            "margin": null,
            "max_height": null,
            "max_width": null,
            "min_height": null,
            "min_width": null,
            "object_fit": null,
            "object_position": null,
            "order": null,
            "overflow": null,
            "overflow_x": null,
            "overflow_y": null,
            "padding": null,
            "right": null,
            "top": null,
            "visibility": null,
            "width": null
          }
        },
        "cdb86b1e98d848bbb91f31fda7773699": {
          "model_module": "@jupyter-widgets/controls",
          "model_name": "DescriptionStyleModel",
          "model_module_version": "1.5.0",
          "state": {
            "_model_module": "@jupyter-widgets/controls",
            "_model_module_version": "1.5.0",
            "_model_name": "DescriptionStyleModel",
            "_view_count": null,
            "_view_module": "@jupyter-widgets/base",
            "_view_module_version": "1.2.0",
            "_view_name": "StyleView",
            "description_width": ""
          }
        },
        "516fa957682148e2b63b552e8a80c99a": {
          "model_module": "@jupyter-widgets/base",
          "model_name": "LayoutModel",
          "model_module_version": "1.2.0",
          "state": {
            "_model_module": "@jupyter-widgets/base",
            "_model_module_version": "1.2.0",
            "_model_name": "LayoutModel",
            "_view_count": null,
            "_view_module": "@jupyter-widgets/base",
            "_view_module_version": "1.2.0",
            "_view_name": "LayoutView",
            "align_content": null,
            "align_items": null,
            "align_self": null,
            "border": null,
            "bottom": null,
            "display": null,
            "flex": null,
            "flex_flow": null,
            "grid_area": null,
            "grid_auto_columns": null,
            "grid_auto_flow": null,
            "grid_auto_rows": null,
            "grid_column": null,
            "grid_gap": null,
            "grid_row": null,
            "grid_template_areas": null,
            "grid_template_columns": null,
            "grid_template_rows": null,
            "height": null,
            "justify_content": null,
            "justify_items": null,
            "left": null,
            "margin": null,
            "max_height": null,
            "max_width": null,
            "min_height": null,
            "min_width": null,
            "object_fit": null,
            "object_position": null,
            "order": null,
            "overflow": null,
            "overflow_x": null,
            "overflow_y": null,
            "padding": null,
            "right": null,
            "top": null,
            "visibility": null,
            "width": null
          }
        },
        "945f7646b6a945ae8ebd393eff2e6aa5": {
          "model_module": "@jupyter-widgets/controls",
          "model_name": "ProgressStyleModel",
          "model_module_version": "1.5.0",
          "state": {
            "_model_module": "@jupyter-widgets/controls",
            "_model_module_version": "1.5.0",
            "_model_name": "ProgressStyleModel",
            "_view_count": null,
            "_view_module": "@jupyter-widgets/base",
            "_view_module_version": "1.2.0",
            "_view_name": "StyleView",
            "bar_color": null,
            "description_width": ""
          }
        },
        "a31f56378983498dbc6d91536da3b7ef": {
          "model_module": "@jupyter-widgets/base",
          "model_name": "LayoutModel",
          "model_module_version": "1.2.0",
          "state": {
            "_model_module": "@jupyter-widgets/base",
            "_model_module_version": "1.2.0",
            "_model_name": "LayoutModel",
            "_view_count": null,
            "_view_module": "@jupyter-widgets/base",
            "_view_module_version": "1.2.0",
            "_view_name": "LayoutView",
            "align_content": null,
            "align_items": null,
            "align_self": null,
            "border": null,
            "bottom": null,
            "display": null,
            "flex": null,
            "flex_flow": null,
            "grid_area": null,
            "grid_auto_columns": null,
            "grid_auto_flow": null,
            "grid_auto_rows": null,
            "grid_column": null,
            "grid_gap": null,
            "grid_row": null,
            "grid_template_areas": null,
            "grid_template_columns": null,
            "grid_template_rows": null,
            "height": null,
            "justify_content": null,
            "justify_items": null,
            "left": null,
            "margin": null,
            "max_height": null,
            "max_width": null,
            "min_height": null,
            "min_width": null,
            "object_fit": null,
            "object_position": null,
            "order": null,
            "overflow": null,
            "overflow_x": null,
            "overflow_y": null,
            "padding": null,
            "right": null,
            "top": null,
            "visibility": null,
            "width": null
          }
        },
        "496e54ae65344f2fbc01181dda57aec1": {
          "model_module": "@jupyter-widgets/controls",
          "model_name": "DescriptionStyleModel",
          "model_module_version": "1.5.0",
          "state": {
            "_model_module": "@jupyter-widgets/controls",
            "_model_module_version": "1.5.0",
            "_model_name": "DescriptionStyleModel",
            "_view_count": null,
            "_view_module": "@jupyter-widgets/base",
            "_view_module_version": "1.2.0",
            "_view_name": "StyleView",
            "description_width": ""
          }
        },
        "4d747e8c8bd84ed79d074904595ab709": {
          "model_module": "@jupyter-widgets/controls",
          "model_name": "HBoxModel",
          "model_module_version": "1.5.0",
          "state": {
            "_dom_classes": [],
            "_model_module": "@jupyter-widgets/controls",
            "_model_module_version": "1.5.0",
            "_model_name": "HBoxModel",
            "_view_count": null,
            "_view_module": "@jupyter-widgets/controls",
            "_view_module_version": "1.5.0",
            "_view_name": "HBoxView",
            "box_style": "",
            "children": [
              "IPY_MODEL_dff83628f14047b98ba1e3506123da20",
              "IPY_MODEL_44898272f60f491f9eb5c5979aa00a6d",
              "IPY_MODEL_49f9eef95dab497091dad4893c42312e"
            ],
            "layout": "IPY_MODEL_e9dac222714e4fbbaa604481fd726f90"
          }
        },
        "dff83628f14047b98ba1e3506123da20": {
          "model_module": "@jupyter-widgets/controls",
          "model_name": "HTMLModel",
          "model_module_version": "1.5.0",
          "state": {
            "_dom_classes": [],
            "_model_module": "@jupyter-widgets/controls",
            "_model_module_version": "1.5.0",
            "_model_name": "HTMLModel",
            "_view_count": null,
            "_view_module": "@jupyter-widgets/controls",
            "_view_module_version": "1.5.0",
            "_view_name": "HTMLView",
            "description": "",
            "description_tooltip": null,
            "layout": "IPY_MODEL_35dd62bcf4ea48bdb4f7a1ef599bd14a",
            "placeholder": "​",
            "style": "IPY_MODEL_560ed75ebd714ec2a10acd390c5ae68e",
            "value": "Generating validation split: 100%"
          }
        },
        "44898272f60f491f9eb5c5979aa00a6d": {
          "model_module": "@jupyter-widgets/controls",
          "model_name": "FloatProgressModel",
          "model_module_version": "1.5.0",
          "state": {
            "_dom_classes": [],
            "_model_module": "@jupyter-widgets/controls",
            "_model_module_version": "1.5.0",
            "_model_name": "FloatProgressModel",
            "_view_count": null,
            "_view_module": "@jupyter-widgets/controls",
            "_view_module_version": "1.5.0",
            "_view_name": "ProgressView",
            "bar_style": "success",
            "description": "",
            "description_tooltip": null,
            "layout": "IPY_MODEL_2548e704444d416987ccb3d171645e82",
            "max": 11332,
            "min": 0,
            "orientation": "horizontal",
            "style": "IPY_MODEL_45a1164882da4b81b263007304c2602f",
            "value": 11332
          }
        },
        "49f9eef95dab497091dad4893c42312e": {
          "model_module": "@jupyter-widgets/controls",
          "model_name": "HTMLModel",
          "model_module_version": "1.5.0",
          "state": {
            "_dom_classes": [],
            "_model_module": "@jupyter-widgets/controls",
            "_model_module_version": "1.5.0",
            "_model_name": "HTMLModel",
            "_view_count": null,
            "_view_module": "@jupyter-widgets/controls",
            "_view_module_version": "1.5.0",
            "_view_name": "HTMLView",
            "description": "",
            "description_tooltip": null,
            "layout": "IPY_MODEL_c0c8bc51b3f4480794d9ae1f34e747c5",
            "placeholder": "​",
            "style": "IPY_MODEL_92ecf479332e4c4c865fc639908ce6cc",
            "value": " 11332/11332 [00:18&lt;00:00, 625.25 examples/s]"
          }
        },
        "e9dac222714e4fbbaa604481fd726f90": {
          "model_module": "@jupyter-widgets/base",
          "model_name": "LayoutModel",
          "model_module_version": "1.2.0",
          "state": {
            "_model_module": "@jupyter-widgets/base",
            "_model_module_version": "1.2.0",
            "_model_name": "LayoutModel",
            "_view_count": null,
            "_view_module": "@jupyter-widgets/base",
            "_view_module_version": "1.2.0",
            "_view_name": "LayoutView",
            "align_content": null,
            "align_items": null,
            "align_self": null,
            "border": null,
            "bottom": null,
            "display": null,
            "flex": null,
            "flex_flow": null,
            "grid_area": null,
            "grid_auto_columns": null,
            "grid_auto_flow": null,
            "grid_auto_rows": null,
            "grid_column": null,
            "grid_gap": null,
            "grid_row": null,
            "grid_template_areas": null,
            "grid_template_columns": null,
            "grid_template_rows": null,
            "height": null,
            "justify_content": null,
            "justify_items": null,
            "left": null,
            "margin": null,
            "max_height": null,
            "max_width": null,
            "min_height": null,
            "min_width": null,
            "object_fit": null,
            "object_position": null,
            "order": null,
            "overflow": null,
            "overflow_x": null,
            "overflow_y": null,
            "padding": null,
            "right": null,
            "top": null,
            "visibility": null,
            "width": null
          }
        },
        "35dd62bcf4ea48bdb4f7a1ef599bd14a": {
          "model_module": "@jupyter-widgets/base",
          "model_name": "LayoutModel",
          "model_module_version": "1.2.0",
          "state": {
            "_model_module": "@jupyter-widgets/base",
            "_model_module_version": "1.2.0",
            "_model_name": "LayoutModel",
            "_view_count": null,
            "_view_module": "@jupyter-widgets/base",
            "_view_module_version": "1.2.0",
            "_view_name": "LayoutView",
            "align_content": null,
            "align_items": null,
            "align_self": null,
            "border": null,
            "bottom": null,
            "display": null,
            "flex": null,
            "flex_flow": null,
            "grid_area": null,
            "grid_auto_columns": null,
            "grid_auto_flow": null,
            "grid_auto_rows": null,
            "grid_column": null,
            "grid_gap": null,
            "grid_row": null,
            "grid_template_areas": null,
            "grid_template_columns": null,
            "grid_template_rows": null,
            "height": null,
            "justify_content": null,
            "justify_items": null,
            "left": null,
            "margin": null,
            "max_height": null,
            "max_width": null,
            "min_height": null,
            "min_width": null,
            "object_fit": null,
            "object_position": null,
            "order": null,
            "overflow": null,
            "overflow_x": null,
            "overflow_y": null,
            "padding": null,
            "right": null,
            "top": null,
            "visibility": null,
            "width": null
          }
        },
        "560ed75ebd714ec2a10acd390c5ae68e": {
          "model_module": "@jupyter-widgets/controls",
          "model_name": "DescriptionStyleModel",
          "model_module_version": "1.5.0",
          "state": {
            "_model_module": "@jupyter-widgets/controls",
            "_model_module_version": "1.5.0",
            "_model_name": "DescriptionStyleModel",
            "_view_count": null,
            "_view_module": "@jupyter-widgets/base",
            "_view_module_version": "1.2.0",
            "_view_name": "StyleView",
            "description_width": ""
          }
        },
        "2548e704444d416987ccb3d171645e82": {
          "model_module": "@jupyter-widgets/base",
          "model_name": "LayoutModel",
          "model_module_version": "1.2.0",
          "state": {
            "_model_module": "@jupyter-widgets/base",
            "_model_module_version": "1.2.0",
            "_model_name": "LayoutModel",
            "_view_count": null,
            "_view_module": "@jupyter-widgets/base",
            "_view_module_version": "1.2.0",
            "_view_name": "LayoutView",
            "align_content": null,
            "align_items": null,
            "align_self": null,
            "border": null,
            "bottom": null,
            "display": null,
            "flex": null,
            "flex_flow": null,
            "grid_area": null,
            "grid_auto_columns": null,
            "grid_auto_flow": null,
            "grid_auto_rows": null,
            "grid_column": null,
            "grid_gap": null,
            "grid_row": null,
            "grid_template_areas": null,
            "grid_template_columns": null,
            "grid_template_rows": null,
            "height": null,
            "justify_content": null,
            "justify_items": null,
            "left": null,
            "margin": null,
            "max_height": null,
            "max_width": null,
            "min_height": null,
            "min_width": null,
            "object_fit": null,
            "object_position": null,
            "order": null,
            "overflow": null,
            "overflow_x": null,
            "overflow_y": null,
            "padding": null,
            "right": null,
            "top": null,
            "visibility": null,
            "width": null
          }
        },
        "45a1164882da4b81b263007304c2602f": {
          "model_module": "@jupyter-widgets/controls",
          "model_name": "ProgressStyleModel",
          "model_module_version": "1.5.0",
          "state": {
            "_model_module": "@jupyter-widgets/controls",
            "_model_module_version": "1.5.0",
            "_model_name": "ProgressStyleModel",
            "_view_count": null,
            "_view_module": "@jupyter-widgets/base",
            "_view_module_version": "1.2.0",
            "_view_name": "StyleView",
            "bar_color": null,
            "description_width": ""
          }
        },
        "c0c8bc51b3f4480794d9ae1f34e747c5": {
          "model_module": "@jupyter-widgets/base",
          "model_name": "LayoutModel",
          "model_module_version": "1.2.0",
          "state": {
            "_model_module": "@jupyter-widgets/base",
            "_model_module_version": "1.2.0",
            "_model_name": "LayoutModel",
            "_view_count": null,
            "_view_module": "@jupyter-widgets/base",
            "_view_module_version": "1.2.0",
            "_view_name": "LayoutView",
            "align_content": null,
            "align_items": null,
            "align_self": null,
            "border": null,
            "bottom": null,
            "display": null,
            "flex": null,
            "flex_flow": null,
            "grid_area": null,
            "grid_auto_columns": null,
            "grid_auto_flow": null,
            "grid_auto_rows": null,
            "grid_column": null,
            "grid_gap": null,
            "grid_row": null,
            "grid_template_areas": null,
            "grid_template_columns": null,
            "grid_template_rows": null,
            "height": null,
            "justify_content": null,
            "justify_items": null,
            "left": null,
            "margin": null,
            "max_height": null,
            "max_width": null,
            "min_height": null,
            "min_width": null,
            "object_fit": null,
            "object_position": null,
            "order": null,
            "overflow": null,
            "overflow_x": null,
            "overflow_y": null,
            "padding": null,
            "right": null,
            "top": null,
            "visibility": null,
            "width": null
          }
        },
        "92ecf479332e4c4c865fc639908ce6cc": {
          "model_module": "@jupyter-widgets/controls",
          "model_name": "DescriptionStyleModel",
          "model_module_version": "1.5.0",
          "state": {
            "_model_module": "@jupyter-widgets/controls",
            "_model_module_version": "1.5.0",
            "_model_name": "DescriptionStyleModel",
            "_view_count": null,
            "_view_module": "@jupyter-widgets/base",
            "_view_module_version": "1.2.0",
            "_view_name": "StyleView",
            "description_width": ""
          }
        },
        "f9dba02ecc8c45c2babe583db4222fad": {
          "model_module": "@jupyter-widgets/controls",
          "model_name": "HBoxModel",
          "model_module_version": "1.5.0",
          "state": {
            "_dom_classes": [],
            "_model_module": "@jupyter-widgets/controls",
            "_model_module_version": "1.5.0",
            "_model_name": "HBoxModel",
            "_view_count": null,
            "_view_module": "@jupyter-widgets/controls",
            "_view_module_version": "1.5.0",
            "_view_name": "HBoxView",
            "box_style": "",
            "children": [
              "IPY_MODEL_9498a342d0e64fd4a26254bf6265c226",
              "IPY_MODEL_f72fe81ec6924e65becb66545eee4e52",
              "IPY_MODEL_8c67379d8cfb4fe79c1a54555f89b178"
            ],
            "layout": "IPY_MODEL_3080c0606bda44d28935e289b92bfe36"
          }
        },
        "9498a342d0e64fd4a26254bf6265c226": {
          "model_module": "@jupyter-widgets/controls",
          "model_name": "HTMLModel",
          "model_module_version": "1.5.0",
          "state": {
            "_dom_classes": [],
            "_model_module": "@jupyter-widgets/controls",
            "_model_module_version": "1.5.0",
            "_model_name": "HTMLModel",
            "_view_count": null,
            "_view_module": "@jupyter-widgets/controls",
            "_view_module_version": "1.5.0",
            "_view_name": "HTMLView",
            "description": "",
            "description_tooltip": null,
            "layout": "IPY_MODEL_0532f2a6214245218fca3159917c2408",
            "placeholder": "​",
            "style": "IPY_MODEL_c060c562cc5a4d819ede9709efe4bb47",
            "value": "Generating test split: 100%"
          }
        },
        "f72fe81ec6924e65becb66545eee4e52": {
          "model_module": "@jupyter-widgets/controls",
          "model_name": "FloatProgressModel",
          "model_module_version": "1.5.0",
          "state": {
            "_dom_classes": [],
            "_model_module": "@jupyter-widgets/controls",
            "_model_module_version": "1.5.0",
            "_model_name": "FloatProgressModel",
            "_view_count": null,
            "_view_module": "@jupyter-widgets/controls",
            "_view_module_version": "1.5.0",
            "_view_name": "ProgressView",
            "bar_style": "success",
            "description": "",
            "description_tooltip": null,
            "layout": "IPY_MODEL_0bc447ab3a3b475e8cc2db9a290281f7",
            "max": 11334,
            "min": 0,
            "orientation": "horizontal",
            "style": "IPY_MODEL_9469c425e4af443c9426e8da3c204636",
            "value": 11334
          }
        },
        "8c67379d8cfb4fe79c1a54555f89b178": {
          "model_module": "@jupyter-widgets/controls",
          "model_name": "HTMLModel",
          "model_module_version": "1.5.0",
          "state": {
            "_dom_classes": [],
            "_model_module": "@jupyter-widgets/controls",
            "_model_module_version": "1.5.0",
            "_model_name": "HTMLModel",
            "_view_count": null,
            "_view_module": "@jupyter-widgets/controls",
            "_view_module_version": "1.5.0",
            "_view_name": "HTMLView",
            "description": "",
            "description_tooltip": null,
            "layout": "IPY_MODEL_43209b857f2848eaba8eb57fa9586d3a",
            "placeholder": "​",
            "style": "IPY_MODEL_5f3bf29c295c4fe9b24608f405f535f9",
            "value": " 11334/11334 [00:19&lt;00:00, 424.67 examples/s]"
          }
        },
        "3080c0606bda44d28935e289b92bfe36": {
          "model_module": "@jupyter-widgets/base",
          "model_name": "LayoutModel",
          "model_module_version": "1.2.0",
          "state": {
            "_model_module": "@jupyter-widgets/base",
            "_model_module_version": "1.2.0",
            "_model_name": "LayoutModel",
            "_view_count": null,
            "_view_module": "@jupyter-widgets/base",
            "_view_module_version": "1.2.0",
            "_view_name": "LayoutView",
            "align_content": null,
            "align_items": null,
            "align_self": null,
            "border": null,
            "bottom": null,
            "display": null,
            "flex": null,
            "flex_flow": null,
            "grid_area": null,
            "grid_auto_columns": null,
            "grid_auto_flow": null,
            "grid_auto_rows": null,
            "grid_column": null,
            "grid_gap": null,
            "grid_row": null,
            "grid_template_areas": null,
            "grid_template_columns": null,
            "grid_template_rows": null,
            "height": null,
            "justify_content": null,
            "justify_items": null,
            "left": null,
            "margin": null,
            "max_height": null,
            "max_width": null,
            "min_height": null,
            "min_width": null,
            "object_fit": null,
            "object_position": null,
            "order": null,
            "overflow": null,
            "overflow_x": null,
            "overflow_y": null,
            "padding": null,
            "right": null,
            "top": null,
            "visibility": null,
            "width": null
          }
        },
        "0532f2a6214245218fca3159917c2408": {
          "model_module": "@jupyter-widgets/base",
          "model_name": "LayoutModel",
          "model_module_version": "1.2.0",
          "state": {
            "_model_module": "@jupyter-widgets/base",
            "_model_module_version": "1.2.0",
            "_model_name": "LayoutModel",
            "_view_count": null,
            "_view_module": "@jupyter-widgets/base",
            "_view_module_version": "1.2.0",
            "_view_name": "LayoutView",
            "align_content": null,
            "align_items": null,
            "align_self": null,
            "border": null,
            "bottom": null,
            "display": null,
            "flex": null,
            "flex_flow": null,
            "grid_area": null,
            "grid_auto_columns": null,
            "grid_auto_flow": null,
            "grid_auto_rows": null,
            "grid_column": null,
            "grid_gap": null,
            "grid_row": null,
            "grid_template_areas": null,
            "grid_template_columns": null,
            "grid_template_rows": null,
            "height": null,
            "justify_content": null,
            "justify_items": null,
            "left": null,
            "margin": null,
            "max_height": null,
            "max_width": null,
            "min_height": null,
            "min_width": null,
            "object_fit": null,
            "object_position": null,
            "order": null,
            "overflow": null,
            "overflow_x": null,
            "overflow_y": null,
            "padding": null,
            "right": null,
            "top": null,
            "visibility": null,
            "width": null
          }
        },
        "c060c562cc5a4d819ede9709efe4bb47": {
          "model_module": "@jupyter-widgets/controls",
          "model_name": "DescriptionStyleModel",
          "model_module_version": "1.5.0",
          "state": {
            "_model_module": "@jupyter-widgets/controls",
            "_model_module_version": "1.5.0",
            "_model_name": "DescriptionStyleModel",
            "_view_count": null,
            "_view_module": "@jupyter-widgets/base",
            "_view_module_version": "1.2.0",
            "_view_name": "StyleView",
            "description_width": ""
          }
        },
        "0bc447ab3a3b475e8cc2db9a290281f7": {
          "model_module": "@jupyter-widgets/base",
          "model_name": "LayoutModel",
          "model_module_version": "1.2.0",
          "state": {
            "_model_module": "@jupyter-widgets/base",
            "_model_module_version": "1.2.0",
            "_model_name": "LayoutModel",
            "_view_count": null,
            "_view_module": "@jupyter-widgets/base",
            "_view_module_version": "1.2.0",
            "_view_name": "LayoutView",
            "align_content": null,
            "align_items": null,
            "align_self": null,
            "border": null,
            "bottom": null,
            "display": null,
            "flex": null,
            "flex_flow": null,
            "grid_area": null,
            "grid_auto_columns": null,
            "grid_auto_flow": null,
            "grid_auto_rows": null,
            "grid_column": null,
            "grid_gap": null,
            "grid_row": null,
            "grid_template_areas": null,
            "grid_template_columns": null,
            "grid_template_rows": null,
            "height": null,
            "justify_content": null,
            "justify_items": null,
            "left": null,
            "margin": null,
            "max_height": null,
            "max_width": null,
            "min_height": null,
            "min_width": null,
            "object_fit": null,
            "object_position": null,
            "order": null,
            "overflow": null,
            "overflow_x": null,
            "overflow_y": null,
            "padding": null,
            "right": null,
            "top": null,
            "visibility": null,
            "width": null
          }
        },
        "9469c425e4af443c9426e8da3c204636": {
          "model_module": "@jupyter-widgets/controls",
          "model_name": "ProgressStyleModel",
          "model_module_version": "1.5.0",
          "state": {
            "_model_module": "@jupyter-widgets/controls",
            "_model_module_version": "1.5.0",
            "_model_name": "ProgressStyleModel",
            "_view_count": null,
            "_view_module": "@jupyter-widgets/base",
            "_view_module_version": "1.2.0",
            "_view_name": "StyleView",
            "bar_color": null,
            "description_width": ""
          }
        },
        "43209b857f2848eaba8eb57fa9586d3a": {
          "model_module": "@jupyter-widgets/base",
          "model_name": "LayoutModel",
          "model_module_version": "1.2.0",
          "state": {
            "_model_module": "@jupyter-widgets/base",
            "_model_module_version": "1.2.0",
            "_model_name": "LayoutModel",
            "_view_count": null,
            "_view_module": "@jupyter-widgets/base",
            "_view_module_version": "1.2.0",
            "_view_name": "LayoutView",
            "align_content": null,
            "align_items": null,
            "align_self": null,
            "border": null,
            "bottom": null,
            "display": null,
            "flex": null,
            "flex_flow": null,
            "grid_area": null,
            "grid_auto_columns": null,
            "grid_auto_flow": null,
            "grid_auto_rows": null,
            "grid_column": null,
            "grid_gap": null,
            "grid_row": null,
            "grid_template_areas": null,
            "grid_template_columns": null,
            "grid_template_rows": null,
            "height": null,
            "justify_content": null,
            "justify_items": null,
            "left": null,
            "margin": null,
            "max_height": null,
            "max_width": null,
            "min_height": null,
            "min_width": null,
            "object_fit": null,
            "object_position": null,
            "order": null,
            "overflow": null,
            "overflow_x": null,
            "overflow_y": null,
            "padding": null,
            "right": null,
            "top": null,
            "visibility": null,
            "width": null
          }
        },
        "5f3bf29c295c4fe9b24608f405f535f9": {
          "model_module": "@jupyter-widgets/controls",
          "model_name": "DescriptionStyleModel",
          "model_module_version": "1.5.0",
          "state": {
            "_model_module": "@jupyter-widgets/controls",
            "_model_module_version": "1.5.0",
            "_model_name": "DescriptionStyleModel",
            "_view_count": null,
            "_view_module": "@jupyter-widgets/base",
            "_view_module_version": "1.2.0",
            "_view_name": "StyleView",
            "description_width": ""
          }
        }
      }
    }
  },
  "nbformat": 4,
  "nbformat_minor": 0
}